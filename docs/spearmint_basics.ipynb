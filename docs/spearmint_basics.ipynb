{
 "cells": [
  {
   "cell_type": "markdown",
   "metadata": {},
   "source": [
    "# `spearmint` Basics"
   ]
  },
  {
   "cell_type": "markdown",
   "metadata": {},
   "source": [
    "## Observations data\n",
    "Spearmint takes as input a [pandas](https://pandas.pydata.org/) `DataFrame` containing experiment observations data. Each record represents an observation/trial recorded in the experiment and has the following columns:\n",
    "\n",
    "- **One or more `treatment` columns**: each treatment column contains two or more distinct, discrete values that are used to identify the different groups in the experiment\n",
    "- **One or more `metric` columns**: these are the values associated with each observation, and are used as the metric to compare groups in the experiment.\n",
    "- **Zero or more `attributes` columns**: these define additional discrete properties assigned to the observations. These attributes can be used to perform additional segmentation across groups.\n",
    "\n",
    "To demonstrate, let's generate some fake experiment observations data. The `metric` column--also named `\"metric\"`--is a series of binary outcomes (i.e. `True`/`False`). This binary `metric` is analogous to *conversion* or *success* in AB testing.\n",
    "\n",
    "\n",
    "---\n",
    "> 💡 These fake observations are simulated from 3 different [Bernoulli distribution](https://en.wikipedia.org/wiki/Bernoulli_distribution)s, with each distribution being associated with each of the the three `treatment`s (`\"A\"`, `\"B\"`, or `\"C\"`), and each distribution having increasing average probability of *conversion*.\n",
    "\n",
    "---"
   ]
  },
  {
   "cell_type": "code",
   "execution_count": 1,
   "metadata": {},
   "outputs": [
    {
     "data": {
      "application/javascript": [
       "(function(root) {\n",
       "  function now() {\n",
       "    return new Date();\n",
       "  }\n",
       "\n",
       "  var force = true;\n",
       "  var py_version = '3.2.2'.replace('rc', '-rc.').replace('.dev', '-dev.');\n",
       "  var is_dev = py_version.indexOf(\"+\") !== -1 || py_version.indexOf(\"-\") !== -1;\n",
       "  var reloading = false;\n",
       "  var Bokeh = root.Bokeh;\n",
       "  var bokeh_loaded = Bokeh != null && (Bokeh.version === py_version || (Bokeh.versions !== undefined && Bokeh.versions.has(py_version)));\n",
       "\n",
       "  if (typeof (root._bokeh_timeout) === \"undefined\" || force) {\n",
       "    root._bokeh_timeout = Date.now() + 5000;\n",
       "    root._bokeh_failed_load = false;\n",
       "  }\n",
       "\n",
       "  function run_callbacks() {\n",
       "    try {\n",
       "      root._bokeh_onload_callbacks.forEach(function(callback) {\n",
       "        if (callback != null)\n",
       "          callback();\n",
       "      });\n",
       "    } finally {\n",
       "      delete root._bokeh_onload_callbacks;\n",
       "    }\n",
       "    console.debug(\"Bokeh: all callbacks have finished\");\n",
       "  }\n",
       "\n",
       "  function load_libs(css_urls, js_urls, js_modules, js_exports, callback) {\n",
       "    if (css_urls == null) css_urls = [];\n",
       "    if (js_urls == null) js_urls = [];\n",
       "    if (js_modules == null) js_modules = [];\n",
       "    if (js_exports == null) js_exports = {};\n",
       "\n",
       "    root._bokeh_onload_callbacks.push(callback);\n",
       "\n",
       "    if (root._bokeh_is_loading > 0) {\n",
       "      console.debug(\"Bokeh: BokehJS is being loaded, scheduling callback at\", now());\n",
       "      return null;\n",
       "    }\n",
       "    if (js_urls.length === 0 && js_modules.length === 0 && Object.keys(js_exports).length === 0) {\n",
       "      run_callbacks();\n",
       "      return null;\n",
       "    }\n",
       "    if (!reloading) {\n",
       "      console.debug(\"Bokeh: BokehJS not loaded, scheduling load and callback at\", now());\n",
       "    }\n",
       "\n",
       "    function on_load() {\n",
       "      root._bokeh_is_loading--;\n",
       "      if (root._bokeh_is_loading === 0) {\n",
       "        console.debug(\"Bokeh: all BokehJS libraries/stylesheets loaded\");\n",
       "        run_callbacks()\n",
       "      }\n",
       "    }\n",
       "    window._bokeh_on_load = on_load\n",
       "\n",
       "    function on_error() {\n",
       "      console.error(\"failed to load \" + url);\n",
       "    }\n",
       "\n",
       "    var skip = [];\n",
       "    if (window.requirejs) {\n",
       "      window.requirejs.config({'packages': {}, 'paths': {'jspanel': 'https://cdn.jsdelivr.net/npm/jspanel4@4.12.0/dist/jspanel', 'jspanel-modal': 'https://cdn.jsdelivr.net/npm/jspanel4@4.12.0/dist/extensions/modal/jspanel.modal', 'jspanel-tooltip': 'https://cdn.jsdelivr.net/npm/jspanel4@4.12.0/dist/extensions/tooltip/jspanel.tooltip', 'jspanel-hint': 'https://cdn.jsdelivr.net/npm/jspanel4@4.12.0/dist/extensions/hint/jspanel.hint', 'jspanel-layout': 'https://cdn.jsdelivr.net/npm/jspanel4@4.12.0/dist/extensions/layout/jspanel.layout', 'jspanel-contextmenu': 'https://cdn.jsdelivr.net/npm/jspanel4@4.12.0/dist/extensions/contextmenu/jspanel.contextmenu', 'jspanel-dock': 'https://cdn.jsdelivr.net/npm/jspanel4@4.12.0/dist/extensions/dock/jspanel.dock', 'gridstack': 'https://cdn.jsdelivr.net/npm/gridstack@7.2.3/dist/gridstack-all', 'notyf': 'https://cdn.jsdelivr.net/npm/notyf@3/notyf.min'}, 'shim': {'jspanel': {'exports': 'jsPanel'}, 'gridstack': {'exports': 'GridStack'}}});\n",
       "      require([\"jspanel\"], function(jsPanel) {\n",
       "\twindow.jsPanel = jsPanel\n",
       "\ton_load()\n",
       "      })\n",
       "      require([\"jspanel-modal\"], function() {\n",
       "\ton_load()\n",
       "      })\n",
       "      require([\"jspanel-tooltip\"], function() {\n",
       "\ton_load()\n",
       "      })\n",
       "      require([\"jspanel-hint\"], function() {\n",
       "\ton_load()\n",
       "      })\n",
       "      require([\"jspanel-layout\"], function() {\n",
       "\ton_load()\n",
       "      })\n",
       "      require([\"jspanel-contextmenu\"], function() {\n",
       "\ton_load()\n",
       "      })\n",
       "      require([\"jspanel-dock\"], function() {\n",
       "\ton_load()\n",
       "      })\n",
       "      require([\"gridstack\"], function(GridStack) {\n",
       "\twindow.GridStack = GridStack\n",
       "\ton_load()\n",
       "      })\n",
       "      require([\"notyf\"], function() {\n",
       "\ton_load()\n",
       "      })\n",
       "      root._bokeh_is_loading = css_urls.length + 9;\n",
       "    } else {\n",
       "      root._bokeh_is_loading = css_urls.length + js_urls.length + js_modules.length + Object.keys(js_exports).length;\n",
       "    }\n",
       "\n",
       "    var existing_stylesheets = []\n",
       "    var links = document.getElementsByTagName('link')\n",
       "    for (var i = 0; i < links.length; i++) {\n",
       "      var link = links[i]\n",
       "      if (link.href != null) {\n",
       "\texisting_stylesheets.push(link.href)\n",
       "      }\n",
       "    }\n",
       "    for (var i = 0; i < css_urls.length; i++) {\n",
       "      var url = css_urls[i];\n",
       "      if (existing_stylesheets.indexOf(url) !== -1) {\n",
       "\ton_load()\n",
       "\tcontinue;\n",
       "      }\n",
       "      const element = document.createElement(\"link\");\n",
       "      element.onload = on_load;\n",
       "      element.onerror = on_error;\n",
       "      element.rel = \"stylesheet\";\n",
       "      element.type = \"text/css\";\n",
       "      element.href = url;\n",
       "      console.debug(\"Bokeh: injecting link tag for BokehJS stylesheet: \", url);\n",
       "      document.body.appendChild(element);\n",
       "    }    if (((window['jsPanel'] !== undefined) && (!(window['jsPanel'] instanceof HTMLElement))) || window.requirejs) {\n",
       "      var urls = ['https://cdn.holoviz.org/panel/1.2.3/dist/bundled/floatpanel/jspanel4@4.12.0/dist/jspanel.js', 'https://cdn.holoviz.org/panel/1.2.3/dist/bundled/floatpanel/jspanel4@4.12.0/dist/extensions/modal/jspanel.modal.js', 'https://cdn.holoviz.org/panel/1.2.3/dist/bundled/floatpanel/jspanel4@4.12.0/dist/extensions/tooltip/jspanel.tooltip.js', 'https://cdn.holoviz.org/panel/1.2.3/dist/bundled/floatpanel/jspanel4@4.12.0/dist/extensions/hint/jspanel.hint.js', 'https://cdn.holoviz.org/panel/1.2.3/dist/bundled/floatpanel/jspanel4@4.12.0/dist/extensions/layout/jspanel.layout.js', 'https://cdn.holoviz.org/panel/1.2.3/dist/bundled/floatpanel/jspanel4@4.12.0/dist/extensions/contextmenu/jspanel.contextmenu.js', 'https://cdn.holoviz.org/panel/1.2.3/dist/bundled/floatpanel/jspanel4@4.12.0/dist/extensions/dock/jspanel.dock.js'];\n",
       "      for (var i = 0; i < urls.length; i++) {\n",
       "        skip.push(urls[i])\n",
       "      }\n",
       "    }    if (((window['GridStack'] !== undefined) && (!(window['GridStack'] instanceof HTMLElement))) || window.requirejs) {\n",
       "      var urls = ['https://cdn.holoviz.org/panel/1.2.3/dist/bundled/gridstack/gridstack@7.2.3/dist/gridstack-all.js'];\n",
       "      for (var i = 0; i < urls.length; i++) {\n",
       "        skip.push(urls[i])\n",
       "      }\n",
       "    }    if (((window['Notyf'] !== undefined) && (!(window['Notyf'] instanceof HTMLElement))) || window.requirejs) {\n",
       "      var urls = ['https://cdn.holoviz.org/panel/1.2.3/dist/bundled/notificationarea/notyf@3/notyf.min.js'];\n",
       "      for (var i = 0; i < urls.length; i++) {\n",
       "        skip.push(urls[i])\n",
       "      }\n",
       "    }    var existing_scripts = []\n",
       "    var scripts = document.getElementsByTagName('script')\n",
       "    for (var i = 0; i < scripts.length; i++) {\n",
       "      var script = scripts[i]\n",
       "      if (script.src != null) {\n",
       "\texisting_scripts.push(script.src)\n",
       "      }\n",
       "    }\n",
       "    for (var i = 0; i < js_urls.length; i++) {\n",
       "      var url = js_urls[i];\n",
       "      if (skip.indexOf(url) !== -1 || existing_scripts.indexOf(url) !== -1) {\n",
       "\tif (!window.requirejs) {\n",
       "\t  on_load();\n",
       "\t}\n",
       "\tcontinue;\n",
       "      }\n",
       "      var element = document.createElement('script');\n",
       "      element.onload = on_load;\n",
       "      element.onerror = on_error;\n",
       "      element.async = false;\n",
       "      element.src = url;\n",
       "      console.debug(\"Bokeh: injecting script tag for BokehJS library: \", url);\n",
       "      document.head.appendChild(element);\n",
       "    }\n",
       "    for (var i = 0; i < js_modules.length; i++) {\n",
       "      var url = js_modules[i];\n",
       "      if (skip.indexOf(url) !== -1 || existing_scripts.indexOf(url) !== -1) {\n",
       "\tif (!window.requirejs) {\n",
       "\t  on_load();\n",
       "\t}\n",
       "\tcontinue;\n",
       "      }\n",
       "      var element = document.createElement('script');\n",
       "      element.onload = on_load;\n",
       "      element.onerror = on_error;\n",
       "      element.async = false;\n",
       "      element.src = url;\n",
       "      element.type = \"module\";\n",
       "      console.debug(\"Bokeh: injecting script tag for BokehJS library: \", url);\n",
       "      document.head.appendChild(element);\n",
       "    }\n",
       "    for (const name in js_exports) {\n",
       "      var url = js_exports[name];\n",
       "      if (skip.indexOf(url) >= 0 || root[name] != null) {\n",
       "\tif (!window.requirejs) {\n",
       "\t  on_load();\n",
       "\t}\n",
       "\tcontinue;\n",
       "      }\n",
       "      var element = document.createElement('script');\n",
       "      element.onerror = on_error;\n",
       "      element.async = false;\n",
       "      element.type = \"module\";\n",
       "      console.debug(\"Bokeh: injecting script tag for BokehJS library: \", url);\n",
       "      element.textContent = `\n",
       "      import ${name} from \"${url}\"\n",
       "      window.${name} = ${name}\n",
       "      window._bokeh_on_load()\n",
       "      `\n",
       "      document.head.appendChild(element);\n",
       "    }\n",
       "    if (!js_urls.length && !js_modules.length) {\n",
       "      on_load()\n",
       "    }\n",
       "  };\n",
       "\n",
       "  function inject_raw_css(css) {\n",
       "    const element = document.createElement(\"style\");\n",
       "    element.appendChild(document.createTextNode(css));\n",
       "    document.body.appendChild(element);\n",
       "  }\n",
       "\n",
       "  var js_urls = [\"https://cdn.bokeh.org/bokeh/release/bokeh-3.2.2.min.js\", \"https://cdn.bokeh.org/bokeh/release/bokeh-gl-3.2.2.min.js\", \"https://cdn.bokeh.org/bokeh/release/bokeh-widgets-3.2.2.min.js\", \"https://cdn.bokeh.org/bokeh/release/bokeh-tables-3.2.2.min.js\", \"https://cdn.holoviz.org/panel/1.2.3/dist/panel.min.js\"];\n",
       "  var js_modules = [];\n",
       "  var js_exports = {};\n",
       "  var css_urls = [];\n",
       "  var inline_js = [    function(Bokeh) {\n",
       "      Bokeh.set_log_level(\"info\");\n",
       "    },\n",
       "function(Bokeh) {} // ensure no trailing comma for IE\n",
       "  ];\n",
       "\n",
       "  function run_inline_js() {\n",
       "    if ((root.Bokeh !== undefined) || (force === true)) {\n",
       "      for (var i = 0; i < inline_js.length; i++) {\n",
       "        inline_js[i].call(root, root.Bokeh);\n",
       "      }\n",
       "      // Cache old bokeh versions\n",
       "      if (Bokeh != undefined && !reloading) {\n",
       "\tvar NewBokeh = root.Bokeh;\n",
       "\tif (Bokeh.versions === undefined) {\n",
       "\t  Bokeh.versions = new Map();\n",
       "\t}\n",
       "\tif (NewBokeh.version !== Bokeh.version) {\n",
       "\t  Bokeh.versions.set(NewBokeh.version, NewBokeh)\n",
       "\t}\n",
       "\troot.Bokeh = Bokeh;\n",
       "      }} else if (Date.now() < root._bokeh_timeout) {\n",
       "      setTimeout(run_inline_js, 100);\n",
       "    } else if (!root._bokeh_failed_load) {\n",
       "      console.log(\"Bokeh: BokehJS failed to load within specified timeout.\");\n",
       "      root._bokeh_failed_load = true;\n",
       "    }\n",
       "    root._bokeh_is_initializing = false\n",
       "  }\n",
       "\n",
       "  function load_or_wait() {\n",
       "    // Implement a backoff loop that tries to ensure we do not load multiple\n",
       "    // versions of Bokeh and its dependencies at the same time.\n",
       "    // In recent versions we use the root._bokeh_is_initializing flag\n",
       "    // to determine whether there is an ongoing attempt to initialize\n",
       "    // bokeh, however for backward compatibility we also try to ensure\n",
       "    // that we do not start loading a newer (Panel>=1.0 and Bokeh>3) version\n",
       "    // before older versions are fully initialized.\n",
       "    if (root._bokeh_is_initializing && Date.now() > root._bokeh_timeout) {\n",
       "      root._bokeh_is_initializing = false;\n",
       "      root._bokeh_onload_callbacks = undefined;\n",
       "      console.log(\"Bokeh: BokehJS was loaded multiple times but one version failed to initialize.\");\n",
       "      load_or_wait();\n",
       "    } else if (root._bokeh_is_initializing || (typeof root._bokeh_is_initializing === \"undefined\" && root._bokeh_onload_callbacks !== undefined)) {\n",
       "      setTimeout(load_or_wait, 100);\n",
       "    } else {\n",
       "      Bokeh = root.Bokeh;\n",
       "      bokeh_loaded = Bokeh != null && (Bokeh.version === py_version || (Bokeh.versions !== undefined && Bokeh.versions.has(py_version)));\n",
       "      root._bokeh_is_initializing = true\n",
       "      root._bokeh_onload_callbacks = []\n",
       "      if (!reloading && (!bokeh_loaded || is_dev)) {\n",
       "\troot.Bokeh = undefined;\n",
       "      }\n",
       "      load_libs(css_urls, js_urls, js_modules, js_exports, function() {\n",
       "\tconsole.debug(\"Bokeh: BokehJS plotting callback run at\", now());\n",
       "\trun_inline_js();\n",
       "      });\n",
       "    }\n",
       "  }\n",
       "  // Give older versions of the autoload script a head-start to ensure\n",
       "  // they initialize before we start loading newer version.\n",
       "  setTimeout(load_or_wait, 100)\n",
       "}(window));"
      ],
      "application/vnd.holoviews_load.v0+json": "(function(root) {\n  function now() {\n    return new Date();\n  }\n\n  var force = true;\n  var py_version = '3.2.2'.replace('rc', '-rc.').replace('.dev', '-dev.');\n  var is_dev = py_version.indexOf(\"+\") !== -1 || py_version.indexOf(\"-\") !== -1;\n  var reloading = false;\n  var Bokeh = root.Bokeh;\n  var bokeh_loaded = Bokeh != null && (Bokeh.version === py_version || (Bokeh.versions !== undefined && Bokeh.versions.has(py_version)));\n\n  if (typeof (root._bokeh_timeout) === \"undefined\" || force) {\n    root._bokeh_timeout = Date.now() + 5000;\n    root._bokeh_failed_load = false;\n  }\n\n  function run_callbacks() {\n    try {\n      root._bokeh_onload_callbacks.forEach(function(callback) {\n        if (callback != null)\n          callback();\n      });\n    } finally {\n      delete root._bokeh_onload_callbacks;\n    }\n    console.debug(\"Bokeh: all callbacks have finished\");\n  }\n\n  function load_libs(css_urls, js_urls, js_modules, js_exports, callback) {\n    if (css_urls == null) css_urls = [];\n    if (js_urls == null) js_urls = [];\n    if (js_modules == null) js_modules = [];\n    if (js_exports == null) js_exports = {};\n\n    root._bokeh_onload_callbacks.push(callback);\n\n    if (root._bokeh_is_loading > 0) {\n      console.debug(\"Bokeh: BokehJS is being loaded, scheduling callback at\", now());\n      return null;\n    }\n    if (js_urls.length === 0 && js_modules.length === 0 && Object.keys(js_exports).length === 0) {\n      run_callbacks();\n      return null;\n    }\n    if (!reloading) {\n      console.debug(\"Bokeh: BokehJS not loaded, scheduling load and callback at\", now());\n    }\n\n    function on_load() {\n      root._bokeh_is_loading--;\n      if (root._bokeh_is_loading === 0) {\n        console.debug(\"Bokeh: all BokehJS libraries/stylesheets loaded\");\n        run_callbacks()\n      }\n    }\n    window._bokeh_on_load = on_load\n\n    function on_error() {\n      console.error(\"failed to load \" + url);\n    }\n\n    var skip = [];\n    if (window.requirejs) {\n      window.requirejs.config({'packages': {}, 'paths': {'jspanel': 'https://cdn.jsdelivr.net/npm/jspanel4@4.12.0/dist/jspanel', 'jspanel-modal': 'https://cdn.jsdelivr.net/npm/jspanel4@4.12.0/dist/extensions/modal/jspanel.modal', 'jspanel-tooltip': 'https://cdn.jsdelivr.net/npm/jspanel4@4.12.0/dist/extensions/tooltip/jspanel.tooltip', 'jspanel-hint': 'https://cdn.jsdelivr.net/npm/jspanel4@4.12.0/dist/extensions/hint/jspanel.hint', 'jspanel-layout': 'https://cdn.jsdelivr.net/npm/jspanel4@4.12.0/dist/extensions/layout/jspanel.layout', 'jspanel-contextmenu': 'https://cdn.jsdelivr.net/npm/jspanel4@4.12.0/dist/extensions/contextmenu/jspanel.contextmenu', 'jspanel-dock': 'https://cdn.jsdelivr.net/npm/jspanel4@4.12.0/dist/extensions/dock/jspanel.dock', 'gridstack': 'https://cdn.jsdelivr.net/npm/gridstack@7.2.3/dist/gridstack-all', 'notyf': 'https://cdn.jsdelivr.net/npm/notyf@3/notyf.min'}, 'shim': {'jspanel': {'exports': 'jsPanel'}, 'gridstack': {'exports': 'GridStack'}}});\n      require([\"jspanel\"], function(jsPanel) {\n\twindow.jsPanel = jsPanel\n\ton_load()\n      })\n      require([\"jspanel-modal\"], function() {\n\ton_load()\n      })\n      require([\"jspanel-tooltip\"], function() {\n\ton_load()\n      })\n      require([\"jspanel-hint\"], function() {\n\ton_load()\n      })\n      require([\"jspanel-layout\"], function() {\n\ton_load()\n      })\n      require([\"jspanel-contextmenu\"], function() {\n\ton_load()\n      })\n      require([\"jspanel-dock\"], function() {\n\ton_load()\n      })\n      require([\"gridstack\"], function(GridStack) {\n\twindow.GridStack = GridStack\n\ton_load()\n      })\n      require([\"notyf\"], function() {\n\ton_load()\n      })\n      root._bokeh_is_loading = css_urls.length + 9;\n    } else {\n      root._bokeh_is_loading = css_urls.length + js_urls.length + js_modules.length + Object.keys(js_exports).length;\n    }\n\n    var existing_stylesheets = []\n    var links = document.getElementsByTagName('link')\n    for (var i = 0; i < links.length; i++) {\n      var link = links[i]\n      if (link.href != null) {\n\texisting_stylesheets.push(link.href)\n      }\n    }\n    for (var i = 0; i < css_urls.length; i++) {\n      var url = css_urls[i];\n      if (existing_stylesheets.indexOf(url) !== -1) {\n\ton_load()\n\tcontinue;\n      }\n      const element = document.createElement(\"link\");\n      element.onload = on_load;\n      element.onerror = on_error;\n      element.rel = \"stylesheet\";\n      element.type = \"text/css\";\n      element.href = url;\n      console.debug(\"Bokeh: injecting link tag for BokehJS stylesheet: \", url);\n      document.body.appendChild(element);\n    }    if (((window['jsPanel'] !== undefined) && (!(window['jsPanel'] instanceof HTMLElement))) || window.requirejs) {\n      var urls = ['https://cdn.holoviz.org/panel/1.2.3/dist/bundled/floatpanel/jspanel4@4.12.0/dist/jspanel.js', 'https://cdn.holoviz.org/panel/1.2.3/dist/bundled/floatpanel/jspanel4@4.12.0/dist/extensions/modal/jspanel.modal.js', 'https://cdn.holoviz.org/panel/1.2.3/dist/bundled/floatpanel/jspanel4@4.12.0/dist/extensions/tooltip/jspanel.tooltip.js', 'https://cdn.holoviz.org/panel/1.2.3/dist/bundled/floatpanel/jspanel4@4.12.0/dist/extensions/hint/jspanel.hint.js', 'https://cdn.holoviz.org/panel/1.2.3/dist/bundled/floatpanel/jspanel4@4.12.0/dist/extensions/layout/jspanel.layout.js', 'https://cdn.holoviz.org/panel/1.2.3/dist/bundled/floatpanel/jspanel4@4.12.0/dist/extensions/contextmenu/jspanel.contextmenu.js', 'https://cdn.holoviz.org/panel/1.2.3/dist/bundled/floatpanel/jspanel4@4.12.0/dist/extensions/dock/jspanel.dock.js'];\n      for (var i = 0; i < urls.length; i++) {\n        skip.push(urls[i])\n      }\n    }    if (((window['GridStack'] !== undefined) && (!(window['GridStack'] instanceof HTMLElement))) || window.requirejs) {\n      var urls = ['https://cdn.holoviz.org/panel/1.2.3/dist/bundled/gridstack/gridstack@7.2.3/dist/gridstack-all.js'];\n      for (var i = 0; i < urls.length; i++) {\n        skip.push(urls[i])\n      }\n    }    if (((window['Notyf'] !== undefined) && (!(window['Notyf'] instanceof HTMLElement))) || window.requirejs) {\n      var urls = ['https://cdn.holoviz.org/panel/1.2.3/dist/bundled/notificationarea/notyf@3/notyf.min.js'];\n      for (var i = 0; i < urls.length; i++) {\n        skip.push(urls[i])\n      }\n    }    var existing_scripts = []\n    var scripts = document.getElementsByTagName('script')\n    for (var i = 0; i < scripts.length; i++) {\n      var script = scripts[i]\n      if (script.src != null) {\n\texisting_scripts.push(script.src)\n      }\n    }\n    for (var i = 0; i < js_urls.length; i++) {\n      var url = js_urls[i];\n      if (skip.indexOf(url) !== -1 || existing_scripts.indexOf(url) !== -1) {\n\tif (!window.requirejs) {\n\t  on_load();\n\t}\n\tcontinue;\n      }\n      var element = document.createElement('script');\n      element.onload = on_load;\n      element.onerror = on_error;\n      element.async = false;\n      element.src = url;\n      console.debug(\"Bokeh: injecting script tag for BokehJS library: \", url);\n      document.head.appendChild(element);\n    }\n    for (var i = 0; i < js_modules.length; i++) {\n      var url = js_modules[i];\n      if (skip.indexOf(url) !== -1 || existing_scripts.indexOf(url) !== -1) {\n\tif (!window.requirejs) {\n\t  on_load();\n\t}\n\tcontinue;\n      }\n      var element = document.createElement('script');\n      element.onload = on_load;\n      element.onerror = on_error;\n      element.async = false;\n      element.src = url;\n      element.type = \"module\";\n      console.debug(\"Bokeh: injecting script tag for BokehJS library: \", url);\n      document.head.appendChild(element);\n    }\n    for (const name in js_exports) {\n      var url = js_exports[name];\n      if (skip.indexOf(url) >= 0 || root[name] != null) {\n\tif (!window.requirejs) {\n\t  on_load();\n\t}\n\tcontinue;\n      }\n      var element = document.createElement('script');\n      element.onerror = on_error;\n      element.async = false;\n      element.type = \"module\";\n      console.debug(\"Bokeh: injecting script tag for BokehJS library: \", url);\n      element.textContent = `\n      import ${name} from \"${url}\"\n      window.${name} = ${name}\n      window._bokeh_on_load()\n      `\n      document.head.appendChild(element);\n    }\n    if (!js_urls.length && !js_modules.length) {\n      on_load()\n    }\n  };\n\n  function inject_raw_css(css) {\n    const element = document.createElement(\"style\");\n    element.appendChild(document.createTextNode(css));\n    document.body.appendChild(element);\n  }\n\n  var js_urls = [\"https://cdn.bokeh.org/bokeh/release/bokeh-3.2.2.min.js\", \"https://cdn.bokeh.org/bokeh/release/bokeh-gl-3.2.2.min.js\", \"https://cdn.bokeh.org/bokeh/release/bokeh-widgets-3.2.2.min.js\", \"https://cdn.bokeh.org/bokeh/release/bokeh-tables-3.2.2.min.js\", \"https://cdn.holoviz.org/panel/1.2.3/dist/panel.min.js\"];\n  var js_modules = [];\n  var js_exports = {};\n  var css_urls = [];\n  var inline_js = [    function(Bokeh) {\n      Bokeh.set_log_level(\"info\");\n    },\nfunction(Bokeh) {} // ensure no trailing comma for IE\n  ];\n\n  function run_inline_js() {\n    if ((root.Bokeh !== undefined) || (force === true)) {\n      for (var i = 0; i < inline_js.length; i++) {\n        inline_js[i].call(root, root.Bokeh);\n      }\n      // Cache old bokeh versions\n      if (Bokeh != undefined && !reloading) {\n\tvar NewBokeh = root.Bokeh;\n\tif (Bokeh.versions === undefined) {\n\t  Bokeh.versions = new Map();\n\t}\n\tif (NewBokeh.version !== Bokeh.version) {\n\t  Bokeh.versions.set(NewBokeh.version, NewBokeh)\n\t}\n\troot.Bokeh = Bokeh;\n      }} else if (Date.now() < root._bokeh_timeout) {\n      setTimeout(run_inline_js, 100);\n    } else if (!root._bokeh_failed_load) {\n      console.log(\"Bokeh: BokehJS failed to load within specified timeout.\");\n      root._bokeh_failed_load = true;\n    }\n    root._bokeh_is_initializing = false\n  }\n\n  function load_or_wait() {\n    // Implement a backoff loop that tries to ensure we do not load multiple\n    // versions of Bokeh and its dependencies at the same time.\n    // In recent versions we use the root._bokeh_is_initializing flag\n    // to determine whether there is an ongoing attempt to initialize\n    // bokeh, however for backward compatibility we also try to ensure\n    // that we do not start loading a newer (Panel>=1.0 and Bokeh>3) version\n    // before older versions are fully initialized.\n    if (root._bokeh_is_initializing && Date.now() > root._bokeh_timeout) {\n      root._bokeh_is_initializing = false;\n      root._bokeh_onload_callbacks = undefined;\n      console.log(\"Bokeh: BokehJS was loaded multiple times but one version failed to initialize.\");\n      load_or_wait();\n    } else if (root._bokeh_is_initializing || (typeof root._bokeh_is_initializing === \"undefined\" && root._bokeh_onload_callbacks !== undefined)) {\n      setTimeout(load_or_wait, 100);\n    } else {\n      Bokeh = root.Bokeh;\n      bokeh_loaded = Bokeh != null && (Bokeh.version === py_version || (Bokeh.versions !== undefined && Bokeh.versions.has(py_version)));\n      root._bokeh_is_initializing = true\n      root._bokeh_onload_callbacks = []\n      if (!reloading && (!bokeh_loaded || is_dev)) {\n\troot.Bokeh = undefined;\n      }\n      load_libs(css_urls, js_urls, js_modules, js_exports, function() {\n\tconsole.debug(\"Bokeh: BokehJS plotting callback run at\", now());\n\trun_inline_js();\n      });\n    }\n  }\n  // Give older versions of the autoload script a head-start to ensure\n  // they initialize before we start loading newer version.\n  setTimeout(load_or_wait, 100)\n}(window));"
     },
     "metadata": {},
     "output_type": "display_data"
    },
    {
     "data": {
      "application/javascript": [
       "\n",
       "if ((window.PyViz === undefined) || (window.PyViz instanceof HTMLElement)) {\n",
       "  window.PyViz = {comms: {}, comm_status:{}, kernels:{}, receivers: {}, plot_index: []}\n",
       "}\n",
       "\n",
       "\n",
       "    function JupyterCommManager() {\n",
       "    }\n",
       "\n",
       "    JupyterCommManager.prototype.register_target = function(plot_id, comm_id, msg_handler) {\n",
       "      if (window.comm_manager || ((window.Jupyter !== undefined) && (Jupyter.notebook.kernel != null))) {\n",
       "        var comm_manager = window.comm_manager || Jupyter.notebook.kernel.comm_manager;\n",
       "        comm_manager.register_target(comm_id, function(comm) {\n",
       "          comm.on_msg(msg_handler);\n",
       "        });\n",
       "      } else if ((plot_id in window.PyViz.kernels) && (window.PyViz.kernels[plot_id])) {\n",
       "        window.PyViz.kernels[plot_id].registerCommTarget(comm_id, function(comm) {\n",
       "          comm.onMsg = msg_handler;\n",
       "        });\n",
       "      } else if (typeof google != 'undefined' && google.colab.kernel != null) {\n",
       "        google.colab.kernel.comms.registerTarget(comm_id, (comm) => {\n",
       "          var messages = comm.messages[Symbol.asyncIterator]();\n",
       "          function processIteratorResult(result) {\n",
       "            var message = result.value;\n",
       "            console.log(message)\n",
       "            var content = {data: message.data, comm_id};\n",
       "            var buffers = []\n",
       "            for (var buffer of message.buffers || []) {\n",
       "              buffers.push(new DataView(buffer))\n",
       "            }\n",
       "            var metadata = message.metadata || {};\n",
       "            var msg = {content, buffers, metadata}\n",
       "            msg_handler(msg);\n",
       "            return messages.next().then(processIteratorResult);\n",
       "          }\n",
       "          return messages.next().then(processIteratorResult);\n",
       "        })\n",
       "      }\n",
       "    }\n",
       "\n",
       "    JupyterCommManager.prototype.get_client_comm = function(plot_id, comm_id, msg_handler) {\n",
       "      if (comm_id in window.PyViz.comms) {\n",
       "        return window.PyViz.comms[comm_id];\n",
       "      } else if (window.comm_manager || ((window.Jupyter !== undefined) && (Jupyter.notebook.kernel != null))) {\n",
       "        var comm_manager = window.comm_manager || Jupyter.notebook.kernel.comm_manager;\n",
       "        var comm = comm_manager.new_comm(comm_id, {}, {}, {}, comm_id);\n",
       "        if (msg_handler) {\n",
       "          comm.on_msg(msg_handler);\n",
       "        }\n",
       "      } else if ((plot_id in window.PyViz.kernels) && (window.PyViz.kernels[plot_id])) {\n",
       "        var comm = window.PyViz.kernels[plot_id].connectToComm(comm_id);\n",
       "        comm.open();\n",
       "        if (msg_handler) {\n",
       "          comm.onMsg = msg_handler;\n",
       "        }\n",
       "      } else if (typeof google != 'undefined' && google.colab.kernel != null) {\n",
       "        var comm_promise = google.colab.kernel.comms.open(comm_id)\n",
       "        comm_promise.then((comm) => {\n",
       "          window.PyViz.comms[comm_id] = comm;\n",
       "          if (msg_handler) {\n",
       "            var messages = comm.messages[Symbol.asyncIterator]();\n",
       "            function processIteratorResult(result) {\n",
       "              var message = result.value;\n",
       "              var content = {data: message.data};\n",
       "              var metadata = message.metadata || {comm_id};\n",
       "              var msg = {content, metadata}\n",
       "              msg_handler(msg);\n",
       "              return messages.next().then(processIteratorResult);\n",
       "            }\n",
       "            return messages.next().then(processIteratorResult);\n",
       "          }\n",
       "        }) \n",
       "        var sendClosure = (data, metadata, buffers, disposeOnDone) => {\n",
       "          return comm_promise.then((comm) => {\n",
       "            comm.send(data, metadata, buffers, disposeOnDone);\n",
       "          });\n",
       "        };\n",
       "        var comm = {\n",
       "          send: sendClosure\n",
       "        };\n",
       "      }\n",
       "      window.PyViz.comms[comm_id] = comm;\n",
       "      return comm;\n",
       "    }\n",
       "    window.PyViz.comm_manager = new JupyterCommManager();\n",
       "    \n",
       "\n",
       "\n",
       "var JS_MIME_TYPE = 'application/javascript';\n",
       "var HTML_MIME_TYPE = 'text/html';\n",
       "var EXEC_MIME_TYPE = 'application/vnd.holoviews_exec.v0+json';\n",
       "var CLASS_NAME = 'output';\n",
       "\n",
       "/**\n",
       " * Render data to the DOM node\n",
       " */\n",
       "function render(props, node) {\n",
       "  var div = document.createElement(\"div\");\n",
       "  var script = document.createElement(\"script\");\n",
       "  node.appendChild(div);\n",
       "  node.appendChild(script);\n",
       "}\n",
       "\n",
       "/**\n",
       " * Handle when a new output is added\n",
       " */\n",
       "function handle_add_output(event, handle) {\n",
       "  var output_area = handle.output_area;\n",
       "  var output = handle.output;\n",
       "  if ((output.data == undefined) || (!output.data.hasOwnProperty(EXEC_MIME_TYPE))) {\n",
       "    return\n",
       "  }\n",
       "  var id = output.metadata[EXEC_MIME_TYPE][\"id\"];\n",
       "  var toinsert = output_area.element.find(\".\" + CLASS_NAME.split(' ')[0]);\n",
       "  if (id !== undefined) {\n",
       "    var nchildren = toinsert.length;\n",
       "    var html_node = toinsert[nchildren-1].children[0];\n",
       "    html_node.innerHTML = output.data[HTML_MIME_TYPE];\n",
       "    var scripts = [];\n",
       "    var nodelist = html_node.querySelectorAll(\"script\");\n",
       "    for (var i in nodelist) {\n",
       "      if (nodelist.hasOwnProperty(i)) {\n",
       "        scripts.push(nodelist[i])\n",
       "      }\n",
       "    }\n",
       "\n",
       "    scripts.forEach( function (oldScript) {\n",
       "      var newScript = document.createElement(\"script\");\n",
       "      var attrs = [];\n",
       "      var nodemap = oldScript.attributes;\n",
       "      for (var j in nodemap) {\n",
       "        if (nodemap.hasOwnProperty(j)) {\n",
       "          attrs.push(nodemap[j])\n",
       "        }\n",
       "      }\n",
       "      attrs.forEach(function(attr) { newScript.setAttribute(attr.name, attr.value) });\n",
       "      newScript.appendChild(document.createTextNode(oldScript.innerHTML));\n",
       "      oldScript.parentNode.replaceChild(newScript, oldScript);\n",
       "    });\n",
       "    if (JS_MIME_TYPE in output.data) {\n",
       "      toinsert[nchildren-1].children[1].textContent = output.data[JS_MIME_TYPE];\n",
       "    }\n",
       "    output_area._hv_plot_id = id;\n",
       "    if ((window.Bokeh !== undefined) && (id in Bokeh.index)) {\n",
       "      window.PyViz.plot_index[id] = Bokeh.index[id];\n",
       "    } else {\n",
       "      window.PyViz.plot_index[id] = null;\n",
       "    }\n",
       "  } else if (output.metadata[EXEC_MIME_TYPE][\"server_id\"] !== undefined) {\n",
       "    var bk_div = document.createElement(\"div\");\n",
       "    bk_div.innerHTML = output.data[HTML_MIME_TYPE];\n",
       "    var script_attrs = bk_div.children[0].attributes;\n",
       "    for (var i = 0; i < script_attrs.length; i++) {\n",
       "      toinsert[toinsert.length - 1].childNodes[1].setAttribute(script_attrs[i].name, script_attrs[i].value);\n",
       "    }\n",
       "    // store reference to server id on output_area\n",
       "    output_area._bokeh_server_id = output.metadata[EXEC_MIME_TYPE][\"server_id\"];\n",
       "  }\n",
       "}\n",
       "\n",
       "/**\n",
       " * Handle when an output is cleared or removed\n",
       " */\n",
       "function handle_clear_output(event, handle) {\n",
       "  var id = handle.cell.output_area._hv_plot_id;\n",
       "  var server_id = handle.cell.output_area._bokeh_server_id;\n",
       "  if (((id === undefined) || !(id in PyViz.plot_index)) && (server_id !== undefined)) { return; }\n",
       "  var comm = window.PyViz.comm_manager.get_client_comm(\"hv-extension-comm\", \"hv-extension-comm\", function () {});\n",
       "  if (server_id !== null) {\n",
       "    comm.send({event_type: 'server_delete', 'id': server_id});\n",
       "    return;\n",
       "  } else if (comm !== null) {\n",
       "    comm.send({event_type: 'delete', 'id': id});\n",
       "  }\n",
       "  delete PyViz.plot_index[id];\n",
       "  if ((window.Bokeh !== undefined) & (id in window.Bokeh.index)) {\n",
       "    var doc = window.Bokeh.index[id].model.document\n",
       "    doc.clear();\n",
       "    const i = window.Bokeh.documents.indexOf(doc);\n",
       "    if (i > -1) {\n",
       "      window.Bokeh.documents.splice(i, 1);\n",
       "    }\n",
       "  }\n",
       "}\n",
       "\n",
       "/**\n",
       " * Handle kernel restart event\n",
       " */\n",
       "function handle_kernel_cleanup(event, handle) {\n",
       "  delete PyViz.comms[\"hv-extension-comm\"];\n",
       "  window.PyViz.plot_index = {}\n",
       "}\n",
       "\n",
       "/**\n",
       " * Handle update_display_data messages\n",
       " */\n",
       "function handle_update_output(event, handle) {\n",
       "  handle_clear_output(event, {cell: {output_area: handle.output_area}})\n",
       "  handle_add_output(event, handle)\n",
       "}\n",
       "\n",
       "function register_renderer(events, OutputArea) {\n",
       "  function append_mime(data, metadata, element) {\n",
       "    // create a DOM node to render to\n",
       "    var toinsert = this.create_output_subarea(\n",
       "    metadata,\n",
       "    CLASS_NAME,\n",
       "    EXEC_MIME_TYPE\n",
       "    );\n",
       "    this.keyboard_manager.register_events(toinsert);\n",
       "    // Render to node\n",
       "    var props = {data: data, metadata: metadata[EXEC_MIME_TYPE]};\n",
       "    render(props, toinsert[0]);\n",
       "    element.append(toinsert);\n",
       "    return toinsert\n",
       "  }\n",
       "\n",
       "  events.on('output_added.OutputArea', handle_add_output);\n",
       "  events.on('output_updated.OutputArea', handle_update_output);\n",
       "  events.on('clear_output.CodeCell', handle_clear_output);\n",
       "  events.on('delete.Cell', handle_clear_output);\n",
       "  events.on('kernel_ready.Kernel', handle_kernel_cleanup);\n",
       "\n",
       "  OutputArea.prototype.register_mime_type(EXEC_MIME_TYPE, append_mime, {\n",
       "    safe: true,\n",
       "    index: 0\n",
       "  });\n",
       "}\n",
       "\n",
       "if (window.Jupyter !== undefined) {\n",
       "  try {\n",
       "    var events = require('base/js/events');\n",
       "    var OutputArea = require('notebook/js/outputarea').OutputArea;\n",
       "    if (OutputArea.prototype.mime_types().indexOf(EXEC_MIME_TYPE) == -1) {\n",
       "      register_renderer(events, OutputArea);\n",
       "    }\n",
       "  } catch(err) {\n",
       "  }\n",
       "}\n"
      ],
      "application/vnd.holoviews_load.v0+json": "\nif ((window.PyViz === undefined) || (window.PyViz instanceof HTMLElement)) {\n  window.PyViz = {comms: {}, comm_status:{}, kernels:{}, receivers: {}, plot_index: []}\n}\n\n\n    function JupyterCommManager() {\n    }\n\n    JupyterCommManager.prototype.register_target = function(plot_id, comm_id, msg_handler) {\n      if (window.comm_manager || ((window.Jupyter !== undefined) && (Jupyter.notebook.kernel != null))) {\n        var comm_manager = window.comm_manager || Jupyter.notebook.kernel.comm_manager;\n        comm_manager.register_target(comm_id, function(comm) {\n          comm.on_msg(msg_handler);\n        });\n      } else if ((plot_id in window.PyViz.kernels) && (window.PyViz.kernels[plot_id])) {\n        window.PyViz.kernels[plot_id].registerCommTarget(comm_id, function(comm) {\n          comm.onMsg = msg_handler;\n        });\n      } else if (typeof google != 'undefined' && google.colab.kernel != null) {\n        google.colab.kernel.comms.registerTarget(comm_id, (comm) => {\n          var messages = comm.messages[Symbol.asyncIterator]();\n          function processIteratorResult(result) {\n            var message = result.value;\n            console.log(message)\n            var content = {data: message.data, comm_id};\n            var buffers = []\n            for (var buffer of message.buffers || []) {\n              buffers.push(new DataView(buffer))\n            }\n            var metadata = message.metadata || {};\n            var msg = {content, buffers, metadata}\n            msg_handler(msg);\n            return messages.next().then(processIteratorResult);\n          }\n          return messages.next().then(processIteratorResult);\n        })\n      }\n    }\n\n    JupyterCommManager.prototype.get_client_comm = function(plot_id, comm_id, msg_handler) {\n      if (comm_id in window.PyViz.comms) {\n        return window.PyViz.comms[comm_id];\n      } else if (window.comm_manager || ((window.Jupyter !== undefined) && (Jupyter.notebook.kernel != null))) {\n        var comm_manager = window.comm_manager || Jupyter.notebook.kernel.comm_manager;\n        var comm = comm_manager.new_comm(comm_id, {}, {}, {}, comm_id);\n        if (msg_handler) {\n          comm.on_msg(msg_handler);\n        }\n      } else if ((plot_id in window.PyViz.kernels) && (window.PyViz.kernels[plot_id])) {\n        var comm = window.PyViz.kernels[plot_id].connectToComm(comm_id);\n        comm.open();\n        if (msg_handler) {\n          comm.onMsg = msg_handler;\n        }\n      } else if (typeof google != 'undefined' && google.colab.kernel != null) {\n        var comm_promise = google.colab.kernel.comms.open(comm_id)\n        comm_promise.then((comm) => {\n          window.PyViz.comms[comm_id] = comm;\n          if (msg_handler) {\n            var messages = comm.messages[Symbol.asyncIterator]();\n            function processIteratorResult(result) {\n              var message = result.value;\n              var content = {data: message.data};\n              var metadata = message.metadata || {comm_id};\n              var msg = {content, metadata}\n              msg_handler(msg);\n              return messages.next().then(processIteratorResult);\n            }\n            return messages.next().then(processIteratorResult);\n          }\n        }) \n        var sendClosure = (data, metadata, buffers, disposeOnDone) => {\n          return comm_promise.then((comm) => {\n            comm.send(data, metadata, buffers, disposeOnDone);\n          });\n        };\n        var comm = {\n          send: sendClosure\n        };\n      }\n      window.PyViz.comms[comm_id] = comm;\n      return comm;\n    }\n    window.PyViz.comm_manager = new JupyterCommManager();\n    \n\n\nvar JS_MIME_TYPE = 'application/javascript';\nvar HTML_MIME_TYPE = 'text/html';\nvar EXEC_MIME_TYPE = 'application/vnd.holoviews_exec.v0+json';\nvar CLASS_NAME = 'output';\n\n/**\n * Render data to the DOM node\n */\nfunction render(props, node) {\n  var div = document.createElement(\"div\");\n  var script = document.createElement(\"script\");\n  node.appendChild(div);\n  node.appendChild(script);\n}\n\n/**\n * Handle when a new output is added\n */\nfunction handle_add_output(event, handle) {\n  var output_area = handle.output_area;\n  var output = handle.output;\n  if ((output.data == undefined) || (!output.data.hasOwnProperty(EXEC_MIME_TYPE))) {\n    return\n  }\n  var id = output.metadata[EXEC_MIME_TYPE][\"id\"];\n  var toinsert = output_area.element.find(\".\" + CLASS_NAME.split(' ')[0]);\n  if (id !== undefined) {\n    var nchildren = toinsert.length;\n    var html_node = toinsert[nchildren-1].children[0];\n    html_node.innerHTML = output.data[HTML_MIME_TYPE];\n    var scripts = [];\n    var nodelist = html_node.querySelectorAll(\"script\");\n    for (var i in nodelist) {\n      if (nodelist.hasOwnProperty(i)) {\n        scripts.push(nodelist[i])\n      }\n    }\n\n    scripts.forEach( function (oldScript) {\n      var newScript = document.createElement(\"script\");\n      var attrs = [];\n      var nodemap = oldScript.attributes;\n      for (var j in nodemap) {\n        if (nodemap.hasOwnProperty(j)) {\n          attrs.push(nodemap[j])\n        }\n      }\n      attrs.forEach(function(attr) { newScript.setAttribute(attr.name, attr.value) });\n      newScript.appendChild(document.createTextNode(oldScript.innerHTML));\n      oldScript.parentNode.replaceChild(newScript, oldScript);\n    });\n    if (JS_MIME_TYPE in output.data) {\n      toinsert[nchildren-1].children[1].textContent = output.data[JS_MIME_TYPE];\n    }\n    output_area._hv_plot_id = id;\n    if ((window.Bokeh !== undefined) && (id in Bokeh.index)) {\n      window.PyViz.plot_index[id] = Bokeh.index[id];\n    } else {\n      window.PyViz.plot_index[id] = null;\n    }\n  } else if (output.metadata[EXEC_MIME_TYPE][\"server_id\"] !== undefined) {\n    var bk_div = document.createElement(\"div\");\n    bk_div.innerHTML = output.data[HTML_MIME_TYPE];\n    var script_attrs = bk_div.children[0].attributes;\n    for (var i = 0; i < script_attrs.length; i++) {\n      toinsert[toinsert.length - 1].childNodes[1].setAttribute(script_attrs[i].name, script_attrs[i].value);\n    }\n    // store reference to server id on output_area\n    output_area._bokeh_server_id = output.metadata[EXEC_MIME_TYPE][\"server_id\"];\n  }\n}\n\n/**\n * Handle when an output is cleared or removed\n */\nfunction handle_clear_output(event, handle) {\n  var id = handle.cell.output_area._hv_plot_id;\n  var server_id = handle.cell.output_area._bokeh_server_id;\n  if (((id === undefined) || !(id in PyViz.plot_index)) && (server_id !== undefined)) { return; }\n  var comm = window.PyViz.comm_manager.get_client_comm(\"hv-extension-comm\", \"hv-extension-comm\", function () {});\n  if (server_id !== null) {\n    comm.send({event_type: 'server_delete', 'id': server_id});\n    return;\n  } else if (comm !== null) {\n    comm.send({event_type: 'delete', 'id': id});\n  }\n  delete PyViz.plot_index[id];\n  if ((window.Bokeh !== undefined) & (id in window.Bokeh.index)) {\n    var doc = window.Bokeh.index[id].model.document\n    doc.clear();\n    const i = window.Bokeh.documents.indexOf(doc);\n    if (i > -1) {\n      window.Bokeh.documents.splice(i, 1);\n    }\n  }\n}\n\n/**\n * Handle kernel restart event\n */\nfunction handle_kernel_cleanup(event, handle) {\n  delete PyViz.comms[\"hv-extension-comm\"];\n  window.PyViz.plot_index = {}\n}\n\n/**\n * Handle update_display_data messages\n */\nfunction handle_update_output(event, handle) {\n  handle_clear_output(event, {cell: {output_area: handle.output_area}})\n  handle_add_output(event, handle)\n}\n\nfunction register_renderer(events, OutputArea) {\n  function append_mime(data, metadata, element) {\n    // create a DOM node to render to\n    var toinsert = this.create_output_subarea(\n    metadata,\n    CLASS_NAME,\n    EXEC_MIME_TYPE\n    );\n    this.keyboard_manager.register_events(toinsert);\n    // Render to node\n    var props = {data: data, metadata: metadata[EXEC_MIME_TYPE]};\n    render(props, toinsert[0]);\n    element.append(toinsert);\n    return toinsert\n  }\n\n  events.on('output_added.OutputArea', handle_add_output);\n  events.on('output_updated.OutputArea', handle_update_output);\n  events.on('clear_output.CodeCell', handle_clear_output);\n  events.on('delete.Cell', handle_clear_output);\n  events.on('kernel_ready.Kernel', handle_kernel_cleanup);\n\n  OutputArea.prototype.register_mime_type(EXEC_MIME_TYPE, append_mime, {\n    safe: true,\n    index: 0\n  });\n}\n\nif (window.Jupyter !== undefined) {\n  try {\n    var events = require('base/js/events');\n    var OutputArea = require('notebook/js/outputarea').OutputArea;\n    if (OutputArea.prototype.mime_types().indexOf(EXEC_MIME_TYPE) == -1) {\n      register_renderer(events, OutputArea);\n    }\n  } catch(err) {\n  }\n}\n"
     },
     "metadata": {},
     "output_type": "display_data"
    },
    {
     "data": {
      "text/html": [
       "<style>*[data-root-id],\n",
       "*[data-root-id] > * {\n",
       "  box-sizing: border-box;\n",
       "  font-family: var(--jp-ui-font-family);\n",
       "  font-size: var(--jp-ui-font-size1);\n",
       "  color: var(--vscode-editor-foreground, var(--jp-ui-font-color1));\n",
       "}\n",
       "\n",
       "/* Override VSCode background color */\n",
       ".cell-output-ipywidget-background:has(\n",
       "    > .cell-output-ipywidget-background > .lm-Widget > *[data-root-id]\n",
       "  ),\n",
       ".cell-output-ipywidget-background:has(> .lm-Widget > *[data-root-id]) {\n",
       "  background-color: transparent !important;\n",
       "}\n",
       "</style>"
      ]
     },
     "metadata": {},
     "output_type": "display_data"
    },
    {
     "data": {
      "text/html": [
       "\n",
       "<div class=\"logo-block\">\n",
       "<img src='data:image/png;base64,iVBORw0KGgoAAAANSUhEUgAAAEAAAABACAYAAACqaXHeAAAABHNCSVQICAgIfAhkiAAAAAlwSFlz\n",
       "AAAB+wAAAfsBxc2miwAAABl0RVh0U29mdHdhcmUAd3d3Lmlua3NjYXBlLm9yZ5vuPBoAAA6zSURB\n",
       "VHic7ZtpeFRVmsf/5966taWqUlUJ2UioBBJiIBAwCZtog9IOgjqACsogKtqirT2ttt069nQ/zDzt\n",
       "tI4+CrJIREFaFgWhBXpUNhHZQoKBkIUASchWla1S+3ar7r1nPkDaCAnZKoQP/D7mnPOe9/xy76n3\n",
       "nFSAW9ziFoPFNED2LLK5wcyBDObkb8ZkxuaoSYlI6ZcOKq1eWFdedqNzGHQBk9RMEwFAASkk0Xw3\n",
       "ETacDNi2vtvc7L0ROdw0AjoSotQVkKSvHQz/wRO1lScGModBFbDMaNRN1A4tUBCS3lk7BWhQkgpD\n",
       "lG4852/+7DWr1R3uHAZVQDsbh6ZPN7CyxUrCzJMRouusj0ipRwD2uKm0Zn5d2dFwzX1TCGhnmdGo\n",
       "G62Nna+isiUqhkzuKrkQaJlPEv5mFl2fvGg2t/VnzkEV8F5ioioOEWkLG86fvbpthynjdhXYZziQ\n",
       "x1hC9J2NFyi8vCTt91Fh04KGip0AaG9zuCk2wQCVyoNU3Hjezee9bq92duzzTmxsRJoy+jEZZZYo\n",
       "GTKJ6SJngdJqAfRzpze0+jHreUtPc7gpBLQnIYK6BYp/uGhw9YK688eu7v95ysgshcg9qSLMo3JC\n",
       "4jqLKQFBgdKDPoQ+Pltb8dUyQLpeDjeVgI6EgLIQFT5tEl3rn2losHVsexbZ3EyT9wE1uGdkIPcy\n",
       "BGxn8QUq1QrA5nqW5i2tLqvrrM9NK6AdkVIvL9E9bZL/oyfMVd/jqvc8LylzRBKDJSzIExwhQzuL\n",
       "QYGQj4rHfFTc8mUdu3E7yoLtbTe9gI4EqVgVkug2i5+uXGo919ixbRog+3fTbQ8qJe4ZOYNfMoTI\n",
       "OoshUNosgO60AisX15aeI2PSIp5KiFLI9ubb1vV3Qb2ltwLakUCDAkWX7/nHKRmmGIl9VgYsUhJm\n",
       "2NXjKYADtM1ygne9QQDIXlk49FBstMKx66D1v4+XuQr7vqTe0VcBHQlRWiOCbmmSYe2SqtL6q5rJ\n",
       "zsTb7lKx3FKOYC4DoqyS/B5bvLPxvD9Qtf6saxYLQGJErmDOdOMr/zo96km1nElr8bmPOBwI9COv\n",
       "HnFPRIwmkSOv9kcAS4heRsidOkpeWBgZM+UBrTFAXNYL5Vf2ii9c1trNzpYdaoVil3WIc+wdk+gQ\n",
       "noie3ecCcxt9ITcLAPWt/laGEO/9U6PmzZkenTtsSMQ8uYywJVW+grCstAvCIaAdArAsIWkRDDs/\n",
       "KzLm2YcjY1Lv0UdW73HabE9n6V66cxSzfEmuJssTpKGVp+0vHq73FwL46eOjpMpbRAnNmJFrGJNu\n",
       "Ukf9Yrz+3rghiumCKNXXWPhLYcjxGsIpoCMsIRoFITkW8AuyM8jC1+/QLx4bozCEJIq38+1rtpR6\n",
       "V/yzb8eBlRb3fo5l783N0CWolAzJHaVNzkrTzlEp2bQ2q3TC5gn6wpnoQAmwSiGh2GitnTmVMc5O\n",
       "UyfKWUKCIsU7+fZDKwqdT6DDpvkzAX4/+AMFjk0tDp5GRXLpQ2MUmhgDp5gxQT8+Y7hyPsMi8uxF\n",
       "71H0oebujHALECjFKaW9Lm68n18wXp2kVzIcABytD5iXFzg+WVXkegpAsOOYziqo0OkK76GyquC3\n",
       "ltZAzMhhqlSNmmWTE5T6e3IN05ITFLM4GdN0vtZ3ob8Jh1NAKXFbm5PtLU/eqTSlGjkNAJjdgn/N\n",
       "aedXa0tdi7+t9G0FIF49rtMSEgAs1kDLkTPO7ebm4IUWeyh1bKomXqlgMG6kJmHcSM0clYLJ8XtR\n",
       "1GTnbV3F6I5wCGikAb402npp1h1s7LQUZZSMIfALFOuL3UUrfnS8+rez7v9qcold5tilgHbO1fjK\n",
       "9ubb17u9oshxzMiUBKXWqJNxd+fqb0tLVs4lILFnK71H0Ind7uiPgACVcFJlrb0tV6DzxqqTIhUM\n",
       "CwDf1/rrVhTa33/3pGPxJYdQ2l2cbgVcQSosdx8uqnDtbGjh9SlDVSMNWhlnilfqZk42Th2ZpLpf\n",
       "xrHec5e815zrr0dfBZSwzkZfqsv+1FS1KUknUwPARVvItfKUY+cn57yP7qv07UE3p8B2uhUwLk09\n",
       "e0SCOrK+hbdYHYLjRIl71wWzv9jpEoeOHhGRrJAzyEyNiJuUqX0g2sBN5kGK6y2Blp5M3lsB9Qh4\n",
       "y2Ja6x6+i0ucmKgwMATwhSjdUu49tKrQ/pvN5d53ml2CGwCmJipmKjgmyuaXzNeL2a0AkQ01Th5j\n",
       "2DktO3Jyk8f9vcOBQHV94OK+fPumJmvQHxJoWkaKWq9Vs+yUsbq0zGT1I4RgeH2b5wef7+c7bl8F\n",
       "eKgoHVVZa8ZPEORzR6sT1BzDUAD/d9F78e2Tzv99v8D+fLVTqAKAsbGamKey1Mt9Ann4eH3gTXTz\n",
       "idWtAJ8PQWOk7NzSeQn/OTHDuEikVF1R4z8BQCy+6D1aWRfY0tTGG2OM8rRoPaeIj5ZHzJxszElN\n",
       "VM8K8JS5WOfv8mzRnQAKoEhmt8gyPM4lU9SmBK1MCQBnW4KONT86v1hZ1PbwSXPw4JWussVjtH9Y\n",
       "NCoiL9UoH/6PSu8jFrfY2t36erQHXLIEakMi1SydmzB31h3GGXFDFNPaK8Rme9B79Ixrd0WN+1ij\n",
       "NRQ/doRmuFLBkHSTOm5GruG+pFjFdAmorG4IXH1Qua6ASniclfFtDYt+oUjKipPrCQB7QBQ2lrgP\n",
       "fFzm+9XWUtcqJ3/5vDLDpJ79XHZk3u8nGZ42qlj1+ydtbxysCezrydp6ugmipNJ7WBPB5tydY0jP\n",
       "HaVNzs3QzeE4ZpTbI+ZbnSFPbVOw9vsfnVvqWnirPyCNGD08IlqtYkh2hjZ5dErEQzoNm+6ykyOt\n",
       "Lt5/PQEuSRRKo22VkydK+vvS1XEKlhCJAnsqvcVvH7f/ZU2R67eXbMEGAMiIV5oWZWiWvz5Fv2xG\n",
       "sjqNJQRvn3Rs2lji/lNP19VjAQDgD7FHhujZB9OGqYxRkZxixgRDVlqS6uEOFaJUVu0rPFzctrnF\n",
       "JqijImVp8dEKVWyUXDk92zAuMZ6bFwpBU1HrOw6AdhQgUooChb0+ItMbWJitSo5Ws3IAOGEOtL53\n",
       "0vHZih9sC4vtofZ7Qu6523V/fmGcds1TY3V36pUsBwAbSlxnVh2xLfAD/IAIMDf7XYIkNmXfpp2l\n",
       "18rkAJAy9HKFaIr/qULkeQQKy9zf1JgDB2uaeFNGijo5QsUyacNUUTOnGO42xSnv4oOwpDi1zYkc\n",
       "efUc3I5Gk6PhyTuVKaOGyLUAYPGIoY9Pu/atL/L92+4q9wbflRJ2Trpm/jPjdBtfnqB/dIThcl8A\n",
       "KG7hbRuKnb8qsQsVvVlTrwQAQMUlf3kwJI24Z4JhPMtcfng5GcH49GsrxJpGvvHIaeem2ma+KSjQ\n",
       "lIwUdYyCY8j4dE1KzijNnIP2llF2wcXNnsoapw9XxsgYAl6k+KzUXbi2yP3KR2ecf6z3BFsBICdW\n",
       "nvnIaG3eHybqX7vbpEqUMT+9OL4Qpe8VON7dXuFd39v19FoAABRVePbGGuXTszO0P7tu6lghUonE\n",
       "llRdrhArLvmKdh9u29jcFiRRkfLUxBiFNiqSU9icoZQHo5mYBI1MBgBH6wMNb+U7Pnw337H4gi1Y\n",
       "ciWs+uks3Z9fztUvfzxTm9Ne8XXkvQLHNytOOZeiD4e0PgkAIAYCYknKUNUDSXEKzdWNpnil7r4p\n",
       "xqkjTarZMtk/K8TQ6Qve78qqvXurGwIJqcOUKfUWHsm8KGvxSP68YudXq4pcj39X49uOK2X142O0\n",
       "Tz5/u/7TVybqH0rSya6ZBwD21/gubbrgWdDgEOx9WUhfBaC2ibcEBYm7a7x+ukrBMNcEZggyR0TE\n",
       "T8zUPjikQ4VosQZbTpS4vqizBKvqmvjsqnpfzaZyx9JPiz1/bfGKdgD45XB1zoIMzYbfTdS/NClB\n",
       "Gct0USiY3YL/g0LHy/uq/Ef6uo5+n0R/vyhp17Klpge763f8rMu6YU/zrn2nml+2WtH+Z+5IAAFc\n",
       "2bUTdTDOSNa9+cQY7YLsOIXhevEkCvzph7a8laecz/Un/z4/Ae04XeL3UQb57IwU9ZDr9UuKVajv\n",
       "nxp1+1UVIo/LjztZkKH59fO3G/JemqCfmaCRqbqbd90ZZ8FfjtkfAyD0J/9+C2h1hDwsSxvGjNDc\n",
       "b4zk5NfrSwiQblLHzZhg+Jf4aPlUwpDqkQqa9nimbt1/TDH8OitGMaQnj+RJS6B1fbF7SY1TqO5v\n",
       "/v0WAADl1f7zokgS7s7VT2DZ7pegUjBM7mjtiDZbcN4j0YrHH0rXpCtY0qPX0cVL0rv5jv/ZXend\n",
       "0u/EESYBAFBU4T4Qa5TflZOhTe7pmKpaP8kCVUVw1+yhXfJWvn1P3hnXi33JsTN6PnP3hHZ8Z3/h\n",
       "aLHzmkNPuPj7Bc/F/Q38CwjTpSwQXgE4Vmwry9tpfq/ZFgqFMy4AVDtCvi8rvMvOmv0N4YwbVgEA\n",
       "sPM72/KVnzfspmH7HQGCRLG2yL1+z8XwvPcdCbsAANh+xPzstgMtxeGKt+6MK3/tacfvwhWvIwMi\n",
       "oKEBtm0H7W+UVfkc/Y1V0BhoPlDr/w1w/eu1vjIgAgDg22OtX6/eYfnEz/focrZTHAFR+PSs56/7\n",
       "q32nwpjazxgwAQCwcU/T62t3WL7r6/jVRa6/byp1rei+Z98ZUAEAhEPHPc8fKnTU9nbgtnOe8h0l\n",
       "9hcGIqmODLQAHCy2Xti6v/XNRivf43f4fFvIteu854+VHnR7q9tfBlwAAGz+pnndB9vM26UebAe8\n",
       "SLHujPOTPVW+rwY+sxskAAC2HrA8t2Vvc7ffP1r9o+vwR2dcr92InIAbKKC1FZ5tB1tf+/G8p8sv\n",
       "N/9Q5zd/XR34LYCwV5JdccMEAMDBk45DH243r/X4xGvqxFa/GNpS7n6rwOwNWwHVE26oAADYurf1\n",
       "zx/utOzt+DMKYM0p17YtZZ5VNzqfsB2HewG1WXE8PoZ7gOclbTIvynZf9JV+fqZtfgs/8F/Nu5rB\n",
       "EIBmJ+8QRMmpU7EzGRsf2FzuePqYRbzh/zE26EwdrT10f6r6o8HOYzCJB9Dpff8tbnGLG8L/A/WE\n",
       "roTBs2RqAAAAAElFTkSuQmCC'\n",
       "     style='height:25px; border-radius:12px; display: inline-block; float: left; vertical-align: middle'></img>\n",
       "\n",
       "\n",
       "\n",
       "\n",
       "  <img src='data:image/png;base64,iVBORw0KGgoAAAANSUhEUgAAACAAAAAgCAYAAABzenr0AAAABHNCSVQICAgIfAhkiAAAAAlwSFlz\n",
       "AAAFMAAABTABZarKtgAAABl0RVh0U29mdHdhcmUAd3d3Lmlua3NjYXBlLm9yZ5vuPBoAAArNSURB\n",
       "VFiFnVd5VFNXGv/ee0kgGyQhbFoXIKCFYEXEDVErTucMoKUOWA/VLsNSLPQgFTOdyrHPiIp1lFIQ\n",
       "OlaPShEG3EpPcQmISCuV1bQ1CLKIULeQhJA9JO+9+UMT0x5aPfOdc895373f/e7v/t537/ddBF5Q\n",
       "JBIJl81mJwCACEVRQBCEQhAEAQCgnghCURRCkmS7Wq2+WlJSYn0Rv8jzDHAcD0EQJIVGo5mFQuGF\n",
       "jIyMu39kq1KpkOrq6gU6nS6aIAiGzWY7VVBQ0P9/AcjNzWXy+fxcOp2uiY+Przm0d6+n8dblv/Fo\n",
       "kzM4SzYfPlRePvFnjnt6ehh1dXVv2mw2nlar/byoqMj8wgBwHBchCJIZEhJSeu1yHVi7vtu02t8+\n",
       "NykQ7BMWoOUMhXQsXLv5IQAwSJJEEASxcDicoeTk5DtCoZBy9XX69Gnv3t7ebJIky3EcH3guAKlU\n",
       "GoGiaOKWLVsOvhs7/9XXPMde3/IyIFbMnaPDuD5AUdQuOf2XlD0npTExMWYAgNbWVpZcLg8xGAzB\n",
       "JEnSvby82tPT052LaTQatLy8fBtJkt/s3Lnz5h8CwHFcRKPRNu/YsePAjh072KTs0IGCxRg8RgUB\n",
       "TGpSx6cmHgMAfNqN6Xa1GvJ/D35gYAAViURkcXHxUrPZHDRv3rxv4uLiDI7xPXv2bLdYLBUFBQWD\n",
       "jj7M8ZGbm8tkMpmSrKysQiaTScXGxtpqL7dManT6tcu5mgEWWJyOhicozpk+c3NsbKzNFcBbWWEf\n",
       "1Td9/upA30i3ZJv0h8bGxiSFQmFcuHDhOACAWCy+0d3dvX3lypUtzc3N9t8AiIuLk4SEhByLiooy\n",
       "AgAcO3ZsNlPgH3Cttb35JZo+bCYXIQAA9MDiUW7sWS1KN687w6Mera2twa2trfMvXboUOS28Pyb1\n",
       "U08McRtf/sXBSmt5cc35pqamVQqFwhoZGallMpnU/fv3e7RaberVq1d/AABAn1IfQqfTNRs3blQB\n",
       "AFy+fJk7Nja2XCKRnD3dNSorusPq6NfTPR+gPiEEoLRFXO1tS2+zavv27ReftjNttyr0S1/j0rUP\n",
       "PEJQwNwQYGgAACQSyXmNRhMtk8lYAAApKSlKDMP0+fn5QU4ACIKkxMfH1zjYuHnz5uspKSlOfdX7\n",
       "u68fvOePcCzKQR4YVCgATGfa/F3pnzaHWOAXSDyaMCqH2+r8VXErP3D+snXr1tV2dXW94dATExOr\n",
       "6XT6JgAAVCKRcDEMM4WHh9sAAHJyUqNu//wDymKx7AAAVVVVPiaTKXxByrYMvBsxEMSTwPXhuL+8\n",
       "e/fu9fv371+flvbemogYNz+TnsBOFEwMFO8/KzEYDKFVVVX+AAChoaGT7u7ud48ePRro0DEMs+bl\n",
       "5bFRNpud4O3tfdGBzq5uy/5wTUPM/q2zC9atmbVqeHg4Pi0t7WxGRoZFH5rw76I7LI8HqHfwPL7d\n",
       "rfVagzw1NfW81t4ePUfsP/OrnWZ6fPSuUqFQSEkkkrOjo6OvuQR5q0ajiXLoPj4+lzgcTjwKACLH\n",
       "9SqXy2kzhBO8haGo+UA2wZW+p880DxeveGt9aHx9fT09ctlq3sC0NT9e6xsbjuZblSxl7wKtVotM\n",
       "m6PnXvlmZJBtX91CEMQsxyJsNlteXl4udugIghAajQYFAEhPTx9AEGQOimGY8y4oLt63KlJkdB4t\n",
       "P282Z/c/dPrDH04ktJ9P2tfWXP3+2o1vHzunEp6Xq0lsGt08KzUrcSGTQ3n3XeefLCs5UqnT6Rap\n",
       "VCoEACA7O/snvV4f5gJooLa2NsihoygKKEVRzquTND2OCpttGXdG1tOxwOlgzdvE9v30rV+m3W5I\n",
       "2jfJNQmLH85QUUzPNTwvkAx0+vVGhq2/VV9fT+dyuZ01NTXOXQOA3fGxevXq2waDYY5r8KIoij5b\n",
       "jzB5Cz2oKdOo0erOm+1tVuVtBMZXElNMRJR1fvvjx9iPLQ/RjpuB0Xu/Vp7YmH1864YNG3oNBkPw\n",
       "VD7mzp1rJUnSzZUBmqsBggAgGFC/n6jVA+3WoN3tu1Gg39cg2tEx1Cg3CIJHsclxnl2HRorMN8Z0\n",
       "fRW+vr7GJ36Q56Z5h9BIknzGAMJWtvdQYs0EZe3/FSwqk5tpXEMb1JoYD+n8xRdQJl/fMPEgzKhS\n",
       "L40KCD7lGzg92qIyovpb3y/msT2un2psvFpWVvYyl8vtc1nDSXFXV5c7iqLOtEyS5LNBAADfWeKm\n",
       "Ly4uuvR1++sfv51/P5sfnHm2/Iy+mBmwsaHJbpt+Q0jHSS7TZ/PSNVkNJ/973OxtemD1s91CPb12\n",
       "h9MfvZsk5meo1eqo5ORkxTNWn7HR1tY2l8PhOAsUiqIolCRJcETtv/61qzNySYK5trZ2TCgUUiwW\n",
       "S1FSUhLR+bA/kAzwXcAbHa/cFhrTXrJ/v+7IkSPu3Je4Xm5eboJv2wba5QbO5fQwxhsP679Y+nFO\n",
       "jgAAoKSkJILFYjnBGI1G0YYNGwYBnqRoiqIQlKKojurq6gUAAAKBgKQoiuGYkJWVpTCZTOKmI1Xd\n",
       "HwnDcm+cOnOMw+H0FxYWbqpvqv/r9EV+bky+O+/QoUPiqJRt9JphTLFHbKBCR87tWL9EPN9oNIZn\n",
       "ZWUpXHaMCQQCEgCgsrIyEgBuoGq1+qpOp4t2GPH5/BvFxcVLHXpgYGDD8ePH/56Xl2cCAMjMzOxP\n",
       "S0s7pWfow4RCbz/fAF9RT0+P9yeffHJySSqev+9nxLD1FaAlTR8vlJ8vxxzsFhUVLRMIBB0OvwaD\n",
       "YRlFUdfQkpISK0EQ9J6eHgYAQEZGxl2z2Rw0MjJCBwBITk5+xOVyfzpw4ECSw5lQKKQIbxtJm4EN\n",
       "8eZ7jPz0oNv+dK5FG/jq54eH+IFr/S1KabBy0UerAvI+++wzD4vFEpCWljYEACCTyVh2ux3FcXwS\n",
       "BQCw2WxVdXV1bzrQRURE1FVVVTn1zMzM/pkzZ35/9OjRd0pLS19RqVQIy4/tCwDgOcPTQvFQEQBA\n",
       "aWnpK0ERK2LbyVllN341GUJ4YDu8zD5bKyur7O+85tx9Z2fnO1ar9QjA04KkpaVFs2LFir8olcq7\n",
       "YWFhJpFINNnX16drbGyMjY6Ovg0AIBaLjcuXL5d3d3d7XbhwIW704b3F479MeD1qVfJ5Og/bvb4R\n",
       "LwaDMZabm9uwflNa/z/3HOIv5NsDEK7XS7FeevXPvYNLvm5S/GglCK5KpZorlUobXE8g5ObmMqVS\n",
       "6UG1Wu1BURSHoijOiRMnwgoLC7coFAqBo+9Fm0KhEKStmvvto3TeucFN7pVJYbytarXaQyqVHsRx\n",
       "3N15TF1BuBaljr4rV66wOzo63mAymXdzcnKuwwtIUVHRMqvVGkgQxMV7NXvyJijGvcNXB/7z5Zdf\n",
       "bicI4gSO40NTAgD4bVnuODIAT2pElUq1FEEQO4fD6QsPD++fqixHEATj8/ntjoCrqKhwS0hIsJWV\n",
       "leURBHEOx3G563pT3tn5+flBDAbjg6CgoMMpKSlK17GhoSFMJpMFPk04DJIkEQzDzCwW6+5UD5Oa\n",
       "mhrfO3fufECS5GHXnf8pAAAAHMfdURTdimGYPjExsTo0NHTyj2ynEplMxurs7HyHIAiKJMlSHMct\n",
       "U9k9N2vl5+cH0en0TRiGWX18fC65vnh+LxqNBq2oqFhgMpmi7XY7arVaj+zdu/fxn/l/4bSZl5fH\n",
       "5nK5CQAQMtXznCRJePpEbwOAZhzHX4ix/wHzzC/tu64gcwAAAABJRU5ErkJggg=='\n",
       "       style='height:15px; border-radius:12px; display: inline-block; float: left'></img>\n",
       "  \n",
       "\n",
       "\n",
       "</div>\n"
      ]
     },
     "metadata": {},
     "output_type": "display_data"
    },
    {
     "data": {
      "text/html": [
       "<div>\n",
       "<style scoped>\n",
       "    .dataframe tbody tr th:only-of-type {\n",
       "        vertical-align: middle;\n",
       "    }\n",
       "\n",
       "    .dataframe tbody tr th {\n",
       "        vertical-align: top;\n",
       "    }\n",
       "\n",
       "    .dataframe thead th {\n",
       "        text-align: right;\n",
       "    }\n",
       "</style>\n",
       "<table border=\"1\" class=\"dataframe\">\n",
       "  <thead>\n",
       "    <tr style=\"text-align: right;\">\n",
       "      <th></th>\n",
       "      <th>id</th>\n",
       "      <th>treatment</th>\n",
       "      <th>metric</th>\n",
       "      <th>attr_0</th>\n",
       "      <th>attr_1</th>\n",
       "      <th>attr_2</th>\n",
       "      <th>attr_3</th>\n",
       "    </tr>\n",
       "  </thead>\n",
       "  <tbody>\n",
       "    <tr>\n",
       "      <th>0</th>\n",
       "      <td>0</td>\n",
       "      <td>C</td>\n",
       "      <td>True</td>\n",
       "      <td>A0a</td>\n",
       "      <td>A1b</td>\n",
       "      <td>A2a</td>\n",
       "      <td>A3a</td>\n",
       "    </tr>\n",
       "    <tr>\n",
       "      <th>1</th>\n",
       "      <td>1</td>\n",
       "      <td>B</td>\n",
       "      <td>True</td>\n",
       "      <td>A0a</td>\n",
       "      <td>A1b</td>\n",
       "      <td>A2a</td>\n",
       "      <td>A3b</td>\n",
       "    </tr>\n",
       "    <tr>\n",
       "      <th>2</th>\n",
       "      <td>2</td>\n",
       "      <td>C</td>\n",
       "      <td>True</td>\n",
       "      <td>A0a</td>\n",
       "      <td>A1a</td>\n",
       "      <td>A2a</td>\n",
       "      <td>A3b</td>\n",
       "    </tr>\n",
       "    <tr>\n",
       "      <th>3</th>\n",
       "      <td>3</td>\n",
       "      <td>C</td>\n",
       "      <td>True</td>\n",
       "      <td>A0a</td>\n",
       "      <td>A1a</td>\n",
       "      <td>A2a</td>\n",
       "      <td>A3b</td>\n",
       "    </tr>\n",
       "    <tr>\n",
       "      <th>4</th>\n",
       "      <td>4</td>\n",
       "      <td>A</td>\n",
       "      <td>True</td>\n",
       "      <td>A0a</td>\n",
       "      <td>A1b</td>\n",
       "      <td>A2a</td>\n",
       "      <td>A3a</td>\n",
       "    </tr>\n",
       "  </tbody>\n",
       "</table>\n",
       "</div>"
      ],
      "text/plain": [
       "   id treatment  metric attr_0 attr_1 attr_2 attr_3\n",
       "0   0         C    True    A0a    A1b    A2a    A3a\n",
       "1   1         B    True    A0a    A1b    A2a    A3b\n",
       "2   2         C    True    A0a    A1a    A2a    A3b\n",
       "3   3         C    True    A0a    A1a    A2a    A3b\n",
       "4   4         A    True    A0a    A1b    A2a    A3a"
      ]
     },
     "execution_count": 1,
     "metadata": {},
     "output_type": "execute_result"
    }
   ],
   "source": [
    "import numpy as np\n",
    "from spearmint.utils import generate_fake_observations\n",
    "from spearmint import Experiment, HypothesisTest\n",
    "\n",
    "experiment_observations = generate_fake_observations(\n",
    "    distribution=\"bernoulli\",\n",
    "    n_treatments=3,\n",
    "    n_attributes=4,\n",
    "    n_observations=120,\n",
    "    random_seed=123\n",
    ")\n",
    "experiment_observations.head()"
   ]
  },
  {
   "cell_type": "markdown",
   "metadata": {},
   "source": [
    "The fake data's `treatment` column is named `\"treatment\"`, and the dataset also contains four `attribute` columns, named `\"attr_*\"`, that can potentially be used for segmentation."
   ]
  },
  {
   "cell_type": "markdown",
   "metadata": {},
   "source": [
    "## Running an AB test in `spearmint` is as easy as 1-2-3:"
   ]
  },
  {
   "cell_type": "markdown",
   "metadata": {},
   "source": [
    "The three key components of running an AB test in `spearmint` are:\n",
    "\n",
    "- 1. Initialize an **`Experiment`**, which holds the raw observations, and any metadata associated with an AB experiment.\n",
    "- 2. Define the **`HypothesisTest`**, which declares the configuration of the statistical inference procedure.\n",
    "- 3. Run the `HypothesisTest` against the `Experiment` and interpret the resulting **`InferenceResults`**. `InferenceResults`, hold the parameter estimates of the inference procedure, and are used to summarize, visualize, and save the results of the hypothesis test."
   ]
  },
  {
   "cell_type": "markdown",
   "metadata": {},
   "source": [
    "## Example Workflow\n",
    "\n",
    "We'll demonstrate the basic workflow with an examples.\n",
    "\n",
    "### 1. Initialize an `Experiment`"
   ]
  },
  {
   "cell_type": "code",
   "execution_count": 2,
   "metadata": {},
   "outputs": [],
   "source": [
    "experiment = Experiment(data=experiment_observations)"
   ]
  },
  {
   "cell_type": "markdown",
   "metadata": {},
   "source": [
    "### 2. Initialize the `HypothesisTest`\n",
    "\n",
    "Spearment allows the scientist to configure many aspects of the hypothesis test, including\n",
    "- the specific `metric` used -- we can even use `CustomMetrics` that are derived from multiple columns of the dataset (see below)\n",
    "- `control` and `variation` groups. The `control` group can be thought of as the baseline or NULL hypothesis group.\n",
    "- the specific `hypothesis`\n",
    "- `variable_type` -- this can be explicitly configured, otherwise `spearmint` will attempt to infer it from the distribution of the `metric` values\n",
    "- `inference_method`, and any specific configuration for the `inference_method` (particularly helpful when specifying priors in Bayesian hypothesis tests)."
   ]
  },
  {
   "cell_type": "code",
   "execution_count": 3,
   "metadata": {},
   "outputs": [],
   "source": [
    "ab_test = HypothesisTest(\n",
    "    metric=\"metric\",\n",
    "    treatment=\"treatment\",\n",
    "    control=\"A\", variation=\"B\",\n",
    "    hypothesis=\"unequal\",\n",
    "    variable_type=\"binary\",\n",
    "    inference_method=\"frequentist\"\n",
    ")"
   ]
  },
  {
   "cell_type": "markdown",
   "metadata": {},
   "source": [
    "#### Specifying the `hypothesis`\n",
    "| `hypothesis`  | Hypothesis Interpretation | Hypothesis Type | \n",
    "|---|---|---|\n",
    "| `\"larger\"` (default) | \"The treatment is larger than the control\" | one-tailed |\n",
    "| `\"smaller\"` | \"The treatment is smaller than the control\" | one-tailed |\n",
    "| `\"unequal\"` | \"The treatment is not equal to the control\" | two-tailed |\n",
    "\n",
    "In this example, we specify the `\"unequal\"` hypothesis, which tests for any statistically significant difference between groups `\"A\"` and `\"B\"`. Therefore `\"B\"` could be smaller or larger than `\"A\"`, and the test could pass if the difference is large enough. \n",
    "\n",
    "---\n",
    "\n",
    "> 💡 Note that we can also exclude the `hypothesis` argument, in which case `spearmint` will use the value configured in `$SPEARMINT_HOME/spearmint.cfg::hypothesis_test::default_hypothesis`. See the **Configuring `spearmint`** section below\n",
    "\n",
    "---\n",
    "\n",
    "#### Specifying the `variable_type`s and `inference_method`s\n",
    "\n",
    "The the specific inference procedure used will depend on the `variable_type` of the observations, and the `inference_method` argument. A list of supported `variable_type`s and their associated `inference_methods` are shown below:\n",
    "\n",
    "| `variable_type` | `inference_method`| Available Models |\n",
    "|---|---|---|\n",
    "| `\"continuous\"` | `\"frequentist\"` (default) | `\"means_delta\"` (t-test) |\n",
    "|  | `\"bayesian\"` | `\"gaussian\"`, `\"student_t\"`|\n",
    "| `\"binary\"` | `\"frequentist\"` (default) | `\"proportions_delta\"` (z-test) |\n",
    "|  | `\"bayesian\"`| `\"binomial\"`, `\"bernoulli\"`  |\n",
    "| `\"counts\"`  | `\"frequentist\"` (default) | `\"rates_ratio\"`  |\n",
    "|  |`\"bayesian\"`| `\"poisson\"`  |\n",
    "| `Any`  | `\"bootstrap\"`| `\"bootstrap_delta\"` |\n",
    "\n",
    "In the example above we specified the `variable_type=\"binary\"`, but this isn't necessary. If `variable_type` is not explicitly defined, `spearmint` will infer it from the distriubtion of observations in the `Experiment`. We also defined `inference_method=\"frequentist\"`, which tell's `spearmint` to use the Frequentist inference procedure that is specific to binary variables.\n",
    "\n",
    "---\n",
    "\n",
    "> 💡 Note that we could have also excluded the `inference_method` argument, in which case `spearmint` will use the value configured `$SPEARMINT_HOME/spearmint.cfg::hypothesis_test::default_inference_method`. See the **Configuring `spearmint`** section below\n",
    "\n",
    "---\n"
   ]
  },
  {
   "cell_type": "markdown",
   "metadata": {},
   "source": [
    "### 3. Run the `HypothesisTest` against the `Experiment` and interpret the resulting `InferenceResults`\n",
    "\n",
    "We run the hypothesis test against the experiment's data using the `run_test` method. This method allows you to set your Type I error rate, `alpha`. In this example we run the test with the standard `alpha=0.05`, which mean's we're willing to accept False positive from this test five times out of one-hundred."
   ]
  },
  {
   "cell_type": "code",
   "execution_count": 4,
   "metadata": {},
   "outputs": [],
   "source": [
    "ab_test_results = experiment.run_test(ab_test, alpha=.05)\n",
    "\n",
    "# Check the test results decision\n",
    "assert ab_test_results.accept_hypothesis"
   ]
  },
  {
   "cell_type": "markdown",
   "metadata": {},
   "source": [
    "#### Interpreting results\n",
    "Each `InferenceResults` instance has `.display()` and `.visualize()` methods that can be used to interpret the results of the test. The `.display()` method prints out the results to the console, while `.visualize()` plots a visual summary of the results."
   ]
  },
  {
   "cell_type": "code",
   "execution_count": 5,
   "metadata": {},
   "outputs": [
    {
     "data": {
      "text/html": [
       "<pre style=\"white-space:pre;overflow-x:auto;line-height:normal;font-family:Menlo,'DejaVu Sans Mono',consolas,'Courier New',monospace\"><span style=\"color: #008080; text-decoration-color: #008080; font-weight: bold\">Samples Comparison                  </span>\n",
       "┏━━━━━━━━━━━━━━━━┳━━━━━━━━┳━━━━━━━━┓\n",
       "┃<span style=\"color: #008080; text-decoration-color: #008080; font-style: italic\">                </span>┃<span style=\"color: #008080; text-decoration-color: #008080; font-style: italic\"> A      </span>┃<span style=\"color: #008080; text-decoration-color: #008080; font-style: italic\"> B      </span>┃\n",
       "┡━━━━━━━━━━━━━━━━╇━━━━━━━━╇━━━━━━━━┩\n",
       "│        Samples │ 35     │ 41     │\n",
       "│           Mean │ 0.4286 │ 0.6585 │\n",
       "│ Standard Error │ 0.0836 │ 0.0741 │\n",
       "│       Variance │ 0.2449 │ 0.2249 │\n",
       "│          Delta │        │ 0.23   │\n",
       "└────────────────┴────────┴────────┘\n",
       "</pre>\n"
      ],
      "text/plain": [
       "\u001b[1;36mSamples Comparison                  \u001b[0m\n",
       "┏━━━━━━━━━━━━━━━━┳━━━━━━━━┳━━━━━━━━┓\n",
       "┃\u001b[3;36m \u001b[0m\u001b[3;36m              \u001b[0m\u001b[3;36m \u001b[0m┃\u001b[3;36m \u001b[0m\u001b[3;36mA     \u001b[0m\u001b[3;36m \u001b[0m┃\u001b[3;36m \u001b[0m\u001b[3;36mB     \u001b[0m\u001b[3;36m \u001b[0m┃\n",
       "┡━━━━━━━━━━━━━━━━╇━━━━━━━━╇━━━━━━━━┩\n",
       "│        Samples │ 35     │ 41     │\n",
       "│           Mean │ 0.4286 │ 0.6585 │\n",
       "│ Standard Error │ 0.0836 │ 0.0741 │\n",
       "│       Variance │ 0.2449 │ 0.2249 │\n",
       "│          Delta │        │ 0.23   │\n",
       "└────────────────┴────────┴────────┘\n"
      ]
     },
     "metadata": {},
     "output_type": "display_data"
    },
    {
     "data": {
      "text/html": [
       "<pre style=\"white-space:pre;overflow-x:auto;line-height:normal;font-family:Menlo,'DejaVu Sans Mono',consolas,'Courier New',monospace\"><span style=\"color: #008080; text-decoration-color: #008080; font-weight: bold\">Proportions Delta Results                    </span>\n",
       "┌────────────────────┬──────────────────────┐\n",
       "│ Delta              │ 0.23                 │\n",
       "│ Delta CI           │ (0.0088, 0.4511)     │\n",
       "│ Delta-relative     │ 0.5366 %             │\n",
       "│ Delta-relative CI  │ (2.0538, 105.2632) % │\n",
       "│ Delta CI %-tiles   │ (0.025, 0.975)       │\n",
       "│ Effect Size        │ 0.4753               │\n",
       "│ alpha              │ 0.05                 │\n",
       "│ Power              │ 0.542                │\n",
       "│ Variable Type      │ binary               │\n",
       "│ Inference Method   │ frequentist          │\n",
       "│ Test statistic (z) │ 2.36                 │\n",
       "│ p-value            │ 0.0183               │\n",
       "│ Hypothesis         │ B != A               │\n",
       "│ Accept Hypothesis  │ True                 │\n",
       "└────────────────────┴──────────────────────┘\n",
       "</pre>\n"
      ],
      "text/plain": [
       "\u001b[1;36mProportions Delta Results                    \u001b[0m\n",
       "┌────────────────────┬──────────────────────┐\n",
       "│ Delta              │ 0.23                 │\n",
       "│ Delta CI           │ (0.0088, 0.4511)     │\n",
       "│ Delta-relative     │ 0.5366 %             │\n",
       "│ Delta-relative CI  │ (2.0538, 105.2632) % │\n",
       "│ Delta CI %-tiles   │ (0.025, 0.975)       │\n",
       "│ Effect Size        │ 0.4753               │\n",
       "│ alpha              │ 0.05                 │\n",
       "│ Power              │ 0.542                │\n",
       "│ Variable Type      │ binary               │\n",
       "│ Inference Method   │ frequentist          │\n",
       "│ Test statistic (z) │ 2.36                 │\n",
       "│ p-value            │ 0.0183               │\n",
       "│ Hypothesis         │ B != A               │\n",
       "│ Accept Hypothesis  │ True                 │\n",
       "└────────────────────┴──────────────────────┘\n"
      ]
     },
     "metadata": {},
     "output_type": "display_data"
    }
   ],
   "source": [
    "# Print the test results to the console\n",
    "ab_test_results.display()"
   ]
  },
  {
   "cell_type": "code",
   "execution_count": 6,
   "metadata": {},
   "outputs": [
    {
     "name": "stderr",
     "output_type": "stream",
     "text": [
      "/opt/homebrew/Caskroom/miniforge/base/envs/spearmint/lib/python3.10/site-packages/scipy/stats/_discrete_distns.py:90: RuntimeWarning: overflow encountered in _binom_ppf\n",
      "  return _boost._binom_ppf(q, n, p)\n"
     ]
    },
    {
     "data": {
      "text/html": [
       "<img src='data:image/png;base64,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' style='max-width:100%; margin: auto; display: block; '/>"
      ],
      "text/plain": [
       ":Layout\n",
       "   .Overlay.Sample_Distribution_and_Central_Tendency_Estimates :Overlay\n",
       "      .Curve.A  :Curve   [value]   (pdf)\n",
       "      .Curve.B  :Curve   [value]   (pdf)\n",
       "      .Curve.I  :Curve   [x]   (y)\n",
       "      .Points.A :Points   [x,y]\n",
       "      .Text.A   :Text   [x,y]\n",
       "      .Curve.II :Curve   [x]   (y)\n",
       "      .Points.B :Points   [x,y]\n",
       "      .Text.B   :Text   [x,y]\n",
       "   .Overlay.Proportionality_Delta                              :Overlay\n",
       "      .Curve.Delta_Distribution                :Curve   [value]   (pdf)\n",
       "      .Curve.A_95_percent_Confidence_Interval  :Curve   [x]   (y)\n",
       "      .Points.A_95_percent_Confidence_Interval :Points   [x,y]\n",
       "      .Text.A_95_percent_Confidence_Interval   :Text   [x,y]\n",
       "      .Spikes.Null_Delta                       :Spikes   [x]   (pdf)"
      ]
     },
     "execution_count": 6,
     "metadata": {
      "application/vnd.holoviews_exec.v0+json": {}
     },
     "output_type": "execute_result"
    }
   ],
   "source": [
    "# Visualize the results\n",
    "layout = ab_test_results.visualize()\n",
    "layout"
   ]
  },
  {
   "cell_type": "markdown",
   "metadata": {},
   "source": [
    "The resulting frequentist test results (displayed and visualized above) indicate that hypothesis `\"B != A\"` should be accepted. A breakdown of the results plot is as follows:\n",
    "\n",
    "#### Left Plot: Sample Distributions & Central Tendency Estimates\n",
    "The left plot compares the _parameteric description of the samples_, with parameters that are estimated from the experiment observations. In this case, the parameteric distribution used is the [Binomial distribution](https://en.wikipedia.org/wiki/Binomial_distribution), giving the distribution over the number successful trials for each group when we run as many trials as observed in the dataset.\n",
    "\n",
    "The left plot also includes estimates of the _central tendency estimates_ of the two sample groups. Central tendencies, along with their confidence intervals are plotted as as line intervals under each distribution. In this example the, central tendency is the expected number of successful trial given the observations, along with the 95% confidence intervals (CIs) around that expected number of successful trials. Note that here 95% CI is derived from the test's `alpha=0.05` (i.e. `confidence = 1-alpha`).\n",
    "\n",
    "We see that there is large amount of separation between the two distributions. Furthermore, we can see that there is little-to-no overlap of the CIs, further indicating that the two groups are likely different, and, more specifically, that `\"B\"` is `\"larger\"` than `\"A\"` in terms of the observed metric values.\n",
    "\n",
    "#### Right Plot: Deltas\n",
    "The right plot shows the distribution of the estimated _difference in central tendencies_ in the black curve. One can think of this curve as the difference of the two curves in the left plot. Included in the deslta distribution are the mean and 95% CIs around the mean of delta distribution.\n",
    "\n",
    "We can see that the confidence interval on the difference between the two groups does not intersect with the `ProportionsDelta=0` line indicated in red. This is another clue that supporting that three is a statistically significant difference between the two samples.\n",
    "\n",
    "All the visual evidence supports the result of accepting the `hypothesis` that `B != A`"
   ]
  },
  {
   "cell_type": "markdown",
   "metadata": {},
   "source": [
    "## Bootstrap Hypothesis Tests\n",
    "\n",
    "If your samples do not follow standard parametric distributions (e.g. Gaussian, Binomial, Poisson), or if you're comparing more exotic or custom statistics (e.g. variance, skew, etc) then you might want to consider using a non-parametric [Bootstrap Hypothesis Test](https://en.wikipedia.org/wiki/Bootstrapping_(statistics)).  Running bootstrap tests is easy in `spearmint`, you simply use the `\"bootstrap\"` `inference_method`. By default, `spearmint` bootstraps the mean of the metric distribution, but the scientist can use any `statistic_function` they like, as demonstrated below."
   ]
  },
  {
   "cell_type": "code",
   "execution_count": 7,
   "metadata": {},
   "outputs": [],
   "source": [
    "def my_test_statistic(samples):\n",
    "    \"\"\"Boootstrap tests support custom test statistics. Here\n",
    "    we simply re-define the mean in order to compare with parametric\n",
    "    tests above.\n",
    "\n",
    "    That saide, we could test the difference in something more exotic,\n",
    "    like the variance, or something custom\n",
    "    \n",
    "    return np.var(samples)\n",
    "    \"\"\"\n",
    "    return np.mean(samples)\n",
    "\n",
    "bootstrap_ab_test = ab_test.copy(\n",
    "    inference_method='bootstrap',\n",
    "    inference_procedure_params=dict(statistic_function=my_test_statistic)\n",
    ")"
   ]
  },
  {
   "cell_type": "markdown",
   "metadata": {},
   "source": [
    "---\n",
    "\n",
    "> 💡\n",
    "> Above we use the `.copy()` method to copy over all parameters from the original `ab_test`, but update the `inference_method` and `inference_procedure_params`. We could have also defined the `HypothesisTest` from scratch\n",
    "> ```python\n",
    "> bootstrap_ab_test = HypothesisTest(\n",
    "    metric=\"metric\",\n",
    "    treatment=\"treatment\",\n",
    "    control=\"A\", variation=\"B\",\n",
    "    hypothesis=\"unequal\",\n",
    "    variable_type=\"binary\",\n",
    "    inference_method=\"bootstrap\",\n",
    "    statistic_function=my_test_statistic\n",
    ")\n",
    "> ```\n",
    "\n",
    "---"
   ]
  },
  {
   "cell_type": "code",
   "execution_count": 8,
   "metadata": {},
   "outputs": [
    {
     "data": {
      "text/html": [
       "<pre style=\"white-space:pre;overflow-x:auto;line-height:normal;font-family:Menlo,'DejaVu Sans Mono',consolas,'Courier New',monospace\"><span style=\"color: #008080; text-decoration-color: #008080; font-weight: bold\">Samples Comparison                  </span>\n",
       "┏━━━━━━━━━━━━━━━━┳━━━━━━━━┳━━━━━━━━┓\n",
       "┃<span style=\"color: #008080; text-decoration-color: #008080; font-style: italic\">                </span>┃<span style=\"color: #008080; text-decoration-color: #008080; font-style: italic\"> A      </span>┃<span style=\"color: #008080; text-decoration-color: #008080; font-style: italic\"> B      </span>┃\n",
       "┡━━━━━━━━━━━━━━━━╇━━━━━━━━╇━━━━━━━━┩\n",
       "│        Samples │ 35     │ 41     │\n",
       "│           Mean │ 0.4286 │ 0.6585 │\n",
       "│ Standard Error │ 0.0836 │ 0.0741 │\n",
       "│       Variance │ 0.2449 │ 0.2249 │\n",
       "│          Delta │        │ 0.23   │\n",
       "└────────────────┴────────┴────────┘\n",
       "</pre>\n"
      ],
      "text/plain": [
       "\u001b[1;36mSamples Comparison                  \u001b[0m\n",
       "┏━━━━━━━━━━━━━━━━┳━━━━━━━━┳━━━━━━━━┓\n",
       "┃\u001b[3;36m \u001b[0m\u001b[3;36m              \u001b[0m\u001b[3;36m \u001b[0m┃\u001b[3;36m \u001b[0m\u001b[3;36mA     \u001b[0m\u001b[3;36m \u001b[0m┃\u001b[3;36m \u001b[0m\u001b[3;36mB     \u001b[0m\u001b[3;36m \u001b[0m┃\n",
       "┡━━━━━━━━━━━━━━━━╇━━━━━━━━╇━━━━━━━━┩\n",
       "│        Samples │ 35     │ 41     │\n",
       "│           Mean │ 0.4286 │ 0.6585 │\n",
       "│ Standard Error │ 0.0836 │ 0.0741 │\n",
       "│       Variance │ 0.2449 │ 0.2249 │\n",
       "│          Delta │        │ 0.23   │\n",
       "└────────────────┴────────┴────────┘\n"
      ]
     },
     "metadata": {},
     "output_type": "display_data"
    },
    {
     "data": {
      "text/html": [
       "<pre style=\"white-space:pre;overflow-x:auto;line-height:normal;font-family:Menlo,'DejaVu Sans Mono',consolas,'Courier New',monospace\"><span style=\"color: #008080; text-decoration-color: #008080; font-weight: bold\">Bootstrap Delta Results                                               </span>\n",
       "┌──────────────────────────────────────────────┬─────────────────────┐\n",
       "│ Delta                                        │ 0.2279              │\n",
       "│ Delta CI                                     │ (0.0381, 0.4174)    │\n",
       "│ Delta-relative                               │ 0.5318 %            │\n",
       "│ Delta-relative CI                            │ (8.8943, 97.3984) % │\n",
       "│ Delta CI %-tiles                             │ (0.025, 0.975)      │\n",
       "│ Effect Size                                  │ 0.4711              │\n",
       "│ alpha                                        │ 0.05                │\n",
       "│ Power                                        │ 0.633               │\n",
       "│ Variable Type                                │ binary              │\n",
       "│ Inference Method                             │ bootstrap           │\n",
       "│ Test statistic (bootstrap_my_test_statistic) │ 0.23                │\n",
       "│ p-value                                      │ 0.019               │\n",
       "│ Hypothesis                                   │ B != A              │\n",
       "│ Accept Hypothesis                            │ True                │\n",
       "└──────────────────────────────────────────────┴─────────────────────┘\n",
       "</pre>\n"
      ],
      "text/plain": [
       "\u001b[1;36mBootstrap Delta Results                                               \u001b[0m\n",
       "┌──────────────────────────────────────────────┬─────────────────────┐\n",
       "│ Delta                                        │ 0.2279              │\n",
       "│ Delta CI                                     │ (0.0381, 0.4174)    │\n",
       "│ Delta-relative                               │ 0.5318 %            │\n",
       "│ Delta-relative CI                            │ (8.8943, 97.3984) % │\n",
       "│ Delta CI %-tiles                             │ (0.025, 0.975)      │\n",
       "│ Effect Size                                  │ 0.4711              │\n",
       "│ alpha                                        │ 0.05                │\n",
       "│ Power                                        │ 0.633               │\n",
       "│ Variable Type                                │ binary              │\n",
       "│ Inference Method                             │ bootstrap           │\n",
       "│ Test statistic (bootstrap_my_test_statistic) │ 0.23                │\n",
       "│ p-value                                      │ 0.019               │\n",
       "│ Hypothesis                                   │ B != A              │\n",
       "│ Accept Hypothesis                            │ True                │\n",
       "└──────────────────────────────────────────────┴─────────────────────┘\n"
      ]
     },
     "metadata": {},
     "output_type": "display_data"
    },
    {
     "data": {
      "text/html": [
       "<img src='data:image/png;base64,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' style='max-width:100%; margin: auto; display: block; '/>"
      ],
      "text/plain": [
       ":Layout\n",
       "   .Overlay.Bootstrap_My_Test_Statistic_Comparison :Overlay\n",
       "      .Curve.A  :Curve   [value]   (pdf)\n",
       "      .Curve.B  :Curve   [value]   (pdf)\n",
       "      .Curve.I  :Curve   [x]   (y)\n",
       "      .Points.A :Points   [x,y]\n",
       "      .Text.A   :Text   [x,y]\n",
       "      .Curve.II :Curve   [x]   (y)\n",
       "      .Points.B :Points   [x,y]\n",
       "      .Text.B   :Text   [x,y]\n",
       "   .Overlay.Bootstrap_My_Test_Statistic_Delta      :Overlay\n",
       "      .Curve.Delta_Distribution                :Curve   [value]   (pdf)\n",
       "      .Curve.A_95_percent_Confidence_Interval  :Curve   [x]   (y)\n",
       "      .Points.A_95_percent_Confidence_Interval :Points   [x,y]\n",
       "      .Text.A_95_percent_Confidence_Interval   :Text   [x,y]\n",
       "      .Spikes.Null_Delta                       :Spikes   [x]   (pdf)"
      ]
     },
     "execution_count": 8,
     "metadata": {
      "application/vnd.holoviews_exec.v0+json": {}
     },
     "output_type": "execute_result"
    }
   ],
   "source": [
    "# Run the bootsrap AB test\n",
    "bootstrap_ab_test_results = experiment.run_test(bootstrap_ab_test)\n",
    "bootstrap_ab_test_results.display()\n",
    "bootstrap_ab_test_results.visualize()"
   ]
  },
  {
   "cell_type": "markdown",
   "metadata": {},
   "source": [
    "The `\"bootstrap\"` `inference_method` uses non-parametric methods--namely resampling with replacement--to estimate the distribution of the mean of the group sample (this is because the `my_test_statistic` simply returns the `mean`). Compared to the visualization for the `\"frequentist\"` `inference_method` for `\"binary\"` variables, the left plot for the `\"bootstrap\"` `inference_method` shows the distribution _conversion rates_, rather than the number of successful trials rather than Binomial distribution defined by parameters estimated from the data.\n",
    "\n",
    "The `\"bootstrap\"` hypothesis test results are very similar to the results returned by the `\"frequentist\"` `inference_method`. The results from the different `inference_methods` should converge as the sample size of each group grows."
   ]
  },
  {
   "cell_type": "markdown",
   "metadata": {},
   "source": [
    "## Bayesian Hypothesis Tests\n",
    "In addition to Frequentist and Bootstrap tests, `spearmint` supports Bayesian hypothesis tests. To run a Bayesian test, simply intitialize the `HypothesisTest` (or `.copy` one) with a `inference_method=\"bayesian\"`."
   ]
  },
  {
   "cell_type": "code",
   "execution_count": 9,
   "metadata": {},
   "outputs": [],
   "source": [
    "# Here we again use the `.copy method`\n",
    "bayesian_ab_test = ab_test.copy(inference_method='bayesian')\n",
    "\n",
    "# Run the Bayesian test\n",
    "bayesian_ab_test_results = experiment.run_test(bayesian_ab_test)\n",
    "assert bayesian_ab_test_results.accept_hypothesis\n",
    "assert bayesian_ab_test_results.prob_greater_than_zero > .95"
   ]
  },
  {
   "cell_type": "markdown",
   "metadata": {},
   "source": [
    "##### Displaying Bayesian Results"
   ]
  },
  {
   "cell_type": "code",
   "execution_count": 10,
   "metadata": {},
   "outputs": [
    {
     "data": {
      "text/html": [
       "<pre style=\"white-space:pre;overflow-x:auto;line-height:normal;font-family:Menlo,'DejaVu Sans Mono',consolas,'Courier New',monospace\"><span style=\"color: #008080; text-decoration-color: #008080; font-weight: bold\">Samples Comparison                  </span>\n",
       "┏━━━━━━━━━━━━━━━━┳━━━━━━━━┳━━━━━━━━┓\n",
       "┃<span style=\"color: #008080; text-decoration-color: #008080; font-style: italic\">                </span>┃<span style=\"color: #008080; text-decoration-color: #008080; font-style: italic\"> A      </span>┃<span style=\"color: #008080; text-decoration-color: #008080; font-style: italic\"> B      </span>┃\n",
       "┡━━━━━━━━━━━━━━━━╇━━━━━━━━╇━━━━━━━━┩\n",
       "│        Samples │ 35     │ 41     │\n",
       "│           Mean │ 0.4286 │ 0.6585 │\n",
       "│ Standard Error │ 0.0836 │ 0.0741 │\n",
       "│       Variance │ 0.2449 │ 0.2249 │\n",
       "│          Delta │        │ 0.23   │\n",
       "└────────────────┴────────┴────────┘\n",
       "</pre>\n"
      ],
      "text/plain": [
       "\u001b[1;36mSamples Comparison                  \u001b[0m\n",
       "┏━━━━━━━━━━━━━━━━┳━━━━━━━━┳━━━━━━━━┓\n",
       "┃\u001b[3;36m \u001b[0m\u001b[3;36m              \u001b[0m\u001b[3;36m \u001b[0m┃\u001b[3;36m \u001b[0m\u001b[3;36mA     \u001b[0m\u001b[3;36m \u001b[0m┃\u001b[3;36m \u001b[0m\u001b[3;36mB     \u001b[0m\u001b[3;36m \u001b[0m┃\n",
       "┡━━━━━━━━━━━━━━━━╇━━━━━━━━╇━━━━━━━━┩\n",
       "│        Samples │ 35     │ 41     │\n",
       "│           Mean │ 0.4286 │ 0.6585 │\n",
       "│ Standard Error │ 0.0836 │ 0.0741 │\n",
       "│       Variance │ 0.2449 │ 0.2249 │\n",
       "│          Delta │        │ 0.23   │\n",
       "└────────────────┴────────┴────────┘\n"
      ]
     },
     "metadata": {},
     "output_type": "display_data"
    },
    {
     "data": {
      "text/html": [
       "<pre style=\"white-space:pre;overflow-x:auto;line-height:normal;font-family:Menlo,'DejaVu Sans Mono',consolas,'Courier New',monospace\"><span style=\"color: #008080; text-decoration-color: #008080; font-weight: bold\">Bayesian Delta Results                   </span>\n",
       "┌────────────────────┬──────────────────┐\n",
       "│ Delta              │ 0.2172           │\n",
       "│ Delta HDI          │ (0.0127, 0.4211) │\n",
       "│ Delta Relative     │ 50.58 %          │\n",
       "│ Delta-relative HDI │ (2.95, 98.05) %  │\n",
       "│ Effect Size        │ 2.0219           │\n",
       "│ Effect Size HDI    │ (0.1181, 3.9196) │\n",
       "│ HDI %-tiles        │ (0.025, 0.975)   │\n",
       "│ Credible Mass      │ 0.95             │\n",
       "│ Variable Type      │ binary           │\n",
       "│ Inference Method   │ Bayesian         │\n",
       "│ Model Name         │ binomial         │\n",
       "│ Estimation Method  │ analytic         │\n",
       "│ p(B &gt; A)           │ 0.975            │\n",
       "│ Hypothesis         │ B != A           │\n",
       "│ Accept Hypothesis  │ True             │\n",
       "└────────────────────┴──────────────────┘\n",
       "</pre>\n"
      ],
      "text/plain": [
       "\u001b[1;36mBayesian Delta Results                   \u001b[0m\n",
       "┌────────────────────┬──────────────────┐\n",
       "│ Delta              │ 0.2172           │\n",
       "│ Delta HDI          │ (0.0127, 0.4211) │\n",
       "│ Delta Relative     │ 50.58 %          │\n",
       "│ Delta-relative HDI │ (2.95, 98.05) %  │\n",
       "│ Effect Size        │ 2.0219           │\n",
       "│ Effect Size HDI    │ (0.1181, 3.9196) │\n",
       "│ HDI %-tiles        │ (0.025, 0.975)   │\n",
       "│ Credible Mass      │ 0.95             │\n",
       "│ Variable Type      │ binary           │\n",
       "│ Inference Method   │ Bayesian         │\n",
       "│ Model Name         │ binomial         │\n",
       "│ Estimation Method  │ analytic         │\n",
       "│ p(B > A)           │ 0.975            │\n",
       "│ Hypothesis         │ B != A           │\n",
       "│ Accept Hypothesis  │ True             │\n",
       "└────────────────────┴──────────────────┘\n"
      ]
     },
     "metadata": {},
     "output_type": "display_data"
    }
   ],
   "source": [
    "bayesian_ab_test_results.display()"
   ]
  },
  {
   "cell_type": "markdown",
   "metadata": {},
   "source": [
    "In the Bayesian results, we see that p(B > A) 0.974. This states that there is a 97.4% probability that conversion rate for group `\"B\"` is greater than group `\"A\"`. Given this evidence we can infer that `B != A`, and can accept the `hypothesis=\"unequal\"`.\n",
    "\n",
    "---\n",
    "\n",
    "> ❓ Bayesian vs Frequentist Tests\n",
    ">\n",
    "> In Frequentist tests, we calculate some test statistic that is a function of the observed data (e.g. z-statistic, t-statistic), then use the p-value associated with the value of that calcualted test statistic in order to make a statement about statistical significance.\n",
    ">\n",
    "> In Bayesian tests we instead build a generative model that we believe could have generated the observed data, and estimate the parameters of that model such that it's as accurate as possible at capturing the distribution of observed data. The generative model's parameters all have their own probability distributions, and we compare the distributions of those parameters in order to make statistical statements about the data.\n",
    ">\n",
    "---"
   ]
  },
  {
   "cell_type": "markdown",
   "metadata": {},
   "source": [
    "##### Visualizing Bayesian Results"
   ]
  },
  {
   "cell_type": "code",
   "execution_count": 11,
   "metadata": {},
   "outputs": [
    {
     "data": {
      "text/html": [
       "<img src='data:image/png;base64,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' style='max-width:100%; margin: auto; display: block; '/>"
      ],
      "text/plain": [
       ":Layout\n",
       "   .Overlay.Posterior_p_Comparison :Overlay\n",
       "      .Curve.A  :Curve   [value]   (pdf)\n",
       "      .Curve.B  :Curve   [value]   (pdf)\n",
       "      .Curve.I  :Curve   [x]   (y)\n",
       "      .Points.A :Points   [x,y]\n",
       "      .Text.A   :Text   [x,y]\n",
       "      .Curve.II :Curve   [x]   (y)\n",
       "      .Points.B :Points   [x,y]\n",
       "      .Text.B   :Text   [x,y]\n",
       "   .Overlay.Posterior_p_Delta      :Overlay\n",
       "      .Curve.Delta_Distribution            :Curve   [value]   (pdf)\n",
       "      .Curve.A_0_full_stop_95_percent_HDI  :Curve   [x]   (y)\n",
       "      .Points.A_0_full_stop_95_percent_HDI :Points   [x,y]\n",
       "      .Text.A_0_full_stop_95_percent_HDI   :Text   [x,y]\n",
       "      .Spikes.Null_Delta                   :Spikes   [x]   (pdf)"
      ]
     },
     "execution_count": 11,
     "metadata": {
      "application/vnd.holoviews_exec.v0+json": {}
     },
     "output_type": "execute_result"
    }
   ],
   "source": [
    "bayesian_ab_test_results.visualize()"
   ]
  },
  {
   "cell_type": "markdown",
   "metadata": {},
   "source": [
    "Bayesian visualizations have a similar layout to Frequentist and Bootstrap tests. Namely we have a left plot with shows estimates of the central tendencies amongts the groups, along with error intervals around those distributions. Note that here these are not statistics (e.g. mean) of the data per se, but expected value parameters of a generative model that tries to describe the data. The difference is subtle, but using a generative model under the hoood allows the research to incorporate prior knowledge into the analysis, which can be usefule in scenarios with few observations.\n",
    "\n",
    "Similar to the Frequentist/Bootstrap visualization, we also include a Delta distribution. This plot carries similar semantics to the Delta plot for Frequentist/Bootstrap tests.\n",
    "\n",
    "We can also see that rather than using Confidence Intervals (CIs), Bayesian results use Highest Density Intervals (HDIs). CIs and HDIs are not equivalent, but the differences between CIs and HDIs are subtle. But from a bird's-ey-view, CIs and HDIs differ in that CIs make parametric assumptions about the shape of the errors of our estimates, while HDIs estimate error distributions directly from the probability distributions that define the underlying Bayesian model. In terms of pragmatic interpretation of the results, you can use CIs and HDIs in a similar fashion, as indicated by similiar results reported by Frequentist/Bootstrap CIs and Bayesian HDIs."
   ]
  },
  {
   "cell_type": "markdown",
   "metadata": {},
   "source": [
    "### Bayesian Model Specification\n",
    "Bayesian models allow the experimenter to incorporate prior beliefs. This can be helpful when you have little data, or can provide sound domain knowledge of baselines. Specifying custom priors is also straight-forward using `spearmint`. Simply pass in a `model_params` argument during `HypothesisTest` initialization. Below we demonstrate by running another Bayesian hypothesis test, this time with a hierarchical [Beta-Binomial model](https://en.wikipedia.org/wiki/Beta-binomial_distribution#:~:text=In%20probability%20theory%20and%20statistics,is%20either%20unknown%20or%20random.). This model allows the user to specify a prior over the base probability $p$ by setting two hyperparameters for the Beta Distribution $\\alpha$ and $\\beta$ such that the mean prior has a value of \n",
    "\n",
    "$$ p = \\frac{\\alpha}{\\alpha + \\beta}$$\n",
    "\n",
    "where the larger $\\alpha$ and $\\beta$. Let's put a super-strong prior on $p$ and see how it affects the inference results.\n",
    "\n",
    "Below we print the default prior parameters for the Bayesian Hypothesis test above."
   ]
  },
  {
   "cell_type": "code",
   "execution_count": 12,
   "metadata": {},
   "outputs": [
    {
     "name": "stdout",
     "output_type": "stream",
     "text": [
      "Default Bayesian model hyperparams {'prior_alpha': 1.0, 'prior_beta': 1.0}\n"
     ]
    }
   ],
   "source": [
    "print(\"Default Bayesian model hyperparams\", bayesian_ab_test_results.model_hyperparams)"
   ]
  },
  {
   "cell_type": "markdown",
   "metadata": {},
   "source": [
    " We see that we use a \"Beta\" prior with prior parameters (`prior_alpha=1.0` and `prior_beta=1.0`). This is equivalent to a non-informative prior, essentially a uniform prior over all possible conversion rates. You can verify this by adding the `include_prior=True` flag to the `binomial_ab_test_results.visualize()` method:"
   ]
  },
  {
   "cell_type": "code",
   "execution_count": 13,
   "metadata": {},
   "outputs": [
    {
     "data": {
      "text/html": [
       "<img src='data:image/png;base64,iVBORw0KGgoAAAANSUhEUgAAAlQAAADaCAYAAABgvdyoAAAAOXRFWHRTb2Z0d2FyZQBNYXRwbG90bGliIHZlcnNpb24zLjguMCwgaHR0cHM6Ly9tYXRwbG90bGliLm9yZy81sbWrAAAACXBIWXMAAAsTAAALEwEAmpwYAAB50UlEQVR4nO3dd3QUVR/G8e+W9N5JSCCNElLpvQuIKCqKoCgiIqKiqOhrV8QuqIjYUAQRKTawgAhSpJcAIdQAIQmppPe2Zd4/liyEBEifbHI/53hkd6c8WzL72zt37lVIkiQhCIIgCIIg1JlS7gCCIAiCIAimThRUgiAIgiAI9SQKKkEQBEEQhHoSBZUgCIIgCEI9iYJKEARBEAShnkRBJQiCIAiCUE+ioBIEQRAEQagnUVAJgiAIgiDUkyiohDr58ccfGTlypNwxTFJwcDDbt2+XO4YgCE3A1I+VQ4YM4dtvv5U7hkkQBZUJ8PX1xcrKCltbWzw8PHjooYcoLCys8/bmzJnD/fffX69MkyZNYtOmTfXaRn2kpqby8MMP4+npiZ2dHZ07d+aNN96gqKhItkw1deLECYYMGSJ3DEFoccSxsrJly5ahUqmwtbXF1tYWPz8/HnroIc6cOVPn7Q0YMKCBU7YcoqAyEX/++SeFhYUcPnyYgwcP8vbbb8uWRavV1nldSZLQ6/X12n92djZ9+/alpKSEvXv3UlBQwObNm8nNzSU2NrZe225M9XndBEGoGXGsrKxv374UFhaSl5fHv//+i5WVFd27d+f48eP13rZQmSioTEzbtm0ZPXq08Y/hjz/+IDg4GEdHR4YMGcKpU6eMy37wwQe0bdsWOzs7OnXqxJYtW9i4cSPvvvsua9aswdbWlvDwcADy8vKMLT5t27bl1VdfRafTAYZfJf379+eZZ57B2dmZOXPmVPmlsmfPHnr27ImDgwM9e/Zkz549xseGDBnCK6+8Qv/+/bG2tub8+fNVnpevry/vvfceXbp0wcnJiYceeojS0tJqX4OPP/4YOzs7VqxYga+vLwA+Pj58+umnhIWF1SjPq6++Sr9+/bC1teW2224jKyuLSZMmYW9vT8+ePYmPjzcur1AoWLhwIf7+/ri6uvL8888bD3SxsbEMGzYMFxcXXF1dmTRpErm5uZWe1wcffEBYWBg2NjZotVp8fX35999/AThw4AA9evTA3t4eDw8Pnn32WeO613tvfX19mT9/PmFhYTg4ODBhwoRrvl6C0BqJY2VlKpWKgIAAvvjiCwYPHsycOXOMj+3bt49+/frh6OhIeHh4tV0STp06xYwZM9i7dy+2trY4OjoCsH79erp27Yq9vT0+Pj6VttvqSEKz1759e2nz5s2SJEnShQsXpC5dukivvvqqFBMTI1lbW0ubNm2SysvLpQ8++EAKCAiQysrKpNOnT0ve3t5ScnKyJEmSFBcXJ507d06SJEl64403pEmTJlXax+233y5Nnz5dKiwslC5evCj17NlT+uqrryRJkqSlS5dKKpVKWrhwoaTRaKTi4mJp6dKlUv/+/SVJkqSsrCzJ0dFRWr58uaTRaKSVK1dKjo6OUmZmpiRJkjR48GDJx8dHOn78uKTRaKTy8vJqn2NwcLB04cIFKSsrS+rXr5/0yiuvVPt69O7dW3r99dev+XrVJE9AQIB07tw5KTc3VwoKCpI6dOggbd68WdJoNNIDDzwgTZkyxbg9QBoyZIiUlZUlJSQkSB06dJC++eYbSZIk6ezZs9KmTZuk0tJSKT09XRo4cKA0a9asSs8rPDxcunDhglRcXFzl/ezTp4+0fPlySZIkqaCgQNq7d68kSdJ139uKbfTs2VNKTk6WsrKypM6dO0tffvnlNV8TQWgNxLGysiv3faUlS5ZI7u7ukiRJUlJSkuTs7CytX79e0ul00qZNmyRnZ2cpPT3dmKnieFfd9rZt2yZFR0dLOp1OOnr0qOTu7i6tXbv2Bu9UyyRaqEzEHXfcgaOjIwMGDGDw4MG8/PLLrFmzhjFjxjBixAjMzMx47rnnKCkpYc+ePahUKsrKyjh58iQajQZfX18CAgKq3fbFixf5+++/WbBgATY2Nri7u/PMM8+wevVq4zJeXl48+eSTqNVqrKysKq2/fv16OnTowAMPPIBarebee++lc+fO/Pnnn8ZlpkyZQnBwMGq1GjMzs2pzzJw5Ex8fH5ydnXnllVdYtWpVtctlZWXh6el5zdeqJnkeeughAgICcHBwYPTo0QQEBHDTTTehVqsZP348R44cqbTNF154AWdnZ9q1a8fTTz9tzBYYGMiIESOwsLDAzc2NZ599lv/++6/Suk899RQ+Pj5VXjcAMzMzzp07R2ZmJra2tvTp0wfguu/tldv18vLC2dmZ2267jaioqGu+JoLQWohj5Y15eXmRnZ0NwIoVK7jlllu45ZZbUCqVjBgxgh49erBhw4YabWvIkCGEhoaiVCoJCwvj3nvvrXIMbC0arKDatWsXCoWi0n8nTpxoqM23euvWrSM3N5eEhAS++OILrKysSElJoX379sZllEolPj4+JCcnExgYyIIFC5gzZw7u7u5MnDiRlJSUaredkJCARqPB09MTR0dHHB0defTRR0lPTzcu4+Pjc81sV+cAaN++PcnJyTVav7pl2rdvf828Li4upKam1iuPh4eH8d9WVlZVbl/dkfVa2dLT05k4cSJt27bF3t6e+++/n8zMzGuue7UlS5Zw5swZOnfuTM+ePfnrr7+qfQ5XvrcV2rRpY/y3tbV1vTrfClUtW7asyjFNoVBgbW2Nv78/EydOZPfu3XLHFK4ijpU3lpycjLOzM2B4Tj///LPx+Tg6OrJr167rHmOvtH//foYOHYqbmxsODg589dVXVY6BrUWDFVTLli2r0X1Cw/Hy8iIhIcF4W5IkEhMTadu2LQD33Xcfu3btIiEhAYVCwQsvvAAY+gRdycfHBwsLCzIzM8nNzSU3N5f8/PxKBfHV61wvB8CFCxeMOW60foXExMRK63t5eVW73E033cTatWuv2WGzJnlq61rZXnrpJRQKBdHR0eTn57NixQokSaq07vWee4cOHVi1ahXp6em88MIL3H333RQVFd3wvRXkU1JSQlxcHGvWrGHw4MHGIlhovlrrsfJa1q5dy8CBAwHDc3rggQeMzyc3N5eioiJefPHFKutVl+2+++5j7NixJCYmkpeXx4wZM6ocA1uLBimoSkpK+Pnnn6vcv2LFCmNnPaHh3XPPPaxfv54tW7ag0Wj46KOPsLCwoF+/fsTExLB161bKysqwtLTEysoKlUoFGFpn4uPjjQWJp6cnI0eOZPbs2eTn56PX64mNja1xs+0tt9zCmTNnWLlyJVqtljVr1nDy5EluvfXWWj2fzz//nKSkJLKzs3n33XeZMGFCtcs9++yz5Ofn8+CDDxoPTsnJyTz77LNER0c3WJ4rzZs3j5ycHBITE/n000+N2QoKCowdNJOTk5k3b16ttrtixQoyMjJQKpXGTp4qleq6760gj507d7Jz505+/PFHY4umTqfj448/ljmZcCOt9Vh5JZ1OR1xcHE8++STbt2/njTfeAOD+++/nzz//5J9//kGn01FaWsr27dtJSkqqsg0PDw+SkpIoLy833ldQUICzszOWlpYcOHCAlStX1uq5tCQNUlD99ttv5OfnA9CnTx86d+4MQFpaGv/8809D7EKoRqdOnVixYgVPPvkkrq6u/Pnnn/z555+Ym5tTVlbGiy++iKurK23atCE9PZ13330XgPHjxwOGU2fdunUDYPny5ZSXlxuvHLn77rtr3OTr4uLCX3/9xUcffYSLiwsffvghf/31F66urrV6Pvfddx8jR47E398ff39/Xn311WqXc3Z2Zs+ePZiZmdG7d2/s7OwYPnw4Dg4OBAYGNlieK91+++10796diIgIxowZw8MPPwzAG2+8weHDh3FwcGDMmDGMGzeuVtvduHEjwcHB2NraMmvWLFavXo2lpeV131tBHgMGDGDAgAHcd999lcYmqu3pFqHptdZjJWC8Ks/e3p4hQ4aQn5/PwYMHCQ0NBQwtVL///jvvvvsubm5u+Pj4MG/evGrPAAwbNozg4GDatGljzPzFF1/w+uuvY2dnx9y5c7nnnntq9VxaEoXUAG1zI0aMMF4GvmjRInJycnjttdcAwwfyp59+qu8uhBbO19eXb7/9lptuuknuKFUoFArOnj1LYGCg3FGEJrRs2TIeeugh4+2KQ2VSUhK33347hw8fBgytH2vWrJElo9D6NOdjZWunru8GEhMT2bp1q2FjajX33HMPhYWFxoLqjz/+ICcnBycnp/ruShAEQTbV9R8JCQnhww8/lCGNIAjNTb1P+f3www/GpsFRo0bh5uaGn5+fsa9HWVlZpUtKBUEQWgobGxsKCgrkjiEIQjNQ74Lq+++/N/570qRJ1f67uVztl5uby913303nzp0JCgpi7969ckcSLomPj2+2TdiSJInTfYKxU/off/zB0KFDAcMl4zfffDNlZWUypzN0Ou7atWu9Lr4Qmr/mfKxs7erVh2rPnj3079+/RsuePHmSoKCguu6qQTz44IMMHDiQadOmUV5eTnFxsfHKKkEQhCtdqw8VGC64uXJw2X/++YeRI0c2ab6rffzxx0RGRpKfny+GchAEGdSrD9WVrVM1Wfb999+vz+7qJT8/nx07dhhby8zNzW94xZSrq6txrjhBEGouPj6+RQ/ud/Xv0IpRp+WSlJTE+vXreeWVV2o0jIM4tglC3Vzv2Fbngqq0tLTSlS3PPfdcleH6jx07xhdffAEY+lq98847xvE9mtr58+dxc3PjoYce4ujRo3Tv3p1PP/0UGxubSsstXryYxYsXA4b+EZGRkXLEFQST1qNHD7kjNLhdu3YBkJOTwyeffFLpsS5dusgRyejpp5/mww8/vG5/LnFsE4T6u96xrc4F1dq1a8nLywPA3t6et99+GwsLi0rL5Obm8s0336DRaEhJSWHz5s3cfPPNdd1lvWi1Wg4fPsxnn31G7969mTVrFu+//z5vvfVWpeWmT5/O9OnTgZb5pSAIQt1UjCx9tfvuu4+wsLAmTnPZX3/9hbu7O927d2f79u3XXE4c2wShcdW5U/qVp/tuvfXWKsUUgKOjo7HzJsjbOd3b2xtvb2969+4NwN13320cR0YQBKGmVCoVLi4uDB48mMWLF7N8+XJZ8+zevZs//vgDX19fJk6cyNatWysNPCoIQtOocwvVxo0ba7RccxkpvU2bNvj4+BATE0OnTp3YsmWL7M30giA0X1OmTGHKlClyx7ih9957j/feew+A7du3M3/+fFasWCFzKkFofeo9sKcp+eyzz5g0aRLl5eX4+/uzdOlSuSMJLZRGoyEpKYnS0lK5ozQqS0tLvL29MTMzkzuKIDS61vJ3LdTt2NaqCqqIiAjREVNoEklJSdjZ2eHr61uj2eNNkSRJZGVlkZSUhJ+fn9xxBGDIkCEMGTJE7hgtVmv4uxbqfmxrkMmRBUGorLS0FBcXlxZ90FUoFLi4uIhf60Kr0Rr+roW6H9tEQSUIjaQ1HHRbw3MUhCuJz3zrUJf3WRRUgiAIgiAI9SQKKkFowdauXYtCoeD06dNyRxEEoQGoVCoiIiIIDg4mPDycjz/+GL1ef9114uPjCQkJASAqKooNGzbUap/x8fFYWVnRtWtXgoKC6NWrV6Whk/7444/rzoRyo31GRkby1FNPATBnzhzmz59fq3wLFiyguLjYePuWW24hNze3VttoCKKgEoQWbNWqVQwYMIDVq1fLHUUQhAZgZWVFVFQUJ06cYPPmzWzYsIE333yzxuvXpaACCAgI4MiRI5w6dYrVq1fzySefGK+UHzt2LC+++GKd9qnVaunRowcLFy6sdaYKVxdUGzZskGWeXlFQCUItJeZcYN6W93l389vEZ8fLHeeaCgsL2b17N0uWLBEFlSCYAEmSKCgoIDk5mTNnzhAbG0tiYuI1pxRyd3dn8eLFLFq0CEmS0Ol0PP/88/Ts2ZOwsDC+/vrrSsuXl5fz+uuvs2bNGiIiIlizZg0HDhygX79+dO3alX79+hETE3PDnP7+/nz88cfGImjZsmXMnDkTgJ9//pmQkBDCw8MZNGhQtfucM2cO06dPZ+TIkUyePJnt27dz6623Grd/9OhRhg0bRocOHfjmm28Aqiwzc+ZMli1bxsKFC0lJSWHo0KHGgcR9fX2N8+19/PHHhISEEBISwoIFCwBDi1tQUBCPPPIIwcHBjBw5kpKSkpq8RdfVqoZNEIT6SstP49E108gpyQFgy5l/+eH+H/FyaHvNdYZP/LNRsmxZfdt1H1+3bh0333wzHTt2xNnZmcOHD9OtW7dGySIINaV97GkA1F8ukDVHfTVW5/SDBw9Wue/ixYvY2tri7e1d5TF/f3/0ej3p6en8/vvvODg4cPDgQcrKyujfvz8jR440ZjU3N2fu3LlERkayaNEiAPLz89mxYwdqtZp///2Xl19+mV9//fWGObt161ZtV4K5c+fyzz//0LZtW3Jzc6vd55w5czh06BC7du3CysqqypRJ0dHR7Nu3j6KiIrp27cqYMWOumeOpp57i448/Ztu2bbi6ulZ67NChQyxdupT9+/cjSRK9e/dm8ODBODk5cfbsWVatWsU333zDPffcw6+//lrvGQZEC5Ug1MK7m98ipySHzu5BhHmFU1xexPv/vit3rGqtWrWKiRMnAjBx4kRWrVolcyJBEG5ErVbj7u5OQEAA/v7+tGnTBpVKRWFhIadPn0aSJCRJqrROxe1NmzaxfPlyIiIi6N27N1lZWZw9e/a6+8vLy2P8+PGEhITwzDPPcOLEiRrlvDpDhf79+zNlyhS++eYbdDrdNdcfO3YsVlZW1T52++23Y2VlhaurK0OHDuXAgQM1ynS1Xbt2ceedd2JjY4OtrS3jxo1j586dAPj5+REREQFA9+7diY+Pr9M+riRaqAShho4kHebghQPYmNvwybiFSJLEPcvGcfDCAWLSY+jk3qna9W7UktQYsrKy2Lp1K8ePH0ehUKDT6VAoFHz44Yfism9BaADXKihqu42UlBRSU1MBcHV1xdvbG7X68lezs7Mznp6epKSkcPHiRSRJIi4uDl9fX5RKJefPn0elUuHu7o4kSXz22WeMGjWq0n6uVyy89tprDB06lLVr1xIfH1/jgWGPHDlCUFBQlfu/+uor9u/fz/r164mIiCAqKqra9W1sbK657auPUQqFArVaXanzfU3GiLree3Tl/MMqlapBTvmJFipBqKEVkT8AMLHbfThaOeJk7cToIENT9B/H1soZrYpffvmFyZMnk5CQQHx8PImJifj5+bFr1y65owmCgOHLPjEx0VhM+fr64uvrW6mYqqBSqfDx8SEgIACA7Oxszp8/z8WLF5kxYwYzZ85EoVAwatQovvzySzQaDQBnzpyhqKio0rbs7Owq9cnKy8ujbVtDl4Vly5bVKHt8fDzPPfccTz75ZJXHYmNj6d27N3PnzsXV1ZXExMQq+7yR33//ndLSUrKysti+fTs9e/akffv2nDx5krKyMvLy8tiyZcs1n1OFQYMGsW7dOoqLiykqKmLt2rUMHDiwxjlqSxRUglADGYUZ7Ivfg0qp4q7w8cb7x4beAcDmmM1o9VqZ0lW1atUq7rzzzkr33XXXXaxcuVKmRIIgXCktLY309HQUCgWBgYFV+v9Ux8nJibKyMiZNmsTIkSMZPHgwI0aM4I033gBg2rRpdOnShW7duhESEsKjjz6KVlv5uDR06FBOnjxp7CD+v//9j5deeon+/ftf9xRdbGyscdiEe+65hyeffJKHHnqoynLPP/88oaGhhISEMGjQIMLDw6vs80Z69erFmDFj6NOnD6+99hpeXl74+Phwzz33EBYWxqRJk+jatatx+enTpzN69Ghjp/QK3bp1Y8qUKfTq1YvevXszbdq0Sus1NIXUEO2WLVSPHj3E3H8CAD8c/J4vdi1iSOBQ3rvtw0qPjV86jqTcRL6651vC24YDcOrUqWqbw1ui6p6r+Ntp3uR8f0y5U3pD/V1nZmYaT8P5+/vj7Oxcq/WLi4s5c+YMWq0WJycn/P39xan8RlDbY5tooRKEGvj3zGYARneperVJX99+AOxL2NOkmQRBMD2FhYUkJCQA4OPjU+tiCsDa2pqOHTuiUqnIyckhPj6+Qfp0CfUjCipBuIHk3CTOpMdgbWZN7/Z9qjze17cvAPvj9zZ1NEEQTIhGoyE2NhZJknBzc8PDw6PO27K2tqZDhw4olUqysrJISkoSRZXMREElCDew/dw2APr7D8BCbVHl8QjvbqgUKs6kn6FEU/8rRQRBaHkkSSI2NhaNRoOtrS0+Pj713qatrS0BAQEoFAouXrxo7OAuyKNVFVS+vr6EhoYSERFBjx495I4jmIhd5w3jlgwKGFLt41ZmVgS6dUAn6TiVdrIJkwmCYCpSUlIoLCzEzMyMgIAAlMqG+fp1cHDAz8/PuI+LFy82yHaF2mtVBRXAtm3biIqKEh1mhRrJK8klOuUoKqWKPpdO7VUn1CsMgOjU6KaKJgiCicjLyzO2Hvn7+2NmZtag23d2dsbX1xeAxMREMjIyGnT7Qs20uoJKEGpjX/xe9JKerm27YWthe83lQj0NBdWxFFFQCYJwmUajIS4uDgAvLy/s7OwaZT+urq7G04gJCQlkZWU1yn6Ea2tVBZVCoWDkyJF0796dxYsXV7vM4sWL6dGjBz169BBVvmA83dfff8B1l+vSJhiAmIunGj1TTalUKiIiIggPD6dbt27s2SOuQhSEpiRJEvHx8Wi1Wuzs7PD09Kz3Njdu3EinTp0IDAzk/fffr/SYh4cHbdu2JT8/n7vvvpvg4GB69erF8ePHjctcq+vLCy+8QFhYGJMnTzbe98MPP/Dpp59WmyM+Pp6QkJBK982ZM4f58+cDMGXKFPz8/AgPD6djx45MnjyZ5OTkSjkqJjBuKVpVQbV7924OHz7M33//zeeff86OHTuqLDN9+nQiIyOJjIzEzc1NhpRCc6HVadmXYLhyb4D/oOsu29ahLbYWtmQVZ5FZ2DwOElZWVkRFRXH06FHee+89XnrpJbkjCUKrkpGRQV5eHiqVCj8/v3qPFaXT6XjiiSf4+++/OXnyJKtWreLkycr9Nj09Pfnpp5/o2LEjy5cv5/PPP2fWrFmVlrm660teXh579uwhOjoanU7HsWPHKCkpYdmyZTz++ON1zjtv3jyOHj1KTEwMXbt2ZejQoZSXl9d5e81dqyqovLy8AHB3d+fOO++s84SLQusQnXKUwrJC2jv74u1YdZb3KykUCjq4dQTgTEZMU8Srlfz8fJycnOSOIQitRklJCYmJiYChNcbc3Lze2zxw4ACBgYH4+/tjbm7OxIkT+f3336ssl5iYyMiRI5EkCZVKRVxc3HU7qyuVSsrLy5EkiZKSEszMzJg3bx5PPfVUg/T3UigUPPPMM7Rp04a///673ttrrlrN5MhFRUXo9Xrs7OwoKipi06ZNvP7663LHEpqxnecNLZj9/a5/uq9CJ/fOHEk6TEz6afrY9zPe3/eTno2Sb+8zB6/7eElJCREREZSWlpKamsrWrVsbJYcgtEaPPft8o2z3y4/nXfOx5OTkSsMteHt7s3///irLhYeHs2vXLrp3785///3HhQsXOHfuHB4eHsauLwqFgkcffZTp06djZ2fHXXfdRdeuXRk+fDgODg4cPHjwht+RsbGxREREGG+npaXx3HPPXXP5bt26cfr0aW6//fbrbtdUtZqC6uLFi8a5zbRaLffddx8333yzzKlavqycUs5fyCegvQPOjlXHcGquJEliZ+x/AAwKGFyjdTq6dQKoUlDJpeKUH8DevXuZPHkyx48fF1NUCIKJqm7gzur+nl988UVmzZrFHXfcga+vLx07diQlJQWNRsPu3bvx8vIiPT2dESNG0LlzZwYNGsT//vc//ve//wGGOQHnzp3Lt99+y6ZNmwgLC+PVV1+tsp+AgADjMQYMfahqm78laTUFlb+/P0ePHpU7RquyfmsCny45hk4noVYpeGhCZybcFmASX+hxWedJzkvGycqJEM/QGq3Twa0DALGZsRB4+f4btSQ1hb59+5KZmUlGRgbu7u5yxxEEk3etlqTi4mJOnTqFJEl07NgRe3v7Btunt7e38TQiQFJSkrEry5Xs7e1ZunQpYGhAaN++PW5ubpw7d45OnQw//K7s+jJo0OU+okeOHAGgY8eOzJo1ix07djBx4kTOnj1Lhw4d6pX/yJEjDB8+vF7baM5aVR8qoekcOZ7Jx4uj0ekk2nnZotVJfLPyFD+vPy93tBqpGB29n/8AVEpVjdZp7+yLSqkiObf5TQFx+vRpdDodLi4uckcRhBar4qq+iqllGrKYAujZsydnz54lLi6O8vJyVq9ezdixY6ssl5uba+z8vXTpUoYOHYqzszOZmZnGTuwVXV+uvlLvtddeY+7cuWg0GnQ6HWDoY1VcXFzn3JIksXDhQlJTU1v0maFW00IlNB2tVs+CJYbxmB64qyNTxnfi311JvLfoCN+sPEVIJ2e6dGjeHaS3nTX0NxrWoea/psxUZrR3as/5rPNo9drGilZjFX2owHBA+/7771GpalYcCoJQexcvXqS4uBhzc3O8va9/IUtdqNVqFi1axKhRo9DpdEydOpXgYMOQLV999RUAM2bM4NSpU0yePBmVSkWXLl1YsmQJFhYWbN68mYcffhhzc3MkSarS9WXdunX07NnT2OrVt29fQkNDCQsLIzw8vNZ5n3/+ed566y2Ki4vp06cP27Zta5DO+c2VKKiEBrfrYBpJqUW0bWPDpDsNTcQ3DfDmXFweP68/z8eLj/LVe4NQq5tnA+mFnATOZZ7F1sKWHj6161Ae4Bp4qaDSNFK6mqv4dSm0bKWlpQwaNIiysjK0Wi133303b775ptyxWp3S0lLjOEvt27dvtB8vt9xyC7fcckuV+2fMmGH8d9++fTl79myVZfr168fKlStRKpUEBQVhZWVV6fE77riDO+64w3h7/vz5xnGlrubr61tpfCuo3Idq2bJl130e8fHx133cFDXPbzTBpP2xKR6AcaP9MLuiaHpoQme8PKyJSyxg7T9xMqW7sc0xmwAY6D8Yc3Xtfk35uxo6T2l08rdQCa2DhYUFW7du5ejRo0RFRbFx40b27dsnd6xWRZIkLly4gCRJODs74+DgIHekarm6uuLi4oJerycuLg69Xi93pBZFFFRCg0pLL+boqSwsLVSMGFi5ydvCXMUTDxrO16/47Sx5Bc1vgDdJkowF1YjOI2u9foCLP0CzOOUntA4KhQJbW8O0SBqNBo1GYxIXfrQkOTk55Ofno1KpKg1r0NwoFAratWuHubk5xcXFpKWlyR2pRREFldCgdh00TADap6sHNtZVB4Tr3dWdbqGuFBZp+HFt1SZpuZ3NOENCdjyOVo709OlV6/X9XAIAwyjrgtBUdDodERERuLu7M2LECHr37l1lGTGtVsO4+oITrVZrvPLO29u7wSc+bmgqlco4kXJqamq9Opu3ZHW5sEgUVEKD2nXQ8Iunf6821T6uUCh4dFIXFAr4/Z84UtKKmjLeDW08bRjF96ZOI1Grat/F0MvBCwu1BXpJh04v+jAJTUOlUhEVFUVSUhIHDhyo0rcFxLRaDcHS0pKsrKxKX7apqaloNBpsbGxwdXWVMV3N2dvb4+bmhiRJJCQkNLurkuUmSRJZWVlYWlrWaj3RKV1oMIVFGk7EZKNSKegdce2xjgJ9HRgx0JtNO5JYvPIUc57tcc1lm5JOr2Pz6X8AGNW5bpf2KhVK/JwNp/3KtGVYm1s3WD5BuBFHR0eGDBnCxo0bq1wOL9Sft7c3SUlJxha+8vJyUlMNrfJmZmacPn1azni1otfrycnJITMzk4KCAuzs7OSO1KxYWlrW+kpNUVAJDSb6VBZ6CUICnao93XelqRM7s2N/KjsPpHLoWAbdQ+X/xXwoMZLMokzaOngT3KbuX0Z+LqKgEppORkYGZmZmODo6UlJSwr///ssLL7wgd6wWyczMDD8/P8DQijFs2DC2b9/O448/zueffy5zuto7duwY9957L87OzsTExJhMC1tzJU75CQ3myIlMALqG3PiP0s3ZyjikwqdLjlFSKn+fo02nNwKG1qn6dOr1v6KgMgWvv/46//77r9wxhDpKTU1l6NChhIWF0bNnT0aMGMGtt94qd6wW75dffmH79u24uLjw1ltvyR2nTiZMmMDw4cPJzs7mlVdekTuOyRMFldBgjAVVcM1G4x5/awB+PnYkpxXxxfITjRnthsq0ZWy7NDr6qKD6jeTr72romF5uAgWVTqdj7ty53HTTTbVaR2g+wsLCOHLkCNHR0Rw/flxM+t4ESktLef55w+TIb7/9Ns7OzjInqhuFQsFnn32GSqXi22+/rbbvnVBzoqASGkRhsYb4xALM1EqCAms2CrqZWslLM7thZqZkw9YL/LI+tpFTXtv+hH0UlxfR0b0T7Zza12tbxlN+OnkLqvj4eDp37syDDz5IWFgYd999N8XFxfj6+jJ37lwGDBjAzz//zJQpU/jll18A2LJlC127diU0NJSpU6dSVmZ4DlevIwit2SeffEJCQgKhoaFMmzZN7jj1EhQUxIwZM9Dr9Tz33HNyxzFpog+V0CBOn81BkiDQzwFz85qPEBzQ3p7nHg3nvUVH+PKHkxSXaLl/XEeUyqYdR2fLmc0A3NRxRL231cauDTGK02j1WrQ6LbsPH6v3NqszuGfXGy4TExPDkiVL6N+/P1OnTuWLL74ADB0ud+3aBcDGjYZTnaWlpUyZMoUtW7bQsWNHJk+ezJdffsnTTz9dZR1BaK3S0tJ49913AUNhpVab/tfonDlzWLFiBf/88w9///03o0ePljuSSRItVEKDOHEmB6BOc/TdNMCbWVNDUSjg+1/O8MK7+7iY2XRjo5Rry9l13lAoDK3F3H3XolAoUCsNB1m5W6l8fHzo378/APfff7+xIJowYUKVZWNiYvDz86Njx44APPjgg+zYscP4eHXrCEJr8/rrr1NYWMjYsWMZPrz+x4vmwNXVlVdffRWAF154QZzWryPTL62FZuHkWUNBFdyxbpMejx3pi4ebFR98EcXh45k88vx/PDcjnEG9vRoyZrUOJUVSXF5EB7cOeDs2zISmaqXhKscybVmNWpIay9Wd6ytu29jYVFn2RmPRVLeOILQmx48fZ8mSJajVaubNmyd3nAY1c+ZMPvvsM44dO8aPP/7I5MmT5Y5kclpdC5VOp6Nr167iKpgGJEkSMbG5AHQOdKzzdnp39WDJ/CH06+FBUYmWNz85xO+X5gVsTDvO/QcY5u5rKBWDgsp9pd+FCxfYu3cvAKtWrWLAgAHXXLZz587Ex8dz7tw5AH744QcGD26410QQTN3zzz+PXq9nxowZxpbclsLS0pK5c+cChla4iv6TQs21uoLq008/JSgoSO4YLUpqejEFRRocHcxxd7G68QrX4eRgwdzZPZk+yfAefbb0GHsiG2++KUmS2B1nOA02KKABCypl8yiogoKC+P777wkLCyM7O5vHHnvsmstaWlqydOlSxo8fT2hoKEqlstIM9oLQmm3evJmNGzdib2/PG2+8IXecRnH//fcTEhJCQkICX375pdxxTE6rOuWXlJTE+vXreeWVV/j444/ljtNinDmfB0BHP8cGmZRVoVAw4bZAtFo9362JYd7XUXwbMAQXp9pNA1ATsVmxZBSm42LtQkf3Tg22XTPjKb9SJEmSbbJapVLJV199Vem++Pj4SreXLVtm/Pfw4cM5cuRIle1cvY4gtCZ6vd44TMLLL7/cYgfAVKlUvPvuu4wdO5Z3332XadOmGSfeFm6sVbVQPf3003z44Ycoldd+2mIC0do7cz4XgI7+Dg263Xtv70CPMDfyCzQsWd04Uzrsi9sDQB/fvg1a9CiVStRKNXpJj0anabDtCoLQ9H788UeOHj2Kj48PTz31lNxxGtWtt95Knz59yMjIYOHChXLHMSmtpqD666+/cHd3p3v37tddTkwgWnvGFip/xwbdrlKp4KmpoahVCjbtSCQ2Ib9Btw+wL8HQv6iPb78G37aF2tCiJtdpP19fXzFQnyDUU2lpqXEU8bfeegsrq/p1a2juFAoF77zzDgDz5s0jNzdX3kAmpNUUVLt37+aPP/7A19eXiRMnsnXrVu6//365Y5k8SZI4l2AoqDr4NmwLFUDbNjbcNsIXSYI1f55r0G2XakqJTjmKAgU92/Vs0G0DmKvMDfvRljb4tpsLMUu90NItWrSIxMREwsLCWs13xrBhwxg6dCi5ubnMnz9f7jgmo9UUVO+99x5JSUnEx8ezevVqhg0bxooVK+SOZfIyskopKNRgb2eGm0vD93ECGD/GH6VSwbY9KaRnljTYdqNTjqLRaejo3gkHK8cG2y4YOniXF5YhSRJlLbSgkiSJrKwsLC0b530XBLnl5OQYB/H84IMPUKlqPmixqatopfr000/JzMyUOY1paFWd0oWGV9E6FdjeodE6Xnu4WTOotyfb96bw97YLPDi+YTqPH7xwAICe7Xo1yPau5O3tzdm4M6TmpJGhyKTArrDB99EcWFpa4u3dMGN3CUJz8/7775OTk8OwYcMYNWqU3HGaVN++fbn55pvZuHEjH330Ee+9957ckZq9VllQDRkyhCFDhsgdo0WIjTf0awpob9+o+7l1eHtjQXX/XR1RNcDUNIcSIwHo7tOj3tu6mpmZGZ07BPHk549TrClmw6ObcLKu26CngiA0vcTERD799FPA0Dol15W6cnrzzTfZuHEjn332Gc8++6zoV3wDreaUn9A4Yi+1UAU0Qv+pK4V3ccHLw5qM7FKiTtS/+bmorJCY9NOolCrCvMIbIGFVSoWSDm6Gwf9i0hvnKkVBEBrHG2+8QVlZGRMmTKBHj4b/0WUKevXqxZgxYygqKmpxI8M3BlFQCfVyrolaqJRKBcP6twVg6+7kem8vOuUoeklPkEcXrM2t6729a+nsYRig9GTaiUbbhyAIDev48eN8//33qNVq3n77bbnjyOrNN98E4PPPPxdDCd2AKKiEOisq1pCaXoyZWkk7r8Yf/K2ioNp5IJVyTf0m7zySdBiArm0bd569YM8QAE6IgkoQTMbLL7+MXq/n0UcfJTAwUO44surevTtjxoyhuLhYDIh9A6KgEuosPrEAgPbetqjVjf9Rat/WjoD29hQVazlyvH6n/Y4kG0YDj/Du1hDRrimkzaWCKvWYGGJAEEzAzp07+fPPP7GxseG1116TO06zUPE6LFq0iKysLJnTNF+ioBLqrGKgTf92jXu670oDenkCsOtg3ef3K9WWcvriKRQoCPUMa6ho1Wpj74mTtTN5pXkk5SU16r4EQagfSZL43//+B8Ds2bPx8PCQOVHz0Lt3b0aNGkVhYSELFiyQO06zJQoqoc5iL1wqqBq5/9SVBvRsA8Dug2no9HVr8TmZdgKtXkugWyB2lnYNGa8KhUJBqGcoANHJUY26L0EQ6mfdunXs27cPNzc3nnvuObnjNCsVrVQLFy4kLy9P5jTNkyiohDqraKEKaMIWKj8fOzzdrckrKOf02Zw6bSM6+SgAYV4RDZjs2iIu9dOqOM0oCELzo9VqeemllwB4/fXXsbNr3B9bpqZ///4MGTKE/Px8vvjiC7njNEuioBLqRK+XiJOhhUqhUNC3u6EZfu/hi3XaRnRKRUHVOMMlXK3rpX5aUZc6wguC0Px89913xMTEEBAQwPTp0+WO0yxVFJwLFiygpKThZq1oKURBJdRJanoxpWU6XJwscLS3aNJ99+12qaA6VPuCSi/pOZ56DGi6gqqDW0eszW1IzkvmYkHd+34JgtA4ioqKeOONNwDDlCvm5uYyJ2qeRowYQffu3UlPT+e7776TO06zIwoqoU7OX2j6DukVwoJcsLZSE59UwMXM4lqtm5AdT0FZAe627rSxb9NICStTKVXG4RkqprsRBKH5+OSTT0hLS6NHjx6MHz9e7jjNlkKhMLZSzZs3D61WK3Oi5kUUVEKdyHGFXwW1Wkm3EFcADkSl12rdYynRAIR6Ne7VfVfr7dsXgAMJ+5t0v4IgXF9GRgYffvghAB9++CFKpfhavJ4777yTjh07kpCQwM8//yx3nGZFfHKEOqmYciawkaecuZZeEe4AHDhSy4Lq0um+kEtX3jWV3u17A4aCSi/pm3TfgiBc21tvvUVBQQGjR49m6NChcsdp9pRKJbNnzwZg/vz5Yny9K4iCSqiT8wlN3yH9ShUF1ZETmWi0NS9QTlwqqBp7/Kmr+Ti2w9Pei7zSPE6lnWzSfQuCUL1z587x5ZdfolAoeP/99+WOYzImT56Mu7s7hw8fZvv27XLHaTZEQSXUWmGRhrSMEszMlPh42siSwc3FivbetpSU6jhVw+ETCkoLiMuOw1xlTkf3To2csDKFQkF//wEA7Dq/s0n3LbRsiYmJDB06lKCgIIKDg/n000/ljmQyXnnlFbRaLVOmTCEsrGl/ZJkyS0tLZs6cCSAmTb5CqymoSktL6dWrF+Hh4QQHBxuv6BBqr6JDup+PHSqVfB+hHqFuAERG12zCzhNpxwHo6N4JM5VZo+W6lgH+AwFRUAkNS61W89FHH3Hq1Cn27dvH559/zsmTohX0Rvbv389PP/2EpaUlc+fOlTuOyXnsscewsrLi77//5tSpU3LHaRZaTUFlYWHB1q1bOXr0KFFRUWzcuJF9+/bJHcskydkh/Urdwy4VVEdr1o/qRKqhoGrq/lMVurbthrWZNecyz5KSlyxLBqHl8fT0pFs3w1hndnZ2BAUFkZwsPl/Xc+UUM8888wze3t4yJzI9rq6uTJ48GTCMni60ooJKoVBga2sLgEajQaPRoFAoZE5lms7FGzqkd5CpQ3qFsCAX1CoFZ+LyKCgsv+HyFS1UwW2CGztatczV5vT16wfAf7H/yZJBaNni4+M5cuQIvXv3rvLY4sWL6dGjBz169CAjo2atui3Vn3/+yY4dO3BxceGFF16QO47JeuqppwBYvnw5OTl1m7miJTGpgqriEs24uLg6ra/T6YiIiMDd3Z0RI0aIg04dVRRUgX7yFlRWlmqCOzojSRB18vozoEuSxMm0EwAEtwlpinjVGhxouIpox7ntsmUQmp/6HtsACgsLueuuu1iwYAH29lVbj6dPn05kZCSRkZG4ubnVeT+mTqvVGouo119/HQcHeY9jpqxLly6MGDGC4uJivv32W7njyM6kCqr33nsPgLvuuqtO66tUKqKiokhKSuLAgQMcP368yjLioHN9Gq2e+MQCFAr5T/kBdAs1jEd16Ab9qJLyksgrzcPJ2pk29p5NEa1a/Xz7YaYy42hyFNnF2bLlEJqX+h7bNBoNd911F5MmTWLcuHENGa3F+fbbbzl9+jSBgYHMmDFD7jgmb9asWQAsWrSo1Q/0qZY7QG24uLgwdOhQ4uLiGDt2bJXH//jjjxptx9HRkSFDhrBx40ZCQuRrrTBFF5IL0Ook2raxwdpK/o9Pt1A3lv4Uw5ETmddd7nLrVLCsp3ptLGzp4dOTvfF72BW7g7Ghd8iWRWg+6nNskySJhx9+mKCgIJ599tnGjGnyCgoKjBckvffee2KKmQYwevRoOnTowNmzZ/nzzz+588475Y4kG/m/EWth/fr1HD58mAceeMA4sFhNZWRkYGZmhqOjIyUlJfz777/i3HkdnI0zdEgP9JW/dQqgk78D1lZqklKLyMgqwc3FqtrlKgqqLjL1n7rSkMCh7I3fw/Zz20RBJQD1O7bt3r2bH374gdDQUCIiIgB49913ueWWWxohqWn74IMPSE9Pp2/fvnVuDRQqUyqVPP744zzzzDN8/vnnoqAyFebm5vTp04c9e/bU+nRcamoqDz74IDqdDr1ezz333MOtt97aSElbrrNxuQB08HOUNUcFlUpJWJAL+w5f5MiJTEYO8ql2uYrBNJtDQTUgYBDKLe8RmXiQorJCbCxs5Y4kyKw+x7YBAwaI0aprIDExkY8++giAjz76SFyU1ICmTJnCK6+8wpYtWzh9+jSdO3eWO5IsTKqguu222677R3C9ZvGwsDCOHDnSGLFalbNxl67wk7lD+pW6Bl8qqI5XX1BpdVpi0mMA6OwR1NTxqnC2dibMK5yo5CPsjd/LTZ1GyB1JkFl9jm1CzbzyyiuUlpZyzz330LdvX7njtCiOjo5MmjSJb775hi+++KLVDqNgUp3Sn3vuOWbPno2fnx9WVlY88sgjPPLII9ja2oq+UE1Ap5eMY1A1p4IqItjQMT3qZFa1v9TPZ8VSrivD29EHB8vmkXtQwGAAdojhEwTEsa2xRUZG8sMPP2Bubm68AEBoWE888QQA33//PYWFhTKnkYdJtVANHmz4EnrttdfYsWOH8f7bbruNQYMGyRWr1UhMKaS0TEcbNysc7JpPZ07/dvbY2ZiRnllCanoxXh6Vp8Op6D8V5NFFjnjVGhgwmIU7FrA3fjdanRa1yqT+FIUGJo5tjUeSJJ555hnAcEWav7+/zIlapvDwcAYMGMCuXbtYuXIl06dPlztSkzOpFqoKGRkZnD9/3ng7Li5OjBnVBGJic4Hm1ToFoFQqCOviAkDUiarjUZ26aOg/FdSm+RRU3o7e+Dr7UVhWSHTKUbnjCM2EOLY1vF9//ZVdu3bh6urKK6+8InecFu2xxx4D4Msvv2yV/fpMsqD65JNPGDJkCEOGDGHo0KEMHTqUBQsWyB2rxasoqDoFOMkbpBoRlwqq6FPXLqi6NKMWKoD+fhWTJe+4wZJCayGObQ2rtLTUOMXM3LlzxSCejeyuu+7C1dWVqKgoDhw4IHecJmeSBdWQIUN49NFHcXJyQqFQ8OijjxqbzIXGU1FQdQ5wlDVHdcIvFVRHT2ZW+mVUqinlfOZ5lAolHd07yRWvWv39DQXVnvg9MicRmgtxbGtYCxYsIC4ujuDgYB555BG547R4FhYWPPTQQwB89dVXMqdpeiZZUE2ePJm4uDieeuopXnvtNeLi4njggQfkjtWiabT6yx3S/Zvfrzw/n0v9qLJKScsoMd5/JiMGnaTDz8UfK7Pqx6iSS6hnGDbmNiRkx5OalyJ3HKEZEMe2hpOSksLbb78NwKeffopaLfopNoVHH30UgNWrV5Od3bpmgzDJT1hMTAxHj17udzJ06FDCw8NlTNTyxV3IR6PV4+Nlg621mdxxqlAqFYQGObMn8iJHT2bi6d4OaF7jT11NrVLTq11vtp3byt74PYwLv1vuSILMxLGt4bz00ksUFRVxxx13MHz4cLnjtBoBAQGMHDmSTZs2sXz5cp5++mm5IzUZk2yh6tq1K/v27TPe3r9/P/3795cxUct38qxhJvHOgc2v/1SFiC6G4ROOXjFR8smLze8Kvyv18TWMh7Mvfq/MSYTmQBzbGsbevXtZvnw55ubmzJ8/X+44rU7FHIlff/11q+qcbpItVPv372f58uW0a2dohbhw4QJBQUGEhoaiUCiIjo6WOWHLc+pSQdWlGRdUYUFVO6afSjsFNM8WKoBe7fsAcCjpkBg+QRDHtgag0+mMYyI999xzBAQEyJyo9bn11lvx8vLi9OnT7Nixo9X0AzTJo/fGjRvljtDqnDqXC0CXjs23oPJvb4+tjRlpGSVczCjGyk5LYu4FzFUWBLg0z4NqG/s2tHNqz4WcBE6knSC8rTi905qJY1v9ff311xw5cgQfHx9efvllueO0SmZmZkybNo25c+fy1VdfiYKqOWvfvr3cEVqV3PwyktOKsLRQ4edjJ3eca1IpFYR2dmbvoYscPZWFQ/tkADq6d2zWLT+92vfmQk4CBy/sFwVVKyeObfWTkZFhHGtqwYIF2NjY3GANobFMmzaNt99+m19//ZX09HTc3d3ljtToTLIPldC0TpwxnO7r5O+IStW8PzKXh0/I4kTqcaD5nu6r0KtdLwAOJUbKnEQQTNvs2bPJzc1l5MiR3HnnnXLHadV8fHwYM2YMGo2G7777Tu44TaJ5fzsKzcLxGMOlryGdnWVOcmPhQZcLqoopZ4LbNO+50CLadkOpUHI89RglmpIbryAIQhXbtm3jhx9+wMLCgs8///y6k00LTaNi5PSvv/4anU4nc5rGJwoq4YaOn75UUHVq/gVVgK8DNlZqUtKLOJ5iGi1UdpZ2dHLvhFavFdPQCEIdlJWVGb+8X331VQIDA2VOJACMGjUKPz8/4uPj+eeff+SO0+hEQSVcV1m5jrNxeSgUzbtDegWVUkFokAuSRS55Zbk4WDrQ1qGt3LFuqJt3DwAOXTgocxJBMD3vvPMOMTExdO7cmeeff17uOMIlSqXSONDnl19+KXOaxtdqCqrExESGDh1KUFAQwcHBfPrpp3JHMgknz+ag0erxb2ffLAf0rE54Fxf0tkkABHuGmkTTf3ef7gAcST4icxJBMC3R0dG89957AHzzzTdYWFjInEi40tSpUzE3N2f9+vXEx8fLHadRtZqCSq1W89FHH3Hq1Cn27dvH559/zsmTJ+WO1exFXxoks6KztymICL5cUIV6hsqcpmbCvMJRKpScSjtJcXmx3HEEwSRotVoefvhhtFotjz/+OAMGDJA7knAVNzc3xo8fjyRJLX5+v1ZTUHl6etKtWzcA7OzsCAoKIjk5WeZUzd9REyyoAto7gIPhvW1r3VHmNDVjY2FLJ/dO6CQdx1LF4I2CUBOffPIJkZGReHt7G1uphOZn5syZgKEFsaSk5V5402oKqivFx8dz5MgRevfuXeWxxYsX06NHD3r06EFGRoYM6ZqPsnIdJ88ZhkwI7Ww6BVW5rhSdZRpICorT3eSOU2NdvS+d9ks6LHMSQWj+Tp06xWuvvQYYjtv29vYyJxKupXfv3vTo0YPs7GxWrVold5xG0+oKqsLCQu666y4WLFhQ7R/g9OnTiYyMJDIyEjc30/kybgzHY7LRaPQE+trjYGcud5waO556DEmhR1nUhhMni+SOU2MRbSMAOJocJWsOQWjutFotU6ZMoaysjKlTpzJ69Gi5IwnXoVAojK1Un332WYud369VFVQajYa77rqLSZMmMW7cOLnjNHuHj2UC0C3UtArL6GTD0APKgnYcOZFpMn+8YZcKqpNpJyjXlssbRhCasfnz53PgwAG8vb35+OOP5Y4j1MCECRNwdXUlKiqK3bt3yx2nUbSagkqSJB5++GGCgoJ49tln5Y5jEg4fN5zy7B7iKnOS2om6dKWcg+RPdm4ZcYkFMieqGQdLB/xdAijXlRsHJRUEobLo6Ghef/11AL799lscHBxkTiTUhKWlpXEIhQULFsgbppG0moJq9+7d/PDDD2zdupWIiAgiIiLYsGGD3LGarezcMs6cz8PMTGkSI6RX0Og0HE89BkAPX8NFCJHRptMXznjaLyVK1hyC0ByVlZXxwAMPoNFoeOyxxxg1apTckYRaePzxxzEzM2Pt2rWcP39e7jgNrtUUVAMGDECSJKKjo4mKiiIqKopbbrlF7ljNVmR0OgARXVywtGi+Ewtf7WTaCUq1pfg5+zEw3DBacuTRdJlT1Vx4266A6EclCNWZM2cO0dHRBAQEMG/ePLnjCLXk5eXFfffdh16vb5GtVK2moBJq50CUoQjpGW5aM4RHJhpGGu/m08PY9yv6dDalZVo5Y9VYeNtwAI6lRqPTt/y5rwShpnbt2sUHH3yAUqlk+fLl2NjYyB1JqIOKLjffffcdOTk5MqdpWKKgEqrQavUcPGo4Tda7q2kVVIcTDwHQw6cHTg4WdPR3QKPRE3UiS+ZkNeNh14Y29p4UlhVyPitW7jiCiZg6dSru7u6EhDTvicDrKj8/nwceeABJknjppZfo16+f3JGEOgoLC2PEiBEUFRW1uIE+RUElVBF9KovCIg3t2tri7Wkrd5waKy4vJjrlKEqFkq6XpnLp3dUDgP1HLsoZrVbCvQytVOK0n1BTU6ZMYePGjXLHaDRPP/008fHxdOvWzdghXTBdzz33HGAYmLW4uOXMDCEKKqGKPYcMxUf/Hm1kTlI7h5MOodVrCfLogoOl4cqfPt0MBdW+I+mmM3yCVwQA0SlH5Q0imIxBgwbh7Gw6F4/Uxq+//srSpUuxtLTkhx9+wNzcdMbEE6o3YsQI4+DZ33zzjdxxGowoqIRK9HqJXQdSAdMrqPYn7AOgd/s+xvs6+jng7GhBemYJ5+Lz5YpWKxVX+kUlR5lMESg0f6Y4C0RKSgrTp08HYN68eXTp0kXmREJDUCgUvPrqq4DhfS0rK5M5UcMQBZVQyamzOWRkl+LuakXnQEe549SYJEnsjdsDQG/fywWVUqmg36XCcNfBVFmy1Zavix92FvZkFKaTlm8amYXmz9RmgdDr9Tz00ENkZ2czatQonnjiCbkjCQ3otttuIyQkhOTkZJYvXy53nAYhCiqhkv/2pQAwqLcnCoVC5jQ1l5AdT3JeEo5WjgS3qdwxd0DPSwXVgTQ5otWaUqEkzCsMEONRCa3XwoUL2bRpEy4uLnz33XcmdTwSbkypVPLKK68A8Pbbb7eIVipRUAlGOr3E9ksF1ZA+XjKnqZ1dcbsA6OvbH5VSVemxiGBX7GzMiE8qIN5ERk2PuDQeVZTomC60QtHR0bzwwgsALFmyBC8v0zoeCTVzzz33EBISwoULF1i8eLHccepNFFSCUdSJTLJyyvDysDap030AO2P/A6C//4Aqj5mplQzo5QnAtr3JTZqrrsLFRMlCLdx777307duXmJgYvL29WbJkidyR6qy4uJj77ruP8vJypk+fzu233y53JKGRKJVK3n77bcDQSlVUZDqT2VdHFFSC0b87kwAYPsDbpJrXs4oyOZYSjbnKnD6+fatdZmg/wy/crbuTTaKjd2ePIMxVFsRnx5FT3LIGvxMa3qpVq0hNTUWj0ZCUlMTDDz8sd6Q6mz17NidOnKBTp05i4uNWYOzYsfTq1Yv09HQWLlwod5x6EQWVAEBxiZYd+w0doEcM9JY5Te3siN2BhESv9r2xMa9+9OSIYFdcnCxJuVjM8ZjsJk5Ye2YqM0I8DX3Bjl6a7FkQWrq1a9fy1VdfYW5uzurVq8Vo6K2AQqHg3XffBeC9997j4kXTGTPwaqKgEgBDZ/TSMh0hnZxp28a0DmJbz/wLwJDAoddcRqVUMHKQoVDcuD2xSXLVV1dvw+TOR5IOy5xEEBpfXFwcU6dOBeDDDz8kIiJC3kBCkxk+fDi33norBQUFxuEUTJEoqAQANmy9AMDNQ3xkTlI72cXZHE46hFqpZmDA4OsuO2qw4blt35tCYbGmKeLVi7GgShYFldCylZWVMWHCBHJzcxk7dixPPfWU3JGEJjZ//nzUajVLliwhKipK7jh1IgoqgbjEfE6ezcHaSs2QvqZ1Nc32s1vRS3p6te+DvaX9dZf18bIlvIsLpWU6Y3+x5kiSJCRJIsgjGEu1JecyzpFXmid3LEFoNM899xwHDx7E19eXZcuWmVQfTqFhdOrUiZkzZyJJEk899RR6vV7uSLWmljtAU5o6dSp//fUX7u7uHD9+XO44zcb6LYbWqWH922JlaVofic0xmwAY3vGmGi1/203tOXoyi983xXP7SN8mOXBLkoRWp6O0rJyycg1lmnLKyzWUazSUa7RotFq0Wh1anQ6dXodef7nT/Jw+hk6aUcdiUavUqFQqzNQqzNRqzM3MMDczw8LCDEtzc6wsLLC0MEepFL+TBNOxfPlyFi1ahJmZGWvWrMHJyUnuSIJM3njjDVauXMnOnTtZunSpyV1cYVrfnvU0ZcoUZs6cyeTJk+WOAoBWp0Nz6QtVr9ejv3T1mVKhQKVSoVIpMVOrUatUjfbFX1KqZdN/hj5FY0e0b5R9NJaLBWlEJR/BXGXB4Buc7qswsJcnLk6WXEguJDI6g57h7g2SpaJgKi0rp7S87PK/y8ooLS9Hp6v9ry2FQoFer0OhUAIKtDpD0VVWfv31LC3Msba0xMbKEhtrK2ytrLC2shS/+oVmJzIy0ji1zKJFi+jVq5fMiQQ5OTo6smDBAu677z6ee+45br31Vjw8POSOVWOtqqAaNGgQ8fHxsuy7tKyM3IJCCoqKKSwqoaSsDI1WW6N1FQoF5mZqLMzNsTQ3x8LC/FKLhDmWlhZYmpvX+cvy311JFJVoCe7oREB7hzptQy6bTxtapwb4D8TGwrZG66jVSu4Y5cuS1af56a/YGxZUkiSh0+uNLUplGo2hlam83Pj/0rJytDrddbejUiqN75uF+aWWJXMzzNRmmJmpMVOpUKtVqJRKlEql8f2MSjrCYz9Pp4NrB5bcu9zYklXRulWuMWQoKSuntNRQvFUUc9l5l+cuVCoU2FhbYW9jg52tNQ62tliYm4kiS5BNcnIyd955J2VlZUyfPt1YWAmt28SJE/n+++/5559/mDVrFqtXr5Y7Uo21qoKqJhYvXmwcsbU+E4hKkkRRSQnpWTlk5uZRUlp1WH2lUoG5mRlmKjVKVcWXqIReL6HX6w0tWFotOp3+0pe3hnyqH/jM8tKXtaWFBRbmZlhamBu/tM3NzKpt5ZIkiXUb4wG4faRvrZ+jIacO3aW8ekmPJEnGU1ZXjvekUCiM/ykVCpRKBcpLxYPqigKipiRJ4u9TGwAYFXRzLTLruXlIW/7efp6LmflEn07B3dUCrVZHuVZrbDEs12gu/V9bo3P5CoXC8B5YmGNpbjj1ZmVheD8sLczr3MoY7BmCpdqSs5lnyS3Nwc32+nOw6fV6SsrKKC4ppaiklMLiEopKSigtK6egqJiComJINyxrYWaGg70tTnZ2ODnYYWFuXut8glAXOq2OMWPGkJSUxIABA0x+/CGh4SgUCr788ktCQkJYs2YNd955JxMmTJA7Vo2IguoqV/5S6tGjR63X1+l0XMzKISU9k6KSEuP9KpUSRzs77G1tsLOxxtrSEnMzdY2+ZCtaSCpaRUrKLp1SKi+npLSMco3G2CpBQWG121AoQK1So1arUKsMLSEFRVp6djWjb09X2rTRcCo2HrjcKVovSeglvbHA0+n06PSG//R6HQ05PqZCoUB1qbhSqpTGlpqK/ysVChRKQzEGCvJL8whz7E0Pl0G4K9oTE5dwOXNFXr3emFur06HT6YynVadNMrRM5RRcJOcGs9FUFL5XFqgVLU0W5oYiykxds/eytsxUZnTz6c6euN0cSNjHmODbbpBViY2VFTZWVlxZemm0WgqLiskvKia/sIj8wiLKNBrSs3JIzzIMHGpjZYmLkyOujg7YWluJ1iuhUUh6PSdOnODo0aN07NiRdevWYWFhIXcsoRnx8/Pj448/ZsaMGcyYMYP+/fvj7d38x0cUBVUD0Wi1JF/MIPlihvH0j5lajZuzI25OjjjY2db5C0qlVGJlaYGVZfUHHb1ebyywKv5fVlZOmcZwmkqj0Rpbu64+zRjU0RqAzJzcumVTKVEqLrUyXSp4KlqiABQokLjcYnW56NFXKnwqOm5rdTqo4YgGfTyHAHAxq3YjiavVKpQKFfGJhRQV6wjv4oaTgxVmarXxP3MzNWZmho7fdWlBa0i92/dhT9xu9tegoLoWM7UaJwd7nBwMV0IaWlBLyS0oIDe/gJz8QopKSikqSeNCShpWFha4uzjh4eJ8zc+dINSWRqPh5MmT5OTk4Obmxt9//42Li4vcsYRmaPr06fz555+sX7+eBx98kE2bNqFSqW68ooxEQVVPOp2e5PR0ElPTjYWUnY013h5uuDo5NskVV0qlEmsrS6ytLK+5zOVTiIaWmuS0QhZ+F42lpZJZU0MrXd1nPD2nVKBSVD41p1JVPk3XEIVGRaGlu6IV7MoWporiq6IY0+o0fLHrc0o0JTzYcwoe9m1QKLjidKIhm+pSS5xKpUSlVKFWVe6fFHnkGOv+iScp2Zw5z3ao9/NoLL3b9wHgQMJ+dHpdlcmf60KhUGBrbYWttRXeHu7o9XpyCwrJzMklMyePkrIyElLSSEhJw9Hejrburrg4OohWK6HONBoNDzzwAI9kZqFWq9m0aRP+/v5yxxKaKYVCwZIlSwgNDWXr1q3MmTOHt956S+5Y19WqCqp7772X7du3k5mZibe3N2+++WadL8uUJImM7FzOJyZTpjE0qTja2dLeq029WqMai1KpxFypxNzMDIAvNp3hzPlSxo5oj693w1zpVlfGvlVKJWY1+ET+G7OZ7YkbCXTtQERAcJ1f63tv78CGrRfYeSCVs3F5dPBrnp3y2zm1x9vRh6TcRI6nHjNOnNyQlEolzg72ODvY06G9RE5+ARezssnMziU339CKZWluTlsPNzzdXJr9L0WheSkpKeGee+7hr7/+YkZwd8LCwnASI6ELN+Dh4cHq1asZMWIEb7/9Nn369GHMmDFyx7qmVjVgTUNNIFpcUsrRmHOcOh9PmUaDrbUVYR0DCO/cAUd7u2ZXTF0tLb2YrbuTUSoV3HNboNxxam3dsd8AGBtye71ea1dnS24b4QvAd2tON0S0RqFQKBjgPxCAnbE7mmR/zg72BPn70icihACftlhamFNaXk5sYjL7o09yITUN3Q2ubBQEgMzMTEaNGsVff/2Fs7Mz4eFh2NnbyR1LMBHDhg3jnXfeAWDSpEmcOHFC5kTX1qoKqvrS6/XEJ6cSeeI0eQWFmKnVdPT1oVuXTsa+KaZg5bqz6HQSw/p54eluLXecWrmQk8ChxEgs1ZaM7lL/Xyr33RGItZWaA1HpRJ3IbICEjWOg/yAAdsT+V+nqycZmplbj3cadXqFdCA70w87GGo1WS1xSKvujT5J8McMkRzQWmsaxY8fo2bMnO3fupG3btuzcuRM7e9M5VgrNwwsvvMDdd99NXl4eo0ePJiUlRe5I1RIFVQ0VFBVz+GQMCSlpSJJEG1cXeoYG4enm2uxbpK6UcrGIjf8lolTA/eM6yh2n1tYcMYxJMrLzKGxrOPbU9TjaW3DPrQEAfP3jyUqjlDcnYW3DcbJyIjH3AmczzjT5/hUKBa5OjnQN6khoxwBjYXXuQhKRx0+TmZPbpIWe0LxJksTSpUvp27cv8fHx9OjRg3379tGlSxe5owkmSKFQsHz5cvr27UtiYiJjxowhJ6d2FyM1BVFQ3YBerycuKYXDJ2MoKinFysKC8M4d6OTXDjO16XVB+/7nGHQ6ieEDvPHxqn9B0pTySvPYcOIvACZ0vbfBtnv3GH9cnCw5cz6Pf3c1zzn+1Eo1QzoMA+DfM5tly1FxOrBrUEeCA/2wsrSgpKyME+fiiD4TW2moEKF1ysjIYMKECUydOpWioiIeeOABduzYYRKXvQvNl5WVFb///juBgYFERUUxcuRIcnNz5Y5ViSiorqOttw+HT8ZwIfUiAN4ebnQP7oyjnWkVIhXOnM9ly+5k1CoFU8Z3kjtOrf10eDWl2lJ6t++Dv2tAg23XylLNtHs7A/DNylMUFddw3IYmdlOnEQBsPv0POr28/ZcqWqx6BAcR2M4btUpFbn4Bh06cJjYxWdZsgjwkSWLZsmUEBQXx888/Y2try/fff8/333+PlZWV3PGEFsDNzY0tW7bg7+9PZGQkI0aMqNcA3A1NFFTXMevFl42tUhGdOxDQzhuVyjRfMkmS+GL5CSQJ7rzZjzYm1ncqvzSfn6PWADCl19QG3/5NA7wJCnQkO7eM73+OafDtN4SItl3xsvcirSCNgxcOyB0HMAx62tbDjV6hXfB0c0WSICktXe5YQhPbsWMHvXv35qGHHiIrK4vhw4cTFRXF5MmTTapLhND8tWvXjm3bthmLqj59+nD6dPO4qMg0q4MmolKpaetuaJVyMNFWqQr/7kzi2OlsHO3NTbLv1PcHllJQVkB3nx5EeHdt8O0rlQpmPRyGUgFrN8Zx+lwzPD+vUHJbyO3A5Ssdmwszs8sXaNjZmFaxLtSNJEn8999/jBgxgsGDB3Pw4EE8PT1Zvnw5mzdvJiCg4VqRBeFK7dq1Y9euXXTv3p3z58/Tt29ffvtN/mOi6XUCakJffDKfNSt/lDtGveXml/HlDycBmD6pC7Y2Zo22r/zCcuZ/fZRD0RnY25kzbWJnhg+4ft+J2W/tIepEFpt+HGNsAXx30WGOHM+ktEyHnZ2SZLvT4ApPDpzV4JnzSvN4d9PbHEjYh6qPDZozg/jgS1u+em8QFuaVx1tKzk3i4+0fEZV0GDOVGbcGj2XmoKcAePznRzmRetw48KabrRtrpvzaoFlvDR7Lkn3fsOPcfyTmJuLj6NOg268vOxtrugaZXsEu1FxpaSk///wzCxcuJDIyEgA7Oztmz57Nc889h42NjcwJm6eiomJ+WPMTp86cwdbGhttvuYVe3av+ONx7MJJtO3eRkZGJpaUlPbtFcPsto1GpVGi0Wlb/8hunz56lqLgEN1cXbr9lNCFBnWV4RvLy9PTkv//+4/7772fdunXcddddTJs2jXnz5uHo6ChLJlFQXUfsmeZ56qc2JEli4XfHyCsoJyLYhZGDGrdj6MLvjmGmUvLL1yM5F5/HKx8cIKC9A74+1Y878++uJHS6qleH3Xd7B557NBylSmLaktmodgxiSEggnTwa/sDx0dYPMVOpWf/oP5xIOcXTv84i/rgHX61wZdbUUONyGp2GWb/N5K7w8bw95l2UCiWJORcqbWv20OcZG3pHg2es4Grryqig0aw/8ScrDn7PSyNebbR91ZU4xdPySJLEgQMHWL58OStXrjR2BnZ2dmbWrFk8+eSTODk5yRuymVv921rUajUfvPkGSckpfP7td3i39cSrTZtKy5WXlzP+jrH4tWtHYWERX3y3FJvt/zFq+DD0Oj1Ojo48+8RjODk6cuLUab5dvoLXnn8WF2dnmZ6ZfGxsbPjtt99YtGgRzz//PN9++y3r1q3jrbfeYurUqZg38YTv4pRfC7dpRxL/7UvFylLF7OnhjfplV1KqZef+VKbc0wkrSzWhnV3o292DzTurv3KusFjD8l/OMH1S1UupfX3sMDdT8fXuLzmTEYNCoWBQ2zsaPrOmhG1ntzK93wysza3p6dudPu0GoHc7xh+b4tm6+3IH6/Un/sTVxo17u0/CyswKC7UFgW5NP2XNAz0mo1KoWH/iL+Kz4pp8/0LrIEkShw8f5uWXXyYwMJA+ffrwxRdfkJubS7du3ViyZAlJSUm8/vrropi6gbKyco5EH+O2m0dhaWFBoL8fYcFd2B95uMqyg/v3o4O/P2q1GkdHB3p160psXDwAFhbm3HrzSFycnVEqlYQGd8HV2YmExOZ5dXJTUCgUPPnkk0RGRjJo0CAyMzN57LHH8PX15e233+b8+fNNlkUUVC1YXGI+C787BsDMKSF4eTRuU3xSahFKpaLScAwB7R2ITyqodvklq08zdkR7nB2qn3x31gfr+PXLtlhFP0FbN0eG9Grf4Jkv5FxAqVDRzunytrv5BePTwXD5/7yvojgdmwvA8bTjeNp78szap7j5y5t4/OdHOZd5rtL2vtz9OTd/eRPTVz/M4cRDDZ4XoL2zL7eF3I5O0jF/24di/Cehwej1enbv3s3s2bPx9/ene/fuvPfee5w/fx5PT0+efvppoqKiOHToEFOnThVX79VQekYGSoUCD3c3433eXp6kpqXdcN1z5+PwvKoVq0J+QQEXMzKrtHK1RiEhIWzfvp2ffvqJkJAQUlNTee211wgICCA8PJxZs2axcuVKoqKiKCoqapQM4pRfC5WbX8Zr8w5SWqZjxCBvRg1u/L42JaVabKwr98+ysVZTUqKtsmxMbC4nYrKZ+WAwGVmllR6TJIkVkcs5YL4Ieih4oNNL2Jd1wkzd8PV/SXkxthaVC01bC1vsHSB8iA8btyfyyof7WfjmADIK0jmUFMm8sR/Ro10v1hxZzQu/z2b1lF8wU5nxxIAn8XXxw0xpxuaYTTz/+7N8f/+PeDs2/GnW6f1m8N+5bRxKjOTnqDXc03Vig+9DaB00Gg3bt2/nt99+Y926daRd8SXv4eHBuHHjGD9+PIMGDRJzONZRaXkZVldNXm9laUVpWdl119tz4CAJiUncf8/4Ko/pdDq+W7GSPj2608ZD3vlYmwuFQsH48eO5++672bp1K9988w3r168nOjqa6OjoSss6OzvTtm1bPD09adOmDV5eXrRt2xZfX186dOiAv78/Zma1628sCqoWqKhYw8vv7yc1vZhO/g48/XBok/RrsbJUU1xSeQynohItVlaVP2Z6vcSn3x3jiQeDqwxDkVOcwwdb3uW/c9sBeGbos9zT9U4++TaaPzbHM250w85Ob2VuTVF55V8rReVFWJtb8/S0MDKySjh0LJPn3t6L22A14V4R9PXrD8Ck7vezbP8S4rPj6ODWkWDPEOM2xgTfyuaYf9gbt5vxXSc0aGYAJ2snnh/+Ii//9QILdyzA19mPXu17N/h+hJZJr9ezbt061q5dyx9//FFpgERfX1/uvPNOxo0bR9++fUUR1QAszS0oKa1cPJWWlWJpUX3rPEDUseOs+2sDs2ZMx9a28o8+vV7P0h9XoVapmXjXnY2S2ZQpFAqGDx/O8OHDKSsrY9euXezbt4+DBw9y5swZYmNjyc7OJjs7m2PHjlW7DXNzc4KDg+nevTv9+vWjf//+dOhw/S4eoqBqYXLzy3j5gwPEnM/D092at57vhaVF07zN3p426HQSSamFeHsaTvudT8jH17tyh/TiEi1nzufy1qeG/gMV073cPv0vygN/ocDyFDbmNrw66g2GBA4FQKeTSLlY3OCZ2zm1Q6fXkZhzAR+ndgCczTiLv4s/Zmolb87uyf/e2cfJsznkRJvj3bnmGRQKBRKNdzpuaIdhTOr+AD8e+oH//TGb92+bRx/fvo22P6HliIqK4s47L38RBwcHM27cOMaNG0d4eOP2tWyN3N3c0Ov1pGdk4O5mOO2XlJJyzVN5J06d5seffuGJaVNp6+VZ6TFJklix5mcKCgp54pGHRcF7AxYWFsbiqoJerycjI4Pk5GQuXrxIamoqKSkpJCUlcf78ec6cOUNCQgJHjhzhyJEjfPvttwB4eXnh6el5rV2JgqolOXU2h7cXHiItowRPd2vmv9oXFyfLG6/YQKws1Qzo5cmyn2OYPT2c2IR89kSmsXDugErL2Vir+elLw6jfWr2OjVE7+X4xZHdcgKQuopv7QIZ7PExv707o9BKHj2WwbU8yLz/ZreEzm1kxJHAo3+z9mpdGvMqZ9DPsjP2PxROWGJ/T+y/15uUP9hOdEMQpp284kLCf7j49+ClqDY5Wjvg6+1FQWsCJtON09e6GSqliS8xmopKO8PTgZxs885UeHziTvNI8/jrxB8+te4bp/WYwqccDxqEbBKE6kiTRq1cvY0tUx45iqIvGZGFhTkRoCH9u3MT994wnKSWZo8dP8vxTT1RZ9vTZcyz9cRWPPvQgvu3bVXl81S+/kXoxnVmPTcfcvPGGwGnJlEolHh4eeHh4XHOZ/Px8oqOjOXjwILt372bHjh2kpKRct6BSSKJH6zX16NHDOM5Kc5aeWcLKdWdZvyUBvQSdAhyZO7snrs5NV0xVyC8sZ95XURw+lom9rRnT7g1i+ABvLmYWM3X2dr77aAiO9uas3hjFtoNxpBUlUGh1DIvYu3G86TueGDSTrh79mbvgELEJ+UgSeLhacefNfowZ3vCd0qFiHKq3OJCwHwcrBx4bMJNRnW8mLT+N+5bfw8rJP2GrduTV75dRYH+A+JxYdJKeLm268NzQ/+HvGkBOcQ6z180iITsBpVJJeydfpveb0SSn4fSSnsV7vuL7A0sBCPLowjNDZhPqFdbo+74WU/nbaSk2btzIrFmz0Ol0TJs2jRdffPG6y4eHh3P06NEmSleZ9rGnAVB/uUCW/cvlynGobKxtuGOMYRyq7Jwc5n4wn9dfeI78gkK++m4Zefn5qFUqlCoVCiDA348np08jKzuHV99+F7VajUp5ubvEfePvolf3hv/BKVwmSRInTpxgypQp1zy2taqCqrYHneb8pXAxs5hD0ZnsjkzjQFQ6er2EUqng7lv8eWhCJ8zNmkcLxfHUY5xJP0NafgppBRdJyUkjbkd3yKvcUbv/MB2vPTwGM1Xz+8Wl0+t4/vdn2Ru/p9L9U3pP5dF+j8mUqqo9cbt5/993ySg0TP3y3b3fE9Sm6pAUTaE5/+20NDqdjo4dO7J582a8vb3p2bMnq1atokuXa7/3cr4/rbWgupE9+w+w4qdfKl21693Wi2efeAwry6b/cSxU73p/O63mlJ9Op+OJJ56odNAZO3bsdQ86zZVOL/HI//6jqNhw9ZxKpWBIXy8eGNfxmgNoymXVoZVsPfuv8bYqvSsWeVWvejuww4yiiXoc7ZsyXc1sP7etSjEFsPzAMsYG346ng5cMqarq59efVQ/+xIrI5ZxNP0NnjyC5IwlN4MCBAwQGBuLvb7hgY+LEifz+++8meWxrrcrLy/nl9z+rDIGSlJzCjt17GDV8mEzJhNpoNQVVSzroqJQK+vdoQ2Gxhl7h7vTv6Ymz47WvFrme4RP/bOB0V+uHNf1uuJRGq+eu6ZvqtIfi3nPrtF596SU94767vUn3ufeZg9d93Mbchkf7PYYkSaJjcSuRnJyMj8/lYVG8vb3Zv39/leUWL17M4sWLAcjIyGiyfFe7umXqsWeflyeIiVi3/m/Wrf9b7hiy+/LjeXJHuKFWU1CZ2kHnRl54vOEnCBZaDlFMtR7V9dqo7v2fPn0606dPBwynLQRBaFitpqASB53qbVl9W5Pu7+jJTJ6du7fK/S5Olqz8bDjqOg3e2bjPISY9hod+fKDKEAh2Fvb8/shfWJmJ0aIF+Xh7e5OYmGi8nZSUhJdX8zgNXROm0PLQFOZ+MJ/Uixer3P/Igw/QLVy+C0yEmms1U8+Y+kGnMXy76hS/bmi6eY4Awru4Mu3eoEqjnrs4WTJ3do8aFVNf7FrE6sMrGyTLnsg03vr0xtPDdHLvxOxhz2Ouunxa1cnKifdv+7DJi6mdsf/x2vqXm3SfQvPWs2dPzp49S1xcHOXl5axevZqxY8fKHctkrftrA1v+29nk+33kwQdwdbk8wbFSqWTksKFNXkwdPX6Cb5evaNJ9thStpoXqyoNO27ZtWb16NStXNswXsynKzS9j044kfvj0cmfHw8cyWLj0GOmZJXQOdOKFxyLwcLOusm65RsenS45x+HgmBYXltG1jw9QJnend9fKYHtv3pvD9zzFkZJfg5mLFwxM7M6CnYfyOe28P5OYhPhw5kYmNlZruoW6Viqm09GI+/CqK0+dycHe14smHQuke6kZOcQ5/n9zAz1N/My77zg+/siHxG/QW+aiL2mJz4U6+e+d247yFJ2Ky+Xz5CS4kF1DS+XvKrRIxUxk+9m62btgmPklsQj4l5gks3vMVpy+eRqVU0tW7O88OeQ5XW1cA7gofz02dRnIwYT8Wagt6t++LufryTOapeSm8vWkuJ9KO42HXhtlDn7/mkAnPrH2Ko8lRxtsanYZ2Tu35cfJqAKJTjrJg+8ckZMfj6eDF88NeILxtBAADAwbz1e4vOJdxVpaJmYXmR61Ws2jRIkaNGoVOp2Pq1KkEBwfLHcskFRQWsi/yEHNfvnwF+OkzZ1n921qyc3Lxa9eOyfdOwMW5+smgrxwawdbGhttvMQyNAKDVavluxUoSEpPIzsnhmcdn0DEwwLiuZxsP3nzpBWLOnqOgsIgOAX44OToaH8/Kzmb5qp+Iu3ABZydHJoy7g6AbjB+m1Wp5e/7HlJWV894brwKQX1DIz+t+52zsecrKy/Fq48Hdt4/F79KYV+Ehwfy+4W+SUlLwbuWNDrUmtSLr16+XOnToIPn7+0tvv/32DZfv3r17E6SSx+o/zkrzv44y3s7NK5Vum7JB2r43WSor00pf/XBCeuKVHdWuW1yikZb9dFpKvVgk6XR6aU9kmjTmwfVS6sUiSZIkKT2rWBp535/SvsNpkl6vl/YeSpNGP/CXlJ1bWqNsT7y6U/r8++NSaZlW+m9fsnTbQxuknLxS6YeDy6V3N71lXC6nOEca9MlA6YlPF0ulmlJp4X8LpIdXTjE+nldQJt0x7W9p+95kSavTSxMXPyiNmP2WlF9QZlxmxW8x0qdLoqU953dJ/8ZslgpLC6SS8hLprX/elGb9OrPGr+e0VQ9JC7Z/LJVoSqStZ7ZIN30+RMouyq7Ruo/9NF36du9iSZIkKbckVxr1xXDp35jNklanlf4+uV4a8flQKa8kz7j80n1LpHlbPqhxNjm05L+dlkC8P9X7Z8s26YfVPxlvFxQUSk+/9KoUeSRKKi8vl375/U/p/U8WXnP9b5evkL75/geppLRUOht7Xnr6pVel5NRUSZIkSaPRSP9u3yGdjT0v/e/1N6WYs+dqle2DBQuln9f9LpWVlUuHoo5Kz7z0qpRfUHDddTZs+lea/9nn0otzLh830zMzpc3btku5eXmSTqeTduzZK81+9XWppLS00nqrfvmtVvlai+v97bSaU34At9xyi3Een1deeUXuOLI6EJVOWJCL8fbOA2m097ZjcB8vzM1VTL67I7EJ+VxILqiyrpWlmgfHd6KNuzVKpYK+3T1o427NmbhcADKzSrG1MaN3Vw8UCgV9unlgaaEm5eKNZ/hOTCnkXFweU8Z3wsJcxaDeXvj52LNzfyr74vfQ1fvy4HXbz27FycwbL2V3LNQWTOs7nbMZZ4nPjgfgREwOTg4WDO7jhUqpwMnRAitLNTsPXJ78NbyLK/uPXKSvX3+Gd7wJGwtbLM0sGR9+D8dSoq+OV60LOQnEpJ9mWt/pWKotGdphGAEugWw7u/WG66bmpXA0OYrRQbcAcCwlGmdrZ4Z3vAmVUsXNQbfgaOXE9nPbjOt09e7OnrjdNcomCELNnTh9mg4Bl+cLPXLsGF5tPOgeEY6ZmRm3jhpJckoKaRfTq6xbVlbOkehj3HbzKCwtLAj09yMsuAv7Iw1TbKnVaoYPHkigvx9KZe2+ei+mZ5CYlMyto0Zibm5Gt/AwvDw9ORJd/Tx0AJlZ2Rw4dLjKkAtuLi7cNGQwDvb2KJVKBvbtg06r42L65YuwOgb6c/zUqVplFFpRHyqhsrgLBfh42RpvxycVEND+8iBQVpZqvDxsiE+qWlBdLTu3jKTUIuOcfR0DHGnX1pY9kWno9BK7DqZiZqbEv92NB5lKSCrA090a6ysmVA5ob098UgGxmedo53R5tPS4rPO4mLVj36GL3PHwRp54aR/2anfisgz9wiQkrr4WIctxIx9GP8j01Q9zOPEQ7drakpZRQlFx5UmdjyQfxs+lZhMxn886j5dDW2zML09gGujWgbjsG/dP23BqPeFtI/ByaGvILFWd/U9C4nxmrPG2r4svqfkpFJUV1iifIAg1k5Kahoe7u/F2atrFSnPpWViY4+rqQkpaWpV10zMyUCoUeLi7Ge/z9vIktZplays1LQ1XFxcsrxjg07Dtqp3YK6xZu47bb7kZc7PrD5acmJyMVqfD3fXyD+w27h5kZedQUlpa7+ytiSioWqnCYg3WlpdHUy8p1WJjXfkPz8ZaTXGJ7rrb0Wr1vLfoMCMHedOuraGgUikVjBjowzufHebm+9fz7meHeWZaGFaWN+6yZ8hReTlDDi0FZQVYX1G0FGtKCPR247uPhvLrN6OY/Ug4+bkKDp1IAiC4ozNZOaVs3Z2MVqunu809WByZyRjredweeifP//4sOWVpxtejwrmMs3y3bwkzBz51w7wAJeUl2JrbVrrP1sKW4vIbt8j9fXIDY7rcarwd5hVGZlEGm07/g1anZf2Jv0jOTaJUe/nAZmNmeA0KREElCA2quKQES4vLF5+UlZVhZVn5whMrS0vKysqqrFtaXoaVleVVy1pRWs2ytVVWXl6pmAKwsrKktKz6gicq+hh6nY6IsNDrbrektJRlP65mzMgRWFldfp6WlobXoKSkpJ7JWxdRULVSdjZmFJdeLpasLNUUl1RupSku0WJtde0pbPR6ifc+P4JareSphy7/4R46lsHilSf5+PV+/LNiDB+/0Z+PFh/lXHzeDXNZWaopKtFWk0ONvYV9pSLF2swKtYUGV2dLVEoFwZ2csbOXOHfecJBxsDPnred68sv6WO5+dBOp5xzp3qUtbVzsGRN8K6FeYew4a7iax/ZSMZmYm8gza2fxzJDZRHjXbKwvK3Mriq4qnorKiyoVf9U5mhxFdnEWQztcngXdwcqRD8bOZ/XhH7nl61HsT9hLz3a9cLe9/Ku5SGPYl52FbZVtCoJQd9bWlQsgCwsLSq9qpSktLcPCoupAypbmFpSUVi6eSstKKxVodWVhbl6leCotLcPSouqUNGVl5fz21wYmjLvjutssL9fw5bdL8WvfjptvqnxasPTS87iyyBJuTBRUrZR/O3uSUi+3cPh62xGbkG+8XVKqJeXi5dN4V5MkiflfHyUnr4w5z1Ye8iA2Pp+wIBc6BTiiVCroHOBI50BHDh/LvGGu9t52pKYXU3xFURWbkI+vtx0BroEk5lww3u/n4s/ZjLOXM2tKyNNexFa63EQf3sWVL94dxLolN/PSE11JTC2ic6AjYBiHLDuvjDZuVthYm5Gan8pTvz7BQ70fZnSXW26YtYK/iz8pecmViqpzGWfxc77+KcMNJ/9icOBQrM0rX0nZzbs73923nE2Pb+H1m9/kQk4CXdpcvmorPiseT3svbERBJQgNqq2nJ+lXDOjs2caDpJQU4+2ysnIysrLwatOmyrrubm7o9fpK6yelpOBZzbK15dmmDZlZ2ZWKO8O2Paosm56ZQVZ2Nh8t+oIX3niTr5d+T15+Pi+88SZZ2dkAaLRavlq6DAcHe+4bf1eVbaSlX8TF2UnMIVhLoqBqpXp1dSf6ZJbx9oBebYhPLGDH/hTKy3X88OsZ/NvZG0/jXW3BkmNcSC7gnf/1wsK8citWpwAHjp3OMrZInY3L49jpbPzbGba1cXsi9838t8o2AXy8bAlsb8/yX2IoL9ex60Aq5y/kM7C3J/38+nMk6bBx2cGBQzmbfo4Nx/6hVFPKvL8XoSz2YESPCOMyZ+Py0Gr1XMzJ5vXv1uDirKJrqDP/nPqbqKQjqPIC6BXhTnphOk/+8hh3hY9nXHjVA8z6E39y55Lqx/Zp59SeDm4dWbLvG8q0ZWw/t41zmWcZ2uHa82+VakvZenZLpdN9FWLSY9DqtBSVFfLZjk9xs3Wnj29f4+NHkg/T94rbgiA0jJCgzpyNvdz3MSI0hJS0ixw+Go1Go2HDps209fSkjYd7lXUtLMyJCA3hz42bKCsrJzYujqPHT9K7x+ULaTRaLRqN4UyAVmf4t3Spo+feAwd55a13q83l4e6Gt5cX6zdtRqPREBV9jOSUVLpWc0rPq00b3n39FV6e/Qwvz36G+yeMx97OjpdnP4OToyM6nY5vli3H3MyMKfdNrLaD/JnY8wR37ly7F09oPeNQCZWNHOjN9Bd3UFauw8JchaO9BW8824PPlh7jvUVHCAp04tWnuhuX/3HtWY6dzuL9l/pwMaOYv/5NwMxMyd2PXp5/75lHwrhpgDfhXVx58K5OvPlJJDl5ZTjaW3DfHR3oEW44CGVklRDSyblKpgqvPtWdD7+M4vaHN+LuasUbz/TA0d6C0V3GcO/Se9nx4+9sWHY7TtZOhEuP8O76Bby1aQ5W5e2YEvw/Rg02TDG07MBSftv9H0RPQK8qQhv8K+Vu6Yz+SkV7J18+GDufxYtKeGlme/489hPJecl8t+8bvtv3jTHL1pk7ALhYcJEwr2sPsPfWLe/w1qY3GfnFcNrYe/DOmPdxsjaMVROVdIRn180ybgtgx7n/sDW3pbtP1dH4f4xcbryKr49vX94fW3kk6c2n/2HOaHnmLxSElqxPjx6889EnlJdrMDc3w87WlulTHmDNb+tY9uMqfNu3Y9rkScbl//53C+fOx/Hk9GkA3HvXOH5Y8xP/e2MONtY23HvXuEqtWXPe+5DsnBwAPvv6WwDefvUlXJydycnNJcDP95rZpk2exPer1jD7lddxcnLikSkPYGdraKU+e/48ny9ewoL330GlUuFgf/kCIBtraxQKhfG+M+diOXbyFGZmZsx+5XXjck9Mf5gOl+a6jTwcxUOT7q3PS9kqKSSpmjlZBMAw9UxkZKTcMRrNt6tO4eRgwV231Oxqtobyv3f28sSUENpfo/Xrer7c9TlO1k5M7HZfvXPsOZTGvzuTeP3pG08xNOvXmTwzZDa+Ln713m997IzdwcZTf/POre/JmuNGWvrfjqkT78+1rVv/N3a2tgwfPLBJ97vwq8WMv/N2PD2qnsZrStEnTrI/8hCPPPiArDmaq+v97YiC6jpcXV3x9fWVO8Z1ZWRk4ObmduMFZWYKOU0hI5hGzvj4eDIzb9xnTpCH3Mc2U/gMNxXxWhiYyutwvWObKKhMnKn80jSFnKaQEUwnpyBci/gMXyZeC4OW8DqITumCIAiCIAj1JAoqQRAEQRCEehIFlYmbPn263BFqxBRymkJGMJ2cgnAt4jN8mXgtDFrC6yD6UAmCIAiCINSTaKESBEEQBEGoJ1FQCYIgCIIg1JMoqEzExo0b6dSpE4GBgbz//vtVHv/xxx8JCwsjLCyMfv36cfTo0WaXscLBgwdRqVT88ssvTZjusprk3L59OxEREQQHBzN48OAmTnjjjHl5edx2222Eh4cTHBzM0qVLmzyjIFzPjT7DkiTx1FNPERgYSFhYGIcPH65mKy2DKRy/m4qpfE/UiSQ0e1qtVvL395diY2OlsrIyKSwsTDpx4kSlZXbv3i1lZ2dLkiRJGzZskHr16tXsMlYsN3ToUGn06NHSzz//3KQZa5ozJydHCgoKkhISEiRJkqSLFy82u4zvvPOO9L///U+SJElKT0+XnJycpLKysibNKQjXUpPP8Pr166Wbb75Z0uv10t69e5v8mNVUTOH43VRM5XuirkQLlQk4cOAAgYGB+Pv7Y25uzsSJE/n9998rLdOvXz+cnAxzx/Xp04ekpKRmlxHgs88+46677sLdverkok2hJjlXrlzJuHHjaNeuHUCTZ61JRoVCQUFBAZIkUVhYiLOzM2q1mJpTaB5q8hn+/fffmTx5MgqFgj59+pCbm0tqaqpMiRuPKRy/m4qpfE/UlSioTEBycjI+Pj7G297e3iQnJ19z+SVLljB69OimiGZUk4zJycmsXbuWGTNmNGm2qzPcKOeZM2fIyclhyJAhdO/eneXLlze7jDNnzuTUqVN4eXkRGhrKp59+Wu2s8YIgh5oeD2pzXDNVpnD8biqm8j1RV+InrQmQqhnZQqFQVLvstm3bWLJkCbt27WrsWJXUJOPTTz/NBx98gEqlaqpYVdQkp1ar5dChQ2zZsoWSkhL69u1Lnz596NixY7PJ+M8//xAREcHWrVuJjY1lxIgRDBw4EPsrZpkXBLnU5DNcm+OaKTOF43dTMZXviboSBZUJ8Pb2JjEx0Xg7KSkJLy+vKstFR0czbdo0/v77b1xcXJoyYo0yRkZGMnHiRAAyMzPZsGEDarWaO+64o1nl9Pb2xtXVFRsbG2xsbBg0aBBHjx5tsoKqJhmXLl3Kiy++iEKhIDAwED8/P06fPk2vXr2aJKMgXE9N/85qclwzdaZw/G4qpvI9UWey9d4Sakyj0Uh+fn7S+fPnjR35jh8/XmmZhIQEKSAgQNq9e3ezzXilBx98UJbOhjXJefLkSWnYsGGSRqORioqKpODgYOnYsWPNKuOMGTOkN954Q5IkSUpLS5O8vLykjIyMJssoCNdTk8/wX3/9ValTes+ePWVK27hM4fjdVEzle6KuRAuVCVCr1SxatIhRo0ah0+mYOnUqwcHBfPXVVwDMmDGDuXPnkpWVxeOPP25cpyln7q5JxuagJjmDgoK4+eabCQsLQ6lUMm3aNEJCQppVxtdee40pU6YQGhqKJEl88MEHuLq6NllGQbiemnyGb7nlFjZs2EBgYCDW1tYtdugPUzh+NxVT+Z6oKzH1jCAIgiAIQj2Jy4IEQRAEQRDqSRRUgiAIgiAI9SQKKkEQBEEQhHoSBZUgCIIgCEI9iYJKEARBEAShnkRBJTQ4lUpFREQEISEhjB8/nuLi4lqtHx8fz8qVK+u07379+tVpPUEQhKYwZ84c5s+fX6PHly1bRkpKSlNFE+pJFFRCg7OysiIqKorjx49jbm5uHGOkpupSUOl0OgD27NlT63UEQRCaI1FQmRZRUAmNauDAgZw7d47s7GzuuOMOwsLC6NOnD9HR0QD8999/REREEBERQdeuXSkoKODFF19k586dRERE8Mknn6DT6Xj++efp2bMnYWFhfP311wBs376doUOHct999xEaGgqAra0tYJgz6vnnnyckJITQ0FDWrFlzzXWuZGtry+zZs+nWrRvDhw8nIyOjKV4mQRBasHfeeYdOnTpx0003ERMTA0BsbCw333wz3bt3Z+DAgZw+fbrSOr/88guRkZFMmjSJiIgISkpKmDt3Lj179iQkJITp06dXOzeeICNZx2kXWiQbGxtJkgzTDIwdO1b64osvpJkzZ0pz5syRJEmStmzZIoWHh0uSJEm33nqrtGvXLkmSJKmgoEDSaDTStm3bpDFjxhi39/XXX0tvvfWWJEmSVFpaKnXv3l06f/68tG3bNsna2lo6f/58lX3/8ssv0k033SRptVopLS1N8vHxkVJSUqpd50qAtGLFCkmSJOnNN9+UnnjiiQZ8ZQRBaG0iIyOlkJAQqaioSMrLy5MCAgKkefPmScOGDZPOnDkjSZIk7du3Txo6dKgkSZL0xhtvSPPmzZMkSZIGDx4sHTx40LitrKws47/vv/9+6Y8//mjCZyLciJh6RmhwJSUlREREAIYWqocffpjevXvz66+/AjBs2DCysrLIy8ujf//+PPvss0yaNIlx48bh7e1dZXubNm0iOjqaX375BYC8vDzOnj2Lubk5vXr1ws/Pr8o6u3bt4t5770WlUuHh4cHgwYM5ePAg9vb211wHQKlUMmHCBADuv/9+xo0b1xAviSAIrdTOnTu58847sba2BmDs2LGUlpayZ88exo8fb1yurKzshtvatm0bH374IcXFxWRnZxMcHMxtt93WaNmF2hEFldDgKvpQXUmqpmlaoVDw4osvMmbMGDZs2ECfPn34999/qywnSRKfffYZo0aNqnT/9u3bsbGxqTZDdfurcK11qqNQKGq8rCAIQnWuPo7o9XocHR2rHCevp7S0lMcff5zIyEh8fHyYM2cOpaWlDZxUqA/Rh0poEoMGDeLHH38EDIWQq6sr9vb2xMbGEhoaygsvvECPHj04ffo0dnZ2FBQUGNcdNWoUX375JRqNBoAzZ85QVFR0w/2tWbMGnU5HRkYGO3bsoFevXjfMqdfrjS1hK1euZMCAAXV9yoIgCAwaNIi1a9dSUlJCQUEBf/75J9bW1vj5+fHzzz8Dhh+AR48erbLulcfCiuLJ1dWVwsJC43FKaD5EC5XQJObMmcNDDz1EWFgY1tbWfP/99wAsWLCAbdu2oVKp6NKlC6NHj0apVKJWqwkPD2fKlCnMmjWL+Ph4unXrhiRJuLm5sW7duuvu784772Tv3r2Eh4ejUCj48MMPadOmTZWOn1ezsbHhxIkTdO/eHQcHB2NndkEQhLro1q0bEyZMICIigvbt2zNw4EAAfvzxRx577DHefvttNBoNEydOJDw8vNK6U6ZMYcaMGVhZWbF3714eeeQRQkND8fX1pWfPnnI8HeE6FNL1zo0IQitja2tLYWGh3DEEQRAEEyNO+QmCIAiCINSTaKESBEEQBEGoJ9FCJQiCIAiCUE+ioBIEQRAEQagnUVAJgiAIgiDUkyioBEEQBEEQ6kkUVIIgCIIgCPX0f2icj9to9hR5AAAAAElFTkSuQmCC' style='max-width:100%; margin: auto; display: block; '/>"
      ],
      "text/plain": [
       ":Layout\n",
       "   .Overlay.Posterior_p_Comparison :Overlay\n",
       "      .Curve.A     :Curve   [value]   (pdf)\n",
       "      .Curve.B     :Curve   [value]   (pdf)\n",
       "      .Curve.I     :Curve   [x]   (y)\n",
       "      .Points.A    :Points   [x,y]\n",
       "      .Text.A      :Text   [x,y]\n",
       "      .Curve.II    :Curve   [x]   (y)\n",
       "      .Points.B    :Points   [x,y]\n",
       "      .Text.B      :Text   [x,y]\n",
       "      .Curve.Prior :Curve   [value]   (pdf)\n",
       "   .Overlay.Posterior_p_Delta      :Overlay\n",
       "      .Curve.Delta_Distribution            :Curve   [value]   (pdf)\n",
       "      .Curve.A_0_full_stop_95_percent_HDI  :Curve   [x]   (y)\n",
       "      .Points.A_0_full_stop_95_percent_HDI :Points   [x,y]\n",
       "      .Text.A_0_full_stop_95_percent_HDI   :Text   [x,y]\n",
       "      .Spikes.Null_Delta                   :Spikes   [x]   (pdf)"
      ]
     },
     "execution_count": 13,
     "metadata": {
      "application/vnd.holoviews_exec.v0+json": {}
     },
     "output_type": "execute_result"
    }
   ],
   "source": [
    "bayesian_ab_test_results.visualize(include_prior=True)"
   ]
  },
  {
   "cell_type": "markdown",
   "metadata": {},
   "source": [
    "The default prior, plotted in gray is more-or-less uniform across the entire probability space. \n",
    "\n",
    "Below we rerun our Bayesian inference, but with a much stronger prior, one that defines a Beta prior tightly bound around 0.5. In this scenario we either need a lot of data to overcome the prior, or _very_ strong effects to pull the data away from that prior"
   ]
  },
  {
   "cell_type": "code",
   "execution_count": 14,
   "metadata": {},
   "outputs": [
    {
     "data": {
      "text/html": [
       "<pre style=\"white-space:pre;overflow-x:auto;line-height:normal;font-family:Menlo,'DejaVu Sans Mono',consolas,'Courier New',monospace\"><span style=\"color: #008080; text-decoration-color: #008080; font-weight: bold\">Samples Comparison                  </span>\n",
       "┏━━━━━━━━━━━━━━━━┳━━━━━━━━┳━━━━━━━━┓\n",
       "┃<span style=\"color: #008080; text-decoration-color: #008080; font-style: italic\">                </span>┃<span style=\"color: #008080; text-decoration-color: #008080; font-style: italic\"> A      </span>┃<span style=\"color: #008080; text-decoration-color: #008080; font-style: italic\"> C      </span>┃\n",
       "┡━━━━━━━━━━━━━━━━╇━━━━━━━━╇━━━━━━━━┩\n",
       "│        Samples │ 35     │ 44     │\n",
       "│           Mean │ 0.4286 │ 0.75   │\n",
       "│ Standard Error │ 0.0836 │ 0.0653 │\n",
       "│       Variance │ 0.2449 │ 0.1875 │\n",
       "│          Delta │        │ 0.3214 │\n",
       "└────────────────┴────────┴────────┘\n",
       "</pre>\n"
      ],
      "text/plain": [
       "\u001b[1;36mSamples Comparison                  \u001b[0m\n",
       "┏━━━━━━━━━━━━━━━━┳━━━━━━━━┳━━━━━━━━┓\n",
       "┃\u001b[3;36m \u001b[0m\u001b[3;36m              \u001b[0m\u001b[3;36m \u001b[0m┃\u001b[3;36m \u001b[0m\u001b[3;36mA     \u001b[0m\u001b[3;36m \u001b[0m┃\u001b[3;36m \u001b[0m\u001b[3;36mC     \u001b[0m\u001b[3;36m \u001b[0m┃\n",
       "┡━━━━━━━━━━━━━━━━╇━━━━━━━━╇━━━━━━━━┩\n",
       "│        Samples │ 35     │ 44     │\n",
       "│           Mean │ 0.4286 │ 0.75   │\n",
       "│ Standard Error │ 0.0836 │ 0.0653 │\n",
       "│       Variance │ 0.2449 │ 0.1875 │\n",
       "│          Delta │        │ 0.3214 │\n",
       "└────────────────┴────────┴────────┘\n"
      ]
     },
     "metadata": {},
     "output_type": "display_data"
    },
    {
     "data": {
      "text/html": [
       "<pre style=\"white-space:pre;overflow-x:auto;line-height:normal;font-family:Menlo,'DejaVu Sans Mono',consolas,'Courier New',monospace\"><span style=\"color: #008080; text-decoration-color: #008080; font-weight: bold\">Bayesian Delta Results                    </span>\n",
       "┌────────────────────┬───────────────────┐\n",
       "│ Delta              │ 0.054             │\n",
       "│ Delta HDI          │ (-0.0289, 0.1494) │\n",
       "│ Delta Relative     │ 11.02 %           │\n",
       "│ Delta-relative HDI │ (-5.89, 30.5) %   │\n",
       "│ Effect Size        │ 1.2028            │\n",
       "│ Effect Size HDI    │ (-0.6432, 3.3278) │\n",
       "│ HDI %-tiles        │ (0.025, 0.975)    │\n",
       "│ Credible Mass      │ 0.95              │\n",
       "│ Variable Type      │ binary            │\n",
       "│ Inference Method   │ Bayesian          │\n",
       "│ Model Name         │ binomial          │\n",
       "│ Estimation Method  │ analytic          │\n",
       "│ p(C &gt; A)           │ 0.886             │\n",
       "│ Hypothesis         │ C is larger       │\n",
       "│ Accept Hypothesis  │ False             │\n",
       "└────────────────────┴───────────────────┘\n",
       "</pre>\n"
      ],
      "text/plain": [
       "\u001b[1;36mBayesian Delta Results                    \u001b[0m\n",
       "┌────────────────────┬───────────────────┐\n",
       "│ Delta              │ 0.054             │\n",
       "│ Delta HDI          │ (-0.0289, 0.1494) │\n",
       "│ Delta Relative     │ 11.02 %           │\n",
       "│ Delta-relative HDI │ (-5.89, 30.5) %   │\n",
       "│ Effect Size        │ 1.2028            │\n",
       "│ Effect Size HDI    │ (-0.6432, 3.3278) │\n",
       "│ HDI %-tiles        │ (0.025, 0.975)    │\n",
       "│ Credible Mass      │ 0.95              │\n",
       "│ Variable Type      │ binary            │\n",
       "│ Inference Method   │ Bayesian          │\n",
       "│ Model Name         │ binomial          │\n",
       "│ Estimation Method  │ analytic          │\n",
       "│ p(C > A)           │ 0.886             │\n",
       "│ Hypothesis         │ C is larger       │\n",
       "│ Accept Hypothesis  │ False             │\n",
       "└────────────────────┴───────────────────┘\n"
      ]
     },
     "metadata": {},
     "output_type": "display_data"
    },
    {
     "data": {
      "text/html": [
       "<img src='data:image/png;base64,iVBORw0KGgoAAAANSUhEUgAAAlQAAADaCAYAAABgvdyoAAAAOXRFWHRTb2Z0d2FyZQBNYXRwbG90bGliIHZlcnNpb24zLjguMCwgaHR0cHM6Ly9tYXRwbG90bGliLm9yZy81sbWrAAAACXBIWXMAAAsTAAALEwEAmpwYAACONElEQVR4nOydd3hURReH3y3pvXdSgYRACJDQe+9YELCCiIgKdj+7IjZsiIqCKGJBiqI0KYL0DqF3QiC9976b7N7vj4WFmEKAJLtJ5n0eeLJ7Z+b+7pbZc8+cOUcmSZKEQCAQCAQCgeC2kRtagEAgEAgEAkFjRxhUAoFAIBAIBHeIMKgEAoFAIBAI7hBhUAkEAoFAIBDcIcKgEggEAoFAILhDhEElEAgEAoFAcIcIg0ogEAgEAoHgDhEGlUAgEAgEAsEdIgwqwW3x22+/MXjwYEPLaJSEhoayY8cOQ8sQCAQNQGOfK/v27csPP/xgaBmNAmFQNQL8/PywsLDA2toaNzc3Hn30UQoLC297vJkzZ/LQQw/dkaYHH3yQzZs339EYd0JKSgqPPfYYHh4e2NjYEBwczDvvvENRUZHBNNWWM2fO0LdvX0PLEAiaHGKurMhPP/2EQqHA2toaa2tr/P39efTRR7l48eJtj9ezZ886Vtl0EAZVI2HdunUUFhZy9OhRDh8+zPvvv28wLeXl5bfdV5IktFrtHZ0/Ozubbt26UVJSwv79+ykoKGDLli3k5uYSExNzR2PXJ3fyugkEgtoh5sqKdOvWjcLCQvLy8vj333+xsLCgU6dOnD59+o7HFlREGFSNDC8vL4YNG6b/Mqxdu5bQ0FDs7e3p27cv586d07f9+OOP8fLywsbGhtatW7N161Y2bdrEhx9+yIoVK7C2tqZ9+/YA5OXl6T0+Xl5evPnmm2g0GkB3V9KjRw+ef/55HB0dmTlzZqU7lX379hEZGYmdnR2RkZHs27dPf6xv37688cYb9OjRA0tLSy5fvlzpuvz8/Pjoo49o06YNDg4OPProo5SWllb5GsyZMwcbGxuWLFmCn58fAD4+Pnz55ZeEhYXVSs+bb75J9+7dsba2ZtSoUWRlZfHggw9ia2tLZGQksbGx+vYymYyvvvqKgIAAnJ2defnll/UTXUxMDP3798fJyQlnZ2cefPBBcnNzK1zXxx9/TFhYGFZWVpSXl+Pn58e///4LwKFDh4iIiMDW1hY3NzdeeOEFfd+a3ls/Pz8+++wzwsLCsLOzY/z48dW+XgJBc0TMlRVRKBQEBgby7bff0qdPH2bOnKk/duDAAbp37469vT3t27evMiTh3LlzTJs2jf3792NtbY29vT0A69evp0OHDtja2uLj41Nh3GaHJDB6fH19pS1btkiSJEnx8fFSmzZtpDfffFO6cOGCZGlpKW3evFlSq9XSxx9/LAUGBkoqlUo6f/685O3tLSUlJUmSJElXrlyRLl26JEmSJL3zzjvSgw8+WOEcY8aMkaZOnSoVFhZKaWlpUmRkpLRgwQJJkiRp8eLFkkKhkL766iuprKxMKi4ulhYvXiz16NFDkiRJysrKkuzt7aVffvlFKisrk5YuXSrZ29tLmZmZkiRJUp8+fSQfHx/p9OnTUllZmaRWq6u8xtDQUCk+Pl7KysqSunfvLr3xxhtVvh5dunSR3n777Wpfr9roCQwMlC5duiTl5uZKISEhUsuWLaUtW7ZIZWVl0sMPPyxNmjRJPx4g9e3bV8rKypLi4uKkli1bSt9//70kSZIUHR0tbd68WSotLZXS09OlXr16Sc8++2yF62rfvr0UHx8vFRcXV3o/u3btKv3yyy+SJElSQUGBtH//fkmSpBrf22tjREZGSklJSVJWVpYUHBwszZ8/v9rXRCBoDoi5siI3nvtGFi1aJLm6ukqSJEmJiYmSo6OjtH79ekmj0UibN2+WHB0dpfT0dL2ma/NdVeNt375dOnnypKTRaKQTJ05Irq6u0qpVq27yTjVNhIeqkXDXXXdhb29Pz5496dOnD6+//jorVqxgxIgRDBo0CBMTE1566SVKSkrYt28fCoUClUrF2bNnKSsrw8/Pj8DAwCrHTktLY+PGjcydOxcrKytcXV15/vnnWb58ub6Np6cnM2bMQKlUYmFhUaH/+vXradmyJQ8//DBKpZL777+f4OBg1q1bp28zadIkQkNDUSqVmJiYVKlj+vTp+Pj44OjoyBtvvMGyZcuqbJeVlYWHh0e1r1Vt9Dz66KMEBgZiZ2fHsGHDCAwMZODAgSiVSu677z6OHTtWYcxXXnkFR0dHWrRowXPPPafXFhQUxKBBgzAzM8PFxYUXXniBnTt3Vuj7zDPP4OPjU+l1AzAxMeHSpUtkZmZibW1N165dAWp8b28c19PTE0dHR0aNGsXx48erfU0EguaCmCtvjqenJ9nZ2QAsWbKE4cOHM3z4cORyOYMGDSIiIoINGzbUaqy+ffvSrl075HI5YWFh3H///ZXmwOZCnRlUe/bsQSaTVfh35syZuhq+2bN69Wpyc3OJi4vj22+/xcLCguTkZHx9ffVt5HI5Pj4+JCUlERQUxNy5c5k5cyaurq5MmDCB5OTkKseOi4ujrKwMDw8P7O3tsbe354knniA9PV3fxsfHp1pt/9UB4OvrS1JSUq36V9XG19e3Wr1OTk6kpKTckR43Nzf93xYWFpUe/zeQtTpt6enpTJgwAS8vL2xtbXnooYfIzMystu9/WbRoERcvXiQ4OJjIyEj+/vvvKq/hxvf2Gu7u7vq/LS0t7yj4VlCZn376qdKcJpPJsLS0JCAggAkTJrB3715DyxT8BzFX3pykpCQcHR0B3TX98ccf+uuxt7dnz549Nc6xN3Lw4EH69euHi4sLdnZ2LFiwoNIc2FyoM4Pqp59+qtVzgrrD09OTuLg4/WNJkkhISMDLywuABx54gD179hAXF4dMJuOVV14BdDFBN+Lj44OZmRmZmZnk5uaSm5tLfn5+BYP4v31q0gEQHx+v13Gz/tdISEio0N/T07PKdgMHDmTVqlXVBmzWRs+tUp221157DZlMxsmTJ8nPz2fJkiVIklShb03X3rJlS5YtW0Z6ejqvvPIKY8eOpaio6KbvrcBwlJSUcOXKFVasWEGfPn30RrDAeGmuc2V1rFq1il69egG6a3r44Yf115Obm0tRURGvvvpqpX5VaXvggQcYPXo0CQkJ5OXlMW3atEpzYHOhTgyqkpIS/vjjj0rPL1myRB+sJ6h7xo0bx/r169m6dStlZWV8/vnnmJmZ0b17dy5cuMC2bdtQqVSYm5tjYWGBQqEAdN6Z2NhYvUHi4eHB4MGDefHFF8nPz0er1RITE1Nrt+3w4cO5ePEiS5cupby8nBUrVnD27FlGjhx5S9fzzTffkJiYSHZ2Nh9++CHjx4+vst0LL7xAfn4+EydO1E9OSUlJvPDCC5w8ebLO9NzIp59+Sk5ODgkJCXz55Zd6bQUFBfoAzaSkJD799NNbGnfJkiVkZGQgl8v1QZ4KhaLG91ZgGHbv3s3u3bv57bff9B5NjUbDnDlzDKxMcDOa61x5IxqNhitXrjBjxgx27NjBO++8A8BDDz3EunXr+Oeff9BoNJSWlrJjxw4SExMrjeHm5kZiYiJqtVr/XEFBAY6Ojpibm3Po0CGWLl16S9fSlKgTg+qvv/4iPz8fgK5duxIcHAxAamoq//zzT12cQlAFrVu3ZsmSJcyYMQNnZ2fWrVvHunXrMDU1RaVS8eqrr+Ls7Iy7uzvp6el8+OGHANx3332AbumsY8eOAPzyyy+o1Wr9zpGxY8fW2uXr5OTE33//zeeff46TkxOffPIJf//9N87Ozrd0PQ888ACDBw8mICCAgIAA3nzzzSrbOTo6sm/fPkxMTOjSpQs2NjYMGDAAOzs7goKC6kzPjYwZM4ZOnToRHh7OiBEjeOyxxwB45513OHr0KHZ2dowYMYJ77rnnlsbdtGkToaGhWFtb8+yzz7J8+XLMzc1rfG8FhqFnz5707NmTBx54oEJuoltdbhE0PM11rgT0u/JsbW3p27cv+fn5HD58mHbt2gE6D9WaNWv48MMPcXFxwcfHh08//bTKFYD+/fsTGhqKu7u7XvO3337L22+/jY2NDbNmzWLcuHG3dC1NCZlUB765QYMG6beBz5s3j5ycHN566y1A94H8/fff7/QUgiaOn58fP/zwAwMHDjS0lErIZDKio6MJCgoytBRBA/LTTz/x6KOP6h9fmyoTExMZM2YMR48eBXTejxUrVhhEo6D5YcxzZXNHeacDJCQksG3bNt1gSiXjxo2jsLBQb1CtXbuWnJwcHBwc7vRUAoFAYDCqih9p27Ytn3zyiQHUCAQCY+OOl/x+/fVXvWtwyJAhuLi44O/vr4/1UKlUFbaUCgQCQVPBysqKgoICQ8sQCARGwB0bVD///LP+7wcffLDKv8VuP8HNiI2NNVoXtiRJYrlPoA9KX7t2Lf369QN0W8aHDh2KSqUysDpBc8GY58rmzh3FUO3bt48ePXrUqu3Zs2cJCQm53VMJBAJBg1JdDBXoNtzcmFz2n3/+YfDgwQ2qTyAQGBd3FEN1o3eqNm1nz559J6drcJydnfW14gQCQe2JjY1t0sn9/nsfei3rdGNBzG0Cwe1R09x22wZVaWlphZ0tL730UqV0/adOneLbb78FdLFWH3zwgT6/R2PAz8+PqKgoQ8sQCBodERERhpZQ5+zZsweAnJwcvvjiiwrH2rRpYwhJt42Y2wSC26Omue22DapVq1aRl5cHgK2tLe+//z5mZmYV2uTm5vL9999TVlZGcnIyW7ZsYejQobd7SoFAIDAY1zJL/5cHHniAsLCwBlYjEAiMjdsOSr9xuW/kyJGVjCkAe3t7ffAmiOB0gUDQ+FEoFDg5OdGnTx8WLlzIL7/8YmhJAoHACLhtD9WmTZtq1U5kShcIBI2RSZMmMWnSJEPLEAgEjYQ7TuwpEAgqU1ZWRmJiIqWlpYaWUq+Ym5vj7e2NiYmJoaUIBPVOc/leC25vbhMGlUBQDyQmJmJjY4Ofn1+tqsc3RiRJIisri8TERPz9/Q0tRyCod5rD91pw+3NbnRRHFggEFSktLcXJyalJT7oymQwnJydxty5oNjSH77Xg9uc2YVAJBPVEc5h0m8M1CgQ3Ij7zzYPbeZ+FQSUQCAQCgUBwhwiDSiBowqxatQqZTMb58+cNLUUgENQBCoWC8PBwQkNDad++PXPmzEGr1dbYJzY2lrZt2wJw/PhxNmzYcEvnjI2NxcLCgg4dOhASEkLnzp0rpE5au3ZtjZVQbnbOqKgonnnmGQBmzpzJZ599dkv65s6dS3Fxsf7x8OHDyc3NvaUx6gJhUAkETZhly5bRs2dPli9fbmgpAoGgDrCwsOD48eOcOXOGLVu2sGHDBt59991a978dgwogMDCQY8eOce7cOZYvX84XX3zB4sWLARg9ejSvvvrqbZ2zvLyciIgIvvrqq1vWdI3/GlQbNmzA3t7+tse7XYRBJag3ikvK2bwrgfe+PMKc709wLjqnUg00Qf1RWFjI3r17WbRokTCoBIJGiCRJ5Ofnk5SURHR0NJcvX0aSJL3x4OrqysKFC5k3bx6SJKHRaHj55ZeJjIwkLCyM7777rsJ4arWat99+mxUrVhAeHs6KFSs4dOgQ3bt3p0OHDnTv3p0LFy7cVFdAQABz5szRG0E//fQT06dPB+CPP/6gbdu2tG/fnt69e1d5zpkzZzJ16lQGDx7MI488wo4dOxg5cqR+/BMnTtC/f39atmzJ999/D1CpzfTp0/npp5/46quvSE5Opl+/fvpE4n5+fvp6e3PmzKFt27a0bduWuXPnAjqPW0hICI8//jihoaEMHjyYkpKS23mLKtCo0iZMnjyZv//+G1dXV06fPg3Ayy+/zLp16zA1NSUwMJDFixdXaZn6+flhY2ODQqFAqVSKOlb1TFpmMS+9t5/ktOt3Deu3xjOolzcvPxmOQt58AjsHTFhXL+NuXT6qxuOrV69m6NChtGrVCkdHR44ePUrHjh3rRYtA0Jgof/I5AJTz5972GPUVnH7tprOgoIDExESKiooqHT979iwuLi54enoSEBCAVqslPT2dNWvWYGdnx+HDh1GpVPTo0YPBgwfrtZqamjJr1iyioqKYN28eAPn5+ezatQulUsm///7L66+/zp9//nlTnR07dqwylGDWrFn8888/eHl5kZubW+U5Z86cyZEjR9izZw8WFhbs2LGjwhgnT57kwIEDFBUV0aFDB0aMGFGtjmeeeYY5c+awfft2nJ2dKxw7cuQIixcv5uDBg0iSRJcuXejTpw8ODg5ER0ezbNkyvv/+e8aNG8eff/7JQw89dNPrrolG5aGaNGlSpQztgwYN4vTp05w8eZJWrVrx0UcfVdt/+/btHD9+XBhT9UxaZjEvztIZU37eNkyf1JZxIwMxN1OwZXciX3x/Eq1WeKrqm2XLljFhwgQAJkyYwLJlywysSCAQ3AytVktCQgIXLlygqKgIExMT3NzcCAgIqJD/KiMjg3PnzlFaWqo3wjZv3swvv/xCeHg4Xbp0ISsri+jo6BrPl5eXx3333Ufbtm15/vnnOXPmTK10Vrfa0KNHDyZNmsT333+PRqOptv/o0aOxsLCo8tiYMWOwsLDA2dmZfv36cejQoVpp+i979uzh7rvvxsrKCmtra+655x52794NgL+/P+Hh4QB06tSJ2NjY2zrHjTQqD1Xv3r0rXfTgwYP1f3ft2pWVK1c2sCrBjWi1Eh98dZSU9GJaB9rzyetdsbbSZZrt1smNVz86wMbt8Xi5W3H/mCADq20YbuZJqg+ysrLYtm0bp0+fRiaTodFokMlkfPLJJ2Lbt0BQB9RH+EJZWRnR0dEUFBQgk8lwd3fH3d0dhUKhbyOTyQgNDSU2NpaioiK2bt2KQqHA1dUVSZL4+uuvGTJkSIVxazIW3nrrLfr168eqVauIjY2lb9++tdJ67NgxQkJCKj2/YMECDh48yPr16wkPD+f48eNV9reysqp27P/OUTKZDKVSWSH4vjY5omp6j26sP6xQKOpkya9Reahuxo8//siwYcOqPCaTyRg8eDCdOnVi4cKF1Y6xcOFCIiIiiIiIICMjo76kNlnWb43jzMUcHO3NmP1aF70xBRAW4sRbz0YA8MvKCySmFBpKZpNn5cqVPPLII8TFxREbG0tCQgL+/v7s2bPH0NIEAkEVqFQqzp8/T0FBASYmJrRu3RovL68KxtQ1LCwsaNWqFWq1mvfee4+xY8dSXl7OkCFDmD9/PmVlZQBcvHix0pKhjY0NBQUF+sd5eXl4eXkBulio2hAbG8tLL73EjBkzKh2LiYmhS5cuzJo1C2dnZxISEiqd82asWbOG0tJSsrKy2LFjB5GRkfj6+nL27FlUKhV5eXls3bq12mu6Ru/evVm9ejXFxcUUFRWxatUqevXqVWsdt0qj8lDVxAcffIBSqeTBBx+s8vjevXvx9PQkPT2dQYMGERwcTO/evSu1mzp1KlOnTgUgIiKiXjU3NbJySvl+6TkApk9qi621aaU23Tq5MaiXN1t2JzLn+5N8/la3RuMx0Wg1nEw+waWMaBRyBS1dWtHWo51R6l+2bFmlXTf33nsvS5curdcJRSAQ3DrFxcVER0dTVlaGpaUlQUFBmJpWnj8BSkpKCA8Pp6ysDKVSyZAhQxg7dixXrlzhscceIzY2lo4dOyJJEi4uLqxevbpC/379+jF79mzCw8N57bXX+N///sfEiROZM2cO/fv3r1ZjTEwMHTp0oLS0FBsbG2bMmMGjjz5aqd3LL79MdHQ0kiQxYMAA2rdvT4sWLSqc82Z07tyZESNGEB8fz1tvvYWnpycA48aNIywsjJYtW9KhQwd9+6lTpzJs2DA8PDzYvn27/vmOHTsyadIkOnfuDMCUKVPo0KFDnSzvVYVMamTbrmJjYxk5cqQ+KB3g559/ZsGCBWzduhVLS8ubjjFz5kysra156aWXamwXEREh4q1uga9+PMWazbF07ejG+y9HVmto5OWrePTFHeQVqHnzmY706+7VsEJvEa2k5e8z6/h+3wIyizIrHAt2DeHlAa/Qxj20wvPnzp2r0h3eFKnqWsV3x7hp7u/P7Qal18f3urCwkOjoaDQaDTY2NgQFBVXplaoOtVrN2bNnKS8vx8PDQ+9tEtw5tzq3Nfolv02bNvHxxx+zdu3aao2poqIivTuwqKiIzZs365OcCeqGzOxSNmyPB+Dx+0Nq9NrY2Zrx6PjWAPz0xwU0mpqT0hmSzMJMnv5jGh9teZ/Moky87LwY0/YuRoaOxt7CnvPp53jqjyfYHbPL0FIFAkEjIz8/n4sXL6LRaLC3t6dly5a3ZEyBbudeQEAAACkpKZWW+AQNR6MyqO6//366devGhQsX8Pb2ZtGiRUyfPp2CggIGDRpEeHg406ZNAyA5OZnhw4cDkJaWRs+ePWnfvr3elTh06FBDXkqT4/d1lygr09K7iwd+PjY3bT+sbws8XC1JTCli867EBlB461xIv8DkZRM5nnQMJ0sn3h32Pn88uopXB73BG4PfYtWUdYwIHYWqXMVr6/7HscSjhpYsaKZ88cUXhIaG0rZtW+6//35RsLoRcG0HnlarxcnJicDAQOTy2/tJtrW1xc3NDdCt4twsc7qgfmhUMVRVbft+7LHHqmzr6empz8waEBDAiRMn6lVbcyY3X8W6f+MAeOielrXqo1TKmTSuNR/NO8Yvf15kYC9vTJTGY9+fSj7JC6ufpVBVSLhXBz4Y8RGOVk4V2pgrzXlj0FtYm1qz4tgy3t7wBj8/9BuOlo4GUi1ojiQlJfHVV19x9uxZLCwsGDduHMuXL2fSpEmGliaoAkmSSEtLIzFRdyPp5uaGt7f3Hcdienp6kpubS0lJCWlpaXh4eNSFXMEtYDy/YIJGy/qtcajLtHTt6Eagr12t+/Xv7oWftw3pmSVs3pVQjwpvjTOpZ3jurxkUqgrp13IAX937TSVj6hoymYzpvZ8h3KsDmUWZfLTl/QZWKxDoyneUlJRQXl5OcXGxPohXYFxotVri4uL0xpS3tzc+Pj51srFFoVDg6+sL6FZoVCrVHY8puDWEQSW4I8rLtazdovNO3T3U/5b6yuUyHrxb59FatvqSUcRSxWbH8uKqZykuK2ZQ6yHMGv4+JgqTGvso5UreHf4+lqZW7Lm8m/1X9jaQWoEAvLy8eOmll2jRogUeHh7Y2dlVyM93DZESxrCUlZVx8eJFMjMzkclkBAQE4O7uXqfnsLW1xdHREUmSSEgwnpvU5oIwqAR3xN6oVDKzS2nhaU2nds437/Af+nTzxMvdipT0YrbtTaoHhbUnpziHF1Y9S15pHt39e/D2kJko5bVbFXe1dmVyF93y89ydX4iahYIGIycnhzVr1nDlyhWSk5MpKipiyZIlldpNnTqVqKgooqKicHFxMYDS5ktRURHnzp2jsLAQExMTgoODcXSsn9AAb29v5HI5ubm55Ofn18s5BFUjDCrBHbH6nysAjBnid1tua4VcxgN36TKmL119CY2BStKoy9W8tu5/pOQnE+LWhg9GzEapuLUQw3EdJuBj34L4nDhKyopv3qGeSU1NZcKECQQGBtKmTRuGDx/OxYsXDS1LUMf8+++/+Pv74+LigomJCffccw/79u0ztCzBVTIzMzl//jxqtRpra2tCQkJqzBJ+MzZt2kTr1q0JCgpi9uzZlY6bmppiYWHByy+/TEREBJ07d66QZsjPz4927doRHh5eIdfiK6+8QlhYGI888oj+uV9//ZUvv/yySh2xsbGVdsvPnDmTzz77DNCVivP396d9+/a0atWKRx55hKSk6zfNNxYwbioIg0pw28QlFXDyXDYW5goG9/a57XEG9vTGzdmC+ORCdh9MqUOFteerXXM5kXwcF2tXPhn9OeYm5rc8honChGk9ngKgUFWEVjLcEqYkSdx999307duXmJgYzp49y4cffkhaWprBNAnqhxYtWnDgwAGKi4uRJImtW7c2mxxoxsy1ZbfY2Fh9ks1WrVpVm7CzNmg0Gp5++mk2btzI2bNnWbZsGWfPnq3UbtGiRYSEhLB06VLmzp3Ls88+W+H4f+va5uXlsW/fPk6ePIlGo+HUqVOUlJTw008/8dRTT9223k8//ZQTJ05w4cIFOnToQL9+/VCr1bc9nrEjDCrBbbNhmy7vVP/uXlha3P6GUaVSrq/rt2TVxQYvnPzvhc38eeIPTBQmzB71Cc7Wt750eY2+Lfvh7+iPVtKQX5JXhypvje3bt2NiYqJPIwIQHh4usqQ3Qbp06cLYsWPp2LEj7dq1Q6vV6qs9CAyDVqvl8uXLpKWlIZPJ8PX1xdfX97bTIlzj0KFDBAUFERAQgKmpKRMmTGDNmjWV2p07d46RI0cCupp5sbGxNd5MyeVy1Go1kiRRUlKCiYkJn376Kc888wwmJjXHkNYGmUzG888/j7u7Oxs3brzj8YyVRpU2QWA8qMs0+p15wwf43vF4Q/r48Otf0VyJL2DfkVR6RjbMlt+k3EQ+2vIBAM/2eb5SxvNbRS6TM7HLZMiDrOIs7Czs6T63c11IrcT+5w9Xe+z06dN06tSpXs4rMD7effdd3n33XUPLaFY8+cLL9TLu/DmfVnssKSkJH5/rqwHe3t4cPHiwUrv27duzZcsWpk6dyqFDh/Q7C93c3PR1bWUyGU888QRTp07FxsaGe++9lw4dOjBgwADs7Ow4fPgwb7/9do1aY2JiCA8P1z9OTU2tsQJJx44dOX/+PGPGjKlx3MaK8FAJbou9h1PJLygj0NeW1gG1T5VQHaamCiaMDgTgl5UN46Uq15bz7qZ3KC4rpl/LAdwTNrZOxh3YahAKuQK1Rk2hqvYFQQUCgaAmqtrsUlXs6quvvkpubi7jx49nxYoVtG7dWt937969HD16lI0bN/LNN9+wa5euysP//vc/jh8/zueff85bb73FrFmz+OGHHxg3bhzvv191OpjAwECOHz+u/3ejR7y2+psSwkMluC2ulZkZ3q9FnRUHHjnAlxXrYoiJy2f3oURaB1qSW1iIVqtFIVfgaGeDo70dijt0m1/jt6hfOZVyEmcrF14Z+FqdXYdCrsDSVBd0ml2cXaMnqb4IDQ1l5cqVDX5egaC58F9PkiRJxMTEkJubi1KpJDg4GHPzW4/FrAlvb+8K6RASExOrzDlma2vL4sWLAYiOjqZPnz56Ldfau7q6cvfdd3Po0CF69+6t73vs2DEAWrVqxbPPPsuuXbuYMGEC0dHRtGxZu8TN1XHs2DEGDBhwR2MYM8JDJbhl0jKLOXY6ExMTOQN61l0hTlNTBQ/fG8DIQfZoZRlciI0nLTObjOxcUjOzOBsTy4ETp8nIzr3jc8Vmx7LowPcAvDnkbezM79zLdiMWJhbIZQqKy4opLSup07FrQ//+/VGpVHz//ff65w4fPszOnTsbXItA0BxITk4mNzcXhUJBq1at6tyYAoiMjCQ6OporV66gVqtZvnw5o0ePrtQuNzdXH/y9efNmOnToQGlpKVlZWTeta3vNO1VWVoZGowF0MVbFxbe/c1mSJL766itSUlKadNk3YVAJbpktuxKRJOgR4Y6N9e3vWLkRrVYiPiUVO7sCOoZZA6ApNyGwhRfBAb4EeHtibWlBebmGszFXiI5LuG33sVbSMnvLB5RpyhjVdgxdfLvWyTXciFwmx97CHoDs4pw6H/9myGQyVq1axZYtWwgMDCQ0NJSZM2eKDNoCQT2Qm5tLSopuh3JgYCCWlpb1ch6lUsm8efMYMmQIISEhjBs3jtBQXdznggULWLBgAaALSg8NDSU4OJitW7fy4YcfAnDy5Mka69quXr2ayMhIPD09sbe3p1u3brRr1w6ZTEb79u1vWe/LL7+sT5tw+PBhtm/ffke7HI0dmdTUFzXvgIiICP22UoEOSZJ45LltJKcVM/u1LkS2d73jMYtKSjl/OZbCYp0nR6sx49uf4pDJFPz8RX8szJX6cyenZxKTkIQkSXi7uRDg43XLS3VrTq1i9r8f4mTpxNKJv2NrbnvH1/Bfzp07R2DLQGKyLiFDTpBLUK2ThDY2zp07V2mbvvjuGDfN/f0pf/I5AJTz595Sv6o+6yqVirNnz6LRaPD29q7z7Od1gVqt5tSpU0iSdMd5sJoTtzq3CQ+V4JY4dT6b5LRinB3N6djuzrItS5JEUloGR8+cp7C4BHNTU9q1CqRP5xBcnKzJylHx+7oYfXuZTIaXmwttWwYgk8lITMsgMe3WSmjkluTy7Z5vAHiu74v1Ykxdw1RpipWpNRJa8gyYQkEgENQPkiQRFxeHRqPB3t4eNzc3Q0uqElNTU722xMTEJh8cbiiEQSW4JTbv0hX1HNTLG4X89oO4VeoyTl2M4VJ8IlpJwt3ZkU5tg3G0s0Uul/Hkw20AWLHuEmkZFdfuHe1sCfbXpWq4kphEQVHt1/YX7PmG/NI8InwiGdBq4G3rry0OFg4A5JbkiElMIGhiZGVlkZ+fj1KpxNfXt842ttQH7u7uKBQKCgoKREmaekIYVIJao1Jr2HkgGYBBvb1vawxJkkjLyibq9Dly8gtQKhS0CfSntb8vSoVC365dsBN9u3miUmuZ99PpSuO4Ojng5eqCJMH5y3FotDfPSn4h/QJrT69BIVfwYr+XG2TyszazxkRuglqjplhdVO/nEwgE9cu1GyO1Wq3fcefj41MnCTDrE6VSiYeHLr9fUlKSuMG7Cbfz+giDSlBr9kalUlxSTutAe3y9bG65v0qt5syly5y/HEe5RoOjnS0RbUNwcbSvsv2TD4diaaFk35E09kWlVjru7+2JhbkZxaWlxCdXPn4jkiTx1c4vkJAY234cfk7+t6z/dpDJZNhdDU7PLcltkHMKBIL6wdzcnKysLF08Z3IyGo0GOzu7eit0XNe4urpiYmJCcXExOTkNv1mmsSBJEllZWbe8U7NRRclOnjyZv//+G1dXV32xx+zsbMaPH09sbCx+fn78/vvvODg4VOq7adMmnn32WTQaDVOmTOHVV19taPmNni1Xl/sG97o175QkSaRmZhOTkIhGo0WhUBDo44W7s2ONXiJnR3Mm3deab385w9eLTxEe6lyhxI1CIae1vy/Hz10kITUdd2cnLMzNqhxr9+VdHE08gq25HZO7Trkl/XeKvYU9WUWZFKgKKNeU33LRZYFAYBx4e3uTmJhIUlKSflefqakp58+fN7Cy2qNSqcjOziY3NxdPT0+jXqY0JObm5nh739pvXaOa2SdNmsT06dMrVMOePXs2AwYM4NVXX2X27NnMnj2bjz/+uEK/awUlt2zZgre3N5GRkYwePZo2bdo09CU0WrJzS4k6kY5CIaNf99pvvVeXlXHhSjzZebo1e0c7W1r5+WBWy62zdw3x4989iVy8nMcPy87xzOR2FY7bWVvh5uRAWlYOlxOSCG0ZUGmMcm053+z+GoDHuk6p10D0qjBRmGBlZk2hqoC80jycrJwa9PwCgaBuMDExwc/PjwEDBrB9+3aef/555syZY2hZt0R5eTmhoaFcvHiRBQsW8MQTTxhaUpOhUS359e7du5Jrdc2aNUycOBGAiRMnsnr16kr9altQUlA92/clo5WgS7grdrZVe4H+S25+AVGnz5Odl49SoSA4wJe2LQNqbUyBzgv10hPtUShkrNkcy8lzWZXa+Ht7IpfLyczNIze/cqmXv0+vJT4nDi87b+4Ou7fW565L7PXLfsYXnP7222/z77//GlqGQNAo2LBhA9u3b8fR0ZG33nrL0HJuGaVSqS8l8+67795Rwk5BRRqVQVUVaWlp+kA7Dw8P0tPTK7WpqqBkUlJSleMtXLiQiIgIIiIiyMi4tS35TZmte3TLfQN61s4FmpyeycmLlygrL8fexpqItsG4OdW8xFcdgb523D86CIDPF55ArdZUOG5maoqPuy4f1pWklAoGS2lZqT4j+rQeT2GiMEzgqLWpNcprwellxjOBaTQaZs2axcCBtd/xeC17skDQ3JAkiXfeeQeA119/vcrwksbAvffeS6dOnUhJSeHrr782tJwmQ6M3qGpDbQtKAkydOpWoqCiioqJwcbmzPEtNhYTkQi5czsPSQkm3TjfPsxKfknY1kzl4u7sS1jrolrxSVfHgPS1p4WVNYkoRv/x5sdJxb3dXlEoF+YVF+uVFgN+PLSezKJMQt5AGSZNQHTKZDHsLXXmbvAYKTo+NjSU4OJiJEycSFhbG2LFjKS4uxs/Pj1mzZtGzZ0/++OMPJk2apK/7t3XrVjp06EC7du2YPHkyKpUKoFIfgaA5sm7dOo4cOYKbmxtPPvmkoeXcNnK5nA8++ACAjz/+mLw8kSevLmhUMVRV4ebmRkpKCh4eHqSkpODqWjlzd20LSgqq5t+r3qlenT0wM1XU2DY+JY0ribrUCq38fPBwca4TDaYmCl56oj3PvrOXFeti6N3Vg1b+9vrjSoWCFu5uXE5MJjYpBUc7WwpUBSyJ+gWAaT2eNljw5c7Dxyo8TiedaCp7Um+VPpEdbtrmwoULLFq0iB49ejB58mS+/fZbQBdwuWfPHkC3YQOgtLSUSZMmsXXrVlq1asUjjzzC/Pnzee655yr1EQiaG5IkMXPmTABeffXVeisv01AMHjyYXr16sXv3br744gv9tQlun0bvoRo9ejQ///wzAD///DNjxoyp1Ka2BSUFlZEkiW17dcujNyuEnJ6dozemWvu3qDNj6hqhrRy5Z6g/Wq3E3O9PotFW9Dx6urlgaqKksLiErLx8lh5ZQoGqgE4+EXT27VKnWhoLPj4+9OjRA4CHHnpIbxCNHz++UtsLFy7g7+9Pq1atAF1M4q5du/THq+ojEDQX1q1bx7Fjx/Dw8GgSgdwymUzvpZozZw5ZWZXjUwW3RqPyUN1///3s2LGDzMxMvL29effdd3n11VcZN24cixYtokWLFvrliOTkZKZMmcKGDRsqFJTUaDRMnjxZX1BSUDMXLueRnFaMg50Z4aHVG0gFRcVcuBwHQICPF+7O9bOTbdK4YHYdTOHC5TzWbYnlriHX80kp5HJ83N2ISUjickIiK44uA3SxU4bkRk9Sfmk+SXmJmCnN8Xf0r3ev2X/Hv/a4qlpeNwuWF/W/BM0VSZKYPXs2AP/73/+wsLAwsKK6oVevXgwZMoR//vmHTz75pNIOecGt0ag8VMuWLSMlJYWysjISExN57LHHcHJyYuvWrURHR7N161b9LkBPT082bNig7zt8+HAuXrxITEwMb7zxhqEuodGxY5/OO9W3m2e1pWY0Gg1nY65cLSHjhLdb/cWeWVoomT6pLQA/Lj9Pdq6qwnEPF2dMlEpKStW0sAmiZ0Av2nq0q2oog2BtZo1CpkBVXkppeWm9ny8+Pp79+/cDuu9Pz549q20bHBxMbGwsly5dAuDXX3+lT58+9a5RIDB29uzZw/79+3FwcGDKlIbNY1ffvPfeewDMmzdPbMS6QxqVQSVoWLRaiR37dUt4/bpVH3N2KT6JUpUaKwsLWvp617vXpUekO106uFJUUs5Pf1RMqKdQyHFw1MU2DPQZyZSuU+tVy60il8kbNHN6SEgIP//8M2FhYWRnZ9cYSGtubs7ixYu57777aNeuHXK5nGnTptW7RoHA2LnmuZk+fTrW1tYGVlO3REZGMmLECIqLi/nss88MLadR06iW/AQNy9noHDKyS3F1MiekZdXbg7Ny80jNzEImkxES4ItcXv82ukwm48mHQ4k6mcHGbfHcNcSfgBbXk3VujFlFa/POtLANwMXc+DYf2JvbkV2cRX5pPm7WbvX6msnlchYsWFDhudjY2AqPf/rpJ/3fAwYM4NixikH0VfURCJoLp0+fZv369VhYWDBjxgxDy6kX3nnnHdavX8+8efN46aWXxA7320R4qATVsl2/3OeFvIrlPq1Wy6V43Q5Afy8PrCwbLq7Ax9Oa0YP80Eqw4Ncz+udT81NZffovdiduASAuOdXoEmmamZhjYWKJVtKQrxJV3wV3Tm5uLmPHjiU4OJiQkBD9Mq/gzrmWCX3y5MlN1tAQXqq6QRhUgirRaiV2H9LVqupTzXJfQmo6pSo1lhbmeLlVTldR3zx8byusLJUcOZWpz6D+86HFlGnKsLCW6fNS5RYUNri2m3Etc3p95qTy8/PT17wUNG2effZZhg4dyvnz5zlx4gQhISGGltQkSEtL47fffkMmk/H8888bWk698vbbbwPw7bffisLJt4kwqARVcjY6h6wcFW7OFrQOsKt0XKVWE5+SCkBQC+8qPVj1jZ2NKfcO09Xu+3nlBVLzU/n7zFrkMjkTu07G+6qRF/uf7OkNRU3ntDGzQS6TU1xWjKpcVW07Y8fYvH/Nkfz8fHbt2sVjjz0G6Ir12tvbG1ZUE+Hbb79FrVYzevRoAgMDDS2nXuncuTMDBw6ksLCQefPmGVpOo0QYVIIq2XVAF4zeq4tHlUHm8SlpaLUSzg52ONjaNLQ8PfcOD8DKUsnxM1l8sXkB5dpyBrQahJ+jH15uLnovVU4VNf7qE3Nzc7Kysqo1OBRyhb5Ic0NlTq9rJEkiKysLc3NzQ0tp1ly+fBkXFxceffRROnTowJQpUygqKqrUTpTVujVKS0uZP38+QJP3Tl3j9ddfB2Du3LkUFhqfZ9/YEUHpgkpI0vXlvt5dPCodL1WpSMnQLbH5eVU+3pBYW5kwdkQgi9ccZnf8JmQyGY92mQzosqf7uLtxJTGZ2MQUHGxtGixbure3N4mJiTX+cKk1arKLskiXpZNpnWWwTO53grm5Od7etavvKKgfysvLOXr0KF9//TVdunTh2WefZfbs2frt8NeYOnUqU6fqdr1GREQYQmqj4rfffiMjI4OOHTvSu3dvQ8tpEPr27UvXrl05cOAACxcu5IUXXjC0pEaFMKgElbgQk0t6VinOjuaEBFXe3Xct0NvVyQErI0hwd89QfxYf+QpJpqGLVx/8nQL0x7xcnUlMTaeguJis3DycHewbRJOJiQn+/v41tpEkiQd/Gc+V7CvMHvUpfYL6Nog2QdPC29sbb29vunTRVQMYO3asPgml4PaQJIkvv/wSgOeee65R3uzcDjKZjNdff53Ro0fzxRdfMGPGDExMDFNQvjEilvwEldh1UOed6tXZo1JsVKlKTVpWNgB+nob1Tl2jTFZImYtuq79FesVElAqFAl9PdwCuJCYbVcyPTCZjVLu7AFh7eo1hxQgaLe7u7vj4+HDhwgVAV+C6TZs2BlbVuNmxYwenTp3Czc2NcePGGVpOgzJixAiCg4NJTEzk999/N7ScRoUwqAQVkCSJPYd1weY9I90rHU9Kz0CSwMXRHgtzs4aWVyW/H1uOBjWKnJYc3S8jM7tiBnIPFyfMzUwpLr2+VGksDAsZjlKu5EDsPtIL0gwtR9BI+frrr3nwwQcJCwvj+PHj+lgYwe3x1VdfAfDkk09iZmYc81xDIZfLefHFFwH47LPPjOom1NgRBpWgAvHJhSSlFmFjbUK7YMcKx8rLNaSkZwLg4+5mCHmVKFIV8ucJXf3GCIcxlGsk1m2JrdBGLpfj761L/RCXnIJGo2lomdVib2FPn6C+aCUt68/+bWg5gkZKeHg4UVFRnDx5ktWrV+PgUHUiXsHNuXLlCmvWrMHExKRJFEG+HR566CHc3Nw4fvw427ZtM7ScRoMwqAQV2HvVO9WtoxsKRcWPR0pGJhqtFjsba2ysLA0hrxJrz6ylQFVAuFcHJg8dCMDGHfGUl2srtHNxsMfGyhJ1WTlxKcblCRrd9i4A1p1ei1bS1txYIBDUK9988w2SJDFhwgTc3St76ZsD5ubm+qzwItFn7REGlaAC1wyqHv9Z7pMkieSMa96phk/iWRUarYY/jq0A4P5OD9Iu2JEWXtZk5ajYf7Si0SSTyQhqoduNlpiaTkmp8eR+imgRibutByn5yUTFHza0HIGg2VJUVMSiRYsAmmyZmdoybdo0LCws2LRpE+fPn795B4EwqATXycgu4XxMLmamciLCKpZYyMkvoFSlxszUFEc722pGaFh2xewkJT8ZLztvevj3RCaTMXKAL0ClZT8AW2sr3JwckSSJmITEBlZbPXKZnFGhowFYc2q1YcUIBM2YJUuWkJubS9euXYmMjDS0HIPi5OTEQw89BOhi9AQ3RxhUAj0Hjui8Op3CXDA3q5hRI/lq7JSni5PRbCFecXQZAOM7TEAhVwAwuLc3piZyjpzKJDm1cnJDf29PFHI5Wbn5ZObkNqTcGhkZOgq5TM6umB1kF2cbWo5A0OyQJElvODzzzDMGVmMcXHsdfv75Z3Jzcw0rphEgDCqBnr1RV5f7Iiou95Wq1GTl5iGTyXB3cTKEtEpcyrzEieTjWJpaMTx0pP55G2tT+nTVBaD/syuhUj8zUxP8vHXpHi7FJxpNgLqrjRvd/LpTri1nw9n1hpYjEDQ7tm/fzpkzZ3B3d+fee+81tByjoG3btgwYMKDCUqigeoRBJQCguKSc42eykMmga8eKO/hSM3WpBpzt7TA1kiRvq0/+BcDQkGFYmVpVODakrw8Am3clotVW3vLr5eqCtaUFKnUZscmp9S+2ltwVdg8Aa06tEsHpAkEDc8079eSTT2JqampgNcbDs88+C8C8efOM5gbUWGkSBtWFCxcIDw/X/7O1tWXu3LkV2uzYsQM7Ozt9m1mzZhlGrJFy+EQ6ZeVaQls5YG97Pe+KJEn6RJ7G4p0qVhez8dwGAO4Oq3wn2T7ECTdnC9IzSzhxrnLeKZlMRktfndGVmJpOYXFx/QquJd38uuNq7UpibgJHE44YWo5A0GyIjY1l7dq1mJiY6MvzCHQMHz4cf39/YmNj2bhxo6HlGDVNwqBq3bo1x48f5/jx4xw5cgRLS0vuvvvuSu169eqlb/f2228bQKnxsu/qcl/3/yz35RUU6oLRTUwMWgT5Rv69sJlidRFhnu0Jcg6qdFwulzGot25H3z87Ky/7gS5A3ctVF3h/8UqCUSSvU8gV+hQKq6564AQCQf3z7bffotVqGTduXLNNlVAdCoWCJ598EtCllBBUT5MwqG5k69atBAYG4uvra2gpjQaNRsvBY+kAdO9UcTJJveqdcnN2NJpg9L/PrAOu52+qiiG9dR6o3QdTKCktr7KNn7cHZiYmFBQXk5RefRHjhmRUuzEoZAp2xmwnszDT0HIEgiZPcXExP/zwAyBSJVTH5MmTMTc3Z9OmTVy6dMnQcoyWJmdQLV++nPvvv7/KY/v376d9+/YMGzaMM2fOVNlm4cKFREREEBERQUaGcfzI1jenzmdTUFSGj6cVPp7W+uc1Gg0Z2bmAzqAyBhJy4jmVchILEwv6texfbTtPdyvatnagVKXRl9L5L0qFgiBfnScrNjEFlVpdL5pvBVdrV3oG9kKj1bDujKjvJxDUN0uXLiUnJ4fIyEh9gWlBRZycnJgwYQIA8+fPN7Aa46VJGVRqtZq1a9dy3333VTrWsWNH4uLiOHHiBDNmzOCuu+6qcoypU6cSFRVFVFQULi4uVbZpalzb3fdf71RmTh5arRZbaysszc0NIa0S13bA9W85AEvTmrO1D+ihM5a27qk+55Szgz1O9nZotFouxRtHbqp7wsYCuuB0jVYEgQoE9cWNqRKEd6pmnn76aQAWL15MSUmJgdUYJ03KoNq4cSMdO3bEza1ynTlbW1usrXXel+HDh1NWVkZmplhSkSRJHz/133QJ14LR3ZyMoy6YVtKy6Wow+vA2I2/SGvp09UChkHHkZAbZudVnRg9q4Y1CLiczJ4+s3Lw603u7RLSIxNveh7SCNPZc3m1oOQJBk2X37t2cPHkSV1dXxo0bZ2g5Rk1ERASRkZHk5OSwYsUKQ8sxSpqUQbVs2bJql/tSU1P1gceHDh1Cq9Xi5GQcu9YMyeX4AlIzSrC3MyW45XXDSV1WRk5+ATIZuDgah0F1Iuk4qQWpuNt6EO7d4abt7WzNiGzvilaCHfuTqm1nbmaKr9f13FRarWFTFshlcu5pr/NSrTz+u0G1CARNmWveqSeeeAIzM7ObtBZcC04Xy35V02QMquLiYrZs2cI999yjf27BggUsWLAAgJUrV9K2bVvat2/PM888w/Lly40myNqQXFvu69bRHYX8+uuRnp0DgKOdLSZKZZV9G5otFzYDMKj1YOSy2n10B/b0AmDrnuoNKtDlprK0MKdUpSbeCIonj2wzCnOlOVEJh4nNumJoOQJBk0NVqmLVqlUolUqmTZtmaDmNgvHjx2Nvb8+hQ4c4evSooeUYHQ1qUP3xxx8AXLlS9z8QlpaWZGVlYWdnp39u2rRp+i/K9OnTOXPmDCdOnODAgQN07969zjU0Rq6nS6i4TJqepTOoXB2NIxi9XFPO9uitgM6gqi3dOrlhYa7gfEwuSVWUormGXH49N1VCShqlKsMGqNuY2zA0ZDgAf5wQXqqmTn3OjYKqSU5ORqPRcO+99+Lp6WloOY0CS0tLJk2aBAgvVVU0qEH10UcfAYi0/kZCSnox0VfyMDdT0Knd9QD8klIVBUXFKORynOztahih4YhKOExuSS5+jv4EObesdT9zM6U+Nmz7vpq9VPY21rg42qOVJK4kJt+R3rpgbLhuc8WmsxsoVBUaWI2gPhFzY8MiabWkpKQAIhj9VrnmpFi6dKmo7/cfGnQtx8nJiX79+nHlyhVGjx5d6fjatWsbUk6zZ89h3YTStYMbZqYK/fPXlvuc7O1QKIxjVfjfq8t9A1sPuuWl2v49vPh3TxJb9yTx4N0ta+wf4O1FVk4e6dk5eLo6Y2djXW3b+ibQOYhOPhEcSYhi3Zm13N/xAYNpEdQvYm5sWNLT0ykrK6NDhw5iteIWad26Nf3792fbtm0sWbKE6dOnG1qS0dCgBtX69es5evQoDz/8MC+++GJDnlpQBbsP6gyqXl08KjyfcdWgcjWS3X1lmjJ2xewEYECrQbfcv1M7F+xsTIlPLiQmLp8gv+q9buZmpni7uxKfkkZMQhIdQloZNNZufIcJHEmIYuWxFYwLH49Crrh5J0GjQ8yNDYckSSQl6bzVM2bMELG0t8G0adPYtm0bCxYs4Omnnxav4VUa1KAyNTWla9eu7Nu3r9nkeDJWMrNLOXMxB1MTOV06uOqfLyouoaikFKVCYTSlZo4kRFGgKiDAKQA/R79b7q9UyunTzZO1m2PZuiepRoMKoIWHGykZWRQUFZOZk4eLo/3tCa8Duvv3xNPWk+T8ZPZe2UPvwD4G0yKoP8Tc2HAcOHCA4oJCTExMqt0VLqiZMWPG4ObmxpkzZ9izZw+9evUytCSjoEENqlGjRtVoyQq3dsNxbXdfRHsXLMyvfwyuLfc5O9gjlxvHct+1YPR+LQfc9hgDenixdnMs2/YlMeWBkAo7Gv+LQqHA18udS3GJXElKxtnBzmB3YAq5gvs6jOfLnV+w4ugyYVA1UcTc2HB89dVXTAE8PDwwN5KExY0NU1NTpkyZwgcffMCCBQuEQXWVBv3FfOmll3jxxRfx9/fHwsKCxx9/nMcffxxra2vatm3bkFKaPdfyMvXufH25T5IkvUFlLMt95dpydl7aAUDfGkrN3IzQVg64u1iQmV3KyXNZN23v4eyMhZkZJaUqUjJu3r4+GRU6GktTK44mHuFi+gWDahHUD2JubBiSk5NZuXIlMhliZ98d8vjjjyOTyVi5cmWzKdN2MxrUoOrTpw99+vTh2LFjrFixglGjRjFq1CiWLl3Knj17GlJKsyY9s4RT57MxNZHT/Ybs6AVFxZSq1JiaKLE3YDD2jRxPPEZeaR4tHFoQ6BR42+PIZDIG9LxWiqbm3X6gS6PgdzXZZ3xKqkGTfVqZWTMydBQAvx9bbjAdgvqjLuZGjUZDhw4dGDny5lUEmisLFiygvLwcZ2dnzMxFIs87wdfXl+HDh6NWq/nxxx8NLccoMMiaTkZGBpcvX9Y/vnLlirBwG5Ad+5ORJOja0Q0rSxP989eC0V0cHIwmyHDHpe0A9Anqd8eaBlxN8rnrQDJq9c1r5Lk42mNlYY5KXWZwL9V94eORIWPzhX/ILjKsFkH9cSdz45dffklISEh9SWv0qFQqfaJnLy9vA6tpGlzLnP7dd98ZvMKEMWAQg+qLL76gb9++9O3bl379+tGvXz/mzp1rCCnNkm1X8zH17+Glf0633JcLgIuRLPdpJa1+d1/foH53PJ6vlw0t/e0oKiln/9GbZ0OXyWT4el73UmkMOGF423vTK7A3ZZoyVp38y2A6BPXL7c6NiYmJrF+/nilTptS/yEbKihUryMjIIDw8vEICaMHtM3ToUHx9fbly5QqbN282tByDYxCDqm/fvjzxxBM4XPWEPPHEE/TpI4JtG4KE5EKir+RhZaGkS/j13X15hUWoy8owNzXF1srSgAqvcy71LBmF6bhauxLi1qZOxhzUS3dnunlXYq3aOzvYYW1pgbqsnFQDe6nGd9DtSPrz5ErU5YbN5C6oH253bnzuuef45JNPatxIsnDhQiIiIoiIiGh2KwKSJPHll18C8Mwzz4BxOOAbPQqFgieeeAIQmdPBQAbVI488wpUrV3jmmWd46623uHLlCg8//LAhpDQ7Nu9KAKBnZw9Mb0zmmZUN6Ja5jGW5b2cdLvddo38PLxQKGYeOp5Odq7ppe5lMRgsPXZxZQmqaQd3aHbw70tKlJTnF2Wy58I/BdAjqj9uZG//++29cXV3p1KlTje2mTp1KVFQUUVFRzS41w969ezl69CjOzs5MmDDB0HKaFI899hgmJib8/fffxMfHG1qOQTGIQXXhwgV++OEHvUt74cKFXLx40RBSmhUajZZ/duo8M0P7+uif12q1ZFxd7nN1Mo7afZIksePq7r4+QX3rbFwHOzO6hLui1Ups3Vt7L5WluS6WKu1qjUNDIJPJ9F6q34+vQJIkg2kR1A+3Mzfu3buXtWvX4ufnx4QJE9i2bRsPPfRQAyluHFxbNp02bRoWFhaGFdPEcHV1ZezYsWi1Wn2MWnPFIAZVhw4dOHDggP7xwYMH6dGjhyGkNCsOn8ggK6cUL3cr2gVfN5yy8woo12iwsjDH2tI4JpsrWZdJyI3HztyO9l7hdTr24D46Y/KfnQm1Mkp0Xipd8eiElDSDGjIDWw/G3sKei+kXOJl80mA6BPXD7cyNH330EYmJicTGxrJ8+XL69+/PkiVL6ltqoyEuLo5Vq1ahVCr1QdSCuuXpp58G4IcffkClurnnv6liEIPq4MGDdO/eHT8/P/z8/OjWrRs7d+6kXbt2hIWFGUJSs2Djdp07dlg/nwpLaNeW+4zFOwXXd/f1CuyDUl63+We7dnTD1saEK/EFXLicV6s+rk4OmJuZUqJSkZlTuz71gZnSjLva3QPAH8dFCoWmhpgb65558+ah1WoZP368yD1VT3Tv3p327duTkZHBH3/8YWg5BqNBM6VfY9OmTYY4bbMmO1fF/qNpyOUyBve+vtxXrtGQlaszEFwdjWN3H1w3qOpid99/MVHKGdzbh5XrL/P3v3EEB9rftI9MJsPbzZVL8YkkpKYZNHv63WH38Ovhn9kRvZ30gjRcbdwMokNQ99zp3Hhth6BAR2FhId9//z2gC9wX1A8ymYzp06fz+OOPM2/evGa75GwQD5Wvr2+N/wR1z99b49BoJLp1csPJ4Xq5hYzsXLSShJ2NNeZmpgZUeJ2k3ESiMy5iaWpFZIvO9XKOkQN0n7Pt+5IoLC6rVR93Z0eUCgUFRcXkFxbVi67a4GrjRt+W/dBIGladEikUmhJibqxbFi9eTF5eHj169CAiIsLQcpo0DzzwAPb29hw8eJCoqChDyzEIxlGsrQ7w8/OjXbt2hIeHV/nFkSSJZ555hqCgIMLCwjh69KgBVBqGsnIt67bEAnD3UP8Kx9IydakA3I1ouW9nzA4Aevj3xFRZP0aej6c17ds4UarS1CpzOui2CHu6OgOQkJpeL7pqy73t7wNg7anVlGlqZxAKBM0JjUajD0Z/8cUXDSumGWBpacljjz0GoE9R0dxoMgYVwPbt2zl+/HiV1vHGjRuJjo4mOjqahQsXNqvgxJ0HksnOVeHvY0N4Gyf98yWlKvIKi5DL5Tg72htO4H/YdlFXDLk+lvtuZORA3R3/ui2xtQ4093JzQSaTkZWbR0mp4YIvw706EOAUQHZxtj69hEAguM7q1au5fPkygYGBjB492tBymgXTp09HLpezYsUKUlJSDC2nwWlSBlVNrFmzhkceeQSZTEbXrl3Jzc1tFm+4JEn8tfEKoPNO3Rj3k3ot95SDPUqFosr+DU1KfgpnUk9jrjSnu3/97vzs1dkDR3szriQUcOx0Zq36mJqY6GPNktMNlxxRJpPpvVR/nlhpMB0CgbEyZ84cQBc7pTCS+a2p4+fnx5gxYygrK2uWKRSajEElk8kYPHgwnTp1YuHChZWOJyUl4eNzPRjb29ubpKTKSz1NLZvw8bNZXIjJxdbGRF/LDnSG1rXlPjdn41nu2x6t8071DOiFuYn5TVrfGSZKOWMG+wGwcsPlmhvfgJebLiliSmY2Gs3NawLWF0NChmFpYsnxpGNczowxmA6BwNjYt28f+/btw8HBgUcffdTQcpoVzz77LKDLnF5aWmpgNQ1LkzGormXC3bhxI9988w27du2qcLyqJZ2qdmk1tWzCy1ZHA3D30ADMza5v6szJL0ClLsPM1BR7G2tDyavE1ov/AjCg1cAGOd+ogb6Ymsg5eCyd+KSCWvWxsbLE1toKjUaj9/IZAitTKwYHDwVgzalVBtMhEBgbH3/8MQBPPfUUVlZWBlbTvOjduzfh4eFkZGTw22+/GVpOg9JkDKpr+UVcXV25++67OXToUIXj3t7eJCQk6B8nJiY2+ZwkFy/ncuRUJhbmCu4a4lfhWEqGbonLw8XJaErNJOclcTb1DBYmFnT1794g57SzNdPX9/tj/S14qVx1xnZyeqZBE33eFabLSbXh3HpKy5rX3aBAUBVnz55l7dq1mJub6+r2CRoUmUym3wTw2WefGbRcV0PTJAyqoqIiCgoK9H9v3ryZtm3bVmgzevRofvnlFyRJ4sCBA9jZ2eHh4WEIuQ3G0qveqZEDfLG1vr5bTqUu0yendHd2qrKvIdh8XlefrmdAb8yV9bvcdyP3jQxEJoPNOxNIyyiuVR9nBztMlEqKS0rJM2AKhdaurQl1b0uhqpCtF7cYTIdAYCx88sknADz66KO4urrepLWgPhg/fjw+Pj6cP3+e9evXG1pOg9EkDKq0tDR69uxJ+/bt6dy5MyNGjGDo0KEsWLBAHxg3fPhwAgICCAoK4vHHH+fbb781sOr65VJsHrsPpWJqImfsiMAKx1Kvxk4529thZmpiCHmVkCSJjec2ADAsZFiDntvH05p+3bwo10gsW3OpVn3kcjkeLjpj1JDB6QB3hd0NwGqx7Cdo5iQkJPDbb78hl8t56aWXDC2n2WJiYsLzzz8PwKeffmpgNQ2HQTKl1zUBAQGcOHGi0vPTpk3T/y2Tyfjmm28aUpZB+eVPXUHVUQN9cXa87u2RJOn6ct/VnErGwPm0c8TnxOFg6Uikb5cGP/9D97Zk+/4kNm6P54G7WuLqfPOahh4uzsSnpJGZk4e6rAxTE8MYpwNaDWLujjmcTjlFTOYlAp2DDKJDIDA0H3/8MeXl5dx///0EBAQYWk6zZsqUKbz77rvs3r2b/fv3061bN0NLqneahIdKUJGLV3LZezgVM1M5E8ZU/HHNzMlDpS7DwswMB1sbAymszKbzGwEY1Hpwndfuqw2+Xjb06epJuUbi55UXatXH3MwUJ3s7JEnSe/0MgYWJBUOuBqevPbXaYDoEAkOSlJSkLzPzxhtvGFiNwMbGRl80+f333zewmoZBGFRNkMUrdAbBqEF+ONpXjEVKuro8dS1BpTGgLlez+byuhtmwkOEG0/HouNYoFDL+2ZlATFx+rfpcW/ZLycgyaHD66Ha6Zb+N5zZSWi6C0wXNj08//RS1Ws3YsWMJDQ01tBwB8Pzzz2NlZcWGDRuaRTkaYVA1MU6ey+LQ8XQsLZTc/x/vVGFxMXkFhSjkcqPKPbUrZge5Jbm0dGlJa9dgg+nw9rBm9CA/JAkW/na2Vn0c7WwxMzWlVKUmJ792aRfqg9aurQl2DaFAlc+O6G0G0yEQGIK0tDS+++47AN58800DqxFcw9nZWe+leu+99wyspv4RBlUTQpIkflh2DoD7RgRgb2tW4Xji1fpz7i5ORpMZHa4HU49pd7fBvWYP39MSK0slUScz2BeVetP2MpnsBi9V7bKt1xdj2t0FwBqx7CdoZnz44YeUlpYyZswY2rdvb2g5ght48cUXsbCwYO3atU2+hq4wqJoQ+4+mceZiDnY2ppV29pWq1KRn5wDXM30bAwk58RxJiMJMacaQ4Ibd3VcVdrZmTLqvNQBf/3SaktLym/Zxd3ZCJrsen2YoBgUPwcLEguNJx4jLjjWYDoGgIYmPj9fv5p41a5aB1Qj+i6urq752blOPbRMGVRNBo9HqvVMP3t0SS4uKgd2JaelIErg6OmBhZlbVEAbhr5N/ArrM6NZmxpGxfcxgP4L8bEnPLOHXq7sla8LM1AQnezsAgwanW5laMbD1YADWnl5jMB0CQUPy3nvvoVarGT9+PGFhYYaWI6iC1157DRsbGzZt2sS2bU03JEEYVE2ETTsTiEssxMPVklGDfCscKysvJyVD90Pv42E8ie6KVIX6H/5x4RMMrOY6CoWc56eEIZPpsqdfvJx70z4eLroUFCkZhs2cPuZqcPqGs3+jLlcbTIdA0BBcunSJxYsXI5fLeffddw0tR1ANzs7OvPLKKwC88sorTTZ7ujComgAlpeX8/IfOkzJ5fDCmJhXjoxJT09FqtTjY2WBtaWkIiVWy9sxaitVFdPDuSGs3wwWjV0VwkAP3DPVHq5X4ZP5x1GU1F0F2sLXB3MwUlbqM7Lza7RCsD9q4taGlS0tyS3LZcWm7wXQIBA3Ba6+9hkajYeLEibRu3drQcgQ18Nxzz+Hh4UFUVBS///67oeXUC8KgagL8sf4yWTmltAqwo2+3ivUJy8rLSUrTpUrw9TSeUjvl2nL+OLYCgAkdHzCwmqqZPCEYL3crriQUsOSv6BrbymQyPJyvp1AwFDKZjLva6er7rT71l8F0CAT1zf79+1m5ciUWFhYidqoRYGVlpX+fXnrpJX25uKaEMKgaOVk5paxYqyuXMu2hNsjlFXfJJaSmo9FqcbC1wc7aeKqubzm/mZT8ZHzsW9DDv6eh5VSJuZmSl6e1RyaDZaujORudU2N796uFprNy8yhVGW65bUjwUCxMLDiWeJRYEZwuaIJIkqQvwPvCCy/g7e1tYEWC2vDoo48SGRlJUlJSk0yjIAyqRs5Pf1ygVKWhe4Qb7dtULCWjLivTe6f8vIzHO6XRavjp0I8ATOw8CYXceFI4/Jd2wU7cNzIQrQSzvzlW464/UxMTnB10wemGTKFgZWbNoKvB6atOrDSYDoGgvli5ciX79+/H1dVVH5sjMH4UCgXffPMNMpmML774grNna5fvr7EgDKpGTPSVPDZuj0ehkDH1gTaVjsclp6LVanG0s8XWiLxT26K3Ep8Th6etp1GkSrgZj45rjX8LG5JSi26a8NPLVZeSIiUjy6CBl/e2vw+A9Wf/pkhdZDAdgvonISGBfv36ERISQmhoKF9++aWhJdUrxcXF+sLHs2bNwsbGeEpoCW5OZGQkU6dOpby8nMcee4zy8punpmksCIOqkSJJEt/+chpJgrsG++HjWTHlQHFJKcnpOi9JgI9nVUMYhHJtOT/s12U0fqTzJJQK46/PbWqi4LWnO6BUyFi7JY6Dx9KqbWtrbYWVhTll5eVk5OQ2nMj/0Mq1Ne09wylSF/HPuY0G0yGof5RKJZ9//jnnzp3jwIEDfPPNN03uzv9GZs+eTXx8PB06dGDKlCmGliO4DWbPno2XlxcHDhzgs88+M7ScOkMYVI2UXQdTOHkuG1sbEx6+t1Wl41cSkwFd0kkrC4uGllctf59eS3xOPN72PoxoM8rQcmpNoK8dk8bpdiJ+9t0J8gqqjpGSyWT6xKlJaRkGTaEwNlznpVp5/HeD6hDULx4eHnTs2BHQFaQNCQkhKSnJwKrqh8uXL/PJJ58A8PXXX6MwoooPgtpjb2/Pjz/qwj7efvttTp48aWBFdYMwqBohpapyFizR3YE+el8wNtamFY5n5+WTmZuHXC43qtipkrISFh3QVYN/ovuTjcI7dSPjRgXStrUj2bkqvl58qtp2ro6OmCiVFBQVk1douOW2vkH9cbZy4Ur2FQ7E7jOYDkHDERsby7Fjx+jSpUulYwsXLiQiIoKIiAgyMjIMoO7OkCSJp59+GpVKxUMPPUSPHj0MLUlwBwwePJhp06ZRVlbGhAkTKCwsNLSkO0YYVI2QZasvkZ5ZQpCfLSMGVkziqdVquRSfCICvpztmpiaGkFglv0X9SmZRJiFuIfRvNcDQcm4ZhVzGK0+GY26mYPu+ZHbsT666nUKOp6tug0BiavXLg/WNUqFkfAddwtTfjiwxmA5Bw1BYWMi9997L3LlzsbW1rXR86tSpREVFERUVhYuL8ZSfqi3Lli1j06ZN2Nvb8+mnnxpajqAO+Oyzz2jTpg3nzp1j6tSpjd6T3iQMqtoEZe7YsQM7OzvCw8MJDw9vtHlLklKLWLEuBoBnHm2H4j9pEhLT0ikpVWFhboa3EdXsS81P5dfDvwDwTO/nkcsa50fP092KJx7UbQD48seTZOeqqm7n6nw1hUI+xSWlDSmxAmPa3Y2liSVHEqK4kHbeYDoE9UtZWRn33nsvDz74IPfcc4+h5dQ5WVlZPPfcc4DuR9jd3d2wggR1gpWVFX/++SfW1tYsW7aMr7/+2tCS7ojG+av2H2oblNmrVy+OHz/O8ePHefvttw2g9M6QJIkvF52krFzL4N7ehLZ2rHC8uKSU2KRUAIJaeCOXG8/bO2/3l6g1Kga2GkS4dwdDy7kjRg3ypWM7Z/ILyvjqx5NV3lWZmpjg7qx7f+JSUhtaoh4bcxvGtLsLgJ8P/2QwHYL6Q5IkHnvsMUJCQnjhhRcMLadeeO6558jIyKBPnz5MnjzZ0HIEdUhwcDCLFi0C4Pnnn+fvv/82sKLbx3h+ce+A5hKUuX1fMkdOZWJjZcLUByumSZAkiQux8UiShLuzI452lV3+huJw/CG2XvwXM6UZT/d6xtBy7hiZTMZLU9tjaaFk96FUtlez9NfCww2ZTEZ6Vg5FBvRSTej0IKYKU7ZHb+VSRs0Z3wWNj7179/Lrr7+ybds2vQd+w4YNhpZVZ6xcuZIlS5ZgYWHB999/j0wmu3knQaNi3LhxvPPOO2i1WsaPH8+RI0cMLem2aBIG1Y3UFJS5f/9+2rdvz7Bhwzhz5kyV/Y01cLOgUM23v+g0P/5gCA52ZhWOJ6Smk19YhKmJkgAfL0NIrBJ1uZrPtul25Uzq8hjutk3DVe/mYqlf+vt68akql/7Mzcxwv1qOJi45pUH13YirtSt3XS2a/MOBhQbTIagfevbsiSRJnDx5Uu+BHz58uKFl1QmpqalMmzYN0C31tWzZ0sCKBPXFO++8w8MPP0xxcTHDhg1rlKk/mpRBVVNQZseOHYmLi+PEiRPMmDGDu+66q8oxjDVwc8GSs+TkqWjb2pFhfVtUOJZfWERsks5L0sqvBSZK49k9t/Tob8TnxNHCoQUPdHzQ0HLqlBEDWtDp6tLfl4uqXvrz9dR5qTKycykoKjaASh0PR07CVGHGzks7OJta9c2EQGBMaLVaJk6cSFZWFoMGDeLJJ580tCRBPSKTyfjhhx8YMmQIGRkZDBw4kOjoxuVRbzIG1c2CMm1tbbG21iW/HD58OGVlZWRmGq48yK0QdTKDTTsSMDGR89IT7SvU6ysrL+fc5VgkCbzcXHCytzOg0ook5MSz+MAPALzU/xVMlaY36dG4kMlkvPiEbulvz+FUtu6tvMxsZmqqz0sVHZdgsF0sztbO3Bc+DoAvdnze6HfTCJo+H3zwAZs3b8bZ2ZnFixeLpb5mgKmpKX/99Rd9+/YlJSWFvn37NipPVZMwqGoTlJmamqr/ETl06BBarRYnJ6eGlHlbFJeU88X3JwB45N5WFTKiS5LE2ZhYSlVqrC0tCPA2nozokiTx8daPUGvUDG8zgsgWnQ0tqV5wc7Zk2sPXlv5Ok5FVUqmNr6c7piYmFBQVk5qZ1dAS9TzaZTIOlo6cTjnF5gv/GEyHQHAztm7dyjvvvINMJuO3337Dy8t4whgE9YulpSXr1q2jd+/eJCcn07t370YTU9UkDKrqgjIXLFjAggULAF1gY9u2bWnfvj3PPPMMy5cvbxR3PAuWnCE1o4SW/naMGxmof16SJGLik8jNL8BEqSQ0KMCodvWtO7OWIwlR2JnbMaP3c4aWU68M79eCrh3dKCwq45MFx9FqK3p/lAoFgVfL/1xOSKZUVXWW9frGysyaJ3s8DcDXO+eSV5JrEB0CQU1cuHCB++67D0mSeOuttxg8eLChJQkaGGtrazZu3MiwYcPIysqib9++bNq0ydCyborx/ALfAdUFZU6bNk0f0Dh9+nTOnDnDiRMnOHDgAN27dzew6ptz+EQ667fGo1TIeOWpcJTK629XQmoaSekZyGQyQoP8MTcznuW0jMIMvt41F4Dn+76IvYW9QfXUNzKZjBenhmFnY8rRU5ms3HC5UhsXRwcc7Wwp12g4fyXOYEtuI0JH0t4znKziLD7f3nRqaAmaBhkZGQwfPpycnBxGjx7dKNPbCOoGS0tLVq9ezf33309hYSEjR47UO0iMlSZhUDVF8grUfLpAt9Q38b7W+PtcD7JPTs/kSqJu11iwvy92NtZVjmEIJEnik60fUagqpLt/TwYHDzW0pAbB0d6cl55oD8APy85x/lJOheMymYzW/i0wNVGSV1BIbJJhdv3JZXLeHPIO5kpztlz4hy0XNhtEh0DwX3JzcxkxYgSXL1+mY8eOLF26VNTqa+aYmpqyZMkS3njjDTQaDU8++STTpk1DrTaMl/9mCIPKCJEkiS++P0FWTiltWzswfnSQ/lhyegbRcQkABPl64+rkYCiZVbLx3Ab2XN6NlakVrwx4tVEsq9YV3SPcuWeYPxqNxHtfHqlUQNnUxIRgf12poPiUNJLTDbMpwtvemxm9nwXgw83vcSnzkkF0CATXyM3NZfDgwRw+fBg/Pz/WrVuHlZWVoWUJjAC5XM7777/PTz/9hJmZGd999x19+/YlPj7e0NIqIQwqI2TDtnh2H0rF0kLJq0931JeXSUhNIzpOV6cv0McLL1fjSesAkF6Qxhc7dMtIz/d9EVcbNwMrangefyCE1gF2pGaU8P6XR9BotBWOO9jZ0tLXB9Dt+kvLyjaETO4Ou5ehwcMoLS/l1bUvkV1kuGB5QfMmPj6efv36cfjwYfz9/dm5cyeensazwUZgHEycOJE9e/bg7e3N/v37CQ8PZ/Xq1YaWVQFhUBkZMXH5zPvpNADPPtYOD1dLXQB6QhKXE3S5poJaeOPt7mpImZXQSlre++ddClWF9AzoxfA2Iw0tySCYmiiY+UIkDnZmHD2dyfxfz1aKl/J0dcbXU5fg9PzlOBJT0xtcp0wm45WBr9PaNZikvCSeWzWDgtKCBtchaN7s3buXyMhIjh8/TlBQEDt27KBFixY37yholkRERHDs2DFGjBhBTk4Od999N4899hj5+fmGlgYIg8qoKCou470vo1CXaRnWrwUDe3qj0Wo5FxNLYmo6MhkEB/jq8xoZE8uPLiUq4TAOFg68NvCNZrXU919cnS2Y+UIESoWMVZuusHxtTKU2fl4e+jQXMQlJnL8SV8mbVd+Ym5gz5+4vaeHQguiMaJ7582lyinNu3lEguENUKhWvvfYavXv3Jj09nQEDBnDw4EFhTAluirOzM+vWreOLL77AzMyMH3/8kXbt2rF+/XpDSxMGlbGg1Up89M0xEpKL8PexYfqkUNRlZZw4H01GTi4KuZy2LQNxc3K8+WANzNnUM8zf8w0Arw9+C0cr48/vVd+0be3Ia9M7IpPpgtTX/RtbqY2PhxvBAb7I5TLSMrM5eu5Cg2dTd7R05Mt7vsHLzovz6eeY9vvjJOUmNqgGQfNBq9WycuVKwsLCmD17NpIk8fLLL7Nx40YcHY1vbhMYJzKZjOeee46jR48SERFBfHw8I0eOZOzYsQaNrRIGlZHw8x8X2H8kDWsrE959MZKycjVHz+h+YM1MTQgPaWVUBY+vkV+azxvrX6NcW87Y8HH0DOhlaElGQ99unkyf1BaAuT+cYs3m2Ept3Jwc6RDSGgtzM4pLSjl27gKxSSlotQ3nrXK3dWfBuB8Icm5JfE4ck5dN4lDcwQY7v6DpU1JSwuLFi+nYsSP33XcfFy9epHXr1uzZs4dPPvkEExMTQ0sUNELatGnD/v37mTNnDlZWVvz555+0bt2at956i4KChg9hEAaVEbB+WxxLVkUjl8Fbz3REqVRx/NxFVGVl2Fpb0bFNa6wtLQwtsxIarYZ3N71Nan4KIW4hzOj1rKElGR13DfHnqUdCAfjqx1P8tupipZgqa0sLOrUJxsvVBUmCuORUjpw5T25BYYPpdLZ2Zv64hXT370l+aR7P/TWDhfsWUK4tbzANgqaFRqNh586dTJ06FU9PTyZPnsyJEyfw8PBg/vz5nDp1qlHkAxQYN0qlkueff55z584xYcIESktLef/99wkICGDu3LmUlpY2mBaZJIp6VUtERARRUVH1eo69UanM/PwwWgmendyWkNZK/XZ6d2cnWvp6G1UG9Bv5dvfX/Br1C7bmdnw9ZhFLlqVz5GQGtjamTJkQzICe3jX2f/G9fRw/k8Xm30agUOiuMS6pgK9+PEX05TzsbE154sE29OzsUW/XkFeax4eb3+dQ3AHsLeyZ1vNphlSRO2v9mXV8uOV9zJRm+uc+G/MFHX06VWiXkBPPQ7/eT7+W/Zk57D398+u2xPLlj6eQJBjWrwXPPtYOE2Xl9zW3oJCLsfGUlKoAcHd2JMDbCxOThil4rdFq+PHADyw+uAgJibYe7Xh7yEx8HG4ttqUhvjuC26e+3h+NRsOuXbtYuXIlf/31F6mpqRXOOWPGDMaNG4e5uXmdn/tWKH/yOQCU8+c26HmLior5dcXvnLt4EWsrK8YMH07nTh2qbLt15y42b9uOuqycDmHtuH/sPfrC93O+mc+VuHgUV38b7OzsePe1/zXYdRgze/fu5X//+x/79u0DwMPDg5dffpmpU6fWSSqOmr47DTNLC6pk18Fk3v/qKFoJJo0LxNtbTXJ6LjKZjKAW3ni6OhtaYrWsPbWaX6N+QSFT8MGIj/h9ZSYmCjkrvxvMpdg83vj4EIG+dvj52FTZ/989iWg0FW15jUbLW58eZtQgXz55oxsnz2bx5qeHWOBtU6GGYV3y+bZPMFEoWf/EP0RnXOTF1c/R0rklAc6Bldq29WjHd+N/qHG8z7Z9Qohbm0rPjxrkh4OdGR98fZSN2+OJSyzg7ec74eJY0fNob2NNRGgw8SlpxKekkZqZTWZOHgE+nrg7O9V7sL9CruDx7k/Q0acT7256h9Mpp3h4yQM83u0Jxne8H6VcTBmCikiSxP79+1m6dCl//PEH6enXd60GBAQwfvx4HnzwQUJDQw2o0jhY/tcqlEolH7/7DolJyXzzw494e3ng6e5eod3Z8xf4Z+t2nnvqCexsbflu8c/8vWkzd48crm8z/p676Nm1S0NfgtHTo0cP9uzZw99//80777zDsWPHeOGFF3j//feZPn06Tz/9NK6u9bNL3jhdH82ADdviee/Lo2g0EpMn+OLvV3Y1XsqU8OCWRm1M7YjexsdbPwLghX4vE+ragd0HU5g0rjUW5kraBTvRrZMbW3ZXHdxcWFzGLysvMvXBioZHfHIhWTmljB0egEIuo0NbZ0JbOfBvNePcKSVlJWyP3sbU7tOwNLWkvVc4vQJ6s+nchtsab8uFzVib2RDRIrLK4z07ezB3Zg9cncw5G53DtFd3sf9IWqV2crkcPy8PIkKDsbe1plyj4WJsAsfOXSS/sOi2tN0qnXwiWPLwMoaGDEdVrmLe7q+YvHQiZ1JON8j5BcZPbGws7777LkFBQfTo0YNvvvmG9PR0goKCeO211zhy5AiXLl3iww8/FMYUoFKpOXbyFKOGDsHczIygAH/CQttwMOpopbb7D0fRvUtnPN3dsbK0ZPiggRw4fNgAqhsnMpmMUaNGceTIEdauXUuXLl3Izs5m1qxZtGjRgscee4yTJ0/W+XmFQdXAlJVr+fbn03y+8ASmJvD8VF+8vTRoNFqc7e3oFNoaW2vjzRC85cJm3tzwOlpJy5RuU7mn/b0kphQhl8sqeJECfe2ITaw6KHDR8vOMHuSLo51ZheerWnyWgCvVjHOnxOfEI5cpaOHgq38uyKUll7Mq1+IDuJh+gaHzBzJu8b38eOCHCvFFRapCvt/3Hc/0qTmOrHWgPfM/6k2nds7k5qt589NDzPn+BIXFZZXaWlqYE9YqiJAAP0xNTCgoKubYuYucuxzbIAWWbc1teWfou8y5ay7uth5EZ1zk8eWT+XDL+2QXGyYhqcCwFBUV8euvvzJgwAD8/f2ZOXMmly9fxtPTk5deeokjR45w8eJFPvzwQzp27Nis06f8l/SMDOQyGW43JGT29vQg5YZl0WukpKbh7elxQztP8gsKKSy6fkO1Zv1GXnrrHT79ah4XL1VOzSK4bljt37+fnTt3MnLkSNRqNT/++CPt27enT58+rFixos5K2Qj/fQMSm1DA7G+PEX0lj7bBFtw9zBmZXINcLifQxwsPl/pf0rldJEli6ZElfLP7ayQkHo54hMldpgBQUlqOlWXFXTpWlkpKSioHNF+IyeXMhWymTwwlI6tisGALT2sc7MxYsS6GscMDOH4mk5NnswgPrR9vXYm6GGuzisartZk1xWWVUxeEe3Xgt0eW427rweWsy7y1/nUUcgUTOz8KwMJ9CxjVdjRuNu6V+v4Xe1szZr/WlZXrL7No+TnWb43n4LF0nnw4lD5dPSp8BmQyGa5ODjjZ2xKXnEZiWjrpWTlkZOfi6epMCw83TOt5h1Q3/x4sfWQFiw8uYtmR31h3eg3bLv7LxM6PMq7DhApxZYKmR3l5OVu3bmXp0qX89ddfFBbqNkuYm5tzzz33MGnSJPr37y/q7t2EUrUKC4uKsWMW5haUqlSV2qrUKixuiDO71k+lUmFtZcXdI0fg4eaKQqkk6thxvl20mDdefA4XZ+Nd2TAkMpmM3r1707t3b6Kjo/nqq6/4+eef2bVrF7t27cLV1ZVJkyYxefJkWrdufdvnER6qBiC/UM23v5xh6qs7yc4rYtIEV+4Z4YRMLmFrbUVEaDCers5Ga0xlF2Xx+t+vMG/3V0hITOvxFE/1mqHXa2GupLikooelqKQcC4uK9rpWK/Hlj6d4emKoPgj9RpRKOe++GMnBY2mMnbaZP9Zfpk83T5wd6yeA1cLUkiJ1xSW0InURliaWldp62XvjaeeFXCYnyDmIyV2nsD16G6DzXB2OP8SEjg/U+txyuYxxowL5bnYfQoLsycwu5b0vj/DCrH2cuVjZ+6NQKAjw8SSybQgujvZIkkRSWgYHT5whOi6B4nreyWJhYsFTPafz2yPL6e7fgyJ1Ed/umcf4n+5l/Zl1YjdgEyMvL4+//vqLSZMm4ebmxtChQ/nll18oLCykW7duLFiwgJSUFH777TcGDRokjKlaYG5qpt9sco1SVSnmZpVvSMxMzSoYWiVXv99mV9v6+7bA3NwcE6WSbpERBPr5cvrc+XpU33Ro2bIlX3/9NYmJicybN4+2bduSnp7OJ598QnBwMD169GDBggVkZd16OS7hoapHktOKWLs5lr+3xqFUwtB+dnQMs0Ymu/oD6e1p1F6pInURq0/+xc+HFlOgKsDS1Iq3hrxD36B+Fdp5e1ih0UgkphTi7aFb9rscl4+fd8WA9OKSci5ezuW9L3UxA1qtbo1v/FP/8vZznQgLcSLQ15Yv3umh7zPjrT0M7lPzbsHbpYVDCzRaDQk58fpdbNEZ0QQ4Bdy0rwyQ0Ok/mniElPwU7vpBV26npKwEjVbLleyH+PnBJTWO4+djw5ezerJxWzw/rjjPyXPZPPP2XiLbuzBuZCAd2lY0tC3MzWgT6E+BezFxyalk5eaRnJ5JcnomDrY2uLs44WxvV287Q1s4+PL5XXM5GHeAebu+4lJmNO9vnsUvh3/i0S6PMbD1YBG43gjJycnh4MGD7N69m507d3Lw4EHKy68bySEhIUyYMIH777+fli1bGlBp48XVxQWtVkt6RgauLrplv8TkZDzcK3u1PdzdSExOplN4+6vtUrC1sca6ul1qMlmVIROC6rG1teXpp5/mqaeeYv/+/SxatIgVK1awb98+9u3bx4wZM+jfvz/33nsvI0aMwMvL66ZjipmvDpEkidSMEg4eTWPXoRROnM3CxUnJwN62hIVa6osce7g44eflUe9LNbeKJElkFGVwKvkk+67sYeelHXoPTle/brzU73942Vc2bizMlfTs7MFPf1zgxantiYnLZ19UKl/N6lmhnZWlkt/nD9I/Ts8q5ek3djP/o17Y2+ruvGLi8vHxsEIrSazdHEd2bilD+vjUy/VamFjQN6gf3+//jtcGvcnF9IvsjtnJwvGLKrXdf2UvrV2DcbRyIjY7lsUHF9G/5UAA7mp3D4NaD9a3/e3IElLzUnh5wKu10qGQyxg50Je+3Tz54+8Y/tx4mcMnMjh8IgNfb2uG9mlBn24euDlf95zZWFnStmUARcUlJKZlkJ6VTU5+ATn5BSgUcpzt7XF2sMPB1qZevAddfLsS8WAkm8//w6IDC4nPiefdTe/w/b7vbslTJzAM+fn5fPrppxw7dkwf93QjCoWCnj17MmzYMO6++25CQkIMpLTpYGZmSni7tqzbtJmHxt1HYnISJ06f5eVnnq7UtmtEJ35ZvoLOHTtia2vDxi3/0jVSt9mluKSE2Lh4WgYGIJfLOXL8BJcuX+a+u0Y39CU1CWQyGd27d6d79+58+eWXrF69ml9//ZWtW7eyefNmNm/eDEBYWBj9+/eveSyRh6p6qso3odFoKSopJy9fTW6+irTMEpJTi7gcX8CFmBzSr8YFhbWxJDLcGi8PU31fF0d7/Dw9sLRo+BwskiSRU5JDekEaGYXpZBZlkV2URVZxFllFmaQXpJOYl0ChqmIyyXCvDjwcOZFuft1r9KTlF6r5dMFxjp7KxNbahCn3hzCgpzdpmcVMfnEHP37eF2cHc7bvT2b/kTRMTOR0CHXmk/nHK+Sh+m7JWTZsj6e8XEu7YEdmPNoOL/f6C9LX5aF6j0NxB7GzsOPJntMZEjyU1PxUHvhlHEsf+Z3Mogxm//sh8TlxSJKEi5ULQ9sMZ3KXKSgVle9Jfti/kMTchAp5qG5JU4GadVtiWf1PLDl5193+QX62dGznQrtgR1r62+HsYK5/T8rKy0nPyiE1M4vC4hJ9H5lMhp2NFQ42NtjZWGNjZVnn3qtyTTkbz23g18M/k5CrK/tQ9psk8lA1IJs2beLZZ59Fo9EwZcoUXn21ZmP+v99lMzMzOnXqRPfu3enTpw+9evXCzs6uPiUbFGPIQ2VlacVdI3R5qLJzcpj18We8/cpLWFpYsPfgYfYdPERGVhYymYxO7cO4/757MVEqKSgs5JvvF5Gafi3I3ZXRw4YQ0rpVg15LUyczM5PVq1ezbt06/v33X4qLdbG1nTp1qnZuaxIG1c0mE0mSePbZZ9mwYQOWlpb89NNPdOzY8abjerVowwNTF5FXoCa/QE1RSTnFVQRa34i1lQkdQp3o090CuaIMhVyOm5MjXu4uWNZzMrvcklxS8pJJLUglNT+F5PxkkvOSSc5LIiU/GVV55eDH/2JjZkMb91DCvTvSv2X/Cjvg7gStVuLtzw9XShMwYXQQjz9gvHe/f574g8+3fapf3gNo4x7KvLHzsTCp3+z15eVaDh5PZ8uuRA6fSKdUpalw3NrKBC93K9ycLXBxNMfB3hwHO1NsrRWYmqkp15aiUleMrZLJwMrCAisLCywtzDA3M8Pc1BRTExNMTZR3ZGxptBp2xezk92PLOfzJUWFQNRAajYZWrVqxZcsWvL29iYyMZNmyZbRpUzkf2jVsbGyYOHEi7du3p1OnTrRt2xZTU9Nq2zc1DGVQ3YyiomI+m/cNqWnXc3nJ5XImPXg/kR3CDSesmVNaWsqBAwfYtm0bGzZsaLqJPTUaDU8//XSFyWT06NEVJpONGzcSHR1NdHQ0Bw8e5Mknn+TgwZvXKisoLOPo6cwKz8lkYGVpgq21CXa2Zrg5WeDmYoG/jw2Bfnb4edsgl8vIyS+gVKXG1dG+wQI2Z6x8ikuZ0dUetzGzxc3GDRdrF5ytXXCydMLRygknSydcrF3wsvfGwcKhXmK69h1JrTLn0op1lxjev0W9eqFul0JVoX5X442cTT3D2lOrGd/x/no9v1Ipp0eEOz0i3FGpNZw6l8Xxs1mcv5RLdGwehUVlXIjJ5UJMbrVjdO3ozLOPBZNbUEh+YSFFJaUUFpdU8GLdiFwuQ6lQoJArUCjkyOVyggN8sagicPa/KOQK+rXsT7+W/Yn4JOJ2L1twixw6dIigoCACAnSxfxMmTGDNmjU1GlStW7dm3rx5DSVRUEv+3bmrgjEFVwtKr15Dh3ZtUSob/U92o8Tc3Jy+ffvSt29fNmyoPk9ho393ajOZrFmzhkceeQSZTEbXrl3Jzc0lJSUFD4+aS5q4u1gw+7Uu2NmaYmtlirW1CZbmSuTymxscDrZVZwi/HQZMWFfLlvdTeX/adTRA8tV/FSkG4q7+uzOKu8yq/mA1SX3HLquhj5Eyd+cc5u6cY5iTWwNta9d0G7DtF93f+58/jEajobC4hKKSUopLSylVqVGp1ajLyigr16DVSqi15cANnthG78Nu2iQlJeHjcz3O0Nvbu8obxoULF7Jw4UIAMjIyGkzfnfLkCy/X/aAWV+NX62PseiC/oJAZ/3vN0DKMjvlzPjW0hAo0eoOqNpNJVW2SkpKqNKhunHRUpXlEtq+fFPUCgSFQKBTY2VhjZ1O5lI8kSWi1Wso1WjQaDRqtFo1Wi5mpcW2eEFSkqqiNqrzMU6dOZerUqYAuPlQgENQtjd6gqs1kUtsJB4xz0tm6fJShJdwCVWu9HJ/P1Fd2Vtraa2WhZPm3g7C0ML6PolbSMm7xvSTlVS5989mYL+gR0LOKXo0XmUyGQqG4ukQtjKjGgre3NwkJCfrHiYmJeHp6GlBR3WJsXoj6ZP/hKH5ZtqLS874+Prz6/DMGUCS4FRp9Ys/aTCZNfcK5VX5Ydo4/N1RdXqW+CGhhy3OPhWFmev0jZ2tjwswXIm7LmPp2zzyWH116W1r2RaXy3pdHbtpOLpPz0aiPcb8h+7lCrmBylyn1bkypy9WM/2msKPEiuCmRkZFER0dz5coV1Go1y5cvZ/RosYX+dlj99wa27txtsPN3jehEv149K9zwu7m6MPkhw6QiKSsvZ+bsT8gvKLx5Y0Hj91DdOJl4eXmxfPlyli6t+EM7evRo5s2bx4QJEzh48CB2dnY3jZ9qquTmq9i8K5Ffv7yeT+PoqQy+WnyK9MwSgoMceOXJcNxcaorGgsSUQqb8bye9u3jw+nTdjsnYxAI+/vYYyWm67aWt/O14elJbfYLPkQN96dPVgyOnMjE1kRMR5oKp6fWA/dT0Yj5ZcJzzl3JwdbZgxqPt6NTOpdK5c4pz+PPIWuSHn+RXhS5AsMz6MjYdt5FVnE6oe1vS9w6gMMtSH+8W2sqBT97oBkD3CHcWLT/P3jNneX3r4/Rr2b9CioN/L2zhhwMLyShIx9XGjRm9n8PS1JL80nw6enfC2br68g4pecm8v3kWZ1JP42bjzov9Xqazb/UV4S+knWfuzjlcSD+PuYkFEyMnMb7j/ZgqTRkVOpolh3/mmT7P1/heCJo3SqWSefPmMWTIEDQaDZMnTxbFiG+DgsJCDkQdYdbr1aecuDHtgbWVFWOG69IeVMfWnbvYvG076rJyOoS14/6x92ByNbB88ZKlnI++hFqtxtbWhkH9+tKzaxfG3T2GAX16EXMlDltbG1pdzTd1I5IksfrvDew9eAiA7l0iuXvkiCpXXsrLy/lxyVLiEhLJzsnh+aem0SooUH/8702b2fjvVr0ugDdefgEXJydMlEq6d45k87btjB3TmFZKDITUBFi/fr3UsmVLKSAgQHr//fclSZKk+fPnS/Pnz5ckSZK0Wq301FNPSQEBAVLbtm2lw4cP12rcTp061ZtmQ7F8bbT02XfH9Y9z80qlUZM2SDv2J0kqVbm04Ncz0tNv7LrpOC+/v0965u090gdfH9E/V1CollLSiiStViuVa7TSnxtipMde3l5rbU+/uVv65ufTUqmqXNp5IEka9egGKSevtFK7Xw//Ik367iX9uXOKc6QB8/pI/17YIpWWlUpf7Zwr9fnwbinqZHq151ry1wXprq8mSk8snyK9s+FN/fNpBWlSz7ldpX2X90harVbaE7Nb6vNVDymrKKtW1zBl2aPS3B1zpJKyEmnbxa3SwG/6StlF2VW2zSnOkYbNHyRtOrtBUpWppEJVoXQl8/J1Lfmp0pBvB0iqMlWtzm1MNMXvTlNCvD+V+WfrdunX5b/X2OaHX5ZI3//8q1RSWipFx1yWnnvtTSkpJaXKtmfOnZdefmumlJSSIhUWFUmfz/tW+mvdev3xpJQUSV1WJkmSJKWkpkn/e3umFBufUCutu/buk97+8GMpOydHysnJlWbO/kTauXdflW3Lysqkf3fskqJjLkv/e/td6UL0pQrH1238R/rx19+qPVd2To704ptv67U2d2r67jT6JT+A4cOHc/HiRWJiYnjjjTcAmDZtGtOmTQN0sSHffPMNMTExnDp1ymhiowzBoePphIU46R/vPpSKr7cNfbp6Ymqq4JGxrYiJyyc+qaDaMbbtS8LayoSObSt6aqytTHB3tdTdJUkScrmM5NSiakapSEJyIZeu5DHpvtaYmSro3cUTfx9bdh9MqdT2QOw+PE2D9Y93RG/D3ymAAa0GYqY0Y0q3qahNU0gtSqjU9xoq+9MU5MqJaBFZ4fmMgnRszGzo5t8DmUxGj4CeWJhYkJRbOY7qv8TnxHEh/TxTuk3FXGlOv5b9CXQK0tf8+y/LjvxGF9+uDAkZhqnSFCtTK/yc/PXHXW3csDG35XTqqZueWyAQ3Blnzp+nZWD1ZadUKjXHTp5i1NAhmJuZERTgT1hoGw5GHa2y/f7DUXTv0hlPd3esLC0ZPmggBw4f1h/3dHe/7hWS6f7LrGX9uANRRxjYtzcO9vbY29sxsE8f9h+qJjeSUsmAPr0ICvC/rTxzDvb2WFpYciX2zneBN3Ua/ZKf4Na4El+Aj+f1HV6xiQUE+trqH1uYK/F0syI2sYAWXpVTPxQVl/HT7xf47M1ubNweX+U5Rk/eSEmpBkmSmHRf7Sp3xyUW4OFqWSGeKtDXltjEyoZdTOYl+tuMYveRNO56bBNqv134+VyPc7IwsUBZ7sQ3K3ewaFEGQX62PPFQGwJ9dZmfi1SFbLi8BE30Paj7VBw/2C0EX0c/dsfspLt/T/Zc3o2JwpQgl5vXL7ucdRlPOy+sTK/n1ApyacmV7Krj1c6knibQKZDHl08mKTeRNu6hvNT/Fdxtr1+Ln6MflzKi6ejd6abnFwgEt09ySipurtXv6k7PuJaZ/HoYgrenB9ExVX+/U1LTaN829Ia2nuQXFFJYVKSvybds5V/sPxxFWVkZPl5ehIYEVzlWJa2paXjfEAfs7eVBSlrlPH+15eTZc7z4xtvY2drSp2d3+vToXuG4u5srickpFZYKBZURBlUzo7C4DEvz63FLJaXl+jp617CyVFJcovlvVwAW/36BYf1a4OpcfZbwtT8Oo6S0nM27EnGrod2NlJSWY2VZ8eNoZakkM7u0UtsCVQHde/vy6LBAHOzNePXPPZw4UcK2vUn076ErYNnCzYmxQwMZGjyAvzZe4ZUPD/LTnH5YW5mwcN8CRrUdzS9b7FCX5VUYWyFXMKzNCN7Z+BbqcjVKhZIPRsyuVVb0EnUJ1qYV0xFYm1mTUZheZfv0gnQupJ/ny3vmEegcxDe7v+btDW+wcML1WoKWppYUqKr3FgoEgrqhuKQE8xoS2JaqVVj8p2yYhbkFpaqqK1Co1CosbqiOca2vSqXSG1T3j72H8ffcxeXYOC7GxFSIY6oJleo/Y5ubo1KpkCTplhMzdwpvT89uXbC1seFKXDwLf/oFSwsLIjtejw0zNzOjpKTqZMCC6zSJJT9B7bGxMqG49LqxZGGupLikrEKb4pJyLC0qZ3e/FJvH0dMZjB1RvVv8xnFHDfRl9rfHKtSjq6l90X/K+uh0VJ5gbM1scXAEZ0dzFHIZns72+Pmbsuvg9ZSlklyFnaUN5mZKHrirJdZWSk6ez+Ji+gUOxx9iZPB9AJiaVPwKHIo7yDe7v+absQvY9ew+vr3vOz7a8j4X0y/c/BpMLfTFpK9RpC7C0rTqLPBmSjP6BPaljXsoZkozHus6hVMpJyvUUyxWF2NjVndJYgUCQdVYWlY0jr5e+APPvfoGz736BoeOHMXc1IyS0opzWamqtFojzMzUrMJ4JaW6m0Oz/7SXy+UEBfiTm5vHzr37a6XVzMyM0tLrN5slpSrMzMxuq8qFh7sb9nZ2yOVyAv396N+7J0dPnKzQplSlwsKifkttNQWEh6qZEdDClsSUQoID7QHw87Zh867rsUYlpeUkpxXpd+bdyImzWaRllHD/0//q22q1Ek8k7uS72X0qtZckCZVKQ2Z2KQ52NZcu8fW2ISW9uIIRFROXz4CrHqcbCXQOIiEnnjbuOne6v1MAu88dw+NqjquSshKS8hLxd7pu+MmQgQRHE4+Qkp/CA0vuRtWpjJUndQksr2Q/xM8PLiE64yLhXh0Icddl2m/jHkqoR1sOxx+ilWvNy5cBTgEk5yVRpC7SL/tdyohmUOshVbYPcg7S1TLSi5TpX7drxGbHcn+nB2s8r0AguHO8PDxIz8jAr4UuCfSMqVMqHFep1Gi1WtIzMnB10S37JSYn4+HuXmks0BkqicnJdApvf7VtCrY21nrv1H/RaLW1jqHydHcjMTkFP98WACQlJ+Ph5larvjenslGWmpbOwD6962j8povwUDUzOndw5eTZ61/anp3diU0oYNfBZNRqDb/+eZGAFrZVxk+NGNCCX7/sz8KPe7Pw496MGuhLlw5ufPx6VwCiTmYQfSUPjVaiqLiM+b+excbaBF8v3TLYph0JPDD93yp1+XhaE+Rryy8rL6BWa9hzKIXL8fn06lI5vUV3/x5sPL6XgkI1kiThqehAanEc9oFXUJWr+Hr7fDyt/fGybYFarWHFukvkFagJbe3IXe3uYeXkVdzr+gEj7WdxV9g99PDvwdy7vwYgxL0NJ5KO6T1SF9IvcDzpuD6Gav2Zddy9qOocPy0cfGnp0opFB75HVa5ix6XtXMqMpl/L/lW2HxE6il2XdnAx/QLlmnIWH1hEe89wbMx1r316YTr5pfm0dW9XZX+BQFB3tA0JrjYeCsDMzJTwdm1Zt2kzKpWamCtXOHH6LF0iOlbZvmtEJ/YdPERKahpFxcVs3PIvXSN1m2DyCwo5fOw4pSoVWq2Ws+cvEHXsGK1bXo9RevKFl7l4KabKsbtEdGLrzl3k5uaRm5fHvzt20a1z9ZutysrLKSvTrUSUa3R/X7txO3H6NEXFxUiSRGxcPNt37yHshtiv3Nw8iouL8ffzrXZ8gQ7hoWpmDO7lzdRXd6FSazAzVWBva8Y7L0Tw9eJTfDTvGCFBDrz5zPUA6N9WRXPqfBazX+uKuZkSc7PrHxkLcyWmpnJ9DFZRcRnzfjpFRlYpZqYKWgfa89GrXfW5pjKySmjb2rFabW8+04lP5h9nzGObcHW24J3nI/RjnzyXxWuzD7L+5+EMazOChbt+4qHn/6FcrcDFyZyx3V/iQO4SVn/7FYEOwSgv3s1dj23CxESOWdBBnPumYWej8xSZm5hz6NBpXpvege3J5zBVmuJg6QBAR+9OPNZtKq///So5xdnYW9gzsfMkuvjqjMa0gjTCPMOqvYb3hn/Ae5vfZfC3A3C3deODEbP1Yx9PPMYLq59l2/RdAES0iGRaj6d4cfXzqMpLCfNsz7vDr+fD2nz+H4a3GYGp0rSW765AILhdukZE8MHnX6BWl2FaTbml+++9h19X/M7/3pmJlaUV9997D55XPVTZOTnM+vgz3n7lJRwdHAgNCWZQv7588e0CysrK6BDWjpFDBwM6Z/TuvftZ9sefSJKEo4MD940ZQ/u2uiKdObm5mJmZ4elRtferV7euZGZl8d6nnwPQo2tnenXrqj8+6+PPGDqwP5076Yy9mR99QnZODgBff/cDAO+/+RpOjo5EHTvBr8v/oLy8HHt7Owb370e3yOvG2aGjx+ga2anW8V3NGZkkVVGXRQDoSs9ERVW9FbUx88OyczjYmXHv8JvHQtUl//tgP09PaotvFd6vW2X+nm9wsHRgQsdbzyC870gq/+5O5O3nbj19xrN/Tuf5vi9WSG9QH6jL1Ty85AHmj1uIo2X1Rqix0lS/O00F8f5Uzer1G7GxtmZAn14G1XEw6ggpqWncNXK4QXWUlZfzwWdzeOHpp7Ctov5nc6Sm744wqGrA2dkZPz+/WrfPyMjAxaVyZm9jQ+isOxqDRmh4nbGxsWRmZjbY+QS3xq3ObXeKMX5PjFETGKcuoek6Nc1twqCqQxrLXZ/QWXc0Bo3QeHQKmibG+PkzRk1gnLqEptohgtIFAoFAIBAI7hBhUAkEAoFAIBDcIcKgqkOmTp1qaAm1QuisOxqDRmg8OgVNE2P8/BmjJjBOXUJT7RAxVAKBQCAQCAR3iPBQCQQCgUAgENwhwqASCAQCgUAguEOEQVULNm3aROvWrQkKCmL27NnVtjt8+DAKhYKVK1fecl9D6/Tz86Ndu3aEh4cTEXHrCS/rUueOHTuws7MjPDyc8PBwZs2aVeu+xqLTmF7Pa1rDw8MJDQ2lT58+t9RXIKgN2dnZDBo0iJYtWzJo0CByrmbm/i/VfeZmzpyJl5eX/vu0YcOG29Zys8+1JEk888wzBAUFERYWxtGjR2vd1xCa6nM+uZmu8+fP061bN8zMzPjss89uqa8hNDXk3FsJSVAj5eXlUkBAgBQTEyOpVCopLCxMOnPmTJXt+vXrJw0bNkz6448/bqmvoXVKkiT5+vpKGRkZ9aLtVnVu375dGjFixG31NQadkmRcr2dOTo4UEhIixcXFSZIkSWlpabXuKxDUlpdffln66KOPJEmSpI8++kj63//+V6lNTZ+5d955R/r000/vWEdtPtfr16+Xhg4dKmm1Wmn//v1S586da923oTVJUv3NJ7XRlZaWJh06dEh6/fXXK7w/hnytqtMkSQ0391aF8FDdhEOHDhEUFERAQACmpqZMmDCBNWvWVGr39ddfc++99+Lq6nrLfQ2tsyG5k9fEGF9PQ1MbnUuXLuWee+6hRQtdZfpr731juUZB42DNmjVMnDgRgIkTJ7J69epKbRriM1ebc6xZs4ZHHnkEmUxG165dyc3NJSUlpd703Ymm+qQ2ulxdXYmMjMTExOSW+za0JkMjDKqbkJSUhI+Pj/6xt7c3SUlJldqsWrWKadOm3XJfY9AJIJPJGDx4MJ06dWLhwoX1orG2OgH2799P+/btGTZsGGfOnLmlvobWCcb1el68eJGcnBz69u1Lp06d+OWXX2rdVyCoLWlpaXh4eADg4eFBenp6pTY3+8zNmzePsLAwJk+eXO2S4c2o7VxYVZv6+k7ciSaov/nkTq7XkK9VTTTU3FsVonz0TZCqyCohk8kqPH7uuef4+OOPUSgUt9y3rrgTnQB79+7F09OT9PR0Bg0aRHBwML179zaIzo4dOxIXF4e1tTUbNmzgrrvuIjo62uhez+p0gnG9nuXl5Rw5coStW7dSUlJCt27d6Nq1a4O+noKmwcCBA0lNTa30/AcffFCr/jV95p588kneeustZDIZb731Fi+++CI//vjjLWuszee6ujb19Z24E01Qf/PJnVyvIV+rmmioubcqhEF1E7y9vUlISNA/TkxMxNPTs0KbqKgoJkyYAEBmZiYbNmxAqVTWqq8x6Lzrrrv0bV1dXbn77rs5dOhQvXwIa6PT1tZW//fw4cN56qmnyMzMNLrXszqdzs7ORvV6ent74+zsjJWVFVZWVvTu3ZsTJ0406OspaBr8+++/1R5zc3MjJSUFDw8PUlJSqgwrqOkz5+bmpn/+8ccfZ+TIkbelsbbfiaraqNXqevlO3IkmoN7mkzuZA+pr/rjTcRtq7q2SBo/aamSUlZVJ/v7+0uXLl/UBcqdPn662/cSJE/XB3rfa11A6CwsLpfz8fP3f3bp1kzZu3GgwnSkpKZJWq5UkSZIOHjwo+fj4SFqt1uhez+p0GtvrefbsWal///5SWVmZVFRUJIWGhkqnTp1q0NdT0PR56aWXKgSlv/zyy5Xa1PSZS05O1rebM2eONH78+NvSUZvP9d9//10hADwyMrLWfRtaU33OJ7dyvf/dNGDI16o6TQ0591aFMKhqwfr166WWLVtKAQEB0vvvvy9JkiTNnz9fmj9/fqW2Nxoq1fU1Np0xMTFSWFiYFBYWJrVp08bgOr/++mupTZs2UlhYmNSlSxdp7969NfY1Np3G9npKkiR98sknUkhIiBQaGip98cUXNfYVCG6HzMxMqX///lJQUJDUv39/KSsrS5IkSUpK+n979xfSVBvHAfw7F4Lb1C6MApOyLoI6ZzttzaSaogkmpqQgVnphRFEWBIXk5fp3Y0FBUHlXkIK0KAq6CGKWooG7KCkwS/HmtUASxtQt1vZ7L0TRnJqeNXtfv59LPb/z/M5BH74+O57nHykpKZk+br6fudraWlEURVRVlbKyslkBa6kW+52IRqNSX18vW7ZsEUVRpKenZ9H+9FpuT396Plmsr69fv0pmZqakpqZKenq6ZGZmit/vn7d2JXtK9Nz7K249Q0RERKQT/8uPiIiISCcGKiIiIiKdGKiIiIiIdGKgIiIiItKJgYqIiIhIJwYqijuj0QhN06AoCqqqqjAxMbGk+qGhIbS2ti5r7D179iyrjogoEdxuN27cuPFb379//z6Gh4cT1RrpxEBFcZeSkoJ3797hw4cPSE5Oxr1795ZUv5xAFYlEAABdXV1LriEi+hsxUP23MFDRH+VyufDlyxeMjo7i0KFDsFqtyM3NRW9vLwDg9evX0DQNmqZh586dCAQCaGxsREdHBzRNw82bNxGJRNDQ0ACn0wmr1Yrm5mYAQHt7OwoKCnD06FGoqgoAsFgsACb3g2poaICiKFBVFW1tbfPWzGSxWHDhwgXY7Xbs378fIyMjibhNRPQ/du3aNWzbtg1FRUX49OkTAGBgYAAHDhyAw+GAy+VCX1/frBqPxwOfz4eamhpomoZgMIjLly/D6XRCURScPHky5r53tIIS+hpRWhXMZrOITG4hUF5eLnfu3JGzZ8+K2+0WEZFXr16JzWYTEZGDBw9KZ2eniIgEAgEJh8Pi9XqltLR0+nzNzc1y5coVEREJhULicDhkcHBQvF6vmEwmGRwcnDO2x+ORoqIi+fnzp3z79k2ysrJkeHg4Zs1MAOThw4ciInLp0iU5c+ZMHO8MEa02Pp9PFEWR8fFx8fv9snXrVrl+/boUFhZKf3+/iIi8fftWCgoKRGT2dir5+fmz3uI+9fZ5kck3yz979iyBV0KL4ebIFHfBYBCapgGYXKE6fvw4du/ejcePHwMACgsL8f37d/j9fuzduxfnz59HTU0NKisrsXHjxjnne/nyJXp7e+HxeAAAfr8fnz9/RnJyMnJycpCdnT2nprOzE0eOHIHRaMT69euRn5+Pnp4epKWlzVsDAElJSaiurgYA1NbWorKyMh63hIhWqY6ODlRUVMBkMgEAysvLEQqF0NXVhaqqqunjfvz4sei5vF4vmpqaMDExgdHRUezYsQNlZWV/rHdaGgYqirupZ6hmkhhL0waDAY2NjSgtLcWLFy+Qm5sbczd7EcHt27dRXFw86+vt7e0wm80xe4g13pT5amIxGAy/fSwRUSy/ziPRaBRr166dM08uJBQKob6+Hj6fD1lZWXC73QiFQnHulPTgM1SUEHl5eWhpaQEwGYQyMjKQlpaGgYEBqKqKixcvYteuXejr60NqaioCgcB0bXFxMe7evYtwOAwA6O/vx/j4+KLjtbW1IRKJYGRkBG/evEFOTs6ifUaj0emVsNbWVuzbt2+5l0xEhLy8PDx58gTBYBCBQADPnz+HyWRCdnY2Hj16BGDyD8D379/PqZ05F06Fp4yMDIyNjU3PU/T34AoVJYTb7caxY8dgtVphMpnw4MEDAMCtW7fg9XphNBqxfft2lJSUICkpCWvWrIHNZkNdXR3OnTuHoaEh2O12iAjWrVuHp0+fLjheRUUFuru7YbPZYDAY0NTUhA0bNsx58PNXZrMZHz9+hMPhQHp6+vTD7EREy2G321FdXQ1N07Bp0ya4XC4AQEtLC06fPo2rV68iHA7j8OHDsNlss2rr6upw6tQppKSkoLu7GydOnICqqti8eTOcTudKXA4twCALfTZCtMpYLBaMjY2tdBtERPQfw4/8iIiIiHTiChURERGRTlyhIiIiItKJgYqIiIhIJwYqIiIiIp0YqIiIiIh0YqAiIiIi0ulf0w6HE7b1PYkAAAAASUVORK5CYII=' style='max-width:100%; margin: auto; display: block; '/>"
      ],
      "text/plain": [
       ":Layout\n",
       "   .Overlay.Posterior_p_Comparison :Overlay\n",
       "      .Curve.A     :Curve   [value]   (pdf)\n",
       "      .Curve.C     :Curve   [value]   (pdf)\n",
       "      .Curve.I     :Curve   [x]   (y)\n",
       "      .Points.A    :Points   [x,y]\n",
       "      .Text.A      :Text   [x,y]\n",
       "      .Curve.II    :Curve   [x]   (y)\n",
       "      .Points.C    :Points   [x,y]\n",
       "      .Text.C      :Text   [x,y]\n",
       "      .Curve.Prior :Curve   [value]   (pdf)\n",
       "   .Overlay.Posterior_p_Delta      :Overlay\n",
       "      .Curve.Delta_Distribution            :Curve   [value]   (pdf)\n",
       "      .Curve.A_0_full_stop_95_percent_HDI  :Curve   [x]   (y)\n",
       "      .Points.A_0_full_stop_95_percent_HDI :Points   [x,y]\n",
       "      .Text.A_0_full_stop_95_percent_HDI   :Text   [x,y]\n",
       "      .Spikes.Null_Delta                   :Spikes   [x]   (pdf)"
      ]
     },
     "execution_count": 14,
     "metadata": {
      "application/vnd.holoviews_exec.v0+json": {}
     },
     "output_type": "execute_result"
    }
   ],
   "source": [
    "# Run Bayesian test with custom prior\n",
    "\n",
    "# strong prior that p = alpha / (alpha + beta) = 0.5\n",
    "strong_prior_model_params = dict(prior_alpha=100, prior_beta=100)\n",
    "\n",
    "custom_bayesian_ab_test = HypothesisTest(\n",
    "    metric='metric',\n",
    "    control='A', variation='C',\n",
    "    inference_method='bayesian',\n",
    "    bayesian_model_params=strong_prior_model_params\n",
    ")\n",
    "\n",
    "# run the test with strong prior\n",
    "custom_bayesian_ab_test_results = experiment.run_test(custom_bayesian_ab_test)\n",
    "assert not custom_bayesian_ab_test_results.prob_greater_than_zero > .95  # strong prior dominates data\n",
    "custom_bayesian_ab_test_results.display()\n",
    "custom_bayesian_ab_test_results.visualize(include_prior=True)  # `include_prior`"
   ]
  },
  {
   "cell_type": "markdown",
   "metadata": {},
   "source": [
    "Here we see that the strong prior of $p=0.5$ influences the proportion parameters to values around 0.5. This causes our delta distribution (right plot) to be much smaller because the two groups' mdoels that are forced to be near a prior mean (here 0.5), and thus will be located closer to one another than if we had used a weaker prior.\n",
    "\n",
    "If there were more data in the experiment, these parameter estimates would move toward the data distribution, rather than the super-confident prior distribution, providing results that are similar to the results provided by the Frequentist and weak-prior Bayesian models."
   ]
  },
  {
   "cell_type": "markdown",
   "metadata": {},
   "source": [
    "## Including Segmentations\n",
    "`spearmint` supports the ability to segment experiment observations based on one or more attributes in your dataset using the `segmentation` argument to `HyptothesisTest`. The segmentation can be a string or list of string expressions, each of which follow the [pandas query API](https://pandas.pydata.org/pandas-docs/stable/generated/pandas.DataFrame.query.html)"
   ]
  },
  {
   "cell_type": "code",
   "execution_count": 15,
   "metadata": {},
   "outputs": [
    {
     "data": {
      "text/html": [
       "<pre style=\"white-space:pre;overflow-x:auto;line-height:normal;font-family:Menlo,'DejaVu Sans Mono',consolas,'Courier New',monospace\"><span style=\"color: #008080; text-decoration-color: #008080; font-weight: bold\">Samples Comparison                  </span>\n",
       "┏━━━━━━━━━━━━━━━━┳━━━━━━━━┳━━━━━━━━┓\n",
       "┃<span style=\"color: #008080; text-decoration-color: #008080; font-style: italic\">                </span>┃<span style=\"color: #008080; text-decoration-color: #008080; font-style: italic\"> A      </span>┃<span style=\"color: #008080; text-decoration-color: #008080; font-style: italic\"> C      </span>┃\n",
       "┡━━━━━━━━━━━━━━━━╇━━━━━━━━╇━━━━━━━━┩\n",
       "│        Samples │ 19     │ 21     │\n",
       "│           Mean │ 0.4737 │ 0.7143 │\n",
       "│ Standard Error │ 0.1145 │ 0.0986 │\n",
       "│       Variance │ 0.2493 │ 0.2041 │\n",
       "│          Delta │        │ 0.2406 │\n",
       "└────────────────┴────────┴────────┘\n",
       "</pre>\n"
      ],
      "text/plain": [
       "\u001b[1;36mSamples Comparison                  \u001b[0m\n",
       "┏━━━━━━━━━━━━━━━━┳━━━━━━━━┳━━━━━━━━┓\n",
       "┃\u001b[3;36m \u001b[0m\u001b[3;36m              \u001b[0m\u001b[3;36m \u001b[0m┃\u001b[3;36m \u001b[0m\u001b[3;36mA     \u001b[0m\u001b[3;36m \u001b[0m┃\u001b[3;36m \u001b[0m\u001b[3;36mC     \u001b[0m\u001b[3;36m \u001b[0m┃\n",
       "┡━━━━━━━━━━━━━━━━╇━━━━━━━━╇━━━━━━━━┩\n",
       "│        Samples │ 19     │ 21     │\n",
       "│           Mean │ 0.4737 │ 0.7143 │\n",
       "│ Standard Error │ 0.1145 │ 0.0986 │\n",
       "│       Variance │ 0.2493 │ 0.2041 │\n",
       "│          Delta │        │ 0.2406 │\n",
       "└────────────────┴────────┴────────┘\n"
      ]
     },
     "metadata": {},
     "output_type": "display_data"
    },
    {
     "data": {
      "text/html": [
       "<pre style=\"white-space:pre;overflow-x:auto;line-height:normal;font-family:Menlo,'DejaVu Sans Mono',consolas,'Courier New',monospace\"><span style=\"color: #008080; text-decoration-color: #008080; font-weight: bold\">Bayesian Delta Results                    </span>\n",
       "┌────────────────────┬───────────────────┐\n",
       "│ Delta              │ 0.2238            │\n",
       "│ Delta HDI          │ (-0.0504, 0.4684) │\n",
       "│ Delta Relative     │ 47.37 %           │\n",
       "│ Delta-relative HDI │ (-10.67, 99.16) % │\n",
       "│ Effect Size        │ 1.622             │\n",
       "│ Effect Size HDI    │ (-0.3652, 3.3952) │\n",
       "│ HDI %-tiles        │ (0.025, 0.975)    │\n",
       "│ Credible Mass      │ 0.95              │\n",
       "│ Variable Type      │ binary            │\n",
       "│ Inference Method   │ Bayesian          │\n",
       "│ Model Name         │ binomial          │\n",
       "│ Estimation Method  │ analytic          │\n",
       "│ p(C &gt; A)           │ 0.95              │\n",
       "│ Hypothesis         │ C is larger       │\n",
       "│ Accept Hypothesis  │ True              │\n",
       "└────────────────────┴───────────────────┘\n",
       "</pre>\n"
      ],
      "text/plain": [
       "\u001b[1;36mBayesian Delta Results                    \u001b[0m\n",
       "┌────────────────────┬───────────────────┐\n",
       "│ Delta              │ 0.2238            │\n",
       "│ Delta HDI          │ (-0.0504, 0.4684) │\n",
       "│ Delta Relative     │ 47.37 %           │\n",
       "│ Delta-relative HDI │ (-10.67, 99.16) % │\n",
       "│ Effect Size        │ 1.622             │\n",
       "│ Effect Size HDI    │ (-0.3652, 3.3952) │\n",
       "│ HDI %-tiles        │ (0.025, 0.975)    │\n",
       "│ Credible Mass      │ 0.95              │\n",
       "│ Variable Type      │ binary            │\n",
       "│ Inference Method   │ Bayesian          │\n",
       "│ Model Name         │ binomial          │\n",
       "│ Estimation Method  │ analytic          │\n",
       "│ p(C > A)           │ 0.95              │\n",
       "│ Hypothesis         │ C is larger       │\n",
       "│ Accept Hypothesis  │ True              │\n",
       "└────────────────────┴───────────────────┘\n"
      ]
     },
     "metadata": {},
     "output_type": "display_data"
    },
    {
     "data": {
      "text/html": [
       "<img src='data:image/png;base64,iVBORw0KGgoAAAANSUhEUgAAAloAAADaCAYAAAB+dOwbAAAAOXRFWHRTb2Z0d2FyZQBNYXRwbG90bGliIHZlcnNpb24zLjguMCwgaHR0cHM6Ly9tYXRwbG90bGliLm9yZy81sbWrAAAACXBIWXMAAAsTAAALEwEAmpwYAAB8K0lEQVR4nO3dd1yV5f/H8ddhbxAQBEEQcCAIiOBeOHNmWuYo0yzLnJmWbbOtZlZmZvnL3H7T3HtvBVTcAxGQDYLsdTjcvz/IkwQoIHBz4Ho+Hj4ennPu8b7hcJ/Pue7rvi6FJEkSgiAIgiAIQpXTkjuAIAiCIAhCXSUKLUEQBEEQhGoiCi1BEARBEIRqIgotQRAEQRCEaiIKLUEQBEEQhGoiCi1BEARBEIRqIgotQRAEQRCEaiIKLUEQBEEQhGoiCi2hUtauXUvfvn3ljqGRPDw8OHr0qNwxBEGoAZp+ruzRowe///673DE0mii0NICzszOGhoaYmJhga2vL+PHjyczMrPT25s6dy0svvfRUmcaMGcP+/fufahtPIy4ujgkTJmBnZ4epqSktW7bk008/JSsrS7ZM5XXt2jV69OghdwxBqHPEubK4lStXoq2tjYmJCSYmJjRt2pTx48dz+/btSm+vS5cuVZyy7hOFlobYsWMHmZmZXLhwgaCgIL744gvZshQUFFR6XUmSKCwsfKr9p6Sk0LFjR3Jycjhz5gwZGRkcOHCA1NRUwsLCnmrb1elpfm6CIJSPOFcW17FjRzIzM0lLS+PgwYMYGhrStm1brl69+tTbFspHFFoapnHjxvTv31/9R7J9+3Y8PDywsLCgR48e3LhxQ73st99+S+PGjTE1NaVFixYcOnSIvXv38tVXX7Fx40ZMTEzw9vYGIC0tTd1C1LhxYz766CNUKhVQ9C2mc+fOvP3221haWjJ37twS32xOnz6Nv78/5ubm+Pv7c/r0afVrPXr04MMPP6Rz584YGRlx9+7dEsfl7OzM119/TatWrWjQoAHjx48nNze31J/BokWLMDU1Zc2aNTg7OwPg6OjIDz/8gJeXV7nyfPTRR3Tq1AkTExMGDx5McnIyY8aMwczMDH9/fyIiItTLKxQKfvzxR1xcXLC2tmb27NnqE2BYWBg9e/bEysoKa2trxowZQ2pqarHj+vbbb/Hy8sLY2JiCggKcnZ05ePAgAIGBgfj5+WFmZoatrS0zZ85Ur/u4362zszMLFy7Ey8sLc3NzXnzxxTJ/XoJQH4lzZXHa2tq4urqydOlSunfvzty5c9WvnT17lk6dOmFhYYG3t3epXRtu3LjBm2++yZkzZzAxMcHCwgKAXbt20aZNG8zMzHB0dCy2XeEfklDrOTk5SQcOHJAkSZLu3bsntWrVSvroo4+kW7duSUZGRtL+/ful/Px86dtvv5VcXV2lvLw86ebNm5KDg4MUExMjSZIkhYeHS3fu3JEkSZI+/fRTacyYMcX28eyzz0oTJ06UMjMzpYSEBMnf319atmyZJEmS9Mcff0ja2trSjz/+KCmVSik7O1v6448/pM6dO0uSJEnJycmShYWFtGrVKkmpVErr1q2TLCwspPv370uSJEndu3eXHB0dpatXr0pKpVLKz88v9Rg9PDyke/fuScnJyVKnTp2kDz/8sNSfR/v27aVPPvmkzJ9XefK4urpKd+7ckVJTUyV3d3epWbNm0oEDBySlUim9/PLL0rhx49TbA6QePXpIycnJUmRkpNSsWTPpt99+kyRJkkJDQ6X9+/dLubm5UmJiotS1a1dp+vTpxY7L29tbunfvnpSdnV3i99mhQwdp1apVkiRJUkZGhnTmzBlJkqTH/m4fbsPf31+KiYmRkpOTpZYtW0q//PJLmT8TQagPxLmyuEf3/agVK1ZINjY2kiRJUnR0tGRpaSnt2rVLUqlU0v79+yVLS0spMTFRnenh+a607R05ckS6fPmypFKppEuXLkk2NjbSli1bnvCbql9Ei5aGGDp0KBYWFnTp0oXu3bvzwQcfsHHjRgYOHEifPn3Q1dVl1qxZ5OTkcPr0abS1tcnLy+P69esolUqcnZ1xdXUtddsJCQns2bOHxYsXY2xsjI2NDW+//TYbNmxQL2Nvb8/UqVPR0dHB0NCw2Pq7du2iWbNmvPzyy+jo6DBq1ChatmzJjh071MuMGzcODw8PdHR00NXVLTXHlClTcHR0xNLSkg8//JD169eXulxycjJ2dnZl/qzKk2f8+PG4urpibm5O//79cXV1pXfv3ujo6PDCCy9w8eLFYtt87733sLS0pEmTJsyYMUOdzc3NjT59+qCvr0/Dhg2ZOXMmx44dK7butGnTcHR0LPFzA9DV1eXOnTvcv38fExMTOnToAPDY3+2j27W3t8fS0pLBgwcTEhJS5s9EEOoLca58Mnt7e1JSUgBYs2YNAwYMYMCAAWhpadGnTx/8/PzYvXt3ubbVo0cPWrdujZaWFl5eXowaNarEObC+q7JC6+TJkygUimL/rl27VlWbr/e2bt1KamoqkZGRLF26FENDQ2JjY3FyclIvo6WlhaOjIzExMbi5ubF48WLmzp2LjY0NI0eOJDY2ttRtR0ZGolQqsbOzw8LCAgsLC9544w0SExPVyzg6OpaZ7b85AJycnIiJiSnX+qUt4+TkVGZeKysr4uLiniqPra2t+v+GhoYlHv+3A21Z2RITExk5ciSNGzfGzMyMl156ifv375e57n+tWLGC27dv07JlS/z9/dm5c2epx/Do7/ahRo0aqf9vZGT0VJ1+hZJWrlxZ4pymUCgwMjLCxcWFkSNHcurUKbljCv8hzpVPFhMTg6WlJVB0TH/99Zf6eCwsLDh58uRjz7GPOnfuHAEBATRs2BBzc3OWLVtW4hxY31VZobVy5cpyPSdUHXt7eyIjI9WPJUkiKiqKxo0bAzB69GhOnjxJZGQkCoWC9957Dyjqc/QoR0dH9PX1uX//PqmpqaSmppKenl6sUP7vOo/LAXDv3j11jiet/1BUVFSx9e3t7Utdrnfv3mzZsqXMjqLlyVNRZWV7//33USgUXL58mfT0dNasWYMkScXWfdyxN2vWjPXr15OYmMh7773H888/T1ZW1hN/t4J8cnJyCA8PZ+PGjXTv3l1dHAu1V309V5Zly5YtdO3aFSg6ppdffll9PKmpqWRlZTFnzpwS65WWbfTo0QwZMoSoqCjS0tJ48803S5wD67sqKbRycnL466+/Sjy/Zs0adSdBoeqNGDGCXbt2cejQIZRKJd999x36+vp06tSJW7ducfjwYfLy8jAwMMDQ0BBtbW2gqDUnIiJCXajY2dnRt29f3nnnHdLT0yksLCQsLKzczb8DBgzg9u3brFu3joKCAjZu3Mj169cZNGhQhY7n559/Jjo6mpSUFL766itefPHFUpebOXMm6enpvPLKK+qTVkxMDDNnzuTy5ctVludRCxYs4MGDB0RFRfHDDz+os2VkZKg7hsbExLBgwYIKbXfNmjUkJSWhpaWl7lyqra392N+tII8TJ05w4sQJ1q5dq24BValULFq0SOZkwpPU13Plo1QqFeHh4UydOpWjR4/y6aefAvDSSy+xY8cO9u3bh0qlIjc3l6NHjxIdHV1iG7a2tkRHR5Ofn69+LiMjA0tLSwwMDAgMDGTdunUVOpb6oEoKrb///pv09HQAOnToQMuWLQGIj49n3759VbELoRQtWrRgzZo1TJ06FWtra3bs2MGOHTvQ09MjLy+POXPmYG1tTaNGjUhMTOSrr74C4IUXXgCKLsH5+voCsGrVKvLz89V3sjz//PPlbjq2srJi586dfPfdd1hZWTF//nx27tyJtbV1hY5n9OjR9O3bFxcXF1xcXPjoo49KXc7S0pLTp0+jq6tL+/btMTU1pVevXpibm+Pm5lZleR717LPP0rZtW3x8fBg4cCATJkwA4NNPP+XChQuYm5szcOBAhg0bVqHt7t27Fw8PD0xMTJg+fTobNmzAwMDgsb9bQR5dunShS5cujB49utjYShW9bCPUvPp6rgTUdwmamZnRo0cP0tPTCQoKonXr1kBRi9a2bdv46quvaNiwIY6OjixYsKDUKwY9e/bEw8ODRo0aqTMvXbqUTz75BFNTU+bNm8eIESMqdCz1gUKqgja+Pn36qG9XX7JkCQ8ePODjjz8Git6o//vf/552F0Id5+zszO+//07v3r3ljlKCQqEgNDQUNzc3uaMINWjlypWMHz9e/fjhqTI6Oppnn32WCxcuAEWtJRs3bpQlo1D/1OZzpVA6nafdQFRUFIcPHy7amI4OI0aMIDMzU11obd++nQcPHtCgQYOn3ZUgCIJsSuuf4unpyfz582VIIwiCpnjqS4erV69WNzH269ePhg0b0rRpU3Vfkry8vGK3vgqCINQVxsbGZGRkyB1DEIRa7KkLrT///FP9/zFjxpT6f3H3ofAkERERtbYpXJIkcdlQUHeG3759OwEBAUDRre3PPPMMeXl5MqcT6ovafK4USvdUfbROnz5N586dy7Xs9evXcXd3r+yuBEEQalRZfbSg6EafRwfN3bdvH3379q3RfIIgaIan6qP1aGtWeZb95ptvnmZ3Nc7a2lo9l54gCOUXERFRpwct/O/304ejbGsKcW4ThMqpzLmt0oVWbm5usTttZs2aVWLagitXrrB06VKgqC/Xl19+qR6fRBM4OzsTHBwsdwxB0Dh+fn5yR6hyJ0+eBODBgwd8//33xV5r1aqVHJEqTZzbBKFyKnNuq3ShtWXLFtLS0gAwMzPjiy++QF9fv9gyqamp/PbbbyiVSmJjYzlw4ADPPPNMZXcpCIIgm4cjaf/X6NGj8fLyquE0giBoikp3hn/0suGgQYNKFFkAFhYW6k6jIDrFC4Kg+bS1tbGysqJ79+4sX76cVatWyR1JEIRarNItWnv37i3XcmJkeEEQNNG4ceMYN26c3DEEQdBwTz1gqSAIVU+pVBIdHU1ubq7cUR7LwMAABwcHdHV15Y4iCNVOU/4uhadXlec2UWgJQi0UHR2Nqakpzs7OpY5IXhtIkkRycjLR0dE0bdpU7jiCUO004e9SeHpVfW6rkkmlBUGoWrm5uVhZWdXqk7lCocDKykp8uxfqDU34uxSeXlWf20ShJQi1lCaczDUhoyBUJfGerx+q8vcsCi1BEARBEIRqIgotQRDKtGXLFhQKBTdv3pQ7iiAIFA0v4uPjg4eHB97e3ixatIjCwsLHrhMREYGnpycAISEh7N69u0L7jIiIwNDQkDZt2uDu7k67du2KDfG0ffv2x8788qR9BgcHM23aNADmzp3LwoULK5Rv8eLFZGdnqx8PGDCA1NTUCm2jOolCSxCEMq1fv54uXbqwYcMGuaMIggAYGhoSEhLCtWvXOHDgALt37+azzz4r9/qVKbQAXF1duXjxIjdu3GDDhg18//33/PHHHwAMGTKEOXPmVGqfBQUF+Pn58eOPP1Y400P/LbR2796NhYVFpbdX1UShJQhVLCU7hbXBq5m9bSYf7JzDirO/EZUaJXesCsvMzOTUqVOsWLFCFFqCUANUKhVpaWnEx8cTERHBnTt3uHXrFjdv3uTWrVvcuXMHSZKIiYnh/v37GBsb8+uvv7JkyRIkSUKlUjF79mz8/f3x8vLi119/Lbb9/Px8PvnkEzZu3IiPjw8bN24kMDCQTp060aZNGzp16sStW7eemNPFxYVFixapi6OVK1cyZcoUAP766y88PT3x9vamW7dupe5z7ty5TJw4kb59+zJ27FiOHj3KoEGD1Nu/dOkSPXv2pFmzZvz2228AJZaZMmUKK1eu5McffyQ2NpaAgAD1AOnOzs7q+QgXLVqEp6cnnp6eLF68GChqoXN3d+f111/Hw8ODvn37kpOTU8nf2pOJ4R0EoQpdignhw51zSM5OVj93JPQQv59ZTnunDoxu+xJ+TfzRUpT/O06vkTuqIyqHNgx+7Otbt27lmWeeoXnz5lhaWnLhwgV8fX2rJYsgVFbBpBkA6PyyuEb3W12d4oOCgh77uiRJxMXFqR9raWlRUFDA7du3OXLkCObm5gQFBZGXl0fnzp3p27evOquenh7z5s0jODiYJUuWAJCens7x48fR0dHh4MGDfPDBB2zevPmJOX19fUvtUjBv3jz27dtH48aNSU1NLXWfc+fO5fz585w8eRJDQ0OOHj1abBuXL1/m7NmzZGVl0aZNGwYOHFhmjmnTprFo0SKOHDmCtbV1sdfOnz/PH3/8wblz55Akifbt29O9e3caNGhAaGgo69ev57fffmPEiBFs3ryZl1566YnHXRmi0BKEKnIt/hpTN7+FUqXEp3Ebnm09FIVCi6DIcxy6fZBzkWc5F3kWezN7urh0xb1RKxqa2GBhaIG1SUPMDczlPoRi1q9fz4wZMwAYOXIk69evF4WWIFQzY2NjjI2NMTAwQFdXF21tbRQKhbrFSqFQYGdnR25uLtnZ2eTl5VFYWEhERASbN2/m7t27bNq0CYC0tDRCQ0Np3rx5mftLS0vjlVdeITQ0FIVCgVKpLFdOSZJKfb5z586MGzeOESNGMGzYsDLXHzJkCIaGhqW+9uyzz2JoaIihoSEBAQEEBgZW6lLgyZMnee655zA2NgZg2LBhnDhxgiFDhtC0aVN8fHwAaNu2LRERERXefnmJQksQqkBmXiaf7PoApUrJII8hvNf7fXS0iv68+rV8hqndZ7Dl0ma2Xvmb2PRY/heyscQ2Gps7MNBjEKN8xxR7/kktT9UhOTmZw4cPc/XqVRQKhfoEP3/+fHF7uyBQdqFRnvVSUlKIjo5WFzXGxsY0bNgQCwsLdHQe/7GsUCho3Lix+vHNmzfR1dWlcePGqFQqZsyYQZ8+fXBxcUFPTw/gsUXExx9/TEBAAFu2bCEiIoIePXqU6zguXryIu7t7ieeXLVvGuXPn2LVrFz4+PoSEhJS6/sPip6xj/O9jHR2dYp3+yzPG1eN+R4/Oz6ytrV2tlw5FHy1BqAJLjv9AbHoszW1aMLvne+oi6yFzA3PGtX+Vza9u4+cXlvF6xzfo1bw3Po3b0NSyKQY6BsSkRbP89DJG/fkCBYUFMh1JkU2bNjF27FgiIyOJiIggKiqKpk2bcvLkSVlzCYImKygo4O7du4SHh6NUKjE2NqZFixa4u7tjbW39xCLrv5KSkpg2bRpTp07Fw8ODQYMG8ffff5OamsrNmze5dOkSWVlZxdYxNTUlIyND/TgtLU1duK1cubJc+42IiGDWrFlMnTq1xGthYWG0b9+eefPmYW1tTVRUVIl9Psm2bdvIzc0lOTmZo0eP4u/vj5OTE9evXycvL4+0tDQOHTpU5jE91K1bN7Zu3Up2djZZWVls2bKFrl27ljtHVal3LVoqlQo/Pz8aN27Mzp075Y4j1AGRKRHsvLYDbYU2n/X/Aj0dvTKX1dbSxtehLb4ObYs9X1BYwIWo8yw58QOhSaGkZKegVCnR1ZZnDsH169eXuIto+PDhrFu3TpYTVX0VFRXF2LFjiY+PR0tLi4kTJzJ9+vRiyxw9epRnn31WPVXIsGHD+OSTT+SIKzxGTk4OoaGh5Ofno6WlhaOjI9bW1hVuIc7JycHHxwelUomOjg4vv/wyM2fORKFQMGPGDBISEhg7diwqlYoGDRqwbdu2YusHBATwzTff4OPjw/vvv8+7777LK6+8wqJFi+jZs2eZ+w0LC6NNmzbk5uZiamrK1KlTGT9+fInlZs+eTWhoKJIk0atXL7y9vWnSpEmxfT5Ju3btGDhwIPfu3ePjjz/G3t4egBEjRuDl5UWzZs1o06aNevmJEyfSv39/7OzsOHLkiPp5X19fxo0bR7t27QB47bXXaNOmTbVeJiyNQqps+6eGWrRoEcHBwaSnpz+x0PLz8yM4OLiGkgma6uNdH3Dw9gGe9RzKnD4fPtW2svOzmbZ5MmNcXsa1mSuODZrU+kt1N27cKHEJQfztVI24uDji4uLw9fUlIyODtm3bsnXrVlq1aqVe5ujRoyxcuLBCXxzr0u+nJjvDl/ZeL4/09HTCwsJQqVQYGRnh6upa7NJVVXvYZyslJQUdHR1atmyJgYFBte2vrqqqc1u9unQYHR3Nrl27eO211+SOItQRESkRHLx9AF1tXcZ3mPDU2zPSM2Lh0O9RKLTIUmaRkVf+5nah7rGzs1PfgGBqaoq7uzsxMTEypxIq4mGH9IctTC1atKjWIguK7kR0dnbGzMyMgoICQkNDKSiQtztCfVavCq0ZM2Ywf/58tLTKPuzly5fj5+eHn58fSUlJNZhO0ESbL/0FwAD3gdiaNqqSbVoYWmCqbwpAYkYChdLjR30W6oeIiAguXrxI+/btS7x25swZvL296d+/P9euXSt1fXFuq3kZGRmEhYUhSRINGzbExcUFbW3tGtm3lpYWrq6uGBkZkZeXR0RERKU78AtPp94UWjt37sTGxoa2bds+drmJEycSHBxMcHAwDRs2rKF0gibKys9i9/VdADzvM6JKt22oa4i+jgHKQiUZuelVum1B82RmZjJ8+HAWL16MmZlZsdd8fX2JjIzk0qVLTJ06laFDh5a6DXFuq1kP+2QVFhZibW1NkyY13w1AW1sbV1dXtLW1SU1NVQ/iKdSselNonTp1iu3bt+Ps7MzIkSM5fPhwtQ1OJtQPe2/sJjs/C5/GbXBr2KxKt61QKLA0sgTgQfaDKt22oFmUSiXDhw9nzJgxpY5LZGZmhomJCVA0x5tSqRQfqDIrKCjgzp07FBYW0qBBA5ycnGTra6mvr0+TJk2AopsryjMsglC16k2h9fXXXxMdHU1ERAQbNmygZ8+erFmzRu5Y9YYkSZwMimP+LyF8tCCQJSuvEpeY/eQVa7GdV4tGbB/m/Xy1bN/MwAxthTY5BTnkKKtvjBeh9pIkiQkTJuDu7s7MmTNLXSY+Pl59SSgwMJDCwkKsrKxqMqbwCEmSuHv3Lnl5eRgZGeHs7Cz7DS1WVlZYWlpSWFhIZGSkuIRYw+rd8A5CzYuOy+TrJRe5GZZa7Plt+yN49cUWjHq2aluDakJ48l1uJt7ARN+Ebq7dq2UfWgotzA0tSMlOJjXnAYa6pY+iLNRdp06dYvXq1bRu3Vo9ivVXX33FvXv3AHjzzTfZtGkTv/zyCzo6OhgaGrJhwwbZP9jrs4SEBNLT09HR0cHNza3G+mQ9iaOjI+np6WRkZJCSkiKK8RpULwutHj16lHv0W+HpXL6RzCffBZGRqaSBuT7PD3ShcSNjTgXHc+hENL+vv4merjbDB7jIHbVC9twomom+V7Pe6OtU3x1EFgbmpGQnk5GbQSNTqcY/QOPj45kxYwZBQUHo6+vj7OzM4sWLHzulh1B1unTp8sTWhylTpqgn9BXklZ2drb4rtGnTpuqR2avS3r17mT59OiqVitdee63EeHcADx484NVXXyUsLAwDAwP+7//+D09PTxwcHPDy8sLY2BgjIyN0dXXVQxW899577NmzBx8fH1atWgXA6tWrSUlJKTF2GxTdnDFo0CCuXr2qfm7u3LmYmJgwa9Ysxo0bx7FjxzAzMyMnJ4cOHTrw9ddfqwdHdXZ2Jjg4uMT8hHVRvbl0KNS8kGv3ee+rs2RkKmnfxoZVi3sycogbXdvZMeetNsyc6A3A0lXXOHcxQea05VcoFbLvxh4AnnEfUK370tc1QF9bH5WkIjs/68krVCFJknjuuefo0aMHYWFhXL9+na+++oqEBM35XQlCTSksLCQ8PFx9h6G5edXPXapSqZg8eTJ79uzh+vXrrF+/nuvXr5dY7quvvsLHx4fLly+zatUqdaFkZWWFQqHgl19+Yfv27eoiKy0tjdOnT3P58mVUKhVXrlwhJyeHlStX8tZbb1U674IFC7h06RK3bt2iTZs2BAQEkJ+fX+ntaSpRaAnV4lZYKh8tCCRfWcgzPRz5fJY/RobFG1D7BzRh/IgWAPz0x1Xy8lVyRK2wSzEhJGYmYmdmj1dj72rfn6lB0VAP6TU8ptaRI0fQ1dXlzTffVD/n4+MjRoYXhFIkJCSQk5ODvr4+Dg4O1bKPwMBA3Nzc1PMYjhw5ssTI7wDXr1+nV69eALRs2ZKIiAgSEhLUcwZC0fQ92dlF/WS1tLTIz89HkiRycnLQ1dVlwYIFTJs2DV3dp5+dQqFQ8Pbbb9OoUSP27Nnz1NvTNPXy0qFQveISs/lg/jlyclUEdLJn5kRvtLVKv+Q1cogbR8/GEn4vg3VbQhn/YssaTltxh24fBKB3895oKar/u8qQ3wZWy3bPvB302NevXr36xOFQBKG+mjRzdrVs95dFC8p8LSYmBkdHR/VjBwcHzp07V2I5b29v/v77b7p06UJgYCCRkZFER0dja2uLlpYWM2bMQKVSMWrUKD7++GNMTU0ZPnw4bdq0oVevXpibmxMUFPTEqZzCwsLUfQehqKvBrFmzylze19eXmzdv8uyzzz52u3WNaNESqlRmlpIPvj1Halo+vq2tee+tNmUWWQA6OlrMmOAFwMYdYdxPqd23HqsKVRwJLZrMtFfzPjKnEQShPimtv15p/TbnzJnDgwcP8PHx4aeffqJNmzbqlqxTp04REhLCzz//zJo1a9i1q2gswHfffZeQkBC+++47Pv74Y+bNm8fvv//OiBEj+OKLL0rN4+rqSkhIiPrfo63f5c1fH4gWLaHKFBQUMm9xMPdiMnF2MOXTt/3Q1XlyLe/ZwpKu7ew4ERjH5t13eeOlVk9cRy4hMRdJyU6hsbkDzW1a1Mg+z7wdRHx6PA9yUrA2tqahiU2N7NfDw4NNmzbVyL4EQdM8bHlKT0/n9u3baGlp4enpWS0d4B9ycHAgKipK/Tg6Olo94fKjzMzM+OOPP4Ci4qZp06bqSccfLt+6dWt69OjBkSNH6N+/v/ruyIsXLwLQvHlzpk+fzvHjxxk5ciShoaE0a/Z0d4hfvHhRfUmzPhEtWkKVkCSJn/+8yvkr97Ew1+PLd9thYlT+a/ujh7oBsONgBBmZtbezpPqyYYs+NXoHoIm+MQBZeTXXIb5nz57k5eXx22+/qZ8LCgri2LFjNZZBEGozSZKIjo4GiualrM4iC8Df35/Q0FDCw8PJz89nw4YNDBkypMRyqamp6k7nv//+O926dcPMzIysrCwyMor6ehoaGhIUFISTkxPx8fHqdR+2ZimVSlSqon6zWlpa6v5clSFJEj/++CNxcXE888wzld6OphKFllAltu6LYPuBSHR1tZj3jj+NbIwqtH5zFwvatrYmJ1fFtv0R1RPyKakKVRy7cwSAgGY1+63MSNcYBQpyCnIpKKyZyWEVCgVbtmzhwIEDuLq64uHhwdy5c0v9Bi0I9VFKSgrZ2dno6upia2tb7fvT0dFhyZIl9OvXD3d3d0aMGIGHhwcAy5YtY9myZQDcuHEDDw8PWrZsyZ49e/jhhx+Aog77Xbp0wdvbm/bt2zNkyBA6depEfHw8eXl5bN26FX9/f+zt7bGwsKBjx460bt0ahUKBt3fFb/yZPXs23t7eNG/enKCgII4cOVLtxWhtpJDq60XTcvDz81Pf/iqULehSIh98c45CCd6f0obeXSp3x835K0m8++VZrC0NWPdTL7S1a9f3gIvRF3jrrzdobN6Yv8ZvqdYWrRs3buDu7l7suXspkWQps2hs3hgzg6q/dbyySssq/nZqt7r0+ymYNAMAnV8WV/u+Hn2vFxYWcu3aNfLy8nByctLY+SPv3r1LSkoK5ubmuLm5icFuH1FV57ba9UkmaJx7MRl8vvg8hRK89FyzShdZAL6e1jRuZMz9lFzOXUyswpRV42joYQB6uPWU5WRkrF80n11mDV4+FAShdMnJyeTl5WFgYKDRg246ODigra1NWloaqampcsepk0ShJVRaZpaSjxcGkZVTQNd2jXjlhafrHK5QKBjUywmAnYciqyJilSmUCjny8LJhc3k6cxrpFV2Ozc7X7DkiBUHTFRYWEhcXBxR1LtfkViA9PT31aO337t1T98sSqo4otIRKKSyU+GbpRaLjsnBpYsZ7b7VB6zHDOJRXv+4O6OpoERSSSML92lNQXI+/RlJmIramtrSyrZm7Iv97Vd9AxwBthTbKwnzyVbXjhgHR80CobyRJIiUlhfz8fAwMDGjQoIHckZ5aw4YNMTY2RqlUqjv313dVeW4ThZZQKRu23+HM+QRMjHWZN8sfQ4OqGSnE3EyfLu0aUSjB/mO15w/+yD+XDbu7BdTIt1cDAwOSk5OL/bErFIpa1aolSRLJyckYGBjIHUUQaoSBgQH3798nNjYWKLrTUJNbsx5SKBQ4OTmhUChISkoiLS1N7kiyqupzmxhHS6iwa7dT+GPjTQDen9wGuwreYfgk/bo7cuR0LAdORPPSsGayn8gkSVL3zwpw61kj+3RwcCA6OpqkpKRiz2flZ5GRm06qbhoWhhY1kuVxDAwMqm26EUGobR6OxJ6eno6enh4JCQkkJta+/qSVpVQqSU1NJSUlBXt7e/XYWvVRVZ7bRKElVEhObgHf/HyRQglGDHalg2/V39Ls62mNVQN9YuKzuHEnlVbN5G2av510m9j0WCyNLGlt71Uj+9TV1VUPMFgsS+Itpq6dRCMzO7ZM2F4jWQRBKKKjo8P06dO5cOECy5Yto3fv3nJHqlIqlYqePXty/PhxBgwYwI4dO9DSEhe+npb4CQoVsnzdDWITsnFpYqaeELqqaWtr0atz0TeJA8ejnrB09Tv6yGVDbS15v+G5NWyGqb4Z8elxxKXFyppFEOqbo0ePcuHCBRo2bMjYsWPljlPltLW1WbVqFZaWluzevZvPPvtM7kh1gii0hHK7eecBOw5EoK2tYM7kNujpVl/R0adbUaF15HQs+Ur57oKRJEk9GnxAs5q5bPg4WgotfBr7ABASEyJrFkGobxYsKJp2Z+rUqRgaGsqcpno4OTmxfv16tLS0mDdvHtu2bZM7ksYThZZQLqpCicUrriBJ8MJAV1ydzKp1fy5NzHBpYkZGlpKgS0lPXqGa3LkfSlTqPRoYNqCNg69sOR7lrS60LsgbRKh2UVFRBAQE4O7ujoeHh3qE70dJksS0adNwc3PDy8uLCxfE+6I6XL16lT179mBoaMikSZPkjlOt+vbty1dffQXAmDFjOH/+vMyJNJsotIRy2XP4HqHhadhYGfDSsKebWLS8enUpGtvl0En57j48fPsQAD2a9URHq3Z0afT5p+ALibkocxKhuuno6PDdd99x48YNzp49y88//8z169eLLbNnzx5CQ0MJDQ1l+fLldb4IkMvixYsBGD9+vEYPUFpe7777LmPHjiUrK4uBAwcSHh4udySNJQot4Yny8lWs2nwbgIljWlXZUA5P0rNTYxQKOHM+gaxsZY3s81GPXjbsWcNzGz5Oi4YtMNQ15N6De6RkJcsdR6hGdnZ2+PoWFdampqa4u7sTExNTbJlt27YxduxYFAoFHTp0IDU1VT2YplA1kpKSWLNmDQDTp0+XOU3NUCgU/Pbbb/Tu3ZuEhAT69+/P/fv35Y6lkUShJTzR1n3hJD/Ixc3ZjO4dam5CYRtrQ7xaWpGvLORkUPyTV6hit5Nuqy8b+ji0qfH9l0VHWwdPu9aA6KdVn0RERHDx4kXat29f7PmYmBgcHR3Vjx0cHEoUYwDLly/Hz88PPz+/EsOGCI+3fPly8vLyGDhwIM2bN5c7To3R09Nj06ZNeHl5cevWLQYNGkRWlpgCrKJEoSU8Vla2kvXb7gAwYaR7lYz+XhE9OxddPjwow+XD/Tf3AtCrRZ9ac9nwIZ/GRYWfuHxYP2RmZjJ8+HAWL16MmVnx/pGljWBd2thzEydOJDg4mODgYI2dAFkO+fn5LF26FKg/rVmPMjc3Z8+ePTg5OXHu3DlGjhwppumpIFFoCY+16/A9MjKVeLawxN+75k/O3TvYoaujRcjV+9xPya2x/RZKhRy4tR+APi361th+y0sUWvWHUqlk+PDhjBkzhmHDhpV43cHBgaiof4dBiY6Oxt6+5lqe67pNmzYRGxtLq1at6ty4WeVlb2/Pvn37sLS0ZOfOncyZM0fuSBql3hRaubm5tGvXDm9vbzw8PPj000/ljlTrKQsK2bz7LgCjnnWTZYR2UxM92rWxoVCCI2dKXg6pLiExF0nKTMTOzJ7WdjUzSGlFtLLzQEdLhztJoWTkZsgdR6gmkiQxYcIE3N3dmTlzZqnLDBkyhFWrViFJEmfPnsXc3Bw7O7saTlp3/fTTT0BRa5bcs1TIqUWLFmzevBkdHR0WLlzIH3/8IXckjVFvCi19fX0OHz7MpUuXCAkJYe/evZw9e1buWLXaoZMx3E/JpamjKe3b2MiWo/c/dx8ePFFzlw/33dhTtO8WfWrlydVAxwB321ZISFyJuyx3HKGanDp1itWrV3P48GF8fHzw8fFh9+7dLFu2jGXLlgEwYMAAXFxccHNz4/XXX1df5hKeXlBQEGfPnsXCwoIxY8bIHUd2PXr04OeffwZg0qRJXLlyReZEmqF2dTypRgqFAhMTE6CoKV6pVNbKD9DaQpIkNu0KA4qm2pHzZ9WhjS3GRjrciUgnIjoDZwfTat1frjJXfbdhf/cB1bqvp+HT2IcrcZcJib5Ap6ad5Y4jVIMuXbqU2gfrUQqFQv3hJ1Sth61Zr732GsbGxjKnqR0mTpxIYGAgK1asYMyYMQQGBoqJ5Z+g3rRoQdE8Tj4+PtjY2NCnT58Sd++AuDPnoSs3UwiPyqCBuT4BnRrLmkVPT1t9t+OB49XfqnUs7ChZ+Vm427aiqZVLte+vsrzV/bRC5A0iCHVQQkICGzduRKFQ8NZbb8kdp1ZZvHgxzZo148qVK6K/VjnUq0JLW1ubkJAQoqOjCQwM5OrVqyWWEXfmFNm2PwKAgT2boKsj/9uk7z9T8hw4EYVKVVit+9pzfRcAAz0GVet+npaXvTcKFNxIuE6usuZuFBCE+mD58uXk5+czePDgUid4r89MTExYu3YtOjo6/PDDDwQGBsodqVaT/xNUBhYWFvTo0YO9e/fKHaVWSn6Qy4nAOLQUMLCXk9xxAPBsYUnjRsYkP8gj+HL1tTTGpccRGHkOXW1detfCuw0fZWpgilvDZhQUFnA1TvSVEISqolQq1X3gpk6dKnOa2snf359Zs2YBMHnyZAoLq/cLsCarN4VWUlISqampAOTk5HDw4EFatmwpb6haas+Re6hUEp38GmFjXTsmTlUoFPTrXtSqte9Y1BOWrrwdV7chIdHDrSfmBubVtp+q4uvQFoCL0WJ+O0GoKn///TexsbG4u7vTq1ftmRWitvnwww9p3LgxwcHB/N///Z/ccWqtelNoxcXFERAQgJeXF/7+/vTp04dBg2r3pSE5FBZK7D1aVMjUltash/p0dUShgNPBCaSl51X59gsKC9hxdTsAQ1s/V+Xbrw4PJ7q+KCaYFoQq8+OPPwJFrVnipqmymZiY8N133wEwZ84c0tLSZE5UO9WbQsvLy4uLFy9y+fJlrl69yieffCJ3pFrp8o1k4hKzsbEyoK1X7eqjZmNtiJ9XQ5QFhew7VvWd4k+Hn+J+VhJNGjipC5jazqexDwDX4q6SV1D1xacg1DcXLlzg9OnTmJub8/LLL8sdp9YbMWIEXbt2JTk5mR9++EHuOLVSvSm0hPLZc+QeAH27O6Jdw9PtlMeQPs4A7DgYQWHh4297r6jNIX8BRa1ZmvIt1tzQAjfrZuSr8rkWX/LmDkEQKuZha9b48ePVQwIJZVMoFHz++ecALFq0SN1FR/iXKLQEtcxsJcfPxQHQr7vjE5aWR3tfW2ysDYlNyObClarrFB+efJfAe+cw0DFgkMeQKttuTVBfPowSlw8F4WkkJCSwfv16FAoFU6ZMkTuOxujevTsBAQGkpaWxePFiuePUOqLQEtSOnY0lX1mIdysr7G1r5+B82loKBvVqAvw7BEVV2BTyPwD6txqIqUH1Doha1XwdizrEB0cFyZxEEDTbwyEdBg0ahKurq9xxNMpnn30GwPfffy9atf5DFFqC2sPBQPt2q52tWQ/1D3BCV0eLMxcSiIrNfOrtpeems+fGbgCe937hqbdX03wd2qKl0OJq3BUxnpYgVFJ+fr56+qLp06fLnEbzdO3alZ49e5Kens5vv/0md5xaRRRaAgBxidlcuZmCvp4W3drX7glpLS306dPNAUmCv/6ZJuhpbL38NznKHNo1aY+LteZ9izUzMKOFTQsKCgu4FBsidxxB0Eh//fUX8fHxeHp60rNnT7njaKSH42r9+OOPKJVKmdPUHqLQEoB/J2zu0s4OI8PaPwXmCwOLpsbZfzyalNTK322nVCn565/LhqPaau6ksW0d/QEIvicuHwpCRUmSpO5bNG3aNI25Gaa26devHy1btiQ6OppNmzbJHafWEIWWgCRJHPin0OrT1UHmNOXTpLEpndraolQWqie/rowDt/ZzPysJFytX2jt1qMKENcuvSVGhdV700xKECjt16hTBwcFYW1vz0ksvyR1HY2lpafH2228DRXcgPmlC9PpCFFoCN+6kEhOfhVUDfXxb166xsx5nzLDmAGzdF05KasX7JkmSxNrg1QCMajtao7/Fetv7oKuty82Em6TlpModRxA0yqJFiwB48803MTSsHbNhaKqXX34ZKysrgoODOX36tNxxagVRaAnq1qyenRrXyrGzytLS1YJOfrbk5ReyftudCq9/NuI0d5PDsDZuSN8Wz1RDwppjoGuAl703EhJB4vKhIJTb3bt32bp1K3p6ekyePFnuOBrP0NCQiRMnAvDLL7/InKZ2EIVWPacsKOTomRgAemvIZcNHjXuhaL7KHQciiUvMrtC6a/5pzXrRdxR6OnpVnq2mPbz0eS7yrMxJhKry6quvYmNjg6enZ6mvHz16FHNzc3x8fPDx8WHevHk1nFDz/fjjj0iSxKhRo2jUqJHcceqEiRMnolAo+Ouvv0hKqrrxDjWVKLTquaCQRNIzlDR1NMXVyUzuOBXm6mRGry6NURYU8uuaa+Ve70b8dS5En8dIz1hj5jV8koeFVmDkWdE3oo4YN24ce/fufewyXbt2JSQkhJCQEDG1WAU9ePCA33//HUDdt0h4es7OzvTv35/8/HxWrlwpdxzZiUKrnnt42bBXFweN7aP0+ih3DPS1OREYz8Wr98u1zvoLa4Gi6XZM9OvGNBtuDZthaWRJYmYiESnhcscRqkC3bt2wtLSUO0ad9euvv5KVlUWfPn3w9vaWO06dMmnSJKDoZ1xYWChzGnmJQqsey8jM58yFBBQK6N2lsdxxKq2hlSGjh7oB8OMfV8hXqh67fFxaLIdvH0JbS5sRbV6siYg1QkuhRbt/WrXOisuH9caZM2fw9vamf//+XLtWdqvu8uXL8fPzw8/PT1zOAfLy8tTzGr7zzjsyp6l7+vfvT5MmTQgLC+PgwYNyx5GVKLTqsWNn41AqC2njaU1DK82+0+aFga442BlzLyaTdVsf3zH+r5CNqCQVvZv3wda0bvXJ6ODcEYCz4eJun/rA19eXyMhILl26xNSpUxk6dGiZy06cOJHg4GCCg4Np2FBz7i6uLuvXrycuLg5PT0/69u0rd5w6R1tbm9deew1AfXm2vhKFVj2maWNnPY6enjbvTCxq+l+/NZS799JLXS47P5sd17YDMNJ3dI3lqykdnDqgQMHFmAtk51fs5gBB85iZmWFiUnTpe8CAASiVSu7fL9/l8/qssLCQhQsXAkWjmWtqt4nabvz48WhpabF169Z63YqqUYXWX3/9BUB4uOh/8rRiE7K4eisFA31turar3VPulJeXuxWDeztRoJL4dulFlAUl+wXsubGLzLxMvOy9aWnrLkPK6mVuaIGHnSdKlVJMMl1LVOd5Kz4+Xn3jQ2BgIIWFhVhZWVX5fuqaPXv2cO3aNezt7Rk1apTcceosBwcH+vfvj1KpZPXq1XLHkY1GFVpff/01AMOHD5c5iebb/88E0l3b2WFoUPun3CmviWNa0aihIXci0lnz9+1ir0mSpJ5uZ0SbkXLEqxGdmnYG4HT4KZmTCPB0561Ro0bRsWNHbt26hYODAytWrGDZsmUsW7YMgE2bNuHp6Ym3tzfTpk1jw4YNonWmHObPnw8U3Wmop6f5Q7vUZo9ePqyvd0Nr1CeslZUVAQEBhIeHM2TIkBKvb9++XYZUmqewUGL/sSgA+vVwlDlN1TIy1OG9t9owc95p1m29Q4c2trg3awDAxegLRKZEYG3ckO6uPeQNWo06OXdm+ellnAk/hSRJ4oNXZk9z3lq/fv1jtz1lyhSmTJny1Bnrk7Nnz3L8+HHMzc3VA2sK1WfgwIHY2tpy48YNTp8+TefOneWOVOM0qtDatWsXFy5c4OWXXxZ3iTyFkGv3SbifQ6OGhni7173LDF7uVrww0JX/7Qzj658v8us33TA00GHrlb8BGOw5BB1tjXrrV0gzm+ZYG1uTmJlIaNJtmtu0kDtSvSbOW7XLw9asSZMmYWameWMHahpdXV3Gjx/PN998w4oVK0ShVdvp6enRoUMHTp8+Le6aeQp7/2nN6tvNES0NmnKnIsa/2IKgy4mE38vg1zXXGTvagSOhh9FSaDHEc6jc8aqVlkKLzk27sO3qVk6FnxSFlszEeav2uHnzpnq6nenTp8sdp9549dVX+eabb9i4cSOLFy+udwWuRhVagwcPfuxlEHHp8MkyMvM5cS4OgD7dNP9uw7Lo6WrzwRRf3vrgBDsORpJne5qCwgI6Ne1CI7O6NaRDaTq7FBVaJ++eYHz7CXLHqdfEeav2WLBgAZIkMX78eDHdTg1q1qwZ3bt359ixY2zYsKHeXbLVqM7ws2bN4p133qFp06YYGhry+uuv8/rrr2NiYlLmXGAPRUVFERAQgLu7Ox4eHvzwww81lLp2OXQqhnxlIb6e1tjbGssdp1q5NDHjlReaIyGx69pOoOiyYX3g36Q9etr6XI+/RkpWstxx6rWnOW8JVSc6OprVq1ejpaXFrFmz5I5T70yYUPSFrz6OqaVRLVrdu3cH4OOPP+b48ePq5wcPHky3bt0eu66Ojg7fffcdvr6+ZGRk0LZtW/r06UOrVq2qNXNtIkkSuw/fA2BAzyYyp6kZIwa5sv98MDf1E9DDhM5Nu8gdqUYY6Brg18SP0+GnOBV+qt4UmLXR05y3hKrz/fffo1QqGTFiBG5ubnLHqXeGDx/O1KlTCQoK4vLly3h5eckdqcZoVIvWQ0lJSdy9e1f9ODw8/ImDodnZ2eHr6wuAqakp7u7uxMTEVGvO2ubW3TTCItMxM9Wls3/9aDbX1tbC2b9o/KLC+FbcuF36QKZ1UeemXQE4efeEzEkEqNx5S6gaKSkp/PrrrwC89957Mqepn4yMjBgzZgxQ/1q1NLLQ+v777+nRowc9evQgICCAgIAAFi9eXO71IyIiuHjxIu3bty/xWl2eD2zXoUigqBO8nq62zGlqRoGqgLMxRwDQSfLi+98vlzqQaV3UxaWo9S4w8ix5BXkypxGe9rwlVN6SJUvIysqib9++6i/cQs17/fXXAVi9ejU5OTkyp6k5Gllo9ejRgzfeeIMGDRqgUCh444031M3zT5KZmcnw4cPLvPOhrs4Hlpml5PCpoha8Qb2cZE5Tc4LunSM1JxWnBs44mrtxLyaTLXvrx8wCNqa2NLdpQW5BLheiguWOU+89zXlLqLysrCz15NHvv/++zGnqNx8fH/z8/EhNTWXTpk1yx6kxGllojR07lvDwcKZNm8bHH39MeHg4L7/88hPXUyqVDB8+nDFjxjBs2LAaSFp77D8eRW6eCl9PaxztTeSOU2P239wHQD/3Z5g8tqjj8ZrNt3mQVj9aeB72SROXD+VX2fOW8HR+//13kpOTad++vShsa4GHdxwuX75c5iQ1R6M6wz9069YtLl26pH4cEBCAt7f3Y9eRJIkJEybg7u7OzJkzqztirSJJEjsOFF02HNyn/rRm5SpzOR52DIA+LfrhYGFLOx8bAkMS+eN/N5n5+uPfM3VBF5eu/HFuBafCTzJLjBIvq8qct4Snk5+fr548+v333xfv/1pg5MiRzJw5k5MnT3Ljxg3c3evenLP/pZEtWm3atOHs2bPqx+fOnXviaLOnTp1i9erVHD58GB8fH3x8fNi9e3d1R60VQq4lcy82E6sG+nRqWz86wUNRK062MptWjTxwsCgaM2zSy63Q0lKw50gUUbGZMiesfi1t3bEysiIhI4Gw+3fkjlOvVea8JTydtWvXEh0dTatWrRg8eLDccQSKbkZ7OJF3fWnV0shC69y5c3Tq1AlnZ2ecnZ3p2LEjx44do3Xr1mXeMtqlSxckSeLy5cuEhIQQEhLCgAEDaji5PLbsK+qTNKiXEzo6Gvkrr5TDtw8C0LtFX/VzTRqb0r+HI4WFEiv/uiVXtBqjpdCi0z+d4k+Gn5Q5Tf1WmfOWUHkqlYpvvvkGgDlz5qClVX/OfbXdm2++CcDKlSvJzs6WOU3108hLh3v37pU7gsZISMrmTHA8OtoKBvWuP5cNs/OzORV+CoBezXoVe+2lYc3ZfyKao2diGTnEjWZNzeWIWGM6N+3CjqvbOHX3BOPajZc7Tr0lzls1a8uWLdy+fRsnJydGjhwpdxzhEb6+vrRr147AwEA2bNjAq6++KnekaqWRhZaTU/0pGJ7Wtv0RFEoQ0NEeSwsDuePUmJN3T5CvysPL3hsbU9tir9lYGzKkjzObd99l9d+3mfeOv0wpa4Z/k3boautyLe4qKdkpWBpZyh2pXhLnrZojSRJff/01ALNnz0ZXV1fmRMJ/TZo0icDAQH755Zc6X2iJttQ6LDevgN1HikaCf65fU5nT1KxD/1w27NW8d6mvjxziiq6uFqeC4rl7r24PYmqkZ0RbRz8kJM6En5Y7jiBUu/3793PhwgVsbGzq/Ie4pnrxxRdp0KABwcHBBAUFyR2nWolCqw47cCKajEwl7m4WuDdrIHecGpOVl8nZiNMoUNCjWc9Sl7G0MGDgP9MQrd9a9zuJd/pnmIfT/1xOFTTDq6++io2NTZlzIkqSxLRp03Bzc8PLy4sLFy7UcMLa6auvvgJg5syZGBoaypxGKI2hoSHjxxd1ZVi6dKnMaaqXKLTqqMJCib93F3WCHzbAReY0NavosmE+3o19sDGxKXO5EYNd0dFWcPRMDNFxdfsOxM5Ni+5uOxd5hgJVgcxphPIaN27cY/t27dmzh9DQUEJDQ1m+fDmTJk2qwXS108mTJzl+/DgWFhbi51HLTZo0CYVCwfr16+vcTCyPEoVWHXX+ShL3YjOxtjSgWzs7uePUqMOhhwDoWcZlw4dsrY3o3dWBQgk27br72GU1nb15Y5wtm5KVn8Xl2EtPXkGoFbp164alZdl96rZt28bYsWNRKBR06NCB1NRU4uLiajBh7fOwb9bUqVNLnf1DqD3c3NwYOHAgeXl5dXqoB1Fo1VGbdxcVDs/2da5XQzoUXTY8gwIFAW6lXzZ81IjBrgDsOxZV50eL7/RPq9bJcDFKfF0RExODo6Oj+rGDgwMxMTGlLluX53F96OLFi+zevRsjIyOmTZsmdxyhHB7+npYuXYpSqZQ5TfWoP5/A9UhEVAZBl5Iw0NeuV0M6AJy4e1x92dDaxPqJyzs1NqWDry35ykK27Y+o/oAy6uwi+mnVNZIklXiurNHP6+o8ro/64osvgKJxmqytn/z3L8ivd+/euLu7Exsby+bNm+WOUy1EoVUHbd5T1JrVt7sjZiZ6MqepWQdu7QegzyODlD7Ji/+0am3bH05evqpactUGXnbemOibEJkSQUxqtNxxhCrg4OBAVFSU+nF0dDT29vYyJpLPtWvX+Pvvv9HX12fWrFlyxxHKSaFQqFu1Fi9eXOqXB00nCq065kFaHgdOFH2IDnumfg3pkJaTyrnIs2grtAn4zyClj9O6pSUtXMxJz1By4HjdLUB0tHVo79QBEK1adcWQIUNYtWoVkiRx9uxZzM3NsbOrX30yH/ryyy8BeO211+rtz0BTvfzyyzRo0IBz585x+nTdG4JGFFp1zPb9ESiVhXRsa4ujvYnccWrUkdDDqApV+DXxp4FR+YezUCgUPD+wqFVr8+67FBbWvW9UDz0c5uGUmI5HI4waNYqOHTty69YtHBwcWLFiBcuWLWPZsmUADBgwABcXF9zc3Hj99dfr/G3yZcnJzmHjxo3o6ury7rvvyh1HqCBjY2P1HaLfffedzGmqnkaODC+ULi9fpe5n9MLA+jWkA1TusuFD3drbsXytAfdiMwkMSaSDr+2TV9JAHZ07oUDBxegL5ChzMNQVYwzVZuvXr3/s6wqFgp9//rmG0tRekZERFBYW8uqrr9KkSRO54wiVMGXKFBYuXMjWrVu5c+cObm5uckeqMqJFqw45cDyatIx8mruY4+VuJXecGhWXHseF6PPoaevR3S2gwuvr6GjxXP+iS61/7Qqr6ni1RgOjBrRq5EG+Kp+ge4FyxxGEp5aTnU1CYiI6Ojp8+OGHcscRKsnOzo7Ro0cjSRKLFy+WO06VEoVWHVFYKLFpd1GB8MIg1zLvPKqr9t3YA0A31+6Y6FfukunAnk4YGmgTci2Z0PC0qoxXqzy8+/DUXTHMg6D5IiMjQSoaRd/Z2VnuOMJTeOeddwD4v//7vzo1BIkotOqIMxcSiIrNwsbakO7t61dHUEmS2HNjFwADWg2s9HZMjHUZEFB02aEut2p1fthP6+5JCqVCmdMIQuXdvHmThMREFAoFH3zwgdxxhKfk6enJoEGDyMnJ4ccff5Q7TpURhVYd8b8dRfP1PT/ABW3t+vVrvRZ/lXsP7mFpZIm/U/un2taw/i5oaSk4eiaWxPs5VZSwdmnWsDm2prYkZydzK+Gm3HEEodI+/vhjkMDOrhFOTvVrzMC6as6cOQAsWbKEjIwMmdNUjfr1iVxHXbuVwtVbD4paZHrWv46gW69sAeAZ9wHoaD3d/R2NbIzo3sEOlUpiUx1t1VIoFOpWrZPi8qGgoYKCgti0aRNaWlo4OTnLHUeoIp07d6ZLly6kpqbWmWl5RKFVB2z4pzVrcG8nDA3q142kGbkZHPznbsOhrZ+rkm2OHFJ0t8uuw/dIS6+b0/J0cekKFI2kLwia6OGlQgeHxujp16+Bmeu6h61a3333Hbm5uTKneXqi0NJwEdEZnA5OQFdXi2H969cApQB7b+4hryCPto5+ODaomtY8N2dz2vnYkJunYsu+iCrZZm3j6+iHka4RoUm3iUuLlTuOIFTIwYMHOXjwIBYWFjg61r9W/LpuwIAB+Pj4EBcXx4oVK+SO89REoaXhNmwvas3q38MRSwsDmdPULEmS+PvSJgCGth5Wpdse9WxRq9aWveFkZtW9iU71dfTp4NwJgGNhR+UNIwgVUFBQwNtvvw3Ae++9h45u/WrFrw8UCkVR/zvgm2++IS9Ps68siEJLgyXcz+bwqRi0FEVDOtQ3ZyNOE5ESjrVxQ7q79ajSbXu5W+HdyorMLCWbdt+t0m3XFj2aFY03duzOUXmDCEIFrFixgqtXr+Ls7MyMGTPkjiNUk6FDh+Lp6Ul0dDR//vmn3HGeiii0NNiG7WGoVBIBnRpjb2ssd5wat/7COgBGtHkRXW3dKt/++BEtgKJpeepiX61Ozp3Q1dblUkwIKdkpcscRhCdKTU3lo48+AmDBggUYGNSvVvz6REtLS/27/vrrr8nPz5c5UeXVq0Lr1VdfxcbGBk9PT7mjPLWklBz2HL6HQgGjhzaTO06NC026TdC9QAx1DXm2ijrB/1frllb4ezckO6eAddvuVMs+5GSsb4Kfoz8SEsdFq5agAT755BPu379P165dGT58uNxxhGr2/PPP4+7uTkREBP/3f/8nd5xKq1eF1rhx49i7d6/cMarE/3aEoSwopFt7O5wdTeWOU+P+OFf0RzfYYwhmBmbVtp9XR7ZEoYCte8OJis2stv3IpVfz3gAcvH1A5iSC8HiBgYEsWbIEbW1tfvrpp3o3+0V9pK2tzbx58wD4/PPPycnRzLEN61Wh1a1bNywtLeWO8dTup+Sy82AkAGOeay5zmpoXdv8OR0IPoautyxj/sdW6r+ZNLejX3ZEClcSyNderdV9y6ObaA11tXS5Ened+5n254whCqZRKJRMnTkSSJGbOnIm3t7fckYQaMmzYMNq0aUNsbCzLli2TO06l1KtCqzyWL1+On58ffn5+tXaupbVbbpOvLKRrOztcnaqvNae2WvlPa9YQz6HYmNhU+/4mjGyJkaEOZy8kcDo4vtr3V5NMDUzp6NwJCYlDolVLqKUWLlzIpUuXcHZ25tNPP5U7jlCDtLS0+Pzzz4Givlrp6ekyJ6o4UWj9x8SJEwkODiY4OJiGDRvKHaeEuMRsdv3TN2vcP52165NbCTc5ePsAetp6vFzNrVkPWVoYMO6Fop/14hWXycjU3E6ZpenToi8A+2/tkzmJIJR08eJFdXG1bNkyjI3r340/9d2AAQPo3LkzSUlJzJ8/X+44FSYKLQ3z51+3UKkkendxwNmh/vXN+uXUzwAM934eW9NGNbbfoc80xaN5A5If5PHzn9dqbL81oYtLN4z0jLkef4279+vmtEOaau/evbRo0QI3Nze++eabEq8fPXoUc3NzfHx88PHxUfdnqStycnIYM2YMSqWSyZMn069fP7kjCTJQKBQsWLAAgEWLFhETEyNzoooRhZYGuX03lQMnotHV0WLs8/Wvb1Zg5DnORZ7FWM+YV9qNr9F9a2spmP2mD3q6Whw4Ec3+41E1uv/qZKBrQN8WRR9gO65tlzmN8JBKpWLy5Mns2bOH69evs379eq5fL9lPsGvXroSEhBASEsInn3wiQ9Lq8/bbb3Pjxg1atmypkS0ZQtXp2LEjzz//PDk5OerBTDVFvSq0Ro0aRceOHbl16xYODg4aNbS/JEksW110kn3umab1btysgsICfjj2PQBj/cdhbmhR4xkc7U2YMr5oaJDFv18mPErz+gqUZbDnEAD23thNfkHdujSqqQIDA3Fzc8PFxQU9PT1GjhzJtm3b5I5VY37//Xd+/fVX9PX1Wbt2LUZGRnJHEmT29ddfo6Ojw8qVKwkODpY7TrnVq0Jr/fr1xMXFoVQqiY6OZsKECXJHKrcTgXFcupGMmakuY56rf+Nmbb+yjbvJYdiZ2fOi7yjZcgwIaEKfbg7k5Rfy8YIgHqTVjYFM3W1b4WrtRmpOKkfvHJE7jgDExMTg6Oiofuzg4FDqJZMzZ87g7e1N//79uXat7MvamnCjz0Pnzp1j8uTJQFG/LF9fX5kTCbWBm5sb06dPR5IkpkyZQmFhodyRyqVeFVqaKjunQN0vaNwLLTExrvpR0GuztJxUfj39CwBTuk5DX0dftiwKhYIZE1rTwtWCuMRsPl4QSG5egWx5qopCoWC49wsAbLiwDkmSZE4klPY7+O/YUb6+vkRGRnLp0iWmTp3K0KFDy9xebb/R56E7d+4wePBg8vPzmTx5MuPGjZM7klCLfPrpp9jb23Pu3Dn++OMPueOUiyi0NMCqTbe4n5JLCxdzBvV2kjtOjfvl1FLSc9No6+hHQLOecsfBQF+HL2a3w9bakBt3Uvn0u2DylSq5Yz21/u4DMDcw50bCdS7HXpY7Tr3n4OBAVNS/fQGjo6Oxt7cvtoyZmRkmJiZA0Z1ZSqWS+/c1dzy0+Ph4+vXrR1JSEn369GHRokVyRxJqGVNTUxYuXAgUTSquCe93UWjVcjfDUtm8+y4KBcx4zQttrfo1GvK1uKtsv7IVbS1tZgW8W2tGg7a00OfbDzpgYa5H8OUkPv/hPMoCzWjGLouBrgHPeRdNa7Lu/BqZ0wj+/v6EhoYSHh5Ofn4+GzZsYMiQIcWWiY+PV7d8BQYGUlhYiJWVlRxxn1piYiJ9+/bl7t27tG3bls2bN6Onpyd3LKEWGjlyJD179iQ5OZkpU6bIHeeJRKFVi+Xnq/h26UUKJRg+wIXmLhZyR6pRBaoCvj74JRISo33H4GzVVO5IxTjamzD/g46YGutyOjiBz77X/Jat571fQE9bn+NhR7mdeEvuOPWajo4OS5YsoV+/fri7uzNixAg8PDxYtmyZeoTsTZs24enpibe3N9OmTWPDhg215stIRcTFxdGjRw+uXLlCixYt2L17N6am9W/4GqF8FAoFv/32G8bGxmzcuJHNmzfLHemxRKFVi/2+4Sb3YjJpYm/Cqy+2lDtOjVt3fg1h9+9gb2bPqx1elztOqVydzJj/UQdMTXQ5cz6BTxYGaXSfLStja4b906q14uxvMqcRBgwYwO3btwkLC+PDDz8E4M033+TNN98EYMqUKVy7do1Lly5x9uxZOnXqJGfcSgkNDaVr167cuHEDDw8Pjh07ho1N9c/4IGg2FxcXvv32WwAmTZpEQkKCzInKJgqtWupUcDybd99FW1vBe2/5oK+nLXekGhWefJffzy4H4N3e72OgayBzorI1b2rBdx93xMJMj6BLScz5+hyZ2Uq5Y1Xay35jMdAx4HjYMa7FXZU7jlCHnTp1io4dOxIWFkabNm04cuQItra2cscSNMSkSZMICAggKSmJl156CZWqdl5REIVWLRSbkMX8X0IAeG2UOy3dGsgbqIYVFBbw+b65KFVKhng+S3unDnJHeiJXJ3O+/7QT1pYGXLmZwjvzTmvs0A+WxlaMaDMSgO+PfkehpNl9z4TaR5Ikli1bRkBAAMnJyQwYMIDjx4/X6rshhdpHS0uLNWvW0LBhQw4ePMgXX3whd6RSiUKrlsnMVvLRgkAys5R0bGvLCwNd5I5U434/s5wbCTewNbVlWrcZcscptyaNTVk8tzONGxlzJyKd6Z+eIjYhS+5YlTK23TisjKy4Fn+VfTf2yh1HqEMyMjJ45ZVXmDRpEkqlkmnTprFt2zb13ZOCUBH29vasW7cOhULBZ599xs6dO+WOVIIotGqRgoJCvvjhPJHRmTg5mDBnchuN7Nj6NILuBbIqcCVaCi0+fWYexvqadfK1szFi8dzOuDmbEROfxdRPTnIrLFXuWBVmrGfMpC5FA0YuOfED6bl1ZxR8QT5nzpzBx8eH1atXY2RkxNq1a/nhhx/Q0dGRO5qgwXr37s28efOQJIkXX3yRoKAguSMVIwqtWkJVKPHN0osEXUrCzFSXL2a3w8Sofg1MGpsWw8e7PkBC4tX2r9HGQTNHg7a00GfRJ53wbW1Nalo+M+ed5nRwvNyxKqx/q4F42/uQkp3CkhM/yh1H0GDZ2dm88847dOnShbt37+Lj40NQUBCjR4+WO5pQR3z44YeMGzeO7OxsBg0aRGhoqNyR1EShVQuoCiW++/USR07HYmSow9dzOtS7uQzTc9OZve0d0nLT6OjciXHtX5U70lMxNtLlq/fa06ebA7l5Kj75LogN2+9o1IjrWgot5vT5EF1tXXZc3ca5yLNyRxI00M6dO2ndurV68NF3332Xs2fP0qpVK5mTCXWJQqFg+fLl9OnTh8TERLp161bqJOxyEIWWzPKVKr744Tz7jkWhr6fFl++2o6WrhdyxalRWfhYzt0znbnIYzpZNmTfgS7S1NP8uS10dLd6b5MP4ES2QJPht3Q2++PEC2TmaM/yDs6UzE/4ZWuOLfZ+RlpMqbyBBY9y8eZOBAwcyePBg7t69i5eXF+fOnePbb79FX1++abSEuktXV5ctW7bQs2dP4uPj6dGjR62YfFoUWjJKSc1j1udnOH4uDmNDHeZ/2BEvd80c1bmyUrKSmbrpLa7FX6WRmR2Lh/2IiYb1y3ochULBS8Oa89k7fhgaaHP0TCyTPjjOnYg0uaOV20t+Y/Gy9+Z+1n2+OvCFRrXKCTUvPj6eyZMn4+npye7duzEzM2Px4sUEBwfj5+cndzyhjjM2Nmbnzp3qqZy6du3KunXrZM0keiDK5MrNZL766QKJybk0tDTgi3fb4eZsLnesSknPzGfhr5c4fzkJM1M9XhvZkl5dHB67zjufnybkWjLmvVYQlxmDnZk9uccn8urxC+pl8vNVDOnrzNTxrav7EJ5KWm4aX+3/gsDIs1gYWvBml8n0a/lMsWW6+NvR5rnfOHxnH7cliZc3gZa2hL6uHoenHJMpefloa2nz6TOf8cralzgedoz1F9Yyuu1LcscSapn79++zcOFCfvzxR3JyctDS0uKNN97gs88+E2NjlSIrK5vVG//Hjdu3MTE25tkBA2jXtk2J5c4EBXPkxEmSku5jYGCAv68Pzw7oj7a2NsqCAjZs+puboaFkZefQ0NqKZwf0x9O9/g1w/ShDQ0O2b9/OlClT+O233xgzZgwnTpxgwYIFstzdKgqtGpaXr2L15tts3H6HQglaNWvAZ+/4YWlRewfkfJIf/+8KutpabPq1L3ci0vjw20Bcncxxdix9Co29xyKIeRAH6BGXEYt7I3cWPvs9lhP+bc3LyS3g+Tf2072DfanbqE2+OzwfXW0ddr2xj9Ck27yzdQbNrJvhYu1abLnPn/2ED/M+4Ne1N9i+P4I8l23oG+tx9VYKni0sZUpfPvbmjfm431ze2z6LpSeW0LxhC/ya+MsdS6gF4uPj+f777/n555/JyioazuS5557jiy++EP2wHmPD31vQ0dHh288+JTomlp9//z8cGtth36hRseXy8/N5YegQmjZpQmZmFkv/7w+Mjx6jX6+eFKoKaWBhwczJk2hgYcG1Gzf5fdUaPp49EyvL2n1OqW56enr8+uuveHt78/bbb7Ns2TIOHDjAsmXL6N27d41mEZcOa4gkSZw+H89rs4+yftsdJGD0UDe+/7STRhdZObkFnDgXx7gRLTA00KF1Sys6trXlwInoEstKksSuywf47s+TRFmsBuB57xH8MuI3LI2LXzI9fi6OBub6tG5Zu08WOcocjoQeZmKnNzHSM8K7sQ9dXbqx98buUpc30Ndh+qut+XyOD4VWN8iJcGf6p6f4fPH5Wj/mVjfX7rzsNxaVpOKDne8RmRIhdyRBRjdv3uSNN97A2dmZ+fPnk5WVRf/+/Tl37hx///23KLIeIy8vn4uXrzD4mX4Y6Ovj5tIUL49WnAu+UGLZ7p070czFBR0dHSwszGnn24aw8AgA9PX1GPRMX6wsLdHS0qK1RyusLRsQGVXy/FsfKRQKJk+eTHBwMF5eXoSFhdGnTx8GDx7M1as1N+uFKLRqwOUbybwz7wwfLwgiNiGbpo6m/PBZZyaMdEdHR7N/BdFxWWhpKXC0/7c51tXJnIjoDPXjQqmQI6GHeWXtGL79/QS51mexb2gBwIweM9HXKdkxdv/xKPp0daj144jde3APLYU2TRo4qZ9za9iMu8l3H7teqt5lGllYM7ZXb/R0tTh6NpZxM4+w6LdLJCRlV3fsSnuj81t0c+1ORl4GM7ZMIyFD84atECpPqVSybds29UTXy5cvJy8vj2effZZz586xe/du2rVrJ3fMWi8xKQkthQJbm39HwnewtyMu/sl/T3fuhmP3n1avh9IzMkhIul+iVay+8/LyIigoiK+//hoTExP1nbBDhgzh2LFj1d7vVLM/5WuxwkKJsxcSePuzU7z92Wku3UjG1ESXt8Z68MvX3fBoXrtbasorJ7cA4/+M92VspENOTgFKlZIdV7cz6s8RfLDzPcLCM9HLbsqM0T35/rmyx2VKuJ/N5evJ9O3uWN3xn1pOfjYm+sWH4jDRNyFb+fhiaff1nQxoNZBXR7rz5/c96dvNAalQYtehe7w84zALf71ETHzta+HS1tJmbv/P8bRrTXx6HNM2TxbFVh0nSRLBwcHMmjWLJk2aMHToUPbv34+hoSGvv/46N27cYOvWraLAqoDc/DwMDYtfyTA0MCQ37/HTdp0ODCIyKpo+PbqXeE2lUvF/a9bRwa8tjWzFpNz/paenx5w5cwgNDWXKlCkYGBiwY8cOevToQcuWLfnyyy+5fft2texb9NGqYtk5BRw4Ec2WvXeJii36oDQ20uH5AS4M6++CiXHdGoTU0ECH7JziEyinpGeSkhfHsBXPcj8rCQBbUzsM703gnent8GttR3xi2YXIgePReLa0xM7GqFqzVwVDPSOy8osXRFn5WRjplp09ISOekOiLvN/7QwBsrA157602jHrWjTV/h3LkdAx7jtxj39F7dOtgz8ghbjRrWntulDDUNeS7oYuZsmkSoUm3eWPjaywa+kOJPmmC5rp//z4nT55k//797Ny5k6ioKPVrLVu2ZMKECbz66qtY1vN+QJVloKdPTm7xoio3LxeDxwx7EXLlKlt37mb6mxMxMSn+5a6wsJA/1q5HR1uHkcOfq5bMdUWjRo346aef+Oijj/j5559ZsWIFt2/f5qOPPuKjjz7Cw8OD/v3788wzz9CpUycMDQ2fep+i0Koit8NT2X3oHgdPRpOTWzSDeENLA4YNcGFgzyYlWn3qCgc7Y1QqiajYDNIVkey4uo39h7Uo0ElDmZWEi5UrY/xeppNDT55/4yDfLLkCXKGwsKip9sW3DvLJjLbFhrXYfzyaUc+6yXREFdOkQRNUhSqiHtzDsUETAEKTQnGxKnuOyj3Xd9Pa3ovGFsXvzGzS2JQPpvoy9vnmbNgexoHjURw9E8vRM7H4eTXkxcGutPG0rhWXU80MzPjp+aXM3jqTK3GXeW3DeOb0/pC+LfvJHU2oAEmSiI2N5fr161y9epULFy4QHBzMzZs3iy3XqFEjXnjhBUaNGkWHDh1qxXtQk9k0bEhhYSGJSUnY/DORdnRsbJmXBK/duMna/21i8muv0tjerthrkiSxZuNfZGRkMvn1CWhra/4YhDXB1taWefPm8cknn7Bv3z7+97//sXXrVq5du8a1a9dYuHAhenp6tG/fnq5du9K5c2fat29fqX0pJDEoTpn8/PweO9hZUnIOR8/GcuB4NGGR/84F5+VuydB+Teni3wht7bp7dfZ+5n1uJFxn+f9Fk5SZSJrj/9DKboT+rVE06xXMuJ7P0sGpIwqFAkmSeJD27ze4xORcJn94gg1Le2Nhpo/uP33Vrt1K4d2vzvLXsr4YGWrG94CPd32AQqHg/T4fcTvxNu9snc7yF1eU2cLz4srhvOT3CoM9hzx2u4n3c9i0+y67DkWSm1dUvLs0MWNY/6YEdLLHQF/+n0+uMpevDnzBgVv7AOju1oPp3WcyuOfgWjFQoFA6KysrmjZtyq1bt8jMzCzxuoGBAR06dKBHjx4MHDgQX19ftLRq57msYNIMAHR+WSxrjor6fdWaonH2RrxAdGwMS377P2ZPm1yif9XN0Dv8/udq3hj/Cs1cS36BW/fXZqJiYpk+aeJjW8SEJ8vPz+fUqVPs3r2bQ4cOERISUqL/Vtu2bSt8bhOF1mP8t9BSFUqEhqdx/nISZy4kcCP0gfo1U2Nd+nRzYGBPpzKHNdAUGbkZxGfEkZiRSEp2Cqk5D0jLSSM9L53U7Afcz0oiJi2W9Nx/Bt0sMEDv7hB00lwxNIKXXnBhZD8fEu5n8+o7R/m/73pgZWHA4dMxnLuQiL6+Nr6eVnz9cwj71w4sVowu+u0SeXkq3p+iOfMcFo2j9TmBkecwNzRnUpcptLJtxZrg1ey8tp2RvqN5yW8sDYwacCX2MtM2T2bnG3sx1ivfNEvpmfls3x/B1n0R6mLVxFiXl4Y144WB8l+ukySJrVe2sOT4D2Qrs9HV1iV7Vb4otKrA3r17mT59OiqVitdee405c+YUe12SJKZPn87u3bsxMjJi5cqV+Po++W/n0RYpS0tL3N3dad26NV5eXvj7+9O6dWuNGb1dUwutR8fRMjYyZujAonG0Uh48YN63C/nkvVk0sLDgiwWLiI2PR0tLCy0tLbS1tHB1acrUia+RnPKAj774Ch0dHbQfKYRHvzCcdm015xxaWyUnJ3P69GlOnjzJmTNnCA4OplWrVqLQepwnnbT+y8PTh0U/7yAiKoPQ8DRu3U0tNn2Knq4W7dvY0LNzYzr42qKnq3lNtvceRHL8zjEiUsKJfBDJvQf3/i2gnsBYz5hmDZvj49CG9k060Nreq9Spc1SqQj6cH0jQpaRiz788vDnjXmhRJcdRmwTfC2LWtrfJK/i3Ba+hiQ2/jvgNO/PKjwuWr1Rx5HQs2/dHcDMslanjPBn6TNOqiFwlEjLiWXpyCQdu7id/baEotJ6SSqWiefPmHDhwAAcHB/z9/Vm/fn2xYRN2797NTz/9xO7duzl37hzTp0/n3LlzT9y2s7Mza9eupXnz5jRs2PCJy9dmmlpolceajX9x6lxgsefa+7Vl3OiRMiWq35RKJR07dqzwuU3+aw81RKVSMXny5GInrSFDhjx2rJeo2Czm/xJS7Dk7GyN8PKxp38YGP6+GGBpo9o/w7v0wfj75U7HnDHQMsDOzw8bUFksjKyyMLLAwsMDc0BxzQwusja2xM7PD0siqXH01jp2LK1FkAazdEkr/AEdsrWt/p/eK+P7od8WKLICkzERWnP2Nj/p9Wunt6ulq06+7I/26O3L7biqNG9WuicdtTRvxWf8veMV/PCPWvih3HI0XGBiIm5sbLi5Fl4tGjhzJtm3bip2ztm3bxtixY1EoFHTo0IHU1FTi4uKws7Mra7MAWFtb07lz52rNLzyd8Mh7JYosgHPB5+nSoT1uLrXnS1Z9oatbub7Wml0lVEB5Tlr/pa+vTY+O9jg7mOLiZEZLVwusGlTf4KK9Ru6otm0/jhGflHgu4Z9/JWX+8y/iqfdbWCgxesqhEs9nt5/31NuujXZd38mu6zvljlGqM28HVdm2xN2HVSMmJgZHx3+HOHFwcCjRWlXaMjExMaUWWsuXL2f58uUAJCWV/OJTG0yaObviKxn+8+FXmXU11HdLlsodocb9smiB3BEqrd4UWuU5aUHxk5GRXg4fT29bYxkFQRAeKq1Xx39bkMuzzEMTJ05k4sSJAGJyZ0GoQfWm0CrvCUnOk9GhDYNrdH815VZYKpM/OsF/fwVmprps+LkP+nr/7del2T+H97bP5njY0RLPv9FpEuPav1rzgQSN5ODgUGz8qujoaOzt7Su8jCbR5FaLqpaWns5HX3xNQUFBsee1tbWZ98EcLBtYyBNMqLDaeb9uNahrJ6TK+n39DTbvfvz0MFWthasFU17xRE/337ebhZken830L6XIqjpLTy5hw4V1xZ47HRzP5z+cr7Z9ArzXaw6tGnkUe65Pi7685De2Wvf7XyfCjvHxrg9qdJ9C1fH39yc0NJTw8HDy8/PZsGEDQ4YUHxJkyJAhrFq1CkmSOHv2LObm5k/snyWU39aduzl07IQs+zY3M+PVl0ZjYPBvdxV9fX3GjxklW5GlLChg7jfzSc8oOSSIULZ606L16EmrcePGbNiwgXXr1j15xTokNT2P/cejWf1DT/VzF64k8eMfV0i8n0NLtwa8N8kH24YlO6fnK1X8sOIKF67eJyMzn8aNjHn1xZa0b2OrXiY3r4Bf11zn6NlYVAUSLk5mLJ5b1OF26DNNCejcmAtXktDX18bPq2GxuzTjE7OZvyyEm3ceYGNtyNTxrWnbuuy7oW6Hp7L0z2uEhqdhYKDN6GebMXyAi3pIiULtLNJa/I3Fjen8lruDN15qRVOvZH64Op+ogljCV7fiy2c/x86s9A+lt/56g2txV9V3UTY0acjGcZsBUKqUfLr7I24k3iA+PY6fn1+Gr+O/l5gtja1YMWoll2MvEZcWSwubljhb/dtxNS4tli/2z+Na/FVsTRvxTsBs2jmVPhBefkE+3x/9jmNhRylQFeBl78W7vd/HxqRoio3nVgwhJStFfWt3azsvfhi+BICurt1Zdmopd5JCcWvYrMyfpVA76ejosGTJEvr164dKpeLVV1/Fw8ODZcuWAfDmm28yYMAAdu/ejZubG0ZGRvzxxx8yp647MjIzORt8nnkflH13+qNDNJgYG/PsgKIhGspy6Nhx9h8+Qr6ygDZerRn1/DB0dYo+hhf9/AvhkffUf8vm5uZ89v67uLdozo1bt5EkiVYtmhcrvB6SJImtO3erO893au/Pc4MGPvFmpZ379rNr3wGmvfk67s2bA/DT8t8JuxuuXqZApcK2YUM+fvcddHV06NTOn/2Hj/D8s5p95aFGSfXIrl27pGbNmkkuLi7SF1988cTl27ZtWwOpas6G7aHSwl9D1I9T03KlweN2S0fPxEh5eQXSstXXpMkfHi913ewcpbTyfzeluIQsSaUqlE4Hx0sDX9klxSVkqZf58qfz0rzFwdKDtFypQFUo3Qp7UO5skz86If3851UpN69AOnY2Rho8frf0IC231GVT03KlYa/vlQ6ciJLy8gukrGylFBGdXmyZ1UGrpK/2fy7FJmRJvUdul25Fxki9lnSXDt46IK3cdEUat+QjacK6cWXmmfS/idK2y1tKfS2/IF9af36tFBJ9URq4rJ90/l5wuY9TkiTptfXjpcVHF0k5yhzp8O1DUu+fe0gpWSmlLrs68E/ppVWjpOTM+1KuMleau/tj6b3ts9SvD/19sHQu4myZ+/rj7AppwaFvK5SvKtS1v526Rvx+nmzfoSPS6g3/e+wyv69aI/3252opJzdXCg27K814/yMpJi6u1GWv3bgpzf54rhQTFydlZmVJ3y1ZKv29Y5f69e+WLJVOnCn7b/lxjp86LX3y1bdSyoMH0oMHqdLcb+ZLx06dfuw6iUlJ0rxvF0rvfTpPun7rVpnLfbdkqbRz737145QHD6R3PvpEylcqK5VV01Xmb6feXDoEGDBgALdv3yYsLIwPP/xQ7jg1LjAksdhUNycC43FyMKV7B3v09LQZ+3xzwiLTuReTUWJdQwMdXnmhBY1sjNDSUtCxrS2NbIy4HZ4KQFRsJmfOJzDzdS8szPTR1lLQ3MWiXLmiYjO5E57GuBdaoK+nTbf29jR1NOPEubhSl/9r1138vBrSu4sDerraGBnq4NS4+CCxZyNO08bBlwPHo2jtbsX11LM0tXKhV/PetPW0J/dWR0KTQolIiShXxkfpausy0nc03o190Cpl3LDHufcgkluJN3mt40QMdAwIaNYTVys3joQeLnX52PRY2jt1wNLYCn0dfXq36Et4cvkv/bZxaMvp8FMVyigIAly7ebPUkdgfysvL5+LlKwx+ph8G+vq4uTTFy6MV54IvlLr8maBgOrVvh32jRhgbGTGgT2/OBlXN3b5ng8/Tu0c3GlhYYGFhTu/u3TkT+Pixnjb8vZXnBg147JQ9ySkp3LkbTnu/f1vsG1hYYGRoRHhEZJVkrw/qVaFV34Xfy8DR3kT9OCI6A1cnM/VjQwMd7G2NiYguWWj9V0pqHtFxWTg7FBU4N+48wNbakD//usVzr+/ltdlHOX4utly5IqMzsLMxKjbljquTWZk5btx5gKmJHlM/Psnwifv4cH4gCfeLT1Iddv8OTRo4sf94NH27ORKefJdmDYuaxps0NiExUYW9mf1ji5ZfTv3MM7/0ZuKGCVyIqpp+XXeT72Jv3rjYqPBuDZsRnlJ6jsEeQ7gce4mkzCRylbnsu7mXDs6dii0zd+8n9F/Wh+mbpxCaVHz2eWcrZ+LSY8nKE30qBKEiYuPisbWxKfP1xKQktBQKbG3+7eLgYG9HXHx8qcvHxSfg8Mg8hQ729qRnZJKZ9e+k9Nt27WHWx5+y4Mcl3L4TVv6s8Qk4PNLn2KGxHXEJpQ/QA3A+5BI62tp4tnJ/7HbPBp3HzaUp1lbFJw9vZGtDdGzpX4SFkupNHy0BMrOVGBn8++0lJ7cAC7Pi02wYG+mQnaN67HYKCgr5eskF+nZzoMk/LUlJybmER2XQtZ0d//ulL9dvp/DBt4E4OZiWaG36r5zcAoyNir8VjY10uJ+SW+ryScm5hIanMf/Djrg4mrJ83Q2+/PECP87rol4mIy+D6CglD9Ly6N7BjvPHc2hgaAGA0T+DzBroGJOdn1XaLpjcZSrOVk3R1dLlwK39zN42kz9fWovDfyaCrqic/BxM9EyKPWeib0JSZmKpyzdp0IRGZo0Y8tsAtBXauFi78k7Pf8cLmvvM57SwbQESbLy4nhl/T2XDK5swNSj6mRvrGv/z88jEWN+k1H0IglBSdk7OY+cOzM3Pw9CweH8pQwNDcvPySl0+Lz8Pw0f6Vz1cNy8vDxNjY54bNBA7Wxu0dXQIvhjC0hV/8OE7M2hobf3ErHl5/9m2gQF5eXlIklSin1ZuXh7bdu9l2huvP3G754LP079PrxLPG+jrk5OT88T1hSKiRaseMTXWJTv33yLK0ECH7BxlsWWycwowMiy7KbmwUOLrny+io6PFtPGt1c/r62mho63gpWHN0NXRwruVNT4e1gSXMiL8fxka6JCVU/wW5qIcpX8P0NfTpou/HS1dLdDT0+bl4c25dvsBmdn/HouZvhlHgyLo2t4OQwMdjHQNyfqnqMrOLdpXriobozLmG/Sw88RYzxg9HT0Gegyitb0XZ6rgEpyh3r85HsrKzyozx/zD35BXkM/eSQc5POU4PdwCmLlluvp178beGOgYYKBrwCvtxmOib0pIzMV/t60s2pepKLIEoUKMjIoXTT8t/50Zcz5kxpwPCTx/AQM9fXJyixdVuXm5ZRZn+nr6xbaXk1v0RfLhnJJNnZpgYGCAro4OHf39cHV24uqNm+XKqq+vT27uv19Mc3Lz0NfXL7Uz/M69+2nf1rdEK9V/3bkbTnpGBm28vUq8lpuXh6GhYbmyCaJFq15xaWJGdFwmLV0tAHB2MGX/8X+HvMjJLSA24d/Lgf8lSRILf73Eg7Q8vp7THh2df+t0lyZmpa5THk4OpsQlZhcrrsIi0+nVuXEZx2HKo+cP9f8fGaerqZUrwadv8u2ELv88dmH39V0A3IvJxMZGm7j0GJpald0H41EKhQKJp58W1MXKhdi0GLLys9SXD+8khdKnRb9Sl7+TFMobnd/C3MAcgBd8XuS3M7+SmpOKxT8tdP/N+egPIiI5Ajsze9GaJQgV1NjOjsSkJJybFA10PXXia8Vez8vLp7CwkMSkJGz+mS8yOjYWu0aNSt2eXSNbomNjaevj/c+ycZiZmmBiXMZUWgpFibEHy2LfyJbo2DicnZoAEBMbi52tbanL3goN5UFaGsdPnwYgIzOL3/9cQ9+eAfTrFaBe7mxQMD5enqUWjvEJifTu3q184QTRolWftGtjw+XryerHXdo1IiIqg+PnYsnPV7F6821cmpipLwf+1+IVV7gXk8GX77YrMf6Vl7sVNtaGrNt6B5WqkKu3Urh0/T7+3kUnoL1Hoxg95WCp23W0N8HNyYxVm26Rn6/iZGAcd++l07V96UMvPNOjCSeD4rkTkUZBQSFrNt/Gs4UlJsb/zkNlq/BEsriHj0dR5//ubgHcTQ7jSOhhzl+Nw6DFGdysm+Fs6Vxi+xm5GZyNOENeQR4FhQXsu7GHkOiLtHfqoF4mvyBfPZ+hslBJXkGeelDcXdd28NyKISW2C9CkgRPNGjZnxdnfyCvI4+idI9y5H0pAs56lLu9u24o913eRmZdJgaqAzZc3YW3cEAtDC+LT47kUcwmlqmj/a4JXk5aTipe9t3r9izEX6OjcsdRtC4JQNk/3loSGld2HU19fD5/WnuzYu5+8vHzCwsO5dPU67f18S12+g19bTp8LJC4+gazsbPYcOEgHf3+g6DLl9Zu3UCqVqFQqAs9f4M7du7Rq2Vy9/qSZs8vst9Xery2Hjh0nNTWN1LQ0Dh49Tsd2pQ+4PX3SG3w8+x0+eOdtPnjnbSzMzRj9wnC6d/m372d+vpILly6r8z0qNTWN7Oxsmjo7lfmzEYoTLVr1SN+uDkycc5y8fBX6etpYmOnz6Uw/fvrjCl8vuYi7WwM+mvbv3SVrt4Ry5WYy37zfgYSkbHYejERXV4vn39ivXubt173o3cUBHR0tPp/VjoXLL7Fh+x1srA2Z81abR/pw5eDZouym6o+mtWX+LyE8O2EvNtaGfPq2n7r/2OUbybz/zTl2/TkAgDae1kx4sSUffBtIXr4KzxaWfDi1+Mkt9XYLJItt5KnyMNAxoIFRA74a9C3fHVlAVEoMLRq24vMBX6qXXxn4B5diLvL9cz9SUFjA8tO/EJkSiZaWFk4NnPl2yEKcHinKXvzzeeLTizqDzvh7KgB/v7oNO3N7EjIS8LIv2dz+0OcDvuTz/Z/Rd2kvGpnZ8uXAb2hg1ACAkOiLzNw6ncNTjgMwtdt0Fh1dyIg/hqEsVOJi5co3Q4pGz87Oz2LB4W+ISY1GT0efZg2bsWjoD5g/0tJ14OY+5vavm3NHCkJ16uDnx5fffU9+vhI9vdInEx41fBirN/6Pdz+di7GRMaOGD8P+nxatlAcPmPftQj55bxaWDRrg4d6SPgE9+H7pMpRKJW28WjPomb4AqFQqtu/ZS3ziww72Nrw5fhyN/umM/yA1FX19feztSm8t69qxA/eTk/l8wXcAdO7Qjq4d//1iOO/bhTzTuyft2vqWaEFTKLQwMjIs1nJ16epVDA0NaOFWct7SwAsX6eDfVj3+l/BkCkkqb+Nk/ePn50dw8ONvkdU0v6+/QQNzfYYPKN8ls6ry7pdnmDzO84kd46vSLyd/poFRA0b6jlY/d/p8PAdPRPPJjOqbXmn65im83eOdYoOUyuFE2HH23tjDl4O+rvF918W/nbpE/H7KZ+uuPZiamNCre1dZc5wLPk9cfAJDBw2QNYeyoIAvFy5i5uS3MDOtn90RKvO3Iwqtx7C2tsbZ2blC6yQlJdGwYdkjmmuqunhc4piqT0REBPfv35c7hlAGExMTWrZsKXeMKlNb3vdVQRxL7ZWUlERWVlaFz22i7e8xKvNBUVe/KdbF4xLHJNRXLVu2rFPvk7r0vhfHUnv5+fkRGVnxgVpFZ3hBEARBEIRqIgotQRAEQRCEaiIKrSo2ceJEuSNUi7p4XOKYhPqqrr1P6tLxiGOpvSp7PKIzvCAIgiAIQjURLVqCIAiCIAjVRBRagiAIgiAI1UQUWpW0d+9eWrRogZubG998802J19euXYuXlxdeXl506tSJS5cuyZCyYp50TA8FBQWhra3Npk2bajBd5ZTnmI4ePYqPjw8eHh507969hhNWzpOOKy0tjcGDB+Pt7Y2Hhwd//PGHDCmF2iIlJYU+ffrQrFkz+vTpw4MHD0osExUVRUBAAO7u7nh4ePDDDz/IkLRsT3rPS5LEtGnTcHNzw8vLiwsXLsiQsvzq0mdIXfrsqJbPDEmosIKCAsnFxUUKCwuT8vLyJC8vL+natWvFljl16pSUkpIiSZIk7d69W2rXrp0cUcutPMf0cLmAgACpf//+0l9//SVD0vIrzzE9ePBAcnd3lyIjIyVJkqSEhAQ5olZIeY7ryy+/lN59911JkiQpMTFRatCggZSXlydHXKEWmD17tvT1119LkiRJX3/9tfq98ajY2Fjp/PnzkiRJUnp6utSsWbNSzwFyKM97fteuXdIzzzwjFRYWSmfOnKnV59y69BlSlz47quszQ7RoVUJgYCBubm64uLigp6fHyJEj2bZtW7FlOnXqRIMGRfPXdejQgejoaDmillt5jgngp59+Yvjw4dj8MwdXbVaeY1q3bh3Dhg2jSZOiWe/rynEpFAoyMjKQJInMzEwsLS3REXOT1Vvbtm3jlVdeAeCVV15h69atJZaxs7PD17dozlBTU1Pc3d2JiYmpyZhlKs97ftu2bYwdOxaFQkGHDh1ITU0lLi5OpsSPV5c+Q+rSZ0d1fWaIQqsSYmJicHR0VD92cHB47AlpxYoV9O/fvyaiVVp5jikmJoYtW7bw5ptv1nS8SinPMd2+fZsHDx7Qo0cP2rZty6pVq2o6ZoWV57imTJnCjRs3sLe3p3Xr1vzwww9oaYk/9/oqISEBOzs7oKigSkxMfOzyERERXLx4kfbt29dEvCcq7/mpIudlOdWlz5C69NlRXZ8Z4ituJUiljIihUChKXfbIkSOsWLGCkydPVnesp1KeY5oxYwbffvst2traNRXrqZTnmAoKCjh//jyHDh0iJyeHjh070qFDB5o3b15TMSusPMe1b98+fHx8OHz4MGFhYfTp04euXbtiZmZWUzGFGta7d2/i4+NLPP/ll19WaDuZmZkMHz6cxYsX15r3S3ne8xU5L8utLn2G1KXPjur6zBCFViU4ODgQFRWlfhwdHY29vX2J5S5fvsxrr73Gnj17sLKyqsmIFVaeYwoODmbkyJFA0TyQu3fvRkdHh6FDh9Zk1HIrzzE5ODhgbW2NsbExxsbGdOvWjUuXLtXqQqs8x/XHH38wZ84cFAoFbm5uNG3alJs3b9KuXbuajivUkIMHD5b5mq2tLXFxcdjZ2REXF1fm5Q6lUsnw4cMZM2YMw4YNq66oFVbev+XynJdrg7r0GVKXPjuq7TOjCvuR1RtKpVJq2rSpdPfuXXWHuatXrxZbJjIyUnJ1dZVOnTolU8qKKc8xPeqVV16ptR0aHyrPMV2/fl3q2bOnpFQqpaysLMnDw0O6cuWKTInLpzzH9eabb0qffvqpJEmSFB8fL9nb20tJSUkypBVqg1mzZhXrDD979uwSyxQWFkovv/yyNH369BpO92Tlec/v3LmzWGd4f39/mdI+WV36DKlLnx3V9ZkhCq1K2rVrl9SsWTPJxcVF+uKLLyRJkqRffvlF+uWXXyRJkqQJEyZIFhYWkre3t+Tt7S21bdtWzrjl8qRjelRt/mN5VHmOaf78+ZK7u7vk4eEhff/99zIlrZgnHVdMTIzUp08fydPTU/Lw8JBWr14tZ1xBZvfv35d69uwpubm5ST179pSSk5MlSSp6n/Tv31+SJEk6ceKEBEitW7dWn7d27dolZ+xinvSeLywslN566y3JxcVF8vT0lIKCguSM+0R16TOkLn12VMdnhpiCRxAEQRAEoZqI25AEQRAEQRCqiSi0BEEQBEEQqokotARBEARBEKqJKLQEQRAEQRCqiSi0BEEQBEEQqokotIQqp62tjY+PD56enrzwwgtkZ2dXaP2IiAjWrVtXqX136tSpUusJgiDUhLlz57Jw4cJyvb5y5UpiY2NrKppQTUShJVQ5Q0NDQkJCuHr1Knp6eixbtqxC61em0FKpVACcPn26wusIgiDURqLQqhtEoSVUq65du3Lnzh1SUlIYOnQoXl5edOjQgcuXLwNw7NgxfHx88PHxoU2bNmRkZDBnzhxOnDiBj48P33//PSqVitmzZ+Pv74+Xlxe//vorAEePHiUgIIDRo0fTunVrAExMTICiOatmz56Np6cnrVu3ZuPGjWWu8ygTExPeeecdfH196dWrF0lJSTXxYxIEoQ778ssvadGiBb179+bWrVsAhIWF8cwzz9C2bVu6du3KzZs3i62zadMmgoODGTNmDD4+PuTk5DBv3jz8/f3x9PRk4sSJpc7NJ9RC1TGyqlC/GRsbS5JUNJ3BkCFDpKVLl0pTpkyR5s6dK0mSJB06dEjy9vaWJEmSBg0aJJ08eVKSJEnKyMiQlEqldOTIEWngwIHq7f3666/S559/LkmSJOXm5kpt27aV7t69Kx05ckQyMjKS7t69W2LfmzZtknr37i0VFBRI8fHxkqOjoxQbG1vqOo8CpDVr1kiSJEmfffaZNHny5Cr8yQiCUN8EBwdLnp6eUlZWlpSWlia5urpKCxYskHr27Cndvn1bkiRJOnv2rBQQECBJkiR9+umn0oIFCyRJkqTu3bsXG+H+4Yj+kiRJL730krR9+/YaPBKhssSk0kKVy8nJwcfHByhq0ZowYQLt27dn8+bNAPTs2ZPk5GTS0tLo3LkzM2fOVE9i6+DgUGJ7+/fv5/Lly2zatAmAtLQ0QkND0dPTo127djRt2rTEOidPnmTUqFFoa2tja2tL9+7dCQoKwszMrMx1ALS0tHjxxRcBeOmll2rVxLqCIGieEydO8Nxzz2FkZATAkCFDyM3N5fTp07zwwgvq5fLy8p64rSNHjjB//nyys7NJSUnBw8ODwYMHV1t2oWqIQkuocg/7aD1KKqWJW6FQMGfOHAYOHMju3bvp0KEDBw8eLLGcJEn89NNP9OvXr9jzR48exdjYuNQMpe3vobLWKY1CoSj3soIgCKX573mksLAQCwuLEufJx8nNzeWtt94iODgYR0dH5s6dS25ubhUnFaqD6KMl1Ihu3bqxdu1aoKhAsra2xszMjLCwMFq3bs17772Hn58fN2/exNTUlIyMDPW6/fr145dffkGpVAJw+/ZtsrKynri/jRs3olKpSEpK4vjx47Rr1+6JOQsLC9UtZ+vWraNLly6VPWRBEAS6devGli1byMnJISMjgx07dmBkZETTpk3566+/gKIvhpcuXSqx7qPnwodFlbW1NZmZmerzlFD7iRYtoUbMnTuX8ePH4+XlhZGREX/++ScAixcv5siRI2hra9OqVSv69++PlpYWOjo6eHt7M27cOKZPn05ERAS+vr5IkkTDhg3ZunXrY/f33HPPcebMGby9vVEoFMyfP59GjRqV6HD6X8bGxly7do22bdtibm6u7kQvCIJQGb6+vrz44ov4+Pjg5ORE165dAVi7di2TJk3iiy++QKlUMnLkSLy9vYutO27cON58800MDQ05c+YMr7/+Oq1bt8bZ2Rl/f385DkeoBIX0uGssglDPmJiYkJmZKXcMQRAEoY4Qlw4FQRAEQRCqiWjREgRBEARBqCaiRUsQBEEQBKGaiEJLEARBEAShmohCSxAEQRAEoZqIQksQBEEQBKGaiEJLEARBEAShmvw/Tfw4noOJIegAAAAASUVORK5CYII=' style='max-width:100%; margin: auto; display: block; '/>"
      ],
      "text/plain": [
       ":Layout\n",
       "   .Overlay.Posterior_p_Comparison :Overlay\n",
       "      .Curve.A  :Curve   [value]   (pdf)\n",
       "      .Curve.C  :Curve   [value]   (pdf)\n",
       "      .Curve.I  :Curve   [x]   (y)\n",
       "      .Points.A :Points   [x,y]\n",
       "      .Text.A   :Text   [x,y]\n",
       "      .Curve.II :Curve   [x]   (y)\n",
       "      .Points.C :Points   [x,y]\n",
       "      .Text.C   :Text   [x,y]\n",
       "   .Overlay.Posterior_p_Delta      :Overlay\n",
       "      .Curve.Delta_Distribution            :Curve   [value]   (pdf)\n",
       "      .Curve.A_0_full_stop_95_percent_HDI  :Curve   [x]   (y)\n",
       "      .Points.A_0_full_stop_95_percent_HDI :Points   [x,y]\n",
       "      .Text.A_0_full_stop_95_percent_HDI   :Text   [x,y]\n",
       "      .Spikes.Null_Delta                   :Spikes   [x]   (pdf)"
      ]
     },
     "execution_count": 15,
     "metadata": {
      "application/vnd.holoviews_exec.v0+json": {}
     },
     "output_type": "execute_result"
    }
   ],
   "source": [
    "# Initialize an A/B test with additional segmentation on the 'attr_1' attribute\n",
    "ab_test_segmented = HypothesisTest(\n",
    "    metric='metric',\n",
    "    control='A', variation='C',\n",
    "    inference_method='bayesian',\n",
    "    hypothesis='larger',\n",
    "    segmentation=\"attr_1 == 'A1a'\"\n",
    ")\n",
    "\n",
    "# Run the segmented test\n",
    "ab_test_segmented_results = experiment.run_test(ab_test_segmented)\n",
    "\n",
    "# Display results (notice reduced sample sizes)\n",
    "ab_test_segmented_results.display()\n",
    "ab_test_segmented_results.visualize()"
   ]
  },
  {
   "cell_type": "markdown",
   "metadata": {},
   "source": [
    "We now see that if we dig into a particular segment, namely the segement defined by `\"attr_1 == 'A1a'\"`, we can no longer accept the hypothesis that `\"C is larger\"`. Since we are using a Bayesian test (recommended for doing segmentations because Bayesian tests aren't affected by Multiple comparisons errors -- See **Running multiple Freqeuntist tests, and Multiple Comparison control** below.) evidence for rejecting the hypothesis comes from the fact the p(C > A) = 0.936, which is less than the `Credible Mass` of 0.95 required by our experiment (as defined by `alpha`). Other evidence comes from the fact that HDIs of the the Delta distribution (right plot) overlap with the zero-value associated with no difference."
   ]
  },
  {
   "cell_type": "markdown",
   "metadata": {},
   "source": [
    "## Running multiple Frequentist tests, and Multiple Comparison control\n",
    "When running multiple Frequentist hypothesis tests on the same metric, you'll need to control for [multiple comparisons](https://en.wikipedia.org/wiki/Multiple_comparisons_problem). This is handled by running a `HypothesisTestGroup` against the experiment. The  `HypothesisTestGroup` is a list of hypothesis tests. When the `Experiment.run_test_group` method is applied to the `HypothesisTestGroup`  the value of each test's `alpha` is adjusted so that is more conservative in order to avoid inflated Type I error rates caused by Multiple Comparison artifacts.\n",
    "\n",
    "### Example\n",
    "In the example below we run 3 independent tests comparing A to A, B to A and C to A, and set the correction `method` to `'bonferroni'`, which simply updates the effective $\\alpha_{corrected} = \\frac{\\alpha}{N_{tests}}$. Our original value for `alpha=0.05`, thus the corrected value would be $\\frac{0.05}{3} = 0.0167$"
   ]
  },
  {
   "cell_type": "code",
   "execution_count": 16,
   "metadata": {},
   "outputs": [
    {
     "name": "stdout",
     "output_type": "stream",
     "text": [
      "------------------------------------------------------------\n",
      "Test 1 of 3\n"
     ]
    },
    {
     "data": {
      "text/html": [
       "<pre style=\"white-space:pre;overflow-x:auto;line-height:normal;font-family:Menlo,'DejaVu Sans Mono',consolas,'Courier New',monospace\"><span style=\"color: #008080; text-decoration-color: #008080; font-weight: bold\">Samples Comparison                  </span>\n",
       "┏━━━━━━━━━━━━━━━━┳━━━━━━━━┳━━━━━━━━┓\n",
       "┃<span style=\"color: #008080; text-decoration-color: #008080; font-style: italic\">                </span>┃<span style=\"color: #008080; text-decoration-color: #008080; font-style: italic\"> A      </span>┃<span style=\"color: #008080; text-decoration-color: #008080; font-style: italic\"> A      </span>┃\n",
       "┡━━━━━━━━━━━━━━━━╇━━━━━━━━╇━━━━━━━━┩\n",
       "│        Samples │ 35     │ 35     │\n",
       "│           Mean │ 0.4286 │ 0.4286 │\n",
       "│ Standard Error │ 0.0836 │ 0.0836 │\n",
       "│       Variance │ 0.2449 │ 0.2449 │\n",
       "│          Delta │        │ 0.0    │\n",
       "└────────────────┴────────┴────────┘\n",
       "</pre>\n"
      ],
      "text/plain": [
       "\u001b[1;36mSamples Comparison                  \u001b[0m\n",
       "┏━━━━━━━━━━━━━━━━┳━━━━━━━━┳━━━━━━━━┓\n",
       "┃\u001b[3;36m \u001b[0m\u001b[3;36m              \u001b[0m\u001b[3;36m \u001b[0m┃\u001b[3;36m \u001b[0m\u001b[3;36mA     \u001b[0m\u001b[3;36m \u001b[0m┃\u001b[3;36m \u001b[0m\u001b[3;36mA     \u001b[0m\u001b[3;36m \u001b[0m┃\n",
       "┡━━━━━━━━━━━━━━━━╇━━━━━━━━╇━━━━━━━━┩\n",
       "│        Samples │ 35     │ 35     │\n",
       "│           Mean │ 0.4286 │ 0.4286 │\n",
       "│ Standard Error │ 0.0836 │ 0.0836 │\n",
       "│       Variance │ 0.2449 │ 0.2449 │\n",
       "│          Delta │        │ 0.0    │\n",
       "└────────────────┴────────┴────────┘\n"
      ]
     },
     "metadata": {},
     "output_type": "display_data"
    },
    {
     "data": {
      "text/html": [
       "<pre style=\"white-space:pre;overflow-x:auto;line-height:normal;font-family:Menlo,'DejaVu Sans Mono',consolas,'Courier New',monospace\"><span style=\"color: #008080; text-decoration-color: #008080; font-weight: bold\">Proportions Delta Results                     </span>\n",
       "┌────────────────────┬───────────────────────┐\n",
       "│ Delta              │ 0.0                   │\n",
       "│ Delta CI           │ (-0.2873, 0.2873)     │\n",
       "│ Delta-relative     │ 0.0 %                 │\n",
       "│ Delta-relative CI  │ (-67.0448, 67.0448) % │\n",
       "│ Delta CI %-tiles   │ (0.0083, 0.9917)      │\n",
       "│ Effect Size        │ 0.0                   │\n",
       "│ alpha (corrected)  │ 0.017                 │\n",
       "│ Power              │ 0.017                 │\n",
       "│ Variable Type      │ binary                │\n",
       "│ Inference Method   │ frequentist           │\n",
       "│ Test statistic (z) │ 0.0                   │\n",
       "│ p-value            │ 1.0                   │\n",
       "│ Hypothesis         │ A != A                │\n",
       "│ Accept Hypothesis  │ False                 │\n",
       "│ MC Correction      │ bonferroni_correction │\n",
       "└────────────────────┴───────────────────────┘\n",
       "</pre>\n"
      ],
      "text/plain": [
       "\u001b[1;36mProportions Delta Results                     \u001b[0m\n",
       "┌────────────────────┬───────────────────────┐\n",
       "│ Delta              │ 0.0                   │\n",
       "│ Delta CI           │ (-0.2873, 0.2873)     │\n",
       "│ Delta-relative     │ 0.0 %                 │\n",
       "│ Delta-relative CI  │ (-67.0448, 67.0448) % │\n",
       "│ Delta CI %-tiles   │ (0.0083, 0.9917)      │\n",
       "│ Effect Size        │ 0.0                   │\n",
       "│ alpha (corrected)  │ 0.017                 │\n",
       "│ Power              │ 0.017                 │\n",
       "│ Variable Type      │ binary                │\n",
       "│ Inference Method   │ frequentist           │\n",
       "│ Test statistic (z) │ 0.0                   │\n",
       "│ p-value            │ 1.0                   │\n",
       "│ Hypothesis         │ A != A                │\n",
       "│ Accept Hypothesis  │ False                 │\n",
       "│ MC Correction      │ bonferroni_correction │\n",
       "└────────────────────┴───────────────────────┘\n"
      ]
     },
     "metadata": {},
     "output_type": "display_data"
    },
    {
     "name": "stdout",
     "output_type": "stream",
     "text": [
      "------------------------------------------------------------\n",
      "Test 2 of 3\n"
     ]
    },
    {
     "data": {
      "text/html": [
       "<pre style=\"white-space:pre;overflow-x:auto;line-height:normal;font-family:Menlo,'DejaVu Sans Mono',consolas,'Courier New',monospace\"><span style=\"color: #008080; text-decoration-color: #008080; font-weight: bold\">Samples Comparison                  </span>\n",
       "┏━━━━━━━━━━━━━━━━┳━━━━━━━━┳━━━━━━━━┓\n",
       "┃<span style=\"color: #008080; text-decoration-color: #008080; font-style: italic\">                </span>┃<span style=\"color: #008080; text-decoration-color: #008080; font-style: italic\"> A      </span>┃<span style=\"color: #008080; text-decoration-color: #008080; font-style: italic\"> B      </span>┃\n",
       "┡━━━━━━━━━━━━━━━━╇━━━━━━━━╇━━━━━━━━┩\n",
       "│        Samples │ 35     │ 41     │\n",
       "│           Mean │ 0.4286 │ 0.6585 │\n",
       "│ Standard Error │ 0.0836 │ 0.0741 │\n",
       "│       Variance │ 0.2449 │ 0.2249 │\n",
       "│          Delta │        │ 0.23   │\n",
       "└────────────────┴────────┴────────┘\n",
       "</pre>\n"
      ],
      "text/plain": [
       "\u001b[1;36mSamples Comparison                  \u001b[0m\n",
       "┏━━━━━━━━━━━━━━━━┳━━━━━━━━┳━━━━━━━━┓\n",
       "┃\u001b[3;36m \u001b[0m\u001b[3;36m              \u001b[0m\u001b[3;36m \u001b[0m┃\u001b[3;36m \u001b[0m\u001b[3;36mA     \u001b[0m\u001b[3;36m \u001b[0m┃\u001b[3;36m \u001b[0m\u001b[3;36mB     \u001b[0m\u001b[3;36m \u001b[0m┃\n",
       "┡━━━━━━━━━━━━━━━━╇━━━━━━━━╇━━━━━━━━┩\n",
       "│        Samples │ 35     │ 41     │\n",
       "│           Mean │ 0.4286 │ 0.6585 │\n",
       "│ Standard Error │ 0.0836 │ 0.0741 │\n",
       "│       Variance │ 0.2449 │ 0.2249 │\n",
       "│          Delta │        │ 0.23   │\n",
       "└────────────────┴────────┴────────┘\n"
      ]
     },
     "metadata": {},
     "output_type": "display_data"
    },
    {
     "data": {
      "text/html": [
       "<pre style=\"white-space:pre;overflow-x:auto;line-height:normal;font-family:Menlo,'DejaVu Sans Mono',consolas,'Courier New',monospace\"><span style=\"color: #008080; text-decoration-color: #008080; font-weight: bold\">Proportions Delta Results                     </span>\n",
       "┌────────────────────┬───────────────────────┐\n",
       "│ Delta              │ 0.23                  │\n",
       "│ Delta CI           │ (-0.0402, 0.5001)     │\n",
       "│ Delta-relative     │ 0.5366 %              │\n",
       "│ Delta-relative CI  │ (-9.3736, 116.6906) % │\n",
       "│ Delta CI %-tiles   │ (0.0083, 0.9917)      │\n",
       "│ Effect Size        │ 0.4753                │\n",
       "│ alpha (corrected)  │ 0.017                 │\n",
       "│ Power              │ 0.371                 │\n",
       "│ Variable Type      │ binary                │\n",
       "│ Inference Method   │ frequentist           │\n",
       "│ Test statistic (z) │ 2.36                  │\n",
       "│ p-value            │ 0.0183                │\n",
       "│ Hypothesis         │ B != A                │\n",
       "│ Accept Hypothesis  │ False                 │\n",
       "│ MC Correction      │ bonferroni_correction │\n",
       "└────────────────────┴───────────────────────┘\n",
       "</pre>\n"
      ],
      "text/plain": [
       "\u001b[1;36mProportions Delta Results                     \u001b[0m\n",
       "┌────────────────────┬───────────────────────┐\n",
       "│ Delta              │ 0.23                  │\n",
       "│ Delta CI           │ (-0.0402, 0.5001)     │\n",
       "│ Delta-relative     │ 0.5366 %              │\n",
       "│ Delta-relative CI  │ (-9.3736, 116.6906) % │\n",
       "│ Delta CI %-tiles   │ (0.0083, 0.9917)      │\n",
       "│ Effect Size        │ 0.4753                │\n",
       "│ alpha (corrected)  │ 0.017                 │\n",
       "│ Power              │ 0.371                 │\n",
       "│ Variable Type      │ binary                │\n",
       "│ Inference Method   │ frequentist           │\n",
       "│ Test statistic (z) │ 2.36                  │\n",
       "│ p-value            │ 0.0183                │\n",
       "│ Hypothesis         │ B != A                │\n",
       "│ Accept Hypothesis  │ False                 │\n",
       "│ MC Correction      │ bonferroni_correction │\n",
       "└────────────────────┴───────────────────────┘\n"
      ]
     },
     "metadata": {},
     "output_type": "display_data"
    },
    {
     "name": "stdout",
     "output_type": "stream",
     "text": [
      "------------------------------------------------------------\n",
      "Test 3 of 3\n"
     ]
    },
    {
     "data": {
      "text/html": [
       "<pre style=\"white-space:pre;overflow-x:auto;line-height:normal;font-family:Menlo,'DejaVu Sans Mono',consolas,'Courier New',monospace\"><span style=\"color: #008080; text-decoration-color: #008080; font-weight: bold\">Samples Comparison                  </span>\n",
       "┏━━━━━━━━━━━━━━━━┳━━━━━━━━┳━━━━━━━━┓\n",
       "┃<span style=\"color: #008080; text-decoration-color: #008080; font-style: italic\">                </span>┃<span style=\"color: #008080; text-decoration-color: #008080; font-style: italic\"> A      </span>┃<span style=\"color: #008080; text-decoration-color: #008080; font-style: italic\"> C      </span>┃\n",
       "┡━━━━━━━━━━━━━━━━╇━━━━━━━━╇━━━━━━━━┩\n",
       "│        Samples │ 35     │ 44     │\n",
       "│           Mean │ 0.4286 │ 0.75   │\n",
       "│ Standard Error │ 0.0836 │ 0.0653 │\n",
       "│       Variance │ 0.2449 │ 0.1875 │\n",
       "│          Delta │        │ 0.3214 │\n",
       "└────────────────┴────────┴────────┘\n",
       "</pre>\n"
      ],
      "text/plain": [
       "\u001b[1;36mSamples Comparison                  \u001b[0m\n",
       "┏━━━━━━━━━━━━━━━━┳━━━━━━━━┳━━━━━━━━┓\n",
       "┃\u001b[3;36m \u001b[0m\u001b[3;36m              \u001b[0m\u001b[3;36m \u001b[0m┃\u001b[3;36m \u001b[0m\u001b[3;36mA     \u001b[0m\u001b[3;36m \u001b[0m┃\u001b[3;36m \u001b[0m\u001b[3;36mC     \u001b[0m\u001b[3;36m \u001b[0m┃\n",
       "┡━━━━━━━━━━━━━━━━╇━━━━━━━━╇━━━━━━━━┩\n",
       "│        Samples │ 35     │ 44     │\n",
       "│           Mean │ 0.4286 │ 0.75   │\n",
       "│ Standard Error │ 0.0836 │ 0.0653 │\n",
       "│       Variance │ 0.2449 │ 0.1875 │\n",
       "│          Delta │        │ 0.3214 │\n",
       "└────────────────┴────────┴────────┘\n"
      ]
     },
     "metadata": {},
     "output_type": "display_data"
    },
    {
     "data": {
      "text/html": [
       "<pre style=\"white-space:pre;overflow-x:auto;line-height:normal;font-family:Menlo,'DejaVu Sans Mono',consolas,'Courier New',monospace\"><span style=\"color: #008080; text-decoration-color: #008080; font-weight: bold\">Proportions Delta Results                     </span>\n",
       "┌────────────────────┬───────────────────────┐\n",
       "│ Delta              │ 0.3214                │\n",
       "│ Delta CI           │ (0.068, 0.5749)       │\n",
       "│ Delta-relative     │ 0.75 %                │\n",
       "│ Delta-relative CI  │ (15.8661, 134.1339) % │\n",
       "│ Delta CI %-tiles   │ (0.0083, 0.9917)      │\n",
       "│ Effect Size        │ 0.6967                │\n",
       "│ alpha (corrected)  │ 0.017                 │\n",
       "│ Power              │ 0.752                 │\n",
       "│ Variable Type      │ binary                │\n",
       "│ Inference Method   │ frequentist           │\n",
       "│ Test statistic (z) │ 3.47                  │\n",
       "│ p-value            │ 0.0005                │\n",
       "│ Hypothesis         │ C != A                │\n",
       "│ Accept Hypothesis  │ True                  │\n",
       "│ MC Correction      │ bonferroni_correction │\n",
       "└────────────────────┴───────────────────────┘\n",
       "</pre>\n"
      ],
      "text/plain": [
       "\u001b[1;36mProportions Delta Results                     \u001b[0m\n",
       "┌────────────────────┬───────────────────────┐\n",
       "│ Delta              │ 0.3214                │\n",
       "│ Delta CI           │ (0.068, 0.5749)       │\n",
       "│ Delta-relative     │ 0.75 %                │\n",
       "│ Delta-relative CI  │ (15.8661, 134.1339) % │\n",
       "│ Delta CI %-tiles   │ (0.0083, 0.9917)      │\n",
       "│ Effect Size        │ 0.6967                │\n",
       "│ alpha (corrected)  │ 0.017                 │\n",
       "│ Power              │ 0.752                 │\n",
       "│ Variable Type      │ binary                │\n",
       "│ Inference Method   │ frequentist           │\n",
       "│ Test statistic (z) │ 3.47                  │\n",
       "│ p-value            │ 0.0005                │\n",
       "│ Hypothesis         │ C != A                │\n",
       "│ Accept Hypothesis  │ True                  │\n",
       "│ MC Correction      │ bonferroni_correction │\n",
       "└────────────────────┴───────────────────────┘\n"
      ]
     },
     "metadata": {},
     "output_type": "display_data"
    }
   ],
   "source": [
    "from spearmint.hypothesis_test import HypothesisTestGroup\n",
    "\n",
    "# Use the `HypothesisTest.copy` method for duplicating test\n",
    "# configurations, while overwriting specific parameters, in\n",
    "# this case `variation` parameter\n",
    "aa_test = ab_test.copy(variation='A')\n",
    "ac_test = ab_test.copy(variation='C')\n",
    "\n",
    "# Initialize the `HypothesisTestGroup`\n",
    "test_group = HypothesisTestGroup(\n",
    "    tests=[aa_test, ab_test, ac_test],\n",
    "    correction_method='bonferroni'\n",
    ")\n",
    "\n",
    "# Run tests\n",
    "test_suite_results = experiment.run_test_group(test_group)\n",
    "\n",
    "# Print results\n",
    "test_suite_results.display()"
   ]
  },
  {
   "cell_type": "markdown",
   "metadata": {},
   "source": [
    "Note that the alpha has been `(corrected)` to a value of 0.017, using `MC Correction='bonferroni_correction'`"
   ]
  },
  {
   "cell_type": "markdown",
   "metadata": {},
   "source": [
    "The `HypothesisTestSuite` supports the following multiple comparison strategies:\n",
    "- ['sidak'](http://en.wikipedia.org/wiki/%C5%A0id%C3%A1k_correction) (default)\n",
    "- ['bonferonni'](http://en.wikipedia.org/wiki/Bonferroni_correction)\n",
    "- [Benjamini-Hochberg false-discovery rate ('bh_fdr')](http://pdfs.semanticscholar.org/af6e/9cd1652b40e219b45402313ec6f4b5b3d96b.pdf)"
   ]
  },
  {
   "cell_type": "markdown",
   "metadata": {},
   "source": [
    "## Custom Metrics\n",
    "`spearmint` also supports the use of custom metrics, which can transform and combine information from one or more columns.\n",
    "\n",
    "### Example\n",
    "In the example below we create a `CustomMetric` always makes the `variation` greater than the `control` by adding a constant offset (plus noise) to the value of the the `control`."
   ]
  },
  {
   "cell_type": "code",
   "execution_count": 17,
   "metadata": {},
   "outputs": [
    {
     "data": {
      "text/html": [
       "<pre style=\"white-space:pre;overflow-x:auto;line-height:normal;font-family:Menlo,'DejaVu Sans Mono',consolas,'Courier New',monospace\"><span style=\"color: #008080; text-decoration-color: #008080; font-weight: bold\">Samples Comparison                   </span>\n",
       "┏━━━━━━━━━━━━━━━━┳━━━━━━━━┳━━━━━━━━━┓\n",
       "┃<span style=\"color: #008080; text-decoration-color: #008080; font-style: italic\">                </span>┃<span style=\"color: #008080; text-decoration-color: #008080; font-style: italic\"> A      </span>┃<span style=\"color: #008080; text-decoration-color: #008080; font-style: italic\"> B       </span>┃\n",
       "┡━━━━━━━━━━━━━━━━╇━━━━━━━━╇━━━━━━━━━┩\n",
       "│        Samples │ 35     │ 41      │\n",
       "│           Mean │ 4.4109 │ 0.5162  │\n",
       "│ Standard Error │ 0.0464 │ 0.0441  │\n",
       "│       Variance │ 0.0755 │ 0.0798  │\n",
       "│          Delta │        │ -3.8947 │\n",
       "└────────────────┴────────┴─────────┘\n",
       "</pre>\n"
      ],
      "text/plain": [
       "\u001b[1;36mSamples Comparison                   \u001b[0m\n",
       "┏━━━━━━━━━━━━━━━━┳━━━━━━━━┳━━━━━━━━━┓\n",
       "┃\u001b[3;36m \u001b[0m\u001b[3;36m              \u001b[0m\u001b[3;36m \u001b[0m┃\u001b[3;36m \u001b[0m\u001b[3;36mA     \u001b[0m\u001b[3;36m \u001b[0m┃\u001b[3;36m \u001b[0m\u001b[3;36mB      \u001b[0m\u001b[3;36m \u001b[0m┃\n",
       "┡━━━━━━━━━━━━━━━━╇━━━━━━━━╇━━━━━━━━━┩\n",
       "│        Samples │ 35     │ 41      │\n",
       "│           Mean │ 4.4109 │ 0.5162  │\n",
       "│ Standard Error │ 0.0464 │ 0.0441  │\n",
       "│       Variance │ 0.0755 │ 0.0798  │\n",
       "│          Delta │        │ -3.8947 │\n",
       "└────────────────┴────────┴─────────┘\n"
      ]
     },
     "metadata": {},
     "output_type": "display_data"
    },
    {
     "data": {
      "text/html": [
       "<pre style=\"white-space:pre;overflow-x:auto;line-height:normal;font-family:Menlo,'DejaVu Sans Mono',consolas,'Courier New',monospace\"><span style=\"color: #008080; text-decoration-color: #008080; font-weight: bold\">Means Delta Results                       </span>\n",
       "┌────────────────────┬───────────────────┐\n",
       "│ Delta              │ -3.8947           │\n",
       "│ Delta CI           │ (-4.0014, inf)    │\n",
       "│ Delta-relative     │ -0.883 %          │\n",
       "│ Delta-relative CI  │ (-90.7167, inf) % │\n",
       "│ Delta CI %-tiles   │ (0.05, inf)       │\n",
       "│ Effect Size        │ -13.9646          │\n",
       "│ alpha              │ 0.05              │\n",
       "│ Power              │ 0.0               │\n",
       "│ Variable Type      │ continuous        │\n",
       "│ Inference Method   │ frequentist       │\n",
       "│ Test statistic (z) │ -59.88            │\n",
       "│ p-value            │ 1.0               │\n",
       "│ Hypothesis         │ B is larger       │\n",
       "│ Accept Hypothesis  │ False             │\n",
       "└────────────────────┴───────────────────┘\n",
       "</pre>\n"
      ],
      "text/plain": [
       "\u001b[1;36mMeans Delta Results                       \u001b[0m\n",
       "┌────────────────────┬───────────────────┐\n",
       "│ Delta              │ -3.8947           │\n",
       "│ Delta CI           │ (-4.0014, inf)    │\n",
       "│ Delta-relative     │ -0.883 %          │\n",
       "│ Delta-relative CI  │ (-90.7167, inf) % │\n",
       "│ Delta CI %-tiles   │ (0.05, inf)       │\n",
       "│ Effect Size        │ -13.9646          │\n",
       "│ alpha              │ 0.05              │\n",
       "│ Power              │ 0.0               │\n",
       "│ Variable Type      │ continuous        │\n",
       "│ Inference Method   │ frequentist       │\n",
       "│ Test statistic (z) │ -59.88            │\n",
       "│ p-value            │ 1.0               │\n",
       "│ Hypothesis         │ B is larger       │\n",
       "│ Accept Hypothesis  │ False             │\n",
       "└────────────────────┴───────────────────┘\n"
      ]
     },
     "metadata": {},
     "output_type": "display_data"
    }
   ],
   "source": [
    "from spearmint import CustomMetric\n",
    "\n",
    "def custom_metric(row):\n",
    "    \"\"\"\n",
    "    Define a custom 'metric' where the control is larger\n",
    "    than the variation most of the time. This metric should\n",
    "    result in a an observed delta of ~-4.0.\n",
    "    \"\"\"\n",
    "    return 4 + np.random.rand() if row['treatment'] == 'A' else np.random.rand()\n",
    "\n",
    "custom_test = HypothesisTest(\n",
    "    metric=CustomMetric(custom_metric),\n",
    "    control='A',\n",
    "    variation='B',\n",
    "    inference_method='frequentist',  # Note we use a t-test here.\n",
    "    hypothesis='larger'\n",
    ")\n",
    "\n",
    "custom_test = experiment.run_test(custom_test)\n",
    "custom_test.display()"
   ]
  },
  {
   "cell_type": "markdown",
   "metadata": {},
   "source": [
    "We see that, as expected, we have highly significant results, accepting the hypothesis that `'B != A'`"
   ]
  },
  {
   "cell_type": "markdown",
   "metadata": {},
   "source": [
    "## Working with other types of variables\n",
    "The examples above demonstrate running AB tests for variables that take on binary values--i.e. variables that take on values that exist in the interval $[0, 1]$. This is a pretty common scenario, as a lot of AB tests measure metrics like conversions at various stages in a UX funnel.\n",
    "\n",
    "However, `spearmint` also supports inference methods for other types of variables, like `\"continuous\"` variables (e.g. time spent on a page) and `\"counts\"` (e.g. number of clicks on a button per unit time)."
   ]
  },
  {
   "cell_type": "markdown",
   "metadata": {},
   "source": [
    "### Continuous Variables\n",
    "When testing the difference in means between samples of continuous variables we often those difference using Gaussian-distributed random variables. The most common statistical inference procedure for this scenario is the [Student's t-test](https://en.wikipedia.org/wiki/Student%27s_t-test) (referred to as `\"means_delta\"` under the hood, as it tests for differences in means of the underlying Gaussian distributions from each of treatments).\n",
    "\n",
    "Below we generate some Gaussian-distributed observations and show how ✨spearmint✨can be used to run a t-test using the common `Experiment->HypothesisTest->InferenceResults` workflow."
   ]
  },
  {
   "cell_type": "code",
   "execution_count": 18,
   "metadata": {},
   "outputs": [
    {
     "data": {
      "text/html": [
       "<div>\n",
       "<style scoped>\n",
       "    .dataframe tbody tr th:only-of-type {\n",
       "        vertical-align: middle;\n",
       "    }\n",
       "\n",
       "    .dataframe tbody tr th {\n",
       "        vertical-align: top;\n",
       "    }\n",
       "\n",
       "    .dataframe thead th {\n",
       "        text-align: right;\n",
       "    }\n",
       "</style>\n",
       "<table border=\"1\" class=\"dataframe\">\n",
       "  <thead>\n",
       "    <tr style=\"text-align: right;\">\n",
       "      <th></th>\n",
       "      <th>id</th>\n",
       "      <th>treatment</th>\n",
       "      <th>metric</th>\n",
       "      <th>attr_0</th>\n",
       "      <th>attr_1</th>\n",
       "    </tr>\n",
       "  </thead>\n",
       "  <tbody>\n",
       "    <tr>\n",
       "      <th>0</th>\n",
       "      <td>0</td>\n",
       "      <td>C</td>\n",
       "      <td>2.093461</td>\n",
       "      <td>A0a</td>\n",
       "      <td>A1c</td>\n",
       "    </tr>\n",
       "    <tr>\n",
       "      <th>1</th>\n",
       "      <td>1</td>\n",
       "      <td>B</td>\n",
       "      <td>0.760331</td>\n",
       "      <td>A0a</td>\n",
       "      <td>A1b</td>\n",
       "    </tr>\n",
       "    <tr>\n",
       "      <th>2</th>\n",
       "      <td>2</td>\n",
       "      <td>C</td>\n",
       "      <td>3.459589</td>\n",
       "      <td>A0a</td>\n",
       "      <td>A1b</td>\n",
       "    </tr>\n",
       "    <tr>\n",
       "      <th>3</th>\n",
       "      <td>3</td>\n",
       "      <td>C</td>\n",
       "      <td>3.395353</td>\n",
       "      <td>A0a</td>\n",
       "      <td>A1c</td>\n",
       "    </tr>\n",
       "    <tr>\n",
       "      <th>4</th>\n",
       "      <td>4</td>\n",
       "      <td>A</td>\n",
       "      <td>1.959411</td>\n",
       "      <td>A0a</td>\n",
       "      <td>A1c</td>\n",
       "    </tr>\n",
       "  </tbody>\n",
       "</table>\n",
       "</div>"
      ],
      "text/plain": [
       "   id treatment    metric attr_0 attr_1\n",
       "0   0         C  2.093461    A0a    A1c\n",
       "1   1         B  0.760331    A0a    A1b\n",
       "2   2         C  3.459589    A0a    A1b\n",
       "3   3         C  3.395353    A0a    A1c\n",
       "4   4         A  1.959411    A0a    A1c"
      ]
     },
     "execution_count": 18,
     "metadata": {},
     "output_type": "execute_result"
    }
   ],
   "source": [
    "# generate some fake Gaussian-distributed trial data\n",
    "continuous_data = generate_fake_observations(\n",
    "    distribution='gaussian',  # binary data\n",
    "    n_treatments=3,\n",
    "    n_attributes=2,\n",
    "    n_observations=100\n",
    ")\n",
    "continuous_data.head()"
   ]
  },
  {
   "cell_type": "markdown",
   "metadata": {},
   "source": [
    "Here we use the `variable_type=\"continuous\"` argument to run the t-test"
   ]
  },
  {
   "cell_type": "code",
   "execution_count": 19,
   "metadata": {},
   "outputs": [
    {
     "data": {
      "text/html": [
       "<pre style=\"white-space:pre;overflow-x:auto;line-height:normal;font-family:Menlo,'DejaVu Sans Mono',consolas,'Courier New',monospace\"><span style=\"color: #008080; text-decoration-color: #008080; font-weight: bold\">Samples Comparison                  </span>\n",
       "┏━━━━━━━━━━━━━━━━┳━━━━━━━━┳━━━━━━━━┓\n",
       "┃<span style=\"color: #008080; text-decoration-color: #008080; font-style: italic\">                </span>┃<span style=\"color: #008080; text-decoration-color: #008080; font-style: italic\"> A      </span>┃<span style=\"color: #008080; text-decoration-color: #008080; font-style: italic\"> B      </span>┃\n",
       "┡━━━━━━━━━━━━━━━━╇━━━━━━━━╇━━━━━━━━┩\n",
       "│        Samples │ 30     │ 32     │\n",
       "│           Mean │ 0.2254 │ 0.9297 │\n",
       "│ Standard Error │ 0.1713 │ 0.1369 │\n",
       "│       Variance │ 0.8801 │ 0.5997 │\n",
       "│          Delta │        │ 0.7043 │\n",
       "└────────────────┴────────┴────────┘\n",
       "</pre>\n"
      ],
      "text/plain": [
       "\u001b[1;36mSamples Comparison                  \u001b[0m\n",
       "┏━━━━━━━━━━━━━━━━┳━━━━━━━━┳━━━━━━━━┓\n",
       "┃\u001b[3;36m \u001b[0m\u001b[3;36m              \u001b[0m\u001b[3;36m \u001b[0m┃\u001b[3;36m \u001b[0m\u001b[3;36mA     \u001b[0m\u001b[3;36m \u001b[0m┃\u001b[3;36m \u001b[0m\u001b[3;36mB     \u001b[0m\u001b[3;36m \u001b[0m┃\n",
       "┡━━━━━━━━━━━━━━━━╇━━━━━━━━╇━━━━━━━━┩\n",
       "│        Samples │ 30     │ 32     │\n",
       "│           Mean │ 0.2254 │ 0.9297 │\n",
       "│ Standard Error │ 0.1713 │ 0.1369 │\n",
       "│       Variance │ 0.8801 │ 0.5997 │\n",
       "│          Delta │        │ 0.7043 │\n",
       "└────────────────┴────────┴────────┘\n"
      ]
     },
     "metadata": {},
     "output_type": "display_data"
    },
    {
     "data": {
      "text/html": [
       "<pre style=\"white-space:pre;overflow-x:auto;line-height:normal;font-family:Menlo,'DejaVu Sans Mono',consolas,'Courier New',monospace\"><span style=\"color: #008080; text-decoration-color: #008080; font-weight: bold\">Means Delta Results                            </span>\n",
       "┌────────────────────┬────────────────────────┐\n",
       "│ Delta              │ 0.7043                 │\n",
       "│ Delta CI           │ (0.2578, 1.1508)       │\n",
       "│ Delta-relative     │ 3.1243 %               │\n",
       "│ Delta-relative CI  │ (114.3585, 510.5057) % │\n",
       "│ Delta CI %-tiles   │ (0.025, 0.975)         │\n",
       "│ Effect Size        │ 0.8214                 │\n",
       "│ alpha              │ 0.05                   │\n",
       "│ Power              │ 0.889                  │\n",
       "│ Variable Type      │ continuous             │\n",
       "│ Inference Method   │ frequentist            │\n",
       "│ Test statistic (t) │ 3.18                   │\n",
       "│ p-value            │ 0.0023                 │\n",
       "│ Degrees of Freedom │ 60                     │\n",
       "│ Hypothesis         │ B != A                 │\n",
       "│ Accept Hypothesis  │ True                   │\n",
       "└────────────────────┴────────────────────────┘\n",
       "</pre>\n"
      ],
      "text/plain": [
       "\u001b[1;36mMeans Delta Results                            \u001b[0m\n",
       "┌────────────────────┬────────────────────────┐\n",
       "│ Delta              │ 0.7043                 │\n",
       "│ Delta CI           │ (0.2578, 1.1508)       │\n",
       "│ Delta-relative     │ 3.1243 %               │\n",
       "│ Delta-relative CI  │ (114.3585, 510.5057) % │\n",
       "│ Delta CI %-tiles   │ (0.025, 0.975)         │\n",
       "│ Effect Size        │ 0.8214                 │\n",
       "│ alpha              │ 0.05                   │\n",
       "│ Power              │ 0.889                  │\n",
       "│ Variable Type      │ continuous             │\n",
       "│ Inference Method   │ frequentist            │\n",
       "│ Test statistic (t) │ 3.18                   │\n",
       "│ p-value            │ 0.0023                 │\n",
       "│ Degrees of Freedom │ 60                     │\n",
       "│ Hypothesis         │ B != A                 │\n",
       "│ Accept Hypothesis  │ True                   │\n",
       "└────────────────────┴────────────────────────┘\n"
      ]
     },
     "metadata": {},
     "output_type": "display_data"
    },
    {
     "data": {
      "text/html": [
       "<img src='data:image/png;base64,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' style='max-width:100%; margin: auto; display: block; '/>"
      ],
      "text/plain": [
       ":Layout\n",
       "   .Overlay.Sample_Distribution_and_Central_Tendency_Estimates :Overlay\n",
       "      .Curve.A  :Curve   [value]   (pdf)\n",
       "      .Curve.B  :Curve   [value]   (pdf)\n",
       "      .Curve.I  :Curve   [x]   (y)\n",
       "      .Points.A :Points   [x,y]\n",
       "      .Text.A   :Text   [x,y]\n",
       "      .Curve.II :Curve   [x]   (y)\n",
       "      .Points.B :Points   [x,y]\n",
       "      .Text.B   :Text   [x,y]\n",
       "   .Overlay.Means_Delta                                        :Overlay\n",
       "      .Curve.Delta_Distribution                :Curve   [value]   (pdf)\n",
       "      .Curve.A_95_percent_Confidence_Interval  :Curve   [x]   (y)\n",
       "      .Points.A_95_percent_Confidence_Interval :Points   [x,y]\n",
       "      .Text.A_95_percent_Confidence_Interval   :Text   [x,y]\n",
       "      .Spikes.Null_Delta                       :Spikes   [x]   (pdf)"
      ]
     },
     "execution_count": 19,
     "metadata": {
      "application/vnd.holoviews_exec.v0+json": {}
     },
     "output_type": "execute_result"
    }
   ],
   "source": [
    "# Initialize the Experiment\n",
    "continuous_experiment = Experiment(data=continuous_data)\n",
    "\n",
    "# Initialize the A/B test\n",
    "continuous_ab_test = HypothesisTest(\n",
    "    metric=\"metric\",\n",
    "    treatment=\"treatment\",\n",
    "    control=\"A\", variation=\"B\",\n",
    "    hypothesis=\"unequal\",\n",
    "    variable_type=\"continuous\"\n",
    ")\n",
    "\n",
    "# Run the test with an alpha of 0.05\n",
    "continuous_ab_test_results = continuous_experiment.run_test(continuous_ab_test, alpha=.05)\n",
    "\n",
    "# Check the test results decision\n",
    "assert continuous_ab_test_results.accept_hypothesis\n",
    "continuous_ab_test_results.display()\n",
    "continuous_ab_test_results.visualize()"
   ]
  },
  {
   "cell_type": "markdown",
   "metadata": {},
   "source": [
    "#### Bayesian models for continuous variables\n",
    "The Bayesian analog to the t-test is called the \"Hierarchical Gaussian\" and involves modeling the observations as a generative process where each point is sampled from a Gaussian distribution with mean $\\mu$ and variance $\\sigma^2$. The model is \"hierarchical\" because it also assumes there is a distribution over both $\\mu$ and $\\sigma^2$ as well, namely $\\mu \\sim \\text{Normal}(\\bar{x}, \\text{std(x)})$ and $\\sigma \\sim \\text{Uniform}(0, \\sigma_{max})$, where $\\bar{x}$ and  $\\text{std(x)}$ are the empirical mean and standard deviation of the observations, and $\\sigma_{max}$ is a user-specified hyperparameter.\n",
    "\n",
    "\n",
    "That all sounds pretty complicated, right? Well, in ✨spearmint✨ it's easy to run inference using this model. We simply update the `inference_method`:"
   ]
  },
  {
   "cell_type": "code",
   "execution_count": 20,
   "metadata": {},
   "outputs": [
    {
     "data": {
      "text/html": [
       "<pre style=\"white-space:pre;overflow-x:auto;line-height:normal;font-family:Menlo,'DejaVu Sans Mono',consolas,'Courier New',monospace\"><span style=\"color: #008080; text-decoration-color: #008080; font-weight: bold\">Samples Comparison                  </span>\n",
       "┏━━━━━━━━━━━━━━━━┳━━━━━━━━┳━━━━━━━━┓\n",
       "┃<span style=\"color: #008080; text-decoration-color: #008080; font-style: italic\">                </span>┃<span style=\"color: #008080; text-decoration-color: #008080; font-style: italic\"> A      </span>┃<span style=\"color: #008080; text-decoration-color: #008080; font-style: italic\"> B      </span>┃\n",
       "┡━━━━━━━━━━━━━━━━╇━━━━━━━━╇━━━━━━━━┩\n",
       "│        Samples │ 30     │ 32     │\n",
       "│           Mean │ 0.2254 │ 0.9297 │\n",
       "│ Standard Error │ 0.1713 │ 0.1369 │\n",
       "│       Variance │ 0.8801 │ 0.5997 │\n",
       "│          Delta │        │ 0.7043 │\n",
       "└────────────────┴────────┴────────┘\n",
       "</pre>\n"
      ],
      "text/plain": [
       "\u001b[1;36mSamples Comparison                  \u001b[0m\n",
       "┏━━━━━━━━━━━━━━━━┳━━━━━━━━┳━━━━━━━━┓\n",
       "┃\u001b[3;36m \u001b[0m\u001b[3;36m              \u001b[0m\u001b[3;36m \u001b[0m┃\u001b[3;36m \u001b[0m\u001b[3;36mA     \u001b[0m\u001b[3;36m \u001b[0m┃\u001b[3;36m \u001b[0m\u001b[3;36mB     \u001b[0m\u001b[3;36m \u001b[0m┃\n",
       "┡━━━━━━━━━━━━━━━━╇━━━━━━━━╇━━━━━━━━┩\n",
       "│        Samples │ 30     │ 32     │\n",
       "│           Mean │ 0.2254 │ 0.9297 │\n",
       "│ Standard Error │ 0.1713 │ 0.1369 │\n",
       "│       Variance │ 0.8801 │ 0.5997 │\n",
       "│          Delta │        │ 0.7043 │\n",
       "└────────────────┴────────┴────────┘\n"
      ]
     },
     "metadata": {},
     "output_type": "display_data"
    },
    {
     "data": {
      "text/html": [
       "<pre style=\"white-space:pre;overflow-x:auto;line-height:normal;font-family:Menlo,'DejaVu Sans Mono',consolas,'Courier New',monospace\"><span style=\"color: #008080; text-decoration-color: #008080; font-weight: bold\">Bayesian Delta Results                     </span>\n",
       "┌────────────────────┬────────────────────┐\n",
       "│ Delta              │ 0.7007             │\n",
       "│ Delta HDI          │ (0.2724, 1.123)    │\n",
       "│ Delta Relative     │ 307.55 %           │\n",
       "│ Delta-relative HDI │ (119.56, 492.88) % │\n",
       "│ Effect Size        │ 3.3019             │\n",
       "│ Effect Size HDI    │ (1.2836, 5.2916)   │\n",
       "│ HDI %-tiles        │ (0.025, 0.975)     │\n",
       "│ Credible Mass      │ 0.95               │\n",
       "│ Variable Type      │ continuous         │\n",
       "│ Inference Method   │ Bayesian           │\n",
       "│ Model Name         │ gaussian           │\n",
       "│ Estimation Method  │ analytic           │\n",
       "│ p(B &gt; A)           │ 1.0                │\n",
       "│ Hypothesis         │ B != A             │\n",
       "│ Accept Hypothesis  │ True               │\n",
       "└────────────────────┴────────────────────┘\n",
       "</pre>\n"
      ],
      "text/plain": [
       "\u001b[1;36mBayesian Delta Results                     \u001b[0m\n",
       "┌────────────────────┬────────────────────┐\n",
       "│ Delta              │ 0.7007             │\n",
       "│ Delta HDI          │ (0.2724, 1.123)    │\n",
       "│ Delta Relative     │ 307.55 %           │\n",
       "│ Delta-relative HDI │ (119.56, 492.88) % │\n",
       "│ Effect Size        │ 3.3019             │\n",
       "│ Effect Size HDI    │ (1.2836, 5.2916)   │\n",
       "│ HDI %-tiles        │ (0.025, 0.975)     │\n",
       "│ Credible Mass      │ 0.95               │\n",
       "│ Variable Type      │ continuous         │\n",
       "│ Inference Method   │ Bayesian           │\n",
       "│ Model Name         │ gaussian           │\n",
       "│ Estimation Method  │ analytic           │\n",
       "│ p(B > A)           │ 1.0                │\n",
       "│ Hypothesis         │ B != A             │\n",
       "│ Accept Hypothesis  │ True               │\n",
       "└────────────────────┴────────────────────┘\n"
      ]
     },
     "metadata": {},
     "output_type": "display_data"
    },
    {
     "data": {
      "text/html": [
       "<img src='data:image/png;base64,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' style='max-width:100%; margin: auto; display: block; '/>"
      ],
      "text/plain": [
       ":Layout\n",
       "   .Overlay.Posterior_mu_Comparison :Overlay\n",
       "      .Curve.A  :Curve   [value]   (pdf)\n",
       "      .Curve.B  :Curve   [value]   (pdf)\n",
       "      .Curve.I  :Curve   [x]   (y)\n",
       "      .Points.A :Points   [x,y]\n",
       "      .Text.A   :Text   [x,y]\n",
       "      .Curve.II :Curve   [x]   (y)\n",
       "      .Points.B :Points   [x,y]\n",
       "      .Text.B   :Text   [x,y]\n",
       "   .Overlay.Posterior_mu_Delta      :Overlay\n",
       "      .Curve.Delta_Distribution            :Curve   [value]   (pdf)\n",
       "      .Curve.A_0_full_stop_95_percent_HDI  :Curve   [x]   (y)\n",
       "      .Points.A_0_full_stop_95_percent_HDI :Points   [x,y]\n",
       "      .Text.A_0_full_stop_95_percent_HDI   :Text   [x,y]\n",
       "      .Spikes.Null_Delta                   :Spikes   [x]   (pdf)"
      ]
     },
     "execution_count": 20,
     "metadata": {
      "application/vnd.holoviews_exec.v0+json": {}
     },
     "output_type": "execute_result"
    }
   ],
   "source": [
    "# copying parameters from original AB test -- note we must update the `variable_type`, as we're using \n",
    "bayesian_continuous_ab_test = ab_test.copy(inference_method='bayesian', variable_type='continuous')\n",
    "\n",
    "# Run the test with an alpha of 0.5; get back a InferenceResults object\n",
    "bayesian_continuous_ab_test_results = continuous_experiment.run_test(bayesian_continuous_ab_test, alpha=.05)\n",
    "\n",
    "# Check the test results decision\n",
    "assert bayesian_continuous_ab_test_results.accept_hypothesis\n",
    "bayesian_continuous_ab_test_results.display()\n",
    "bayesian_continuous_ab_test_results.visualize()"
   ]
  },
  {
   "cell_type": "markdown",
   "metadata": {},
   "source": [
    "### Counts / Rates variables\n",
    "✨spearmint✨ also supports analysis of counts variables such as clicks or page views per standard unit of time. These discrete, countable variables often modeled as a Poisson distribution. In the Frequentist setting, rather than testing if the _difference_ between the two groups' expected values is greater than zero, we instead model whether the _ratio_ of their expected values different from one. The reasoning being that if the two treatments have equal expected number of events per the same unit of time (and thus the same _rate_) then their ratio will be close to one (Accordingly, in ✨spearmint✨, this underlying comparison model is called a \"Rates Ratio\").\n",
    "\n",
    "Below we'll run an AB test on syntetic data drawn from a Poisson distribution, and test to see if the two distributions are statistically different."
   ]
  },
  {
   "cell_type": "code",
   "execution_count": 21,
   "metadata": {},
   "outputs": [
    {
     "data": {
      "text/html": [
       "<div>\n",
       "<style scoped>\n",
       "    .dataframe tbody tr th:only-of-type {\n",
       "        vertical-align: middle;\n",
       "    }\n",
       "\n",
       "    .dataframe tbody tr th {\n",
       "        vertical-align: top;\n",
       "    }\n",
       "\n",
       "    .dataframe thead th {\n",
       "        text-align: right;\n",
       "    }\n",
       "</style>\n",
       "<table border=\"1\" class=\"dataframe\">\n",
       "  <thead>\n",
       "    <tr style=\"text-align: right;\">\n",
       "      <th></th>\n",
       "      <th>id</th>\n",
       "      <th>treatment</th>\n",
       "      <th>metric</th>\n",
       "      <th>attr_0</th>\n",
       "      <th>attr_1</th>\n",
       "    </tr>\n",
       "  </thead>\n",
       "  <tbody>\n",
       "    <tr>\n",
       "      <th>0</th>\n",
       "      <td>0</td>\n",
       "      <td>C</td>\n",
       "      <td>8</td>\n",
       "      <td>A0a</td>\n",
       "      <td>A1a</td>\n",
       "    </tr>\n",
       "    <tr>\n",
       "      <th>1</th>\n",
       "      <td>1</td>\n",
       "      <td>B</td>\n",
       "      <td>1</td>\n",
       "      <td>A0a</td>\n",
       "      <td>A1a</td>\n",
       "    </tr>\n",
       "    <tr>\n",
       "      <th>2</th>\n",
       "      <td>2</td>\n",
       "      <td>C</td>\n",
       "      <td>1</td>\n",
       "      <td>A0a</td>\n",
       "      <td>A1b</td>\n",
       "    </tr>\n",
       "    <tr>\n",
       "      <th>3</th>\n",
       "      <td>3</td>\n",
       "      <td>C</td>\n",
       "      <td>5</td>\n",
       "      <td>A0a</td>\n",
       "      <td>A1a</td>\n",
       "    </tr>\n",
       "    <tr>\n",
       "      <th>4</th>\n",
       "      <td>4</td>\n",
       "      <td>A</td>\n",
       "      <td>3</td>\n",
       "      <td>A0a</td>\n",
       "      <td>A1b</td>\n",
       "    </tr>\n",
       "  </tbody>\n",
       "</table>\n",
       "</div>"
      ],
      "text/plain": [
       "   id treatment  metric attr_0 attr_1\n",
       "0   0         C       8    A0a    A1a\n",
       "1   1         B       1    A0a    A1a\n",
       "2   2         C       1    A0a    A1b\n",
       "3   3         C       5    A0a    A1a\n",
       "4   4         A       3    A0a    A1b"
      ]
     },
     "execution_count": 21,
     "metadata": {},
     "output_type": "execute_result"
    }
   ],
   "source": [
    "# generate some fake Gaussian-distributed trial data\n",
    "counts_data = generate_fake_observations(\n",
    "    distribution='poisson',  # binary data\n",
    "    n_treatments=3,\n",
    "    n_observations=1000\n",
    ")\n",
    "counts_data.head()"
   ]
  },
  {
   "cell_type": "code",
   "execution_count": 22,
   "metadata": {},
   "outputs": [
    {
     "data": {
      "text/html": [
       "<pre style=\"white-space:pre;overflow-x:auto;line-height:normal;font-family:Menlo,'DejaVu Sans Mono',consolas,'Courier New',monospace\"><span style=\"color: #008080; text-decoration-color: #008080; font-weight: bold\">Samples Comparison                  </span>\n",
       "┏━━━━━━━━━━━━━━━━┳━━━━━━━━┳━━━━━━━━┓\n",
       "┃<span style=\"color: #008080; text-decoration-color: #008080; font-style: italic\">                </span>┃<span style=\"color: #008080; text-decoration-color: #008080; font-style: italic\"> B      </span>┃<span style=\"color: #008080; text-decoration-color: #008080; font-style: italic\"> C      </span>┃\n",
       "┡━━━━━━━━━━━━━━━━╇━━━━━━━━╇━━━━━━━━┩\n",
       "│        Samples │ 345    │ 337    │\n",
       "│           Mean │ 1.9768 │ 3.0119 │\n",
       "│ Standard Error │ 0.0726 │ 0.0968 │\n",
       "│       Variance │ 1.8198 │ 3.1571 │\n",
       "│          Delta │        │ 1.0351 │\n",
       "└────────────────┴────────┴────────┘\n",
       "</pre>\n"
      ],
      "text/plain": [
       "\u001b[1;36mSamples Comparison                  \u001b[0m\n",
       "┏━━━━━━━━━━━━━━━━┳━━━━━━━━┳━━━━━━━━┓\n",
       "┃\u001b[3;36m \u001b[0m\u001b[3;36m              \u001b[0m\u001b[3;36m \u001b[0m┃\u001b[3;36m \u001b[0m\u001b[3;36mB     \u001b[0m\u001b[3;36m \u001b[0m┃\u001b[3;36m \u001b[0m\u001b[3;36mC     \u001b[0m\u001b[3;36m \u001b[0m┃\n",
       "┡━━━━━━━━━━━━━━━━╇━━━━━━━━╇━━━━━━━━┩\n",
       "│        Samples │ 345    │ 337    │\n",
       "│           Mean │ 1.9768 │ 3.0119 │\n",
       "│ Standard Error │ 0.0726 │ 0.0968 │\n",
       "│       Variance │ 1.8198 │ 3.1571 │\n",
       "│          Delta │        │ 1.0351 │\n",
       "└────────────────┴────────┴────────┘\n"
      ]
     },
     "metadata": {},
     "output_type": "display_data"
    },
    {
     "data": {
      "text/html": [
       "<pre style=\"white-space:pre;overflow-x:auto;line-height:normal;font-family:Menlo,'DejaVu Sans Mono',consolas,'Courier New',monospace\"><span style=\"color: #008080; text-decoration-color: #008080; font-weight: bold\">Rates Ratio Results                          </span>\n",
       "┌────────────────────┬──────────────────────┐\n",
       "│ Delta              │ 1.5236               │\n",
       "│ Delta CI           │ (1.3826, 1.6787)     │\n",
       "│ Delta-relative     │ 1.5236 %             │\n",
       "│ Delta-relative CI  │ (69.9431, 84.9217) % │\n",
       "│ Delta CI %-tiles   │ (0.025, 0.975)       │\n",
       "│ Effect Size        │ 0.3121               │\n",
       "│ alpha              │ 0.05                 │\n",
       "│ Power              │ 1.0                  │\n",
       "│ Variable Type      │ counts               │\n",
       "│ Inference Method   │ frequentist          │\n",
       "│ Test statistic (W) │ 8.6                  │\n",
       "│ p-value            │ 0.0                  │\n",
       "│ Hypothesis         │ C != B               │\n",
       "│ Accept Hypothesis  │ True                 │\n",
       "└────────────────────┴──────────────────────┘\n",
       "</pre>\n"
      ],
      "text/plain": [
       "\u001b[1;36mRates Ratio Results                          \u001b[0m\n",
       "┌────────────────────┬──────────────────────┐\n",
       "│ Delta              │ 1.5236               │\n",
       "│ Delta CI           │ (1.3826, 1.6787)     │\n",
       "│ Delta-relative     │ 1.5236 %             │\n",
       "│ Delta-relative CI  │ (69.9431, 84.9217) % │\n",
       "│ Delta CI %-tiles   │ (0.025, 0.975)       │\n",
       "│ Effect Size        │ 0.3121               │\n",
       "│ alpha              │ 0.05                 │\n",
       "│ Power              │ 1.0                  │\n",
       "│ Variable Type      │ counts               │\n",
       "│ Inference Method   │ frequentist          │\n",
       "│ Test statistic (W) │ 8.6                  │\n",
       "│ p-value            │ 0.0                  │\n",
       "│ Hypothesis         │ C != B               │\n",
       "│ Accept Hypothesis  │ True                 │\n",
       "└────────────────────┴──────────────────────┘\n"
      ]
     },
     "metadata": {},
     "output_type": "display_data"
    },
    {
     "data": {
      "text/html": [
       "<img src='data:image/png;base64,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' style='max-width:100%; margin: auto; display: block; '/>"
      ],
      "text/plain": [
       ":Layout\n",
       "   .Overlay.Sample_Distribution_and_Central_Tendency_Estimates :Overlay\n",
       "      .Curve.B  :Curve   [value]   (pdf)\n",
       "      .Curve.C  :Curve   [value]   (pdf)\n",
       "      .Curve.I  :Curve   [x]   (y)\n",
       "      .Points.B :Points   [x,y]\n",
       "      .Text.B   :Text   [x,y]\n",
       "      .Curve.II :Curve   [x]   (y)\n",
       "      .Points.C :Points   [x,y]\n",
       "      .Text.C   :Text   [x,y]\n",
       "   .Overlay.Rates_Ratio                                        :Overlay\n",
       "      .Curve.Delta_Distribution                :Curve   [value]   (pdf)\n",
       "      .Curve.A_95_percent_Confidence_Interval  :Curve   [x]   (y)\n",
       "      .Points.A_95_percent_Confidence_Interval :Points   [x,y]\n",
       "      .Text.A_95_percent_Confidence_Interval   :Text   [x,y]\n",
       "      .Spikes.Null_Ratio                       :Spikes   [x]   (pdf)"
      ]
     },
     "execution_count": 22,
     "metadata": {
      "application/vnd.holoviews_exec.v0+json": {}
     },
     "output_type": "execute_result"
    }
   ],
   "source": [
    "# Initialize the A/B test\n",
    "counts_experiment = Experiment(data=counts_data)\n",
    "\n",
    "counts_ab_test = HypothesisTest(\n",
    "    metric=\"metric\",\n",
    "    treatment=\"treatment\",\n",
    "    control=\"B\", variation=\"C\",\n",
    "    hypothesis=\"unequal\",\n",
    "    # variable_type='counts'  # Note: spearmint will infer variable type from data\n",
    ")\n",
    "\n",
    "# Run the test with an alpha of 0.5; get back a InferenceResults object\n",
    "poisson_ab_test_results = counts_experiment.run_test(counts_ab_test, alpha=.05)\n",
    "\n",
    "# Check the test results decision\n",
    "poisson_ab_test_results.display()\n",
    "poisson_ab_test_results.visualize()"
   ]
  },
  {
   "cell_type": "markdown",
   "metadata": {},
   "source": [
    "Here we can see that the ratio of the two rate parameters ranges between 1.38 and 1.68 (95% confidence), with no overlap with the value 1. This indicates that the variation `\"C\"`s location parameter is approximately 1.5x that of the control `\"B\"`, which makes sense, given the mean estimates for the two treatments are approximately 3 and 2, respectively."
   ]
  },
  {
   "cell_type": "markdown",
   "metadata": {},
   "source": [
    "#### Bayesian models for count variables\n",
    "The Bayesian analog to the rates ratio test is what's called the [Gamma-Poisson model](http://www.math.wm.edu/~leemis/chart/UDR/PDFs/Gammapoisson.pdf). In this model the observations are assumed to be generated from a Poisson distribution with location parameter $\\lambda$. Similar to the \"Hierarchical Gaussian\" Bayesian, there is a prior distribution associated with $\\lambda$ (that's what makes it Bayesian!). Namely $\\lambda \\sim \\text{Gamma}(\\alpha, \\beta)$. Here the hyperparameters $\\alpha$ and $\\beta$ can be set by the experimenter (as `bayesian_model_params=dict(prior_alpha=..., prior_beta=...)`  to encode any intuitions or domain knowledge about the problem.\n",
    "\n",
    "Though this sounds complicated, implementing a hypothesis test using an inference method based off of the Gamma-Poisson model is not:"
   ]
  },
  {
   "cell_type": "code",
   "execution_count": 23,
   "metadata": {},
   "outputs": [
    {
     "data": {
      "text/html": [
       "<pre style=\"white-space:pre;overflow-x:auto;line-height:normal;font-family:Menlo,'DejaVu Sans Mono',consolas,'Courier New',monospace\"><span style=\"color: #008080; text-decoration-color: #008080; font-weight: bold\">Samples Comparison                  </span>\n",
       "┏━━━━━━━━━━━━━━━━┳━━━━━━━━┳━━━━━━━━┓\n",
       "┃<span style=\"color: #008080; text-decoration-color: #008080; font-style: italic\">                </span>┃<span style=\"color: #008080; text-decoration-color: #008080; font-style: italic\"> B      </span>┃<span style=\"color: #008080; text-decoration-color: #008080; font-style: italic\"> C      </span>┃\n",
       "┡━━━━━━━━━━━━━━━━╇━━━━━━━━╇━━━━━━━━┩\n",
       "│        Samples │ 345    │ 337    │\n",
       "│           Mean │ 1.9768 │ 3.0119 │\n",
       "│ Standard Error │ 0.0726 │ 0.0968 │\n",
       "│       Variance │ 1.8198 │ 3.1571 │\n",
       "│          Delta │        │ 1.0351 │\n",
       "└────────────────┴────────┴────────┘\n",
       "</pre>\n"
      ],
      "text/plain": [
       "\u001b[1;36mSamples Comparison                  \u001b[0m\n",
       "┏━━━━━━━━━━━━━━━━┳━━━━━━━━┳━━━━━━━━┓\n",
       "┃\u001b[3;36m \u001b[0m\u001b[3;36m              \u001b[0m\u001b[3;36m \u001b[0m┃\u001b[3;36m \u001b[0m\u001b[3;36mB     \u001b[0m\u001b[3;36m \u001b[0m┃\u001b[3;36m \u001b[0m\u001b[3;36mC     \u001b[0m\u001b[3;36m \u001b[0m┃\n",
       "┡━━━━━━━━━━━━━━━━╇━━━━━━━━╇━━━━━━━━┩\n",
       "│        Samples │ 345    │ 337    │\n",
       "│           Mean │ 1.9768 │ 3.0119 │\n",
       "│ Standard Error │ 0.0726 │ 0.0968 │\n",
       "│       Variance │ 1.8198 │ 3.1571 │\n",
       "│          Delta │        │ 1.0351 │\n",
       "└────────────────┴────────┴────────┘\n"
      ]
     },
     "metadata": {},
     "output_type": "display_data"
    },
    {
     "data": {
      "text/html": [
       "<pre style=\"white-space:pre;overflow-x:auto;line-height:normal;font-family:Menlo,'DejaVu Sans Mono',consolas,'Courier New',monospace\"><span style=\"color: #008080; text-decoration-color: #008080; font-weight: bold\">Bayesian Delta Results                   </span>\n",
       "┌────────────────────┬──────────────────┐\n",
       "│ Delta              │ 1.031            │\n",
       "│ Delta HDI          │ (0.7842, 1.2747) │\n",
       "│ Delta Relative     │ 52.18 %          │\n",
       "│ Delta-relative HDI │ (39.69, 64.51) % │\n",
       "│ Effect Size        │ 8.3781           │\n",
       "│ Effect Size HDI    │ (6.3722, 10.358) │\n",
       "│ HDI %-tiles        │ (0.025, 0.975)   │\n",
       "│ Credible Mass      │ 0.95             │\n",
       "│ Variable Type      │ counts           │\n",
       "│ Inference Method   │ Bayesian         │\n",
       "│ Model Name         │ poisson          │\n",
       "│ Estimation Method  │ analytic         │\n",
       "│ p(C &gt; B)           │ 1.0              │\n",
       "│ Hypothesis         │ C != B           │\n",
       "│ Accept Hypothesis  │ True             │\n",
       "└────────────────────┴──────────────────┘\n",
       "</pre>\n"
      ],
      "text/plain": [
       "\u001b[1;36mBayesian Delta Results                   \u001b[0m\n",
       "┌────────────────────┬──────────────────┐\n",
       "│ Delta              │ 1.031            │\n",
       "│ Delta HDI          │ (0.7842, 1.2747) │\n",
       "│ Delta Relative     │ 52.18 %          │\n",
       "│ Delta-relative HDI │ (39.69, 64.51) % │\n",
       "│ Effect Size        │ 8.3781           │\n",
       "│ Effect Size HDI    │ (6.3722, 10.358) │\n",
       "│ HDI %-tiles        │ (0.025, 0.975)   │\n",
       "│ Credible Mass      │ 0.95             │\n",
       "│ Variable Type      │ counts           │\n",
       "│ Inference Method   │ Bayesian         │\n",
       "│ Model Name         │ poisson          │\n",
       "│ Estimation Method  │ analytic         │\n",
       "│ p(C > B)           │ 1.0              │\n",
       "│ Hypothesis         │ C != B           │\n",
       "│ Accept Hypothesis  │ True             │\n",
       "└────────────────────┴──────────────────┘\n"
      ]
     },
     "metadata": {},
     "output_type": "display_data"
    },
    {
     "data": {
      "text/html": [
       "<img src='data:image/png;base64,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' style='max-width:100%; margin: auto; display: block; '/>"
      ],
      "text/plain": [
       ":Layout\n",
       "   .Overlay.Posterior_lambda_Comparison :Overlay\n",
       "      .Curve.B  :Curve   [value]   (pdf)\n",
       "      .Curve.C  :Curve   [value]   (pdf)\n",
       "      .Curve.I  :Curve   [x]   (y)\n",
       "      .Points.B :Points   [x,y]\n",
       "      .Text.B   :Text   [x,y]\n",
       "      .Curve.II :Curve   [x]   (y)\n",
       "      .Points.C :Points   [x,y]\n",
       "      .Text.C   :Text   [x,y]\n",
       "   .Overlay.Posterior_lambda_Delta      :Overlay\n",
       "      .Curve.Delta_Distribution            :Curve   [value]   (pdf)\n",
       "      .Curve.A_0_full_stop_95_percent_HDI  :Curve   [x]   (y)\n",
       "      .Points.A_0_full_stop_95_percent_HDI :Points   [x,y]\n",
       "      .Text.A_0_full_stop_95_percent_HDI   :Text   [x,y]\n",
       "      .Spikes.Null_Delta                   :Spikes   [x]   (pdf)"
      ]
     },
     "execution_count": 23,
     "metadata": {
      "application/vnd.holoviews_exec.v0+json": {}
     },
     "output_type": "execute_result"
    }
   ],
   "source": [
    "bayesian_counts_ab_test = counts_ab_test.copy(inference_method='bayesian')\n",
    "\n",
    "bayesian_counts_ab_test_results = counts_experiment.run_test(bayesian_counts_ab_test)\n",
    "\n",
    "bayesian_counts_ab_test_results.display()\n",
    "bayesian_counts_ab_test_results.visualize()"
   ]
  },
  {
   "cell_type": "markdown",
   "metadata": {},
   "source": [
    "Note here that samples drawn from the Bayesian model provide similar central tendency interval estimates to those calculated by the analytical rates ratio model. However, unlike the rates ratio model which looks at the ratio of central tendencies, the Bayesian AB tests provides _deltas_ or differences amongst the _Poisson rate parameter_ samples drawn from the model. Thus differences in $\\lambda$ samples that are far away from zero (in this case the diffence is--and should be--approximately equal to one) indicate significant difference between the treatments when interpreting the Bayesian counts AB test."
   ]
  },
  {
   "cell_type": "markdown",
   "metadata": {},
   "source": [
    "## Conversion rate variables\n",
    "If you are testing conversion rate data directly--i.e. floats in the range (0, 1), rather than binary values--you can use either the `\"binary\"` or `\"continuous\"` `variable_types`. This is because conversion rates are essentially means, and the [Central Limit Theorem](https://en.wikipedia.org/wiki/Central_limit_theorem) allows the scientist to model those conversion rates as Gaussian distributions. Additionally all the models for `\"binary\"` data should support conversion rates as well.\n",
    "\n",
    "### Example\n",
    "\n",
    "Below we model conversion rates using the `\"bayesian\"` `inference_method` for `\"continuous\"` variables."
   ]
  },
  {
   "cell_type": "code",
   "execution_count": 24,
   "metadata": {},
   "outputs": [
    {
     "data": {
      "text/html": [
       "<pre style=\"white-space:pre;overflow-x:auto;line-height:normal;font-family:Menlo,'DejaVu Sans Mono',consolas,'Courier New',monospace\"><span style=\"color: #008080; text-decoration-color: #008080; font-weight: bold\">Samples Comparison                  </span>\n",
       "┏━━━━━━━━━━━━━━━━┳━━━━━━━━┳━━━━━━━━┓\n",
       "┃<span style=\"color: #008080; text-decoration-color: #008080; font-style: italic\">                </span>┃<span style=\"color: #008080; text-decoration-color: #008080; font-style: italic\"> A      </span>┃<span style=\"color: #008080; text-decoration-color: #008080; font-style: italic\"> B      </span>┃\n",
       "┡━━━━━━━━━━━━━━━━╇━━━━━━━━╇━━━━━━━━┩\n",
       "│        Samples │ 318    │ 345    │\n",
       "│           Mean │ 0.1143 │ 0.2196 │\n",
       "│ Standard Error │ 0.0064 │ 0.0081 │\n",
       "│       Variance │ 0.0129 │ 0.0225 │\n",
       "│          Delta │        │ 0.1054 │\n",
       "└────────────────┴────────┴────────┘\n",
       "</pre>\n"
      ],
      "text/plain": [
       "\u001b[1;36mSamples Comparison                  \u001b[0m\n",
       "┏━━━━━━━━━━━━━━━━┳━━━━━━━━┳━━━━━━━━┓\n",
       "┃\u001b[3;36m \u001b[0m\u001b[3;36m              \u001b[0m\u001b[3;36m \u001b[0m┃\u001b[3;36m \u001b[0m\u001b[3;36mA     \u001b[0m\u001b[3;36m \u001b[0m┃\u001b[3;36m \u001b[0m\u001b[3;36mB     \u001b[0m\u001b[3;36m \u001b[0m┃\n",
       "┡━━━━━━━━━━━━━━━━╇━━━━━━━━╇━━━━━━━━┩\n",
       "│        Samples │ 318    │ 345    │\n",
       "│           Mean │ 0.1143 │ 0.2196 │\n",
       "│ Standard Error │ 0.0064 │ 0.0081 │\n",
       "│       Variance │ 0.0129 │ 0.0225 │\n",
       "│          Delta │        │ 0.1054 │\n",
       "└────────────────┴────────┴────────┘\n"
      ]
     },
     "metadata": {},
     "output_type": "display_data"
    },
    {
     "data": {
      "text/html": [
       "<pre style=\"white-space:pre;overflow-x:auto;line-height:normal;font-family:Menlo,'DejaVu Sans Mono',consolas,'Courier New',monospace\"><span style=\"color: #008080; text-decoration-color: #008080; font-weight: bold\">Bayesian Delta Results                    </span>\n",
       "┌────────────────────┬───────────────────┐\n",
       "│ Delta              │ 0.1057            │\n",
       "│ Delta HDI          │ (0.0864, 0.1259)  │\n",
       "│ Delta Relative     │ 92.4 %            │\n",
       "│ Delta-relative HDI │ (75.5, 110.05) %  │\n",
       "│ Effect Size        │ 10.3674           │\n",
       "│ Effect Size HDI    │ (8.4712, 12.3481) │\n",
       "│ HDI %-tiles        │ (0.025, 0.975)    │\n",
       "│ Credible Mass      │ 0.95              │\n",
       "│ Variable Type      │ continuous        │\n",
       "│ Inference Method   │ Bayesian          │\n",
       "│ Model Name         │ gaussian          │\n",
       "│ Estimation Method  │ analytic          │\n",
       "│ p(B &gt; A)           │ 1.0               │\n",
       "│ Hypothesis         │ B != A            │\n",
       "│ Accept Hypothesis  │ True              │\n",
       "└────────────────────┴───────────────────┘\n",
       "</pre>\n"
      ],
      "text/plain": [
       "\u001b[1;36mBayesian Delta Results                    \u001b[0m\n",
       "┌────────────────────┬───────────────────┐\n",
       "│ Delta              │ 0.1057            │\n",
       "│ Delta HDI          │ (0.0864, 0.1259)  │\n",
       "│ Delta Relative     │ 92.4 %            │\n",
       "│ Delta-relative HDI │ (75.5, 110.05) %  │\n",
       "│ Effect Size        │ 10.3674           │\n",
       "│ Effect Size HDI    │ (8.4712, 12.3481) │\n",
       "│ HDI %-tiles        │ (0.025, 0.975)    │\n",
       "│ Credible Mass      │ 0.95              │\n",
       "│ Variable Type      │ continuous        │\n",
       "│ Inference Method   │ Bayesian          │\n",
       "│ Model Name         │ gaussian          │\n",
       "│ Estimation Method  │ analytic          │\n",
       "│ p(B > A)           │ 1.0               │\n",
       "│ Hypothesis         │ B != A            │\n",
       "│ Accept Hypothesis  │ True              │\n",
       "└────────────────────┴───────────────────┘\n"
      ]
     },
     "metadata": {},
     "output_type": "display_data"
    },
    {
     "data": {
      "text/html": [
       "<img src='data:image/png;base64,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' style='max-width:100%; margin: auto; display: block; '/>"
      ],
      "text/plain": [
       ":Layout\n",
       "   .Overlay.Posterior_mu_Comparison :Overlay\n",
       "      .Curve.A  :Curve   [value]   (pdf)\n",
       "      .Curve.B  :Curve   [value]   (pdf)\n",
       "      .Curve.I  :Curve   [x]   (y)\n",
       "      .Points.A :Points   [x,y]\n",
       "      .Text.A   :Text   [x,y]\n",
       "      .Curve.II :Curve   [x]   (y)\n",
       "      .Points.B :Points   [x,y]\n",
       "      .Text.B   :Text   [x,y]\n",
       "   .Overlay.Posterior_mu_Delta      :Overlay\n",
       "      .Curve.Delta_Distribution            :Curve   [value]   (pdf)\n",
       "      .Curve.A_0_full_stop_95_percent_HDI  :Curve   [x]   (y)\n",
       "      .Points.A_0_full_stop_95_percent_HDI :Points   [x,y]\n",
       "      .Text.A_0_full_stop_95_percent_HDI   :Text   [x,y]\n",
       "      .Spikes.Null_Delta                   :Spikes   [x]   (pdf)"
      ]
     },
     "execution_count": 24,
     "metadata": {
      "application/vnd.holoviews_exec.v0+json": {}
     },
     "output_type": "execute_result"
    }
   ],
   "source": [
    "conversion_rate_data = counts_data.copy()\n",
    "\n",
    "# convert to proportions\n",
    "conversion_rate_data.metric = conversion_rate_data.metric / conversion_rate_data.metric.max()\n",
    "\n",
    "conversion_rate_experiment = Experiment(data=conversion_rate_data)\n",
    "conversion_rate_test = HypothesisTest(\n",
    "    metric=\"metric\",\n",
    "    treatment=\"treatment\",\n",
    "    control=\"A\", variation=\"B\",\n",
    "    hypothesis=\"unequal\",\n",
    "    variable_type='continuous',\n",
    "    inference_method='bayesian'\n",
    ")\n",
    "\n",
    "conversion_rate_test_results = conversion_rate_experiment.run_test(conversion_rate_test)\n",
    "conversion_rate_test_results.display()\n",
    "conversion_rate_test_results.visualize()\n"
   ]
  },
  {
   "cell_type": "markdown",
   "metadata": {},
   "source": [
    "## Configuring `spearmint`\n",
    "Upon the first import of the `spearmint` creates a `spearmint.cfg` file in your `SPEARMINT_HOME` directory. This directory can be set with an environment variable\n",
    "\n",
    "```bash\n",
    "export SPEARMINT_HOME=PATH/TO/SPEARMINT\n",
    "```\n",
    "\n",
    "otherwise `spearmint` will use `/USER_HOME/.spearmint/` as the location of the configuration file. The `spearmint.cfg` file allows the scientist to configure many global settings and default behaviors."
   ]
  }
 ],
 "metadata": {
  "kernelspec": {
   "display_name": "Python 3 (ipykernel)",
   "language": "python",
   "name": "python3"
  },
  "language_info": {
   "codemirror_mode": {
    "name": "ipython",
    "version": 3
   },
   "file_extension": ".py",
   "mimetype": "text/x-python",
   "name": "python",
   "nbconvert_exporter": "python",
   "pygments_lexer": "ipython3",
   "version": "3.10.12"
  },
  "toc": {
   "base_numbering": 1,
   "nav_menu": {},
   "number_sections": false,
   "sideBar": true,
   "skip_h1_title": true,
   "title_cell": "Table of Contents",
   "title_sidebar": "Contents",
   "toc_cell": true,
   "toc_position": {},
   "toc_section_display": true,
   "toc_window_display": true
  }
 },
 "nbformat": 4,
 "nbformat_minor": 4
}
